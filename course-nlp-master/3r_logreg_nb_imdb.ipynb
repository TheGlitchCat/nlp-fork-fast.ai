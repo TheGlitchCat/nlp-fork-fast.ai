{
  "nbformat": 4,
  "nbformat_minor": 0,
  "metadata": {
    "kernelspec": {
      "display_name": "Python 3",
      "language": "python",
      "name": "python3"
    },
    "language_info": {
      "codemirror_mode": {
        "name": "ipython",
        "version": 3
      },
      "file_extension": ".py",
      "mimetype": "text/x-python",
      "name": "python",
      "nbconvert_exporter": "python",
      "pygments_lexer": "ipython3",
      "version": "3.7.3"
    },
    "colab": {
      "name": "3-logreg-nb-imdb.ipynb",
      "provenance": []
    }
  },
  "cells": [
    {
      "cell_type": "markdown",
      "metadata": {
        "id": "_WZ7kyM5PdT-",
        "colab_type": "text"
      },
      "source": [
        "# Sentiment Classification of Movie Reviews (using Naive Bayes, Logistic Regression, and Ngrams)"
      ]
    },
    {
      "cell_type": "markdown",
      "metadata": {
        "id": "ox_Ed43UPdUC",
        "colab_type": "text"
      },
      "source": [
        "The purpose of this notebook is to cover Naive Bayes, Logistic regression, and ngrams (some pretty classic techniques!) for sentiment classification.  We will be using sklearn and the fastai library.\n",
        "\n",
        "In a future lesson, we will tackle this same problem of sentiment classification using deep learning, so that you can compare the two approaches"
      ]
    },
    {
      "cell_type": "markdown",
      "metadata": {
        "id": "LaMgAbOVPdUG",
        "colab_type": "text"
      },
      "source": [
        "The content here was extended from [Lesson 10 of the fast.ai Machine Learning course](https://course.fast.ai/lessonsml1/lesson10.html). Linear model is pretty close to the state of the art here.  Jeremy surpassed state of the art using a RNN in fall 2017."
      ]
    },
    {
      "cell_type": "markdown",
      "metadata": {
        "heading_collapsed": true,
        "id": "I28caRjmPdUI",
        "colab_type": "text"
      },
      "source": [
        "## The fastai library"
      ]
    },
    {
      "cell_type": "markdown",
      "metadata": {
        "hidden": true,
        "id": "xmMqHzUAPdUK",
        "colab_type": "text"
      },
      "source": [
        "We will begin using [the fastai library](https://docs.fast.ai) (version 1.0) in this notebook.  We will use it more once we move on to neural networks.\n",
        "\n",
        "The fastai library is built on top of PyTorch and encodes many state-of-the-art best practices. It is used in production at a number of companies.  You can read more about it here:\n",
        "\n",
        "- [Fast.ai's software could radically democratize AI](https://www.zdnet.com/article/fast-ais-new-software-could-radically-democratize-ai/) (ZDNet)\n",
        "\n",
        "- [fastai v1 for PyTorch: Fast and accurate neural nets using modern best practices](https://www.fast.ai/2018/10/02/fastai-ai/) (fast.ai)\n",
        "\n",
        "- [fastai docs](https://docs.fast.ai/)\n",
        "\n",
        "### Installation\n",
        "\n",
        "With conda:\n",
        "\n",
        "`conda install -c pytorch -c fastai fastai=1.0`\n",
        "\n",
        "Or with pip:\n",
        "\n",
        "`pip install fastai==1.0`\n",
        "\n",
        "More [installation information here](https://github.com/fastai/fastai/blob/master/README.md).\n",
        "\n",
        "Beginning in lesson 4, we will be using GPUs, so if you want, you could switch to a [cloud option](https://course.fast.ai/#using-a-gpu) now to setup fastai."
      ]
    },
    {
      "cell_type": "markdown",
      "metadata": {
        "id": "9Iv4xT_pPdUN",
        "colab_type": "text"
      },
      "source": [
        "## IMDB dataset"
      ]
    },
    {
      "cell_type": "markdown",
      "metadata": {
        "id": "khLfEDGoPdUO",
        "colab_type": "text"
      },
      "source": [
        "The [large movie review dataset](http://ai.stanford.edu/~amaas/data/sentiment/) contains a collection of 50,000 reviews from IMDB, We will use the version hosted as part [fast.ai datasets](https://course.fast.ai/datasets.html) on AWS Open Datasets. \n",
        "\n",
        "The dataset contains an even number of positive and negative reviews. The authors considered only highly polarized reviews. A negative review has a score ≤ 4 out of 10, and a positive review has a score ≥ 7 out of 10. Neutral reviews are not included in the dataset. The dataset is divided into training and test sets. The training set is the same 25,000 labeled reviews.\n",
        "\n",
        "The **sentiment classification task** consists of predicting the polarity (positive or negative) of a given text."
      ]
    },
    {
      "cell_type": "markdown",
      "metadata": {
        "id": "7BQ_3GW4PdUR",
        "colab_type": "text"
      },
      "source": [
        "### Imports"
      ]
    },
    {
      "cell_type": "code",
      "metadata": {
        "scrolled": true,
        "id": "_LrjaCNjPdUT",
        "colab_type": "code",
        "colab": {}
      },
      "source": [
        "%reload_ext autoreload\n",
        "%autoreload 2\n",
        "%matplotlib inline"
      ],
      "execution_count": 0,
      "outputs": []
    },
    {
      "cell_type": "code",
      "metadata": {
        "id": "ip31Hr8wPdUe",
        "colab_type": "code",
        "colab": {}
      },
      "source": [
        "from fastai import *\n",
        "from fastai.text import *"
      ],
      "execution_count": 0,
      "outputs": []
    },
    {
      "cell_type": "code",
      "metadata": {
        "id": "ayDJLWWiPdUj",
        "colab_type": "code",
        "colab": {}
      },
      "source": [
        "import sklearn.feature_extraction.text as sklearn_text"
      ],
      "execution_count": 0,
      "outputs": []
    },
    {
      "cell_type": "markdown",
      "metadata": {
        "id": "t0NLBsXdPdUq",
        "colab_type": "text"
      },
      "source": [
        "### Tokenizing and term document matrix creation"
      ]
    },
    {
      "cell_type": "markdown",
      "metadata": {
        "id": "iPoexLjRPdUq",
        "colab_type": "text"
      },
      "source": [
        "fast.ai has a number of [datasets hosted via AWS Open Datasets](https://course.fast.ai/datasets.html) for easy download. We can see them by checking the docs for URLs (remember `??` is a helpful command):"
      ]
    },
    {
      "cell_type": "code",
      "metadata": {
        "id": "3MGv8XDePdUs",
        "colab_type": "code",
        "colab": {}
      },
      "source": [
        "?? URLs"
      ],
      "execution_count": 0,
      "outputs": []
    },
    {
      "cell_type": "markdown",
      "metadata": {
        "id": "lIDkEvaxPdUv",
        "colab_type": "text"
      },
      "source": [
        "It is always good to start working on a sample of your data before you use the full dataset-- this allows for quicker computations as you debug and get your code working. For IMDB, there is a sample dataset already available:"
      ]
    },
    {
      "cell_type": "code",
      "metadata": {
        "id": "cASkpjx7PdUx",
        "colab_type": "code",
        "colab": {
          "base_uri": "https://localhost:8080/",
          "height": 35
        },
        "outputId": "1eec2c01-d962-4dba-d60f-66d152bfa884"
      },
      "source": [
        "path = untar_data(URLs.IMDB_SAMPLE)\n",
        "path"
      ],
      "execution_count": 35,
      "outputs": [
        {
          "output_type": "execute_result",
          "data": {
            "text/plain": [
              "PosixPath('/root/.fastai/data/imdb_sample')"
            ]
          },
          "metadata": {
            "tags": []
          },
          "execution_count": 35
        }
      ]
    },
    {
      "cell_type": "markdown",
      "metadata": {
        "id": "JL-JKU0ePdU3",
        "colab_type": "text"
      },
      "source": [
        "We are not going to use this dataframe, but are just loading it to get a sense of what our data looks like:"
      ]
    },
    {
      "cell_type": "code",
      "metadata": {
        "scrolled": true,
        "id": "klwWwRBAPdU4",
        "colab_type": "code",
        "colab": {
          "base_uri": "https://localhost:8080/",
          "height": 206
        },
        "outputId": "d396bea9-4de3-4ae4-beaa-82a7c006438d"
      },
      "source": [
        "df = pd.read_csv(path/'texts.csv')\n",
        "df.head()"
      ],
      "execution_count": 36,
      "outputs": [
        {
          "output_type": "execute_result",
          "data": {
            "text/html": [
              "<div>\n",
              "<style scoped>\n",
              "    .dataframe tbody tr th:only-of-type {\n",
              "        vertical-align: middle;\n",
              "    }\n",
              "\n",
              "    .dataframe tbody tr th {\n",
              "        vertical-align: top;\n",
              "    }\n",
              "\n",
              "    .dataframe thead th {\n",
              "        text-align: right;\n",
              "    }\n",
              "</style>\n",
              "<table border=\"1\" class=\"dataframe\">\n",
              "  <thead>\n",
              "    <tr style=\"text-align: right;\">\n",
              "      <th></th>\n",
              "      <th>label</th>\n",
              "      <th>text</th>\n",
              "      <th>is_valid</th>\n",
              "    </tr>\n",
              "  </thead>\n",
              "  <tbody>\n",
              "    <tr>\n",
              "      <th>0</th>\n",
              "      <td>negative</td>\n",
              "      <td>Un-bleeping-believable! Meg Ryan doesn't even ...</td>\n",
              "      <td>False</td>\n",
              "    </tr>\n",
              "    <tr>\n",
              "      <th>1</th>\n",
              "      <td>positive</td>\n",
              "      <td>This is a extremely well-made film. The acting...</td>\n",
              "      <td>False</td>\n",
              "    </tr>\n",
              "    <tr>\n",
              "      <th>2</th>\n",
              "      <td>negative</td>\n",
              "      <td>Every once in a long while a movie will come a...</td>\n",
              "      <td>False</td>\n",
              "    </tr>\n",
              "    <tr>\n",
              "      <th>3</th>\n",
              "      <td>positive</td>\n",
              "      <td>Name just says it all. I watched this movie wi...</td>\n",
              "      <td>False</td>\n",
              "    </tr>\n",
              "    <tr>\n",
              "      <th>4</th>\n",
              "      <td>negative</td>\n",
              "      <td>This movie succeeds at being one of the most u...</td>\n",
              "      <td>False</td>\n",
              "    </tr>\n",
              "  </tbody>\n",
              "</table>\n",
              "</div>"
            ],
            "text/plain": [
              "      label                                               text  is_valid\n",
              "0  negative  Un-bleeping-believable! Meg Ryan doesn't even ...     False\n",
              "1  positive  This is a extremely well-made film. The acting...     False\n",
              "2  negative  Every once in a long while a movie will come a...     False\n",
              "3  positive  Name just says it all. I watched this movie wi...     False\n",
              "4  negative  This movie succeeds at being one of the most u...     False"
            ]
          },
          "metadata": {
            "tags": []
          },
          "execution_count": 36
        }
      ]
    },
    {
      "cell_type": "markdown",
      "metadata": {
        "id": "s0co2Z9MPdU9",
        "colab_type": "text"
      },
      "source": [
        "We will be using [TextList](https://docs.fast.ai/text.data.html#TextList) from the fastai library:"
      ]
    },
    {
      "cell_type": "code",
      "metadata": {
        "id": "VJm-6VgSPdU-",
        "colab_type": "code",
        "colab": {}
      },
      "source": [
        "movie_reviews = (TextList.from_csv(path, 'texts.csv', cols='text')\n",
        "                         .split_from_df(col=2)\n",
        "                         .label_from_df(cols=0))"
      ],
      "execution_count": 0,
      "outputs": []
    },
    {
      "cell_type": "markdown",
      "metadata": {
        "id": "vpBC_XTrPdVC",
        "colab_type": "text"
      },
      "source": [
        "### Exploring what our data looks like"
      ]
    },
    {
      "cell_type": "markdown",
      "metadata": {
        "id": "6ion6tYIPdVF",
        "colab_type": "text"
      },
      "source": [
        "A good first step for any data problem is to explore the data and get a sense of what it looks like.  In this case we are looking at movie reviews, which have been labeled as \"positive\" or \"negative\":"
      ]
    },
    {
      "cell_type": "code",
      "metadata": {
        "id": "h_nf6KlyPdVF",
        "colab_type": "code",
        "colab": {
          "base_uri": "https://localhost:8080/",
          "height": 162
        },
        "outputId": "b93ed6d1-5562-4c05-c368-af503a62f2b7"
      },
      "source": [
        "movie_reviews.valid.x[0], movie_reviews.valid.y[0]"
      ],
      "execution_count": 38,
      "outputs": [
        {
          "output_type": "execute_result",
          "data": {
            "text/plain": [
              "(Text xxbos xxmaj this very funny xxmaj british comedy shows what might happen if a section of xxmaj london , in this case xxmaj xxunk , were to xxunk itself independent from the rest of the xxup uk and its laws , xxunk & post - war xxunk . xxmaj merry xxunk is what would happen . \n",
              "  \n",
              "   xxmaj the explosion of a wartime bomb leads to the xxunk of ancient xxunk which show that xxmaj xxunk was xxunk to the xxmaj xxunk of xxmaj xxunk xxunk ago , a small historical xxunk long since forgotten . xxmaj to the new xxmaj xxunk , however , this is an unexpected opportunity to live as they please , free from any xxunk from xxmaj xxunk . \n",
              "  \n",
              "   xxmaj stanley xxmaj xxunk is excellent as the minor city xxunk who suddenly finds himself leading one of the world 's xxunk xxunk . xxmaj xxunk xxmaj margaret xxmaj xxunk is a delight as the history professor who sides with xxmaj xxunk . xxmaj others in the stand - out cast include xxmaj xxunk xxmaj xxunk , xxmaj paul xxmaj xxunk , xxmaj xxunk xxmaj xxunk , xxmaj xxunk xxmaj xxunk & xxmaj sir xxmaj michael xxmaj xxunk . \n",
              "  \n",
              "   xxmaj welcome to xxmaj xxunk !, Category positive)"
            ]
          },
          "metadata": {
            "tags": []
          },
          "execution_count": 38
        }
      ]
    },
    {
      "cell_type": "markdown",
      "metadata": {
        "id": "4yHEiqhzPdVJ",
        "colab_type": "text"
      },
      "source": [
        "In NLP, a **token** is the basic unit of processing (what the tokens are depends on the application and your choices). Here, the tokens mostly correspond to words or punctuation, as well as several special tokens, corresponding to unknown words, capitalization, etc."
      ]
    },
    {
      "cell_type": "markdown",
      "metadata": {
        "id": "j69Hyfn6PdVJ",
        "colab_type": "text"
      },
      "source": [
        "All those tokens starting with \"xx\" are fastai special tokens.  You can see the list of all of them and their meanings ([in the fastai docs](https://docs.fast.ai/text.transform.html)): \n",
        "\n",
        "![image.png](attachment:image.png)"
      ]
    },
    {
      "cell_type": "code",
      "metadata": {
        "id": "WvNn65JXPdVK",
        "colab_type": "code",
        "colab": {
          "base_uri": "https://localhost:8080/",
          "height": 35
        },
        "outputId": "306c9740-248f-4f99-fac8-c9e30a7c7576"
      },
      "source": [
        "len(movie_reviews.train.x), len(movie_reviews.valid.x)"
      ],
      "execution_count": 39,
      "outputs": [
        {
          "output_type": "execute_result",
          "data": {
            "text/plain": [
              "(800, 200)"
            ]
          },
          "metadata": {
            "tags": []
          },
          "execution_count": 39
        }
      ]
    },
    {
      "cell_type": "markdown",
      "metadata": {
        "id": "VWe3g_xTPdVO",
        "colab_type": "text"
      },
      "source": [
        "Notice that ints-to-string and string-to-ints have different lengths.  Think for a moment about why this is:"
      ]
    },
    {
      "cell_type": "code",
      "metadata": {
        "id": "QJHDH61xPdVQ",
        "colab_type": "code",
        "colab": {
          "base_uri": "https://localhost:8080/",
          "height": 35
        },
        "outputId": "249c33fc-a171-4468-c44c-a26610b8a5a8"
      },
      "source": [
        "len(movie_reviews.vocab.itos), len(movie_reviews.vocab.stoi)"
      ],
      "execution_count": 40,
      "outputs": [
        {
          "output_type": "execute_result",
          "data": {
            "text/plain": [
              "(6008, 19161)"
            ]
          },
          "metadata": {
            "tags": []
          },
          "execution_count": 40
        }
      ]
    },
    {
      "cell_type": "code",
      "metadata": {
        "id": "O4vJaiSjPdVU",
        "colab_type": "code",
        "colab": {
          "base_uri": "https://localhost:8080/",
          "height": 35
        },
        "outputId": "d021a67b-fe23-4bd9-e06a-a7c05947f4a4"
      },
      "source": [
        "movie_reviews.vocab.stoi['language']"
      ],
      "execution_count": 41,
      "outputs": [
        {
          "output_type": "execute_result",
          "data": {
            "text/plain": [
              "917"
            ]
          },
          "metadata": {
            "tags": []
          },
          "execution_count": 41
        }
      ]
    },
    {
      "cell_type": "code",
      "metadata": {
        "id": "78E5NQA-PdVa",
        "colab_type": "code",
        "colab": {
          "base_uri": "https://localhost:8080/",
          "height": 35
        },
        "outputId": "91319775-9290-4ccc-c314-334853fd3f32"
      },
      "source": [
        "movie_reviews.vocab.itos[917]"
      ],
      "execution_count": 42,
      "outputs": [
        {
          "output_type": "execute_result",
          "data": {
            "text/plain": [
              "'language'"
            ]
          },
          "metadata": {
            "tags": []
          },
          "execution_count": 42
        }
      ]
    },
    {
      "cell_type": "code",
      "metadata": {
        "scrolled": true,
        "id": "O4KRzDSgPdVc",
        "colab_type": "code",
        "colab": {
          "base_uri": "https://localhost:8080/",
          "height": 35
        },
        "outputId": "c9d14ef1-95aa-4357-8509-e08aae562bc4"
      },
      "source": [
        "movie_reviews.vocab.itos[20:30]"
      ],
      "execution_count": 43,
      "outputs": [
        {
          "output_type": "execute_result",
          "data": {
            "text/plain": [
              "['that', 'this', '\"', \"'s\", '\\n \\n ', '-', 'was', 'as', 'for', 'movie']"
            ]
          },
          "metadata": {
            "tags": []
          },
          "execution_count": 43
        }
      ]
    },
    {
      "cell_type": "code",
      "metadata": {
        "id": "yrFVDj9APdVg",
        "colab_type": "code",
        "colab": {
          "base_uri": "https://localhost:8080/",
          "height": 35
        },
        "outputId": "845fd5f7-5362-4fca-a3ca-2a7e5310abef"
      },
      "source": [
        "movie_reviews.vocab.itos[6007]"
      ],
      "execution_count": 44,
      "outputs": [
        {
          "output_type": "execute_result",
          "data": {
            "text/plain": [
              "'sollett'"
            ]
          },
          "metadata": {
            "tags": []
          },
          "execution_count": 44
        }
      ]
    },
    {
      "cell_type": "code",
      "metadata": {
        "id": "vqQhpYolPdVj",
        "colab_type": "code",
        "colab": {
          "base_uri": "https://localhost:8080/",
          "height": 374
        },
        "outputId": "4ca73fcc-1c2f-4f63-dd52-fdd0267ffe32"
      },
      "source": [
        "movie_reviews.vocab.itos[:20]"
      ],
      "execution_count": 45,
      "outputs": [
        {
          "output_type": "execute_result",
          "data": {
            "text/plain": [
              "['xxunk',\n",
              " 'xxpad',\n",
              " 'xxbos',\n",
              " 'xxeos',\n",
              " 'xxfld',\n",
              " 'xxmaj',\n",
              " 'xxup',\n",
              " 'xxrep',\n",
              " 'xxwrep',\n",
              " 'the',\n",
              " '.',\n",
              " ',',\n",
              " 'and',\n",
              " 'a',\n",
              " 'of',\n",
              " 'to',\n",
              " 'is',\n",
              " 'it',\n",
              " 'in',\n",
              " 'i']"
            ]
          },
          "metadata": {
            "tags": []
          },
          "execution_count": 45
        }
      ]
    },
    {
      "cell_type": "code",
      "metadata": {
        "scrolled": true,
        "id": "Dgzhyjd8PdVn",
        "colab_type": "code",
        "colab": {
          "base_uri": "https://localhost:8080/",
          "height": 1000
        },
        "outputId": "b7bf4582-106c-42a4-fb36-b5ad14851549"
      },
      "source": [
        "movie_reviews.vocab.stoi"
      ],
      "execution_count": 46,
      "outputs": [
        {
          "output_type": "execute_result",
          "data": {
            "text/plain": [
              "defaultdict(int,\n",
              "            {'xxunk': 0,\n",
              "             'xxpad': 1,\n",
              "             'xxbos': 2,\n",
              "             'xxeos': 3,\n",
              "             'xxfld': 4,\n",
              "             'xxmaj': 5,\n",
              "             'xxup': 6,\n",
              "             'xxrep': 7,\n",
              "             'xxwrep': 8,\n",
              "             'the': 9,\n",
              "             '.': 10,\n",
              "             ',': 11,\n",
              "             'and': 12,\n",
              "             'a': 13,\n",
              "             'of': 14,\n",
              "             'to': 15,\n",
              "             'is': 16,\n",
              "             'it': 17,\n",
              "             'in': 18,\n",
              "             'i': 19,\n",
              "             'that': 20,\n",
              "             'this': 21,\n",
              "             '\"': 22,\n",
              "             \"'s\": 23,\n",
              "             '\\n \\n ': 24,\n",
              "             '-': 25,\n",
              "             'was': 26,\n",
              "             'as': 27,\n",
              "             'for': 28,\n",
              "             'movie': 29,\n",
              "             'with': 30,\n",
              "             'but': 31,\n",
              "             'film': 32,\n",
              "             'you': 33,\n",
              "             ')': 34,\n",
              "             'on': 35,\n",
              "             '(': 36,\n",
              "             \"n't\": 37,\n",
              "             'are': 38,\n",
              "             'he': 39,\n",
              "             'his': 40,\n",
              "             'not': 41,\n",
              "             'have': 42,\n",
              "             'be': 43,\n",
              "             'one': 44,\n",
              "             'they': 45,\n",
              "             'all': 46,\n",
              "             'at': 47,\n",
              "             'by': 48,\n",
              "             'an': 49,\n",
              "             'from': 50,\n",
              "             'like': 51,\n",
              "             '!': 52,\n",
              "             'so': 53,\n",
              "             'who': 54,\n",
              "             'there': 55,\n",
              "             'about': 56,\n",
              "             'just': 57,\n",
              "             'out': 58,\n",
              "             'if': 59,\n",
              "             'or': 60,\n",
              "             'do': 61,\n",
              "             \"'\": 62,\n",
              "             'what': 63,\n",
              "             'her': 64,\n",
              "             'has': 65,\n",
              "             'some': 66,\n",
              "             'more': 67,\n",
              "             'good': 68,\n",
              "             'when': 69,\n",
              "             'up': 70,\n",
              "             'very': 71,\n",
              "             '?': 72,\n",
              "             'she': 73,\n",
              "             'would': 74,\n",
              "             'no': 75,\n",
              "             'really': 76,\n",
              "             'were': 77,\n",
              "             'their': 78,\n",
              "             'my': 79,\n",
              "             'had': 80,\n",
              "             'time': 81,\n",
              "             'can': 82,\n",
              "             'only': 83,\n",
              "             'which': 84,\n",
              "             'even': 85,\n",
              "             'see': 86,\n",
              "             'story': 87,\n",
              "             'me': 88,\n",
              "             'into': 89,\n",
              "             'did': 90,\n",
              "             ':': 91,\n",
              "             'well': 92,\n",
              "             'we': 93,\n",
              "             'will': 94,\n",
              "             'does': 95,\n",
              "             'than': 96,\n",
              "             'also': 97,\n",
              "             'get': 98,\n",
              "             '...': 99,\n",
              "             'people': 100,\n",
              "             'other': 101,\n",
              "             'bad': 102,\n",
              "             'been': 103,\n",
              "             'could': 104,\n",
              "             'first': 105,\n",
              "             'much': 106,\n",
              "             'how': 107,\n",
              "             'most': 108,\n",
              "             'any': 109,\n",
              "             'because': 110,\n",
              "             'two': 111,\n",
              "             'then': 112,\n",
              "             'great': 113,\n",
              "             'him': 114,\n",
              "             'its': 115,\n",
              "             'too': 116,\n",
              "             'made': 117,\n",
              "             'them': 118,\n",
              "             'after': 119,\n",
              "             'movies': 120,\n",
              "             'make': 121,\n",
              "             '/': 122,\n",
              "             'way': 123,\n",
              "             'think': 124,\n",
              "             'never': 125,\n",
              "             'watch': 126,\n",
              "             'acting': 127,\n",
              "             'seen': 128,\n",
              "             ';': 129,\n",
              "             'films': 130,\n",
              "             'plot': 131,\n",
              "             'being': 132,\n",
              "             'many': 133,\n",
              "             'over': 134,\n",
              "             'where': 135,\n",
              "             'character': 136,\n",
              "             'man': 137,\n",
              "             'little': 138,\n",
              "             'better': 139,\n",
              "             'life': 140,\n",
              "             'characters': 141,\n",
              "             'love': 142,\n",
              "             'your': 143,\n",
              "             'here': 144,\n",
              "             'know': 145,\n",
              "             'scenes': 146,\n",
              "             'best': 147,\n",
              "             'end': 148,\n",
              "             'show': 149,\n",
              "             'while': 150,\n",
              "             'through': 151,\n",
              "             'should': 152,\n",
              "             'off': 153,\n",
              "             'ever': 154,\n",
              "             'these': 155,\n",
              "             'go': 156,\n",
              "             'such': 157,\n",
              "             'say': 158,\n",
              "             '--': 159,\n",
              "             'something': 160,\n",
              "             'scene': 161,\n",
              "             'still': 162,\n",
              "             'before': 163,\n",
              "             'though': 164,\n",
              "             'watching': 165,\n",
              "             'between': 166,\n",
              "             'actually': 167,\n",
              "             'old': 168,\n",
              "             '10': 169,\n",
              "             'find': 170,\n",
              "             'back': 171,\n",
              "             'now': 172,\n",
              "             'why': 173,\n",
              "             'years': 174,\n",
              "             \"'ve\": 175,\n",
              "             'actors': 176,\n",
              "             'fact': 177,\n",
              "             'those': 178,\n",
              "             \"'m\": 179,\n",
              "             'thing': 180,\n",
              "             'pretty': 181,\n",
              "             'quite': 182,\n",
              "             'part': 183,\n",
              "             'going': 184,\n",
              "             'same': 185,\n",
              "             'real': 186,\n",
              "             'another': 187,\n",
              "             'down': 188,\n",
              "             'funny': 189,\n",
              "             'nothing': 190,\n",
              "             'look': 191,\n",
              "             'makes': 192,\n",
              "             '*': 193,\n",
              "             'new': 194,\n",
              "             'want': 195,\n",
              "             'action': 196,\n",
              "             '&': 197,\n",
              "             'director': 198,\n",
              "             'work': 199,\n",
              "             'few': 200,\n",
              "             \"'re\": 201,\n",
              "             'seems': 202,\n",
              "             'around': 203,\n",
              "             'world': 204,\n",
              "             'point': 205,\n",
              "             'without': 206,\n",
              "             'cast': 207,\n",
              "             'again': 208,\n",
              "             'own': 209,\n",
              "             'both': 210,\n",
              "             'lot': 211,\n",
              "             'enough': 212,\n",
              "             'every': 213,\n",
              "             'family': 214,\n",
              "             'got': 215,\n",
              "             'ca': 216,\n",
              "             \"'ll\": 217,\n",
              "             'probably': 218,\n",
              "             'big': 219,\n",
              "             'bit': 220,\n",
              "             'might': 221,\n",
              "             'things': 222,\n",
              "             'horror': 223,\n",
              "             'us': 224,\n",
              "             'almost': 225,\n",
              "             'may': 226,\n",
              "             'right': 227,\n",
              "             'must': 228,\n",
              "             'away': 229,\n",
              "             'thought': 230,\n",
              "             'interesting': 231,\n",
              "             'least': 232,\n",
              "             'whole': 233,\n",
              "             'series': 234,\n",
              "             'gets': 235,\n",
              "             'each': 236,\n",
              "             'give': 237,\n",
              "             'young': 238,\n",
              "             'however': 239,\n",
              "             'making': 240,\n",
              "             'day': 241,\n",
              "             'fun': 242,\n",
              "             'anything': 243,\n",
              "             'minutes': 244,\n",
              "             'kind': 245,\n",
              "             'come': 246,\n",
              "             'girl': 247,\n",
              "             'saw': 248,\n",
              "             'script': 249,\n",
              "             'take': 250,\n",
              "             'long': 251,\n",
              "             'times': 252,\n",
              "             'someone': 253,\n",
              "             'found': 254,\n",
              "             'done': 255,\n",
              "             'feel': 256,\n",
              "             'far': 257,\n",
              "             'since': 258,\n",
              "             'role': 259,\n",
              "             'original': 260,\n",
              "             'course': 261,\n",
              "             'goes': 262,\n",
              "             'last': 263,\n",
              "             'true': 264,\n",
              "             'simply': 265,\n",
              "             'always': 266,\n",
              "             \"'d\": 267,\n",
              "             'tv': 268,\n",
              "             'hard': 269,\n",
              "             'place': 270,\n",
              "             'set': 271,\n",
              "             'trying': 272,\n",
              "             'believe': 273,\n",
              "             'shot': 274,\n",
              "             'comes': 275,\n",
              "             'actor': 276,\n",
              "             'yet': 277,\n",
              "             '4': 278,\n",
              "             'having': 279,\n",
              "             'book': 280,\n",
              "             'looks': 281,\n",
              "             'guy': 282,\n",
              "             'screen': 283,\n",
              "             'later': 284,\n",
              "             'shows': 285,\n",
              "             'performance': 286,\n",
              "             'worth': 287,\n",
              "             'comedy': 288,\n",
              "             'sure': 289,\n",
              "             'looking': 290,\n",
              "             'sense': 291,\n",
              "             'star': 292,\n",
              "             'effects': 293,\n",
              "             'read': 294,\n",
              "             'takes': 295,\n",
              "             'although': 296,\n",
              "             'audience': 297,\n",
              "             'ending': 298,\n",
              "             'john': 299,\n",
              "             'anyone': 300,\n",
              "             'worst': 301,\n",
              "             'american': 302,\n",
              "             'year': 303,\n",
              "             'especially': 304,\n",
              "             'women': 305,\n",
              "             'together': 306,\n",
              "             'dvd': 307,\n",
              "             'instead': 308,\n",
              "             'different': 309,\n",
              "             'am': 310,\n",
              "             'woman': 311,\n",
              "             'men': 312,\n",
              "             '2': 313,\n",
              "             'our': 314,\n",
              "             'played': 315,\n",
              "             'music': 316,\n",
              "             'special': 317,\n",
              "             'three': 318,\n",
              "             'rest': 319,\n",
              "             'put': 320,\n",
              "             'maybe': 321,\n",
              "             'wife': 322,\n",
              "             'kids': 323,\n",
              "             'war': 324,\n",
              "             'left': 325,\n",
              "             'black': 326,\n",
              "             'once': 327,\n",
              "             'second': 328,\n",
              "             'watched': 329,\n",
              "             'next': 330,\n",
              "             'friends': 331,\n",
              "             'rather': 332,\n",
              "             'let': 333,\n",
              "             '\\x96': 334,\n",
              "             'job': 335,\n",
              "             'start': 336,\n",
              "             'others': 337,\n",
              "             'budget': 338,\n",
              "             'need': 339,\n",
              "             'mind': 340,\n",
              "             'said': 341,\n",
              "             'main': 342,\n",
              "             'else': 343,\n",
              "             'wrong': 344,\n",
              "             'beautiful': 345,\n",
              "             'half': 346,\n",
              "             'high': 347,\n",
              "             'idea': 348,\n",
              "             'death': 349,\n",
              "             'tell': 350,\n",
              "             'help': 351,\n",
              "             'nice': 352,\n",
              "             'seem': 353,\n",
              "             'perhaps': 354,\n",
              "             'hollywood': 355,\n",
              "             'everyone': 356,\n",
              "             'play': 357,\n",
              "             'case': 358,\n",
              "             'production': 359,\n",
              "             'piece': 360,\n",
              "             'episode': 361,\n",
              "             'camera': 362,\n",
              "             'low': 363,\n",
              "             'already': 364,\n",
              "             'top': 365,\n",
              "             'poor': 366,\n",
              "             'during': 367,\n",
              "             '3': 368,\n",
              "             'stars': 369,\n",
              "             'house': 370,\n",
              "             '..': 371,\n",
              "             'couple': 372,\n",
              "             'boring': 373,\n",
              "             'reason': 374,\n",
              "             'try': 375,\n",
              "             'along': 376,\n",
              "             'name': 377,\n",
              "             'small': 378,\n",
              "             'plays': 379,\n",
              "             'father': 380,\n",
              "             'everything': 381,\n",
              "             'used': 382,\n",
              "             'video': 383,\n",
              "             'getting': 384,\n",
              "             'money': 385,\n",
              "             'full': 386,\n",
              "             'less': 387,\n",
              "             'performances': 388,\n",
              "             'often': 389,\n",
              "             'liked': 390,\n",
              "             'came': 391,\n",
              "             '1': 392,\n",
              "             'robert': 393,\n",
              "             'either': 394,\n",
              "             'fan': 395,\n",
              "             'given': 396,\n",
              "             'hand': 397,\n",
              "             'kill': 398,\n",
              "             'felt': 399,\n",
              "             'yes': 400,\n",
              "             'completely': 401,\n",
              "             'night': 402,\n",
              "             'children': 403,\n",
              "             'himself': 404,\n",
              "             'girls': 405,\n",
              "             'early': 406,\n",
              "             'awful': 407,\n",
              "             'oh': 408,\n",
              "             'live': 409,\n",
              "             'picture': 410,\n",
              "             'parts': 411,\n",
              "             'throughout': 412,\n",
              "             'until': 413,\n",
              "             'become': 414,\n",
              "             'town': 415,\n",
              "             'written': 416,\n",
              "             'terrible': 417,\n",
              "             'turn': 418,\n",
              "             'child': 419,\n",
              "             'despite': 420,\n",
              "             'moments': 421,\n",
              "             'boy': 422,\n",
              "             'problem': 423,\n",
              "             'head': 424,\n",
              "             'stupid': 425,\n",
              "             'beginning': 426,\n",
              "             'home': 427,\n",
              "             'version': 428,\n",
              "             'able': 429,\n",
              "             'excellent': 430,\n",
              "             'sometimes': 431,\n",
              "             'overall': 432,\n",
              "             'recommend': 433,\n",
              "             'sex': 434,\n",
              "             'keep': 435,\n",
              "             'human': 436,\n",
              "             'drama': 437,\n",
              "             'hero': 438,\n",
              "             'supposed': 439,\n",
              "             'seemed': 440,\n",
              "             'use': 441,\n",
              "             'writing': 442,\n",
              "             'wo': 443,\n",
              "             'remember': 444,\n",
              "             'went': 445,\n",
              "             'enjoy': 446,\n",
              "             'classic': 447,\n",
              "             'person': 448,\n",
              "             'killer': 449,\n",
              "             'lost': 450,\n",
              "             'late': 451,\n",
              "             '5': 452,\n",
              "             'title': 453,\n",
              "             'king': 454,\n",
              "             'entire': 455,\n",
              "             'history': 456,\n",
              "             'son': 457,\n",
              "             'school': 458,\n",
              "             'lead': 459,\n",
              "             'english': 460,\n",
              "             'sound': 461,\n",
              "             'cinema': 462,\n",
              "             'seeing': 463,\n",
              "             'unfortunately': 464,\n",
              "             'genre': 465,\n",
              "             'sort': 466,\n",
              "             'mean': 467,\n",
              "             'friend': 468,\n",
              "             'fans': 469,\n",
              "             'close': 470,\n",
              "             'quality': 471,\n",
              "             'definitely': 472,\n",
              "             'james': 473,\n",
              "             'worse': 474,\n",
              "             'says': 475,\n",
              "             'except': 476,\n",
              "             'doing': 477,\n",
              "             'itself': 478,\n",
              "             'past': 479,\n",
              "             'certainly': 480,\n",
              "             'days': 481,\n",
              "             'five': 482,\n",
              "             'dialogue': 483,\n",
              "             'line': 484,\n",
              "             'anyway': 485,\n",
              "             'under': 486,\n",
              "             'tries': 487,\n",
              "             'called': 488,\n",
              "             'fine': 489,\n",
              "             'guys': 490,\n",
              "             'care': 491,\n",
              "             'style': 492,\n",
              "             'hope': 493,\n",
              "             'short': 494,\n",
              "             'lines': 495,\n",
              "             'told': 496,\n",
              "             'car': 497,\n",
              "             'decent': 498,\n",
              "             'brother': 499,\n",
              "             'killed': 500,\n",
              "             'wanted': 501,\n",
              "             'entertaining': 502,\n",
              "             'based': 503,\n",
              "             'absolutely': 504,\n",
              "             'feeling': 505,\n",
              "             'truly': 506,\n",
              "             'etc': 507,\n",
              "             'heard': 508,\n",
              "             'serious': 509,\n",
              "             'run': 510,\n",
              "             'wonderful': 511,\n",
              "             'lives': 512,\n",
              "             'gives': 513,\n",
              "             'moment': 514,\n",
              "             'game': 515,\n",
              "             'documentary': 516,\n",
              "             'self': 517,\n",
              "             'several': 518,\n",
              "             'waste': 519,\n",
              "             'dead': 520,\n",
              "             'blood': 521,\n",
              "             'matter': 522,\n",
              "             'wonder': 523,\n",
              "             'humor': 524,\n",
              "             'thinking': 525,\n",
              "             'against': 526,\n",
              "             'white': 527,\n",
              "             'side': 528,\n",
              "             'works': 529,\n",
              "             'mother': 530,\n",
              "             'flick': 531,\n",
              "             'stuff': 532,\n",
              "             'turns': 533,\n",
              "             'finally': 534,\n",
              "             'loved': 535,\n",
              "             'group': 536,\n",
              "             'wants': 537,\n",
              "             'face': 538,\n",
              "             'guess': 539,\n",
              "             'dark': 540,\n",
              "             'city': 541,\n",
              "             'events': 542,\n",
              "             'starts': 543,\n",
              "             'hour': 544,\n",
              "             'took': 545,\n",
              "             'george': 546,\n",
              "             'themselves': 547,\n",
              "             'red': 548,\n",
              "             'behind': 549,\n",
              "             'talking': 550,\n",
              "             'hit': 551,\n",
              "             'eyes': 552,\n",
              "             'attempt': 553,\n",
              "             'direction': 554,\n",
              "             'novel': 555,\n",
              "             'saying': 556,\n",
              "             'word': 557,\n",
              "             'dull': 558,\n",
              "             'light': 559,\n",
              "             'view': 560,\n",
              "             'playing': 561,\n",
              "             'opinion': 562,\n",
              "             'expect': 563,\n",
              "             'evil': 564,\n",
              "             'ten': 565,\n",
              "             'violence': 566,\n",
              "             'local': 567,\n",
              "             'final': 568,\n",
              "             'gave': 569,\n",
              "             'leave': 570,\n",
              "             'paul': 571,\n",
              "             'crap': 572,\n",
              "             'happens': 573,\n",
              "             'knows': 574,\n",
              "             'problems': 575,\n",
              "             'example': 576,\n",
              "             'relationship': 577,\n",
              "             'non': 578,\n",
              "             'michael': 579,\n",
              "             'victor': 580,\n",
              "             'ridiculous': 581,\n",
              "             'god': 582,\n",
              "             'similar': 583,\n",
              "             'general': 584,\n",
              "             'major': 585,\n",
              "             'bunch': 586,\n",
              "             'sister': 587,\n",
              "             'oscar': 588,\n",
              "             'turned': 589,\n",
              "             'brilliant': 590,\n",
              "             'highly': 591,\n",
              "             'nearly': 592,\n",
              "             'de': 593,\n",
              "             'please': 594,\n",
              "             'romance': 595,\n",
              "             'body': 596,\n",
              "             'extremely': 597,\n",
              "             'mr.': 598,\n",
              "             'soon': 599,\n",
              "             'yourself': 600,\n",
              "             'known': 601,\n",
              "             'lack': 602,\n",
              "             'age': 603,\n",
              "             'interest': 604,\n",
              "             'ago': 605,\n",
              "             'stories': 606,\n",
              "             'exactly': 607,\n",
              "             'finds': 608,\n",
              "             'modern': 609,\n",
              "             'voice': 610,\n",
              "             'perfect': 611,\n",
              "             'heart': 612,\n",
              "             'alone': 613,\n",
              "             'tells': 614,\n",
              "             'daughter': 615,\n",
              "             'directed': 616,\n",
              "             'needs': 617,\n",
              "             'kid': 618,\n",
              "             'lady': 619,\n",
              "             'sad': 620,\n",
              "             'fight': 621,\n",
              "             'happened': 622,\n",
              "             'eye': 623,\n",
              "             'favorite': 624,\n",
              "             'using': 625,\n",
              "             'upon': 626,\n",
              "             'ben': 627,\n",
              "             'none': 628,\n",
              "             'beyond': 629,\n",
              "             'nature': 630,\n",
              "             'change': 631,\n",
              "             'save': 632,\n",
              "             'shots': 633,\n",
              "             'country': 634,\n",
              "             'number': 635,\n",
              "             'shown': 636,\n",
              "             'surprised': 637,\n",
              "             'romantic': 638,\n",
              "             'huge': 639,\n",
              "             'murder': 640,\n",
              "             'steve': 641,\n",
              "             'slow': 642,\n",
              "             'myself': 643,\n",
              "             'woods': 644,\n",
              "             'apparently': 645,\n",
              "             'lake': 646,\n",
              "             'cheap': 647,\n",
              "             'involved': 648,\n",
              "             'roles': 649,\n",
              "             '6': 650,\n",
              "             'gore': 651,\n",
              "             'obviously': 652,\n",
              "             'knew': 653,\n",
              "             'level': 654,\n",
              "             '8': 655,\n",
              "             'experience': 656,\n",
              "             'became': 657,\n",
              "             'gone': 658,\n",
              "             'cover': 659,\n",
              "             'amazing': 660,\n",
              "             'create': 661,\n",
              "             'living': 662,\n",
              "             'usually': 663,\n",
              "             'order': 664,\n",
              "             'monster': 665,\n",
              "             'happen': 666,\n",
              "             'list': 667,\n",
              "             'clearly': 668,\n",
              "             'power': 669,\n",
              "             'features': 670,\n",
              "             're': 671,\n",
              "             'subject': 672,\n",
              "             'across': 673,\n",
              "             'parents': 674,\n",
              "             'seriously': 675,\n",
              "             'ways': 676,\n",
              "             'room': 677,\n",
              "             'filmed': 678,\n",
              "             'cheesy': 679,\n",
              "             'disappointed': 680,\n",
              "             'important': 681,\n",
              "             'plenty': 682,\n",
              "             '7': 683,\n",
              "             'particular': 684,\n",
              "             'started': 685,\n",
              "             'today': 686,\n",
              "             'enjoyed': 687,\n",
              "             'cinematography': 688,\n",
              "             'annoying': 689,\n",
              "             'looked': 690,\n",
              "             'supporting': 691,\n",
              "             'mostly': 692,\n",
              "             'message': 693,\n",
              "             'somewhat': 694,\n",
              "             'viewer': 695,\n",
              "             'type': 696,\n",
              "             'certain': 697,\n",
              "             'release': 698,\n",
              "             'effort': 699,\n",
              "             'possible': 700,\n",
              "             'add': 701,\n",
              "             'figure': 702,\n",
              "             'named': 703,\n",
              "             'wish': 704,\n",
              "             'difficult': 705,\n",
              "             'falls': 706,\n",
              "             'four': 707,\n",
              "             'husband': 708,\n",
              "             'score': 709,\n",
              "             'leads': 710,\n",
              "             'form': 711,\n",
              "             'working': 712,\n",
              "             'writer': 713,\n",
              "             'sets': 714,\n",
              "             'including': 715,\n",
              "             'enjoyable': 716,\n",
              "             'ok': 717,\n",
              "             'note': 718,\n",
              "             'spent': 719,\n",
              "             'review': 720,\n",
              "             'art': 721,\n",
              "             'police': 722,\n",
              "             'sit': 723,\n",
              "             'horrible': 724,\n",
              "             'actress': 725,\n",
              "             'ones': 726,\n",
              "             'bring': 727,\n",
              "             'greatest': 728,\n",
              "             'dance': 729,\n",
              "             'earth': 730,\n",
              "             'becomes': 731,\n",
              "             'happy': 732,\n",
              "             'cut': 733,\n",
              "             'straight': 734,\n",
              "             'soundtrack': 735,\n",
              "             'leading': 736,\n",
              "             'laugh': 737,\n",
              "             'strange': 738,\n",
              "             'space': 739,\n",
              "             'b': 740,\n",
              "             'tale': 741,\n",
              "             'comic': 742,\n",
              "             'near': 743,\n",
              "             'due': 744,\n",
              "             'weak': 745,\n",
              "             'earlier': 746,\n",
              "             'follow': 747,\n",
              "             'british': 748,\n",
              "             'ends': 749,\n",
              "             'typical': 750,\n",
              "             'attention': 751,\n",
              "             'points': 752,\n",
              "             'talent': 753,\n",
              "             'tom': 754,\n",
              "             'female': 755,\n",
              "             'future': 756,\n",
              "             'fall': 757,\n",
              "             'laughs': 758,\n",
              "             'stop': 759,\n",
              "             'easy': 760,\n",
              "             'moving': 761,\n",
              "             'apart': 762,\n",
              "             'chance': 763,\n",
              "             'running': 764,\n",
              "             'york': 765,\n",
              "             'particularly': 766,\n",
              "             'luke': 767,\n",
              "             'bill': 768,\n",
              "             'forced': 769,\n",
              "             'theme': 770,\n",
              "             'rating': 771,\n",
              "             'coming': 772,\n",
              "             'davis': 773,\n",
              "             'totally': 774,\n",
              "             'realistic': 775,\n",
              "             'simple': 776,\n",
              "             'hours': 777,\n",
              "             'taken': 778,\n",
              "             'indeed': 779,\n",
              "             'released': 780,\n",
              "             'sexual': 781,\n",
              "             'feels': 782,\n",
              "             'french': 783,\n",
              "             'screenplay': 784,\n",
              "             'la': 785,\n",
              "             'jokes': 786,\n",
              "             'sequences': 787,\n",
              "             'chase': 788,\n",
              "             'portrayed': 789,\n",
              "             'dramatic': 790,\n",
              "             'mention': 791,\n",
              "             'talk': 792,\n",
              "             'gun': 793,\n",
              "             'thriller': 794,\n",
              "             'jimmy': 795,\n",
              "             'career': 796,\n",
              "             'reality': 797,\n",
              "             'incredibly': 798,\n",
              "             'whether': 799,\n",
              "             'towards': 800,\n",
              "             'easily': 801,\n",
              "             'entertainment': 802,\n",
              "             'feature': 803,\n",
              "             'western': 804,\n",
              "             'dialog': 805,\n",
              "             'business': 806,\n",
              "             'suspense': 807,\n",
              "             'focus': 808,\n",
              "             'doubt': 809,\n",
              "             'possibly': 810,\n",
              "             'water': 811,\n",
              "             'gay': 812,\n",
              "             'blob': 813,\n",
              "             'comments': 814,\n",
              "             'brothers': 815,\n",
              "             'clear': 816,\n",
              "             'agree': 817,\n",
              "             'allen': 818,\n",
              "             'door': 819,\n",
              "             'editing': 820,\n",
              "             'third': 821,\n",
              "             'deserves': 822,\n",
              "             'silly': 823,\n",
              "             'fantastic': 824,\n",
              "             'convincing': 825,\n",
              "             'hardly': 826,\n",
              "             'lame': 827,\n",
              "             'act': 828,\n",
              "             'former': 829,\n",
              "             'material': 830,\n",
              "             'appears': 831,\n",
              "             'understand': 832,\n",
              "             'twist': 833,\n",
              "             'episodes': 834,\n",
              "             'buy': 835,\n",
              "             'secret': 836,\n",
              "             'richard': 837,\n",
              "             'south': 838,\n",
              "             'bourne': 839,\n",
              "             'deal': 840,\n",
              "             'musical': 841,\n",
              "             'words': 842,\n",
              "             'unique': 843,\n",
              "             'mess': 844,\n",
              "             'opening': 845,\n",
              "             'society': 846,\n",
              "             'avoid': 847,\n",
              "             'footage': 848,\n",
              "             'joe': 849,\n",
              "             'free': 850,\n",
              "             'forget': 851,\n",
              "             'herself': 852,\n",
              "             'appear': 853,\n",
              "             'obvious': 854,\n",
              "             'box': 855,\n",
              "             'single': 856,\n",
              "             'average': 857,\n",
              "             'indian': 858,\n",
              "             'rent': 859,\n",
              "             'okay': 860,\n",
              "             'scary': 861,\n",
              "             'within': 862,\n",
              "             'office': 863,\n",
              "             'crime': 864,\n",
              "             'science': 865,\n",
              "             '80': 866,\n",
              "             'believable': 867,\n",
              "             'period': 868,\n",
              "             'showing': 869,\n",
              "             'call': 870,\n",
              "             'return': 871,\n",
              "             'keeps': 872,\n",
              "             'lee': 873,\n",
              "             'expected': 874,\n",
              "             'stay': 875,\n",
              "             'middle': 876,\n",
              "             'jack': 877,\n",
              "             'hands': 878,\n",
              "             'david': 879,\n",
              "             'attempts': 880,\n",
              "             'strong': 881,\n",
              "             'tension': 882,\n",
              "             'crew': 883,\n",
              "             'hilarious': 884,\n",
              "             'grade': 885,\n",
              "             'outside': 886,\n",
              "             'means': 887,\n",
              "             'viewing': 888,\n",
              "             'sadly': 889,\n",
              "             'hell': 890,\n",
              "             'whatever': 891,\n",
              "             'sorry': 892,\n",
              "             'recently': 893,\n",
              "             'stage': 894,\n",
              "             'decides': 895,\n",
              "             'hear': 896,\n",
              "             'team': 897,\n",
              "             'learn': 898,\n",
              "             'nor': 899,\n",
              "             'open': 900,\n",
              "             'break': 901,\n",
              "             'question': 902,\n",
              "             'remake': 903,\n",
              "             'porn': 904,\n",
              "             'pain': 905,\n",
              "             'imagine': 906,\n",
              "             'deep': 907,\n",
              "             'zombie': 908,\n",
              "             'basically': 909,\n",
              "             'killing': 910,\n",
              "             'company': 911,\n",
              "             'poorly': 912,\n",
              "             'dr.': 913,\n",
              "             'predictable': 914,\n",
              "             'taking': 915,\n",
              "             'large': 916,\n",
              "             'language': 917,\n",
              "             'giving': 918,\n",
              "             'public': 919,\n",
              "             'audiences': 920,\n",
              "             'ask': 921,\n",
              "             'cool': 922,\n",
              "             'america': 923,\n",
              "             'slasher': 924,\n",
              "             'west': 925,\n",
              "             'mentioned': 926,\n",
              "             'die': 927,\n",
              "             'christmas': 928,\n",
              "             'complete': 929,\n",
              "             'needed': 930,\n",
              "             'martin': 931,\n",
              "             'cgi': 932,\n",
              "             'boys': 933,\n",
              "             'vargas': 934,\n",
              "             'usual': 935,\n",
              "             'begin': 936,\n",
              "             'dad': 937,\n",
              "             'total': 938,\n",
              "             'somehow': 939,\n",
              "             'stick': 940,\n",
              "             'shame': 941,\n",
              "             'successful': 942,\n",
              "             'sitting': 943,\n",
              "             'fred': 944,\n",
              "             'meets': 945,\n",
              "             'unless': 946,\n",
              "             'dancing': 947,\n",
              "             'sounds': 948,\n",
              "             'above': 949,\n",
              "             'elements': 950,\n",
              "             'whose': 951,\n",
              "             'german': 952,\n",
              "             'considering': 953,\n",
              "             'caught': 954,\n",
              "             'credit': 955,\n",
              "             'interested': 956,\n",
              "             'move': 957,\n",
              "             'filming': 958,\n",
              "             'truth': 959,\n",
              "             'eventually': 960,\n",
              "             'share': 961,\n",
              "             'ability': 962,\n",
              "             'meaning': 963,\n",
              "             'agent': 964,\n",
              "             'fast': 965,\n",
              "             'stand': 966,\n",
              "             'onto': 967,\n",
              "             'plain': 968,\n",
              "             'comment': 969,\n",
              "             'kept': 970,\n",
              "             'situation': 971,\n",
              "             'setting': 972,\n",
              "             'value': 973,\n",
              "             'willing': 974,\n",
              "             'realize': 975,\n",
              "             'acted': 976,\n",
              "             'weird': 977,\n",
              "             'alive': 978,\n",
              "             'fairly': 979,\n",
              "             'dream': 980,\n",
              "             'building': 981,\n",
              "             'hair': 982,\n",
              "             'bored': 983,\n",
              "             'minute': 984,\n",
              "             'emotional': 985,\n",
              "             'directing': 986,\n",
              "             'theatrical': 987,\n",
              "             'famous': 988,\n",
              "             'begins': 989,\n",
              "             'front': 990,\n",
              "             'catch': 991,\n",
              "             'sequence': 992,\n",
              "             'runs': 993,\n",
              "             'follows': 994,\n",
              "             'song': 995,\n",
              "             'government': 996,\n",
              "             'miss': 997,\n",
              "             'actual': 998,\n",
              "             'makers': 999,\n",
              "             ...})"
            ]
          },
          "metadata": {
            "tags": []
          },
          "execution_count": 46
        }
      ]
    },
    {
      "cell_type": "markdown",
      "metadata": {
        "id": "FyoeuqoDPdVs",
        "colab_type": "text"
      },
      "source": [
        "Let's test that a non-word maps to xxunk:"
      ]
    },
    {
      "cell_type": "code",
      "metadata": {
        "id": "D3_afX_rPdVt",
        "colab_type": "code",
        "colab": {
          "base_uri": "https://localhost:8080/",
          "height": 35
        },
        "outputId": "3f190a42-d42b-410e-88e4-2fa2c6396d69"
      },
      "source": [
        "movie_reviews.vocab.itos[movie_reviews.vocab.stoi['rrachell']]"
      ],
      "execution_count": 47,
      "outputs": [
        {
          "output_type": "execute_result",
          "data": {
            "text/plain": [
              "'xxunk'"
            ]
          },
          "metadata": {
            "tags": []
          },
          "execution_count": 47
        }
      ]
    },
    {
      "cell_type": "code",
      "metadata": {
        "id": "gG_9Eu9ZPdVw",
        "colab_type": "code",
        "colab": {
          "base_uri": "https://localhost:8080/",
          "height": 35
        },
        "outputId": "5b3e2766-8e82-4a2e-f56a-21f742691df2"
      },
      "source": [
        "movie_reviews.vocab.itos[movie_reviews.vocab.stoi['language']]"
      ],
      "execution_count": 48,
      "outputs": [
        {
          "output_type": "execute_result",
          "data": {
            "text/plain": [
              "'language'"
            ]
          },
          "metadata": {
            "tags": []
          },
          "execution_count": 48
        }
      ]
    },
    {
      "cell_type": "code",
      "metadata": {
        "id": "L0ndoJhBPdVz",
        "colab_type": "code",
        "colab": {}
      },
      "source": [
        "t = movie_reviews.train[0][0]"
      ],
      "execution_count": 0,
      "outputs": []
    },
    {
      "cell_type": "code",
      "metadata": {
        "id": "4dz-fhY4PdV2",
        "colab_type": "code",
        "colab": {
          "base_uri": "https://localhost:8080/",
          "height": 53
        },
        "outputId": "b8530aab-62c9-47cb-c428-ea7b7eade2f6"
      },
      "source": [
        "t.data[:30]"
      ],
      "execution_count": 50,
      "outputs": [
        {
          "output_type": "execute_result",
          "data": {
            "text/plain": [
              "array([   2,    5, 4619,   25,    0,   25,  867,   52,    5, 3776,    5, 1800,   95,   37,   85,  191,   64,  935,\n",
              "          0, 2738,  517,   18,   21,   11,   84, 2417,  192,   88, 3777,   64])"
            ]
          },
          "metadata": {
            "tags": []
          },
          "execution_count": 50
        }
      ]
    },
    {
      "cell_type": "markdown",
      "metadata": {
        "id": "p-Z4cbk9PdV5",
        "colab_type": "text"
      },
      "source": [
        "## Creating our term-document matrix"
      ]
    },
    {
      "cell_type": "markdown",
      "metadata": {
        "id": "4dmxxiSHPdV5",
        "colab_type": "text"
      },
      "source": [
        "As we covered in the last lesson, a term-document matrix represents a document as a \"bag of words\", that is, we don't keep track of the order the words are in, just which words occur (and how often)."
      ]
    },
    {
      "cell_type": "markdown",
      "metadata": {
        "id": "drEjFeGJPdV7",
        "colab_type": "text"
      },
      "source": [
        "In the previous lesson, we used [sklearn's CountVectorizer](https://github.com/scikit-learn/scikit-learn/blob/55bf5d9/sklearn/feature_extraction/text.py#L940).  Today we will create our own (similar) version.  This is for two reasons:\n",
        "- to understand what sklearn is doing underneath the hood\n",
        "- to create something that will work with a fastai TextList"
      ]
    },
    {
      "cell_type": "markdown",
      "metadata": {
        "id": "qaGh7nmVPdV9",
        "colab_type": "text"
      },
      "source": [
        "To create our term-document matrix, we first need to learn about **counters** and **sparse matrices**."
      ]
    },
    {
      "cell_type": "markdown",
      "metadata": {
        "id": "atjaHtxAPdV-",
        "colab_type": "text"
      },
      "source": [
        "### Counters"
      ]
    },
    {
      "cell_type": "markdown",
      "metadata": {
        "id": "2rzy2VvcPdV_",
        "colab_type": "text"
      },
      "source": [
        "Counters are a useful Python object.  If you aren't familar with them, here is how they work:"
      ]
    },
    {
      "cell_type": "code",
      "metadata": {
        "id": "ucS_GIbQPdWB",
        "colab_type": "code",
        "colab": {}
      },
      "source": [
        "c = Counter([4,2,8,8,4,8])"
      ],
      "execution_count": 0,
      "outputs": []
    },
    {
      "cell_type": "code",
      "metadata": {
        "id": "F-DJparGPdWF",
        "colab_type": "code",
        "colab": {
          "base_uri": "https://localhost:8080/",
          "height": 35
        },
        "outputId": "664a510e-f910-4dcb-d868-69615f6ede9a"
      },
      "source": [
        "c"
      ],
      "execution_count": 52,
      "outputs": [
        {
          "output_type": "execute_result",
          "data": {
            "text/plain": [
              "Counter({2: 1, 4: 2, 8: 3})"
            ]
          },
          "metadata": {
            "tags": []
          },
          "execution_count": 52
        }
      ]
    },
    {
      "cell_type": "code",
      "metadata": {
        "id": "Rskt-gJGPdWI",
        "colab_type": "code",
        "colab": {
          "base_uri": "https://localhost:8080/",
          "height": 35
        },
        "outputId": "7107044a-0949-40a2-e685-4a02de1cb102"
      },
      "source": [
        "c.values()"
      ],
      "execution_count": 53,
      "outputs": [
        {
          "output_type": "execute_result",
          "data": {
            "text/plain": [
              "dict_values([2, 1, 3])"
            ]
          },
          "metadata": {
            "tags": []
          },
          "execution_count": 53
        }
      ]
    },
    {
      "cell_type": "code",
      "metadata": {
        "id": "Sfi14BQIPdWL",
        "colab_type": "code",
        "colab": {
          "base_uri": "https://localhost:8080/",
          "height": 35
        },
        "outputId": "2e94824f-56de-43f4-e186-b9754754635c"
      },
      "source": [
        "c.keys()"
      ],
      "execution_count": 54,
      "outputs": [
        {
          "output_type": "execute_result",
          "data": {
            "text/plain": [
              "dict_keys([4, 2, 8])"
            ]
          },
          "metadata": {
            "tags": []
          },
          "execution_count": 54
        }
      ]
    },
    {
      "cell_type": "markdown",
      "metadata": {
        "id": "2k2qITNhPdWN",
        "colab_type": "text"
      },
      "source": [
        "Counters are from the collections module (along with OrderedDict, defaultdict, deque, and namedtuple)."
      ]
    },
    {
      "cell_type": "markdown",
      "metadata": {
        "id": "pKcoO5DsPdWO",
        "colab_type": "text"
      },
      "source": [
        "### Sparse Matrices (in Scipy)"
      ]
    },
    {
      "cell_type": "markdown",
      "metadata": {
        "id": "SIuF4NxCPdWO",
        "colab_type": "text"
      },
      "source": [
        "Even though we've reduced over 19,000 words down to 6,000, that is still a lot! Most tokens don't appear in most reviews.  We want to take advantage of this by storing our data as a **sparse matrix**."
      ]
    },
    {
      "cell_type": "markdown",
      "metadata": {
        "id": "IZtkxhCBPdWP",
        "colab_type": "text"
      },
      "source": [
        "A matrix with lots of zeros is called **sparse** (the opposite of sparse is **dense**).  For sparse matrices, you can save a lot of memory by only storing the non-zero values.\n",
        "\n",
        "<img src=\"images/sparse.png\" alt=\"floating point\" style=\"width: 30%\"/>\n",
        "\n",
        "Another example of a large, sparse matrix:\n",
        "\n",
        "<img src=\"images/Finite_element_sparse_matrix.png\" alt=\"floating point\" style=\"width: 30%\"/>\n",
        "\n",
        "[Source](https://commons.wikimedia.org/w/index.php?curid=2245335)"
      ]
    },
    {
      "cell_type": "markdown",
      "metadata": {
        "id": "RroLAY0qPdWQ",
        "colab_type": "text"
      },
      "source": [
        "There are the most common sparse storage formats:\n",
        "- coordinate-wise (scipy calls COO)\n",
        "- compressed sparse row (CSR)\n",
        "- compressed sparse column (CSC)\n",
        "\n",
        "Let's walk through [these examples](http://www.mathcs.emory.edu/~cheung/Courses/561/Syllabus/3-C/sparse.html)\n",
        "\n",
        "There are actually [many more formats](http://www.cs.colostate.edu/~mcrob/toolbox/c++/sparseMatrix/sparse_matrix_compression.html) as well."
      ]
    },
    {
      "cell_type": "markdown",
      "metadata": {
        "id": "gBu6UjsoPdWR",
        "colab_type": "text"
      },
      "source": [
        "A class of matrices (e.g, diagonal) is generally called sparse if the number of non-zero elements is proportional to the number of rows (or columns) instead of being proportional to the product rows x columns.\n",
        "\n",
        "**Scipy Implementation**\n",
        "\n",
        "From the [Scipy Sparse Matrix Documentation](https://docs.scipy.org/doc/scipy-0.18.1/reference/sparse.html)\n",
        "\n",
        "- To construct a matrix efficiently, use either dok_matrix or lil_matrix. The lil_matrix class supports basic slicing and fancy indexing with a similar syntax to NumPy arrays. As illustrated below, the COO format may also be used to efficiently construct matrices\n",
        "- To perform manipulations such as multiplication or inversion, first convert the matrix to either CSC or CSR format.\n",
        "- All conversions among the CSR, CSC, and COO formats are efficient, linear-time operations."
      ]
    },
    {
      "cell_type": "markdown",
      "metadata": {
        "id": "Tl_siBqDPdWR",
        "colab_type": "text"
      },
      "source": [
        "### Our version of CountVectorizer"
      ]
    },
    {
      "cell_type": "code",
      "metadata": {
        "id": "Ti51CNKePdWT",
        "colab_type": "code",
        "colab": {
          "base_uri": "https://localhost:8080/",
          "height": 1000
        },
        "outputId": "de532fd3-2f01-4c45-f621-3c72ac854f91"
      },
      "source": [
        "Counter((movie_reviews.valid.x)[0].data)"
      ],
      "execution_count": 55,
      "outputs": [
        {
          "output_type": "execute_result",
          "data": {
            "text/plain": [
              "Counter({0: 32,\n",
              "         2: 1,\n",
              "         5: 32,\n",
              "         6: 1,\n",
              "         9: 10,\n",
              "         10: 7,\n",
              "         11: 10,\n",
              "         12: 1,\n",
              "         13: 4,\n",
              "         14: 6,\n",
              "         15: 6,\n",
              "         16: 4,\n",
              "         18: 2,\n",
              "         20: 1,\n",
              "         21: 3,\n",
              "         23: 1,\n",
              "         24: 3,\n",
              "         25: 2,\n",
              "         26: 1,\n",
              "         27: 3,\n",
              "         30: 1,\n",
              "         44: 1,\n",
              "         45: 1,\n",
              "         49: 1,\n",
              "         50: 3,\n",
              "         52: 1,\n",
              "         54: 2,\n",
              "         58: 1,\n",
              "         59: 1,\n",
              "         63: 2,\n",
              "         71: 1,\n",
              "         74: 1,\n",
              "         77: 1,\n",
              "         84: 1,\n",
              "         109: 1,\n",
              "         115: 1,\n",
              "         149: 1,\n",
              "         189: 1,\n",
              "         194: 1,\n",
              "         197: 2,\n",
              "         204: 1,\n",
              "         207: 1,\n",
              "         221: 1,\n",
              "         239: 1,\n",
              "         251: 1,\n",
              "         258: 1,\n",
              "         285: 1,\n",
              "         288: 1,\n",
              "         319: 1,\n",
              "         324: 1,\n",
              "         337: 1,\n",
              "         358: 1,\n",
              "         378: 1,\n",
              "         404: 1,\n",
              "         409: 1,\n",
              "         430: 1,\n",
              "         456: 1,\n",
              "         478: 1,\n",
              "         541: 1,\n",
              "         571: 1,\n",
              "         579: 1,\n",
              "         594: 1,\n",
              "         605: 1,\n",
              "         608: 1,\n",
              "         666: 2,\n",
              "         710: 1,\n",
              "         736: 1,\n",
              "         748: 1,\n",
              "         850: 1,\n",
              "         966: 1,\n",
              "         1057: 1,\n",
              "         1107: 1,\n",
              "         1331: 1,\n",
              "         1335: 1,\n",
              "         1346: 1,\n",
              "         1833: 1,\n",
              "         1843: 1,\n",
              "         1902: 1,\n",
              "         2110: 1,\n",
              "         2420: 1,\n",
              "         2595: 1,\n",
              "         2601: 1,\n",
              "         2705: 1,\n",
              "         2743: 1,\n",
              "         2764: 1,\n",
              "         2817: 1,\n",
              "         2875: 1,\n",
              "         3429: 1,\n",
              "         3480: 1,\n",
              "         3963: 1,\n",
              "         4051: 1,\n",
              "         4126: 1,\n",
              "         4736: 1,\n",
              "         5035: 1,\n",
              "         5821: 1})"
            ]
          },
          "metadata": {
            "tags": []
          },
          "execution_count": 55
        }
      ]
    },
    {
      "cell_type": "code",
      "metadata": {
        "id": "lHbhR6n6PdWU",
        "colab_type": "code",
        "colab": {
          "base_uri": "https://localhost:8080/",
          "height": 35
        },
        "outputId": "6cdb92b9-0596-45e8-94f6-d8900b38ffa4"
      },
      "source": [
        "movie_reviews.vocab.itos[6]"
      ],
      "execution_count": 56,
      "outputs": [
        {
          "output_type": "execute_result",
          "data": {
            "text/plain": [
              "'xxup'"
            ]
          },
          "metadata": {
            "tags": []
          },
          "execution_count": 56
        }
      ]
    },
    {
      "cell_type": "code",
      "metadata": {
        "id": "xi-XRV3sPdWX",
        "colab_type": "code",
        "colab": {
          "base_uri": "https://localhost:8080/",
          "height": 126
        },
        "outputId": "99abd2f8-377a-410f-fe4b-ef4eb400622e"
      },
      "source": [
        "(movie_reviews.valid.x)[1]"
      ],
      "execution_count": 57,
      "outputs": [
        {
          "output_type": "execute_result",
          "data": {
            "text/plain": [
              "Text xxbos i saw this movie once as a kid on the late - late show and fell in love with it . \n",
              " \n",
              "  xxmaj it took 30 + years , but i recently did find it on xxup dvd - it was n't cheap , either - in a xxunk that xxunk in war movies . xxmaj we watched it last night for the first time . xxmaj the audio was good , however it was grainy and had the trailers between xxunk . xxmaj even so , it was better than i remembered it . i was also impressed at how true it was to the play . \n",
              " \n",
              "  xxmaj the xxunk is around here xxunk . xxmaj if you 're xxunk in finding it , fire me a xxunk and i 'll see if i can get you the xxunk . xxunk"
            ]
          },
          "metadata": {
            "tags": []
          },
          "execution_count": 57
        }
      ]
    },
    {
      "cell_type": "code",
      "metadata": {
        "id": "OjQECIUWPdWZ",
        "colab_type": "code",
        "colab": {
          "base_uri": "https://localhost:8080/",
          "height": 162
        },
        "outputId": "4308ab3f-ca11-4500-9297-293f912978e4"
      },
      "source": [
        "(movie_reviews.valid.x)[0]"
      ],
      "execution_count": 58,
      "outputs": [
        {
          "output_type": "execute_result",
          "data": {
            "text/plain": [
              "Text xxbos xxmaj this very funny xxmaj british comedy shows what might happen if a section of xxmaj london , in this case xxmaj xxunk , were to xxunk itself independent from the rest of the xxup uk and its laws , xxunk & post - war xxunk . xxmaj merry xxunk is what would happen . \n",
              " \n",
              "  xxmaj the explosion of a wartime bomb leads to the xxunk of ancient xxunk which show that xxmaj xxunk was xxunk to the xxmaj xxunk of xxmaj xxunk xxunk ago , a small historical xxunk long since forgotten . xxmaj to the new xxmaj xxunk , however , this is an unexpected opportunity to live as they please , free from any xxunk from xxmaj xxunk . \n",
              " \n",
              "  xxmaj stanley xxmaj xxunk is excellent as the minor city xxunk who suddenly finds himself leading one of the world 's xxunk xxunk . xxmaj xxunk xxmaj margaret xxmaj xxunk is a delight as the history professor who sides with xxmaj xxunk . xxmaj others in the stand - out cast include xxmaj xxunk xxmaj xxunk , xxmaj paul xxmaj xxunk , xxmaj xxunk xxmaj xxunk , xxmaj xxunk xxmaj xxunk & xxmaj sir xxmaj michael xxmaj xxunk . \n",
              " \n",
              "  xxmaj welcome to xxmaj xxunk !"
            ]
          },
          "metadata": {
            "tags": []
          },
          "execution_count": 58
        }
      ]
    },
    {
      "cell_type": "code",
      "metadata": {
        "id": "3kRS3uIXPdWd",
        "colab_type": "code",
        "colab": {}
      },
      "source": [
        "def get_term_doc_matrix(label_list, vocab_len):\n",
        "    j_indices = []\n",
        "    indptr = []\n",
        "    values = []\n",
        "    indptr.append(0)\n",
        "\n",
        "    for i, doc in enumerate(label_list):\n",
        "        feature_counter = Counter(doc.data)\n",
        "        j_indices.extend(feature_counter.keys())\n",
        "        values.extend(feature_counter.values())\n",
        "        indptr.append(len(j_indices))\n",
        "        \n",
        "#     return (values, j_indices, indptr)\n",
        "\n",
        "    return scipy.sparse.csr_matrix((values, j_indices, indptr),\n",
        "                                   shape=(len(indptr) - 1, vocab_len),\n",
        "                                   dtype=int)"
      ],
      "execution_count": 0,
      "outputs": []
    },
    {
      "cell_type": "code",
      "metadata": {
        "id": "hfMHz-5_PdWf",
        "colab_type": "code",
        "colab": {
          "base_uri": "https://localhost:8080/",
          "height": 53
        },
        "outputId": "023fbfc5-fbf9-4039-b116-712d7643e37c"
      },
      "source": [
        "%%time\n",
        "val_term_doc = get_term_doc_matrix(movie_reviews.valid.x, len(movie_reviews.vocab.itos))"
      ],
      "execution_count": 60,
      "outputs": [
        {
          "output_type": "stream",
          "text": [
            "CPU times: user 47.4 ms, sys: 2.58 ms, total: 50 ms\n",
            "Wall time: 46 ms\n"
          ],
          "name": "stdout"
        }
      ]
    },
    {
      "cell_type": "code",
      "metadata": {
        "scrolled": true,
        "id": "7UuQEZZ7PdWg",
        "colab_type": "code",
        "colab": {
          "base_uri": "https://localhost:8080/",
          "height": 53
        },
        "outputId": "c714ceee-71dd-45ae-a287-6f1d131e2367"
      },
      "source": [
        "%%time\n",
        "trn_term_doc = get_term_doc_matrix(movie_reviews.train.x, len(movie_reviews.vocab.itos))"
      ],
      "execution_count": 61,
      "outputs": [
        {
          "output_type": "stream",
          "text": [
            "CPU times: user 176 ms, sys: 11.8 ms, total: 188 ms\n",
            "Wall time: 173 ms\n"
          ],
          "name": "stdout"
        }
      ]
    },
    {
      "cell_type": "code",
      "metadata": {
        "id": "p6sZQtbnPdWk",
        "colab_type": "code",
        "colab": {
          "base_uri": "https://localhost:8080/",
          "height": 35
        },
        "outputId": "442e7e94-5d6a-40f6-ed24-1afbcfac4fa8"
      },
      "source": [
        "trn_term_doc.shape"
      ],
      "execution_count": 62,
      "outputs": [
        {
          "output_type": "execute_result",
          "data": {
            "text/plain": [
              "(800, 6008)"
            ]
          },
          "metadata": {
            "tags": []
          },
          "execution_count": 62
        }
      ]
    },
    {
      "cell_type": "code",
      "metadata": {
        "id": "oEj3BOevPdWm",
        "colab_type": "code",
        "colab": {
          "base_uri": "https://localhost:8080/",
          "height": 53
        },
        "outputId": "a533fc84-33a1-4087-d3a5-d810a9415401"
      },
      "source": [
        "trn_term_doc[:,-10:]"
      ],
      "execution_count": 63,
      "outputs": [
        {
          "output_type": "execute_result",
          "data": {
            "text/plain": [
              "<800x10 sparse matrix of type '<class 'numpy.int64'>'\n",
              "\twith 10 stored elements in Compressed Sparse Row format>"
            ]
          },
          "metadata": {
            "tags": []
          },
          "execution_count": 63
        }
      ]
    },
    {
      "cell_type": "code",
      "metadata": {
        "id": "Yx3wzqS4PdWo",
        "colab_type": "code",
        "colab": {
          "base_uri": "https://localhost:8080/",
          "height": 35
        },
        "outputId": "a499bfca-e5e6-4881-ef00-e6d7b1ecea54"
      },
      "source": [
        "val_term_doc.shape"
      ],
      "execution_count": 64,
      "outputs": [
        {
          "output_type": "execute_result",
          "data": {
            "text/plain": [
              "(200, 6008)"
            ]
          },
          "metadata": {
            "tags": []
          },
          "execution_count": 64
        }
      ]
    },
    {
      "cell_type": "markdown",
      "metadata": {
        "id": "E4hu_0UxPdWt",
        "colab_type": "text"
      },
      "source": [
        "### More data exploration"
      ]
    },
    {
      "cell_type": "markdown",
      "metadata": {
        "id": "6AyeNWdQPdWv",
        "colab_type": "text"
      },
      "source": [
        "We could convert our sparse matrix to a dense matrix:"
      ]
    },
    {
      "cell_type": "code",
      "metadata": {
        "id": "wkedZ-HAPdWw",
        "colab_type": "code",
        "colab": {
          "base_uri": "https://localhost:8080/",
          "height": 35
        },
        "outputId": "8681385b-eeac-4359-fe29-60c7c00375f6"
      },
      "source": [
        "movie_reviews.vocab.itos[-1:]"
      ],
      "execution_count": 87,
      "outputs": [
        {
          "output_type": "execute_result",
          "data": {
            "text/plain": [
              "['sollett']"
            ]
          },
          "metadata": {
            "tags": []
          },
          "execution_count": 87
        }
      ]
    },
    {
      "cell_type": "code",
      "metadata": {
        "scrolled": false,
        "id": "ujWpIU3TPdWz",
        "colab_type": "code",
        "colab": {
          "base_uri": "https://localhost:8080/",
          "height": 178
        },
        "outputId": "a6e04e02-3323-423a-e12a-782e05c76a22"
      },
      "source": [
        "val_term_doc.todense()[:10,:10]"
      ],
      "execution_count": 88,
      "outputs": [
        {
          "output_type": "execute_result",
          "data": {
            "text/plain": [
              "matrix([[32,  0,  1,  0, ...,  1,  0,  0, 10],\n",
              "        [ 9,  0,  1,  0, ...,  1,  0,  0,  7],\n",
              "        [ 6,  0,  1,  0, ...,  0,  0,  0, 12],\n",
              "        [78,  0,  1,  0, ...,  0,  0,  0, 44],\n",
              "        ...,\n",
              "        [ 8,  0,  1,  0, ...,  0,  0,  0,  8],\n",
              "        [43,  0,  1,  0, ...,  8,  1,  0, 25],\n",
              "        [ 7,  0,  1,  0, ...,  1,  0,  0,  9],\n",
              "        [19,  0,  1,  0, ...,  2,  0,  0,  5]])"
            ]
          },
          "metadata": {
            "tags": []
          },
          "execution_count": 88
        }
      ]
    },
    {
      "cell_type": "code",
      "metadata": {
        "id": "m_GqeZA3PdW0",
        "colab_type": "code",
        "colab": {
          "base_uri": "https://localhost:8080/",
          "height": 35
        },
        "outputId": "f38b266e-ff60-4255-c83c-aa1002dc219a"
      },
      "source": [
        "movie_reviews.vocab.itos[3]"
      ],
      "execution_count": 89,
      "outputs": [
        {
          "output_type": "execute_result",
          "data": {
            "text/plain": [
              "'xxeos'"
            ]
          },
          "metadata": {
            "tags": []
          },
          "execution_count": 89
        }
      ]
    },
    {
      "cell_type": "code",
      "metadata": {
        "id": "KL6FlQhoPdW3",
        "colab_type": "code",
        "colab": {
          "base_uri": "https://localhost:8080/",
          "height": 126
        },
        "outputId": "1dcdb5ab-841f-4082-f902-bca0d2888a35"
      },
      "source": [
        "review = movie_reviews.valid.x[1]; review"
      ],
      "execution_count": 90,
      "outputs": [
        {
          "output_type": "execute_result",
          "data": {
            "text/plain": [
              "Text xxbos i saw this movie once as a kid on the late - late show and fell in love with it . \n",
              " \n",
              "  xxmaj it took 30 + years , but i recently did find it on xxup dvd - it was n't cheap , either - in a xxunk that xxunk in war movies . xxmaj we watched it last night for the first time . xxmaj the audio was good , however it was grainy and had the trailers between xxunk . xxmaj even so , it was better than i remembered it . i was also impressed at how true it was to the play . \n",
              " \n",
              "  xxmaj the xxunk is around here xxunk . xxmaj if you 're xxunk in finding it , fire me a xxunk and i 'll see if i can get you the xxunk . xxunk"
            ]
          },
          "metadata": {
            "tags": []
          },
          "execution_count": 90
        }
      ]
    },
    {
      "cell_type": "markdown",
      "metadata": {
        "id": "j-kBE-MOPdW6",
        "colab_type": "text"
      },
      "source": [
        "**Exercise:** Since the word \"late\" shows up twice in this review (\"...as a kid on the late - late show...\"), confirm that a value of 2 is stored in the term-document matrix, for the row corresponding to this review and the column corresponding to the word \"late\"."
      ]
    },
    {
      "cell_type": "markdown",
      "metadata": {
        "id": "ahpfPyi9PdW7",
        "colab_type": "text"
      },
      "source": [
        "#### Answer:"
      ]
    },
    {
      "cell_type": "code",
      "metadata": {
        "id": "PdvY4fudPdW8",
        "colab_type": "code",
        "colab": {}
      },
      "source": [
        "# Exercise: Confirm this\n"
      ],
      "execution_count": 0,
      "outputs": []
    },
    {
      "cell_type": "code",
      "metadata": {
        "id": "3XHVMcJXPdW9",
        "colab_type": "code",
        "colab": {
          "base_uri": "https://localhost:8080/",
          "height": 53
        },
        "outputId": "a61b71ef-2ca8-4dd7-b370-aef01539197d"
      },
      "source": [
        "val_term_doc"
      ],
      "execution_count": 91,
      "outputs": [
        {
          "output_type": "execute_result",
          "data": {
            "text/plain": [
              "<200x6008 sparse matrix of type '<class 'numpy.int64'>'\n",
              "\twith 27848 stored elements in Compressed Sparse Row format>"
            ]
          },
          "metadata": {
            "tags": []
          },
          "execution_count": 91
        }
      ]
    },
    {
      "cell_type": "code",
      "metadata": {
        "id": "7bXRT5BCPdW_",
        "colab_type": "code",
        "colab": {
          "base_uri": "https://localhost:8080/",
          "height": 53
        },
        "outputId": "47959c97-8c3d-4a23-f40f-501ff739dd1c"
      },
      "source": [
        "val_term_doc[1]"
      ],
      "execution_count": 92,
      "outputs": [
        {
          "output_type": "execute_result",
          "data": {
            "text/plain": [
              "<1x6008 sparse matrix of type '<class 'numpy.int64'>'\n",
              "\twith 81 stored elements in Compressed Sparse Row format>"
            ]
          },
          "metadata": {
            "tags": []
          },
          "execution_count": 92
        }
      ]
    },
    {
      "cell_type": "code",
      "metadata": {
        "id": "H8ypiAgUPdXC",
        "colab_type": "code",
        "colab": {
          "base_uri": "https://localhost:8080/",
          "height": 35
        },
        "outputId": "fa99eadd-13c1-40e2-a5a3-c33fa036b966"
      },
      "source": [
        "val_term_doc[1].sum()"
      ],
      "execution_count": 93,
      "outputs": [
        {
          "output_type": "execute_result",
          "data": {
            "text/plain": [
              "144"
            ]
          },
          "metadata": {
            "tags": []
          },
          "execution_count": 93
        }
      ]
    },
    {
      "cell_type": "markdown",
      "metadata": {
        "id": "wo7m6aCFPdXE",
        "colab_type": "text"
      },
      "source": [
        "The review has 81 distinct tokens in it, and 144 tokens total."
      ]
    },
    {
      "cell_type": "code",
      "metadata": {
        "id": "C12FqtW2PdXF",
        "colab_type": "code",
        "colab": {
          "base_uri": "https://localhost:8080/",
          "height": 35
        },
        "outputId": "f7562745-f430-42dd-83c6-c95b1350d3f6"
      },
      "source": [
        "review.data"
      ],
      "execution_count": 94,
      "outputs": [
        {
          "output_type": "execute_result",
          "data": {
            "text/plain": [
              "array([  2,  19, 248,  21, ...,   9,   0,  10,   0])"
            ]
          },
          "metadata": {
            "tags": []
          },
          "execution_count": 94
        }
      ]
    },
    {
      "cell_type": "markdown",
      "metadata": {
        "id": "WsraMgJ3PdXG",
        "colab_type": "text"
      },
      "source": [
        "**Exercise:** How could you convert review.data back to text (without just using review.text)?"
      ]
    },
    {
      "cell_type": "markdown",
      "metadata": {
        "id": "XmmDz4rIPdXG",
        "colab_type": "text"
      },
      "source": [
        "#### Answer"
      ]
    },
    {
      "cell_type": "code",
      "metadata": {
        "id": "6qxfqCL_PdXH",
        "colab_type": "code",
        "colab": {
          "base_uri": "https://localhost:8080/",
          "height": 1000
        },
        "outputId": "b363c6e2-24b2-4b73-9508-d41844c5543f"
      },
      "source": [
        "# Exercise\n",
        "\n",
        "[movie_reviews.vocab.itos[a] for a in review.data]"
      ],
      "execution_count": 95,
      "outputs": [
        {
          "output_type": "execute_result",
          "data": {
            "text/plain": [
              "['xxbos',\n",
              " 'i',\n",
              " 'saw',\n",
              " 'this',\n",
              " 'movie',\n",
              " 'once',\n",
              " 'as',\n",
              " 'a',\n",
              " 'kid',\n",
              " 'on',\n",
              " 'the',\n",
              " 'late',\n",
              " '-',\n",
              " 'late',\n",
              " 'show',\n",
              " 'and',\n",
              " 'fell',\n",
              " 'in',\n",
              " 'love',\n",
              " 'with',\n",
              " 'it',\n",
              " '.',\n",
              " '\\n \\n ',\n",
              " 'xxmaj',\n",
              " 'it',\n",
              " 'took',\n",
              " '30',\n",
              " '+',\n",
              " 'years',\n",
              " ',',\n",
              " 'but',\n",
              " 'i',\n",
              " 'recently',\n",
              " 'did',\n",
              " 'find',\n",
              " 'it',\n",
              " 'on',\n",
              " 'xxup',\n",
              " 'dvd',\n",
              " '-',\n",
              " 'it',\n",
              " 'was',\n",
              " \"n't\",\n",
              " 'cheap',\n",
              " ',',\n",
              " 'either',\n",
              " '-',\n",
              " 'in',\n",
              " 'a',\n",
              " 'xxunk',\n",
              " 'that',\n",
              " 'xxunk',\n",
              " 'in',\n",
              " 'war',\n",
              " 'movies',\n",
              " '.',\n",
              " 'xxmaj',\n",
              " 'we',\n",
              " 'watched',\n",
              " 'it',\n",
              " 'last',\n",
              " 'night',\n",
              " 'for',\n",
              " 'the',\n",
              " 'first',\n",
              " 'time',\n",
              " '.',\n",
              " 'xxmaj',\n",
              " 'the',\n",
              " 'audio',\n",
              " 'was',\n",
              " 'good',\n",
              " ',',\n",
              " 'however',\n",
              " 'it',\n",
              " 'was',\n",
              " 'grainy',\n",
              " 'and',\n",
              " 'had',\n",
              " 'the',\n",
              " 'trailers',\n",
              " 'between',\n",
              " 'xxunk',\n",
              " '.',\n",
              " 'xxmaj',\n",
              " 'even',\n",
              " 'so',\n",
              " ',',\n",
              " 'it',\n",
              " 'was',\n",
              " 'better',\n",
              " 'than',\n",
              " 'i',\n",
              " 'remembered',\n",
              " 'it',\n",
              " '.',\n",
              " 'i',\n",
              " 'was',\n",
              " 'also',\n",
              " 'impressed',\n",
              " 'at',\n",
              " 'how',\n",
              " 'true',\n",
              " 'it',\n",
              " 'was',\n",
              " 'to',\n",
              " 'the',\n",
              " 'play',\n",
              " '.',\n",
              " '\\n \\n ',\n",
              " 'xxmaj',\n",
              " 'the',\n",
              " 'xxunk',\n",
              " 'is',\n",
              " 'around',\n",
              " 'here',\n",
              " 'xxunk',\n",
              " '.',\n",
              " 'xxmaj',\n",
              " 'if',\n",
              " 'you',\n",
              " \"'re\",\n",
              " 'xxunk',\n",
              " 'in',\n",
              " 'finding',\n",
              " 'it',\n",
              " ',',\n",
              " 'fire',\n",
              " 'me',\n",
              " 'a',\n",
              " 'xxunk',\n",
              " 'and',\n",
              " 'i',\n",
              " \"'ll\",\n",
              " 'see',\n",
              " 'if',\n",
              " 'i',\n",
              " 'can',\n",
              " 'get',\n",
              " 'you',\n",
              " 'the',\n",
              " 'xxunk',\n",
              " '.',\n",
              " 'xxunk']"
            ]
          },
          "metadata": {
            "tags": []
          },
          "execution_count": 95
        }
      ]
    },
    {
      "cell_type": "markdown",
      "metadata": {
        "id": "jryaSHD_PdXI",
        "colab_type": "text"
      },
      "source": [
        "**Exercise**: Confirm that review has 81 distinct tokens"
      ]
    },
    {
      "cell_type": "markdown",
      "metadata": {
        "id": "mz-iFJ1JPdXO",
        "colab_type": "text"
      },
      "source": [
        "#### Answer"
      ]
    },
    {
      "cell_type": "code",
      "metadata": {
        "id": "_Ze1xkKZPdXW",
        "colab_type": "code",
        "colab": {
          "base_uri": "https://localhost:8080/",
          "height": 35
        },
        "outputId": "5f4e967b-0071-47da-9c45-c5dd469aa071"
      },
      "source": [
        "# Exercise\n",
        "\n",
        "len(set(review.data))"
      ],
      "execution_count": 96,
      "outputs": [
        {
          "output_type": "execute_result",
          "data": {
            "text/plain": [
              "81"
            ]
          },
          "metadata": {
            "tags": []
          },
          "execution_count": 96
        }
      ]
    },
    {
      "cell_type": "code",
      "metadata": {
        "id": "8ltisByjPdXZ",
        "colab_type": "code",
        "colab": {
          "base_uri": "https://localhost:8080/",
          "height": 374
        },
        "outputId": "02d9a632-a266-4215-de25-0c1a3badbec6"
      },
      "source": [
        "movie_reviews.vocab.itos[1000:1020]"
      ],
      "execution_count": 97,
      "outputs": [
        {
          "output_type": "execute_result",
          "data": {
            "text/plain": [
              "['state',\n",
              " 'street',\n",
              " 'impossible',\n",
              " 'clever',\n",
              " 'development',\n",
              " 'concept',\n",
              " 'william',\n",
              " 'worked',\n",
              " 'adventure',\n",
              " 'church',\n",
              " 'unlike',\n",
              " 'hold',\n",
              " 'lots',\n",
              " 'premise',\n",
              " 'shooting',\n",
              " 'washington',\n",
              " 'sick',\n",
              " 'effect',\n",
              " 'waiting',\n",
              " 'singing']"
            ]
          },
          "metadata": {
            "tags": []
          },
          "execution_count": 97
        }
      ]
    },
    {
      "cell_type": "markdown",
      "metadata": {
        "id": "i8a4ZoapPdXa",
        "colab_type": "text"
      },
      "source": [
        "`stoi` (string-to-int) is larger than `itos` (int-to-string)."
      ]
    },
    {
      "cell_type": "code",
      "metadata": {
        "id": "vFfrXpi3PdXc",
        "colab_type": "code",
        "colab": {
          "base_uri": "https://localhost:8080/",
          "height": 35
        },
        "outputId": "4555ca3e-3227-4973-b5eb-44ea3b36092d"
      },
      "source": [
        "len(movie_reviews.vocab.stoi) - len(movie_reviews.vocab.itos)"
      ],
      "execution_count": 98,
      "outputs": [
        {
          "output_type": "execute_result",
          "data": {
            "text/plain": [
              "13154"
            ]
          },
          "metadata": {
            "tags": []
          },
          "execution_count": 98
        }
      ]
    },
    {
      "cell_type": "markdown",
      "metadata": {
        "id": "rs3IQn0SPdXd",
        "colab_type": "text"
      },
      "source": [
        "This is because many words are mapping to unknown.  We can confirm here:"
      ]
    },
    {
      "cell_type": "code",
      "metadata": {
        "id": "_RhOkiX4PdXd",
        "colab_type": "code",
        "colab": {}
      },
      "source": [
        "unk = []\n",
        "for word, num in movie_reviews.vocab.stoi.items():\n",
        "    if num==0:\n",
        "        unk.append(word)"
      ],
      "execution_count": 0,
      "outputs": []
    },
    {
      "cell_type": "code",
      "metadata": {
        "id": "iSa_dgiYPdXf",
        "colab_type": "code",
        "colab": {
          "base_uri": "https://localhost:8080/",
          "height": 35
        },
        "outputId": "94568e51-3d9a-43f3-be5e-6df459682eaf"
      },
      "source": [
        "len(unk)"
      ],
      "execution_count": 100,
      "outputs": [
        {
          "output_type": "execute_result",
          "data": {
            "text/plain": [
              "13155"
            ]
          },
          "metadata": {
            "tags": []
          },
          "execution_count": 100
        }
      ]
    },
    {
      "cell_type": "code",
      "metadata": {
        "scrolled": true,
        "id": "OocF2t3pPdXi",
        "colab_type": "code",
        "colab": {
          "base_uri": "https://localhost:8080/",
          "height": 1000
        },
        "outputId": "af6bd987-0f86-4597-d48c-6d4b71c40f34"
      },
      "source": [
        "unk[:100]"
      ],
      "execution_count": 101,
      "outputs": [
        {
          "output_type": "execute_result",
          "data": {
            "text/plain": [
              "['xxunk',\n",
              " 'bleeping',\n",
              " 'pert',\n",
              " 'ticky',\n",
              " 'schtick',\n",
              " 'whoosh',\n",
              " 'banzai',\n",
              " 'chill',\n",
              " 'wooofff',\n",
              " 'cheery',\n",
              " 'superstars',\n",
              " 'fashionable',\n",
              " 'cruelly',\n",
              " 'separating',\n",
              " 'mistreat',\n",
              " 'tensions',\n",
              " 'religions',\n",
              " 'baseness',\n",
              " 'nobility',\n",
              " 'puro',\n",
              " 'disowned',\n",
              " 'option',\n",
              " 'faults',\n",
              " 'dignified',\n",
              " 'realisation',\n",
              " 'reconciliation',\n",
              " 'mrs',\n",
              " 'iyer',\n",
              " 'heartbreaking',\n",
              " 'histories',\n",
              " 'frankness',\n",
              " 'starters',\n",
              " 'montage',\n",
              " 'swearing',\n",
              " 'halestorm',\n",
              " 'korea',\n",
              " 'concentrate',\n",
              " 'pic',\n",
              " 'elude',\n",
              " 'characteristics',\n",
              " 'blathered',\n",
              " 'brassed',\n",
              " 'declaration',\n",
              " 'peck',\n",
              " 'garnered',\n",
              " 'fearless',\n",
              " 'tempered',\n",
              " 'humane',\n",
              " 'tails',\n",
              " 'slighted',\n",
              " 'slater',\n",
              " 'barrage',\n",
              " 'underway',\n",
              " 'operating',\n",
              " 'tag',\n",
              " 'dorff',\n",
              " 'reid',\n",
              " 'continually',\n",
              " 'revel',\n",
              " 'nra',\n",
              " 'benton',\n",
              " 'slate',\n",
              " 'penal',\n",
              " 'vengeful',\n",
              " 'seed',\n",
              " 'backbone',\n",
              " 'dismal',\n",
              " 'fortunate',\n",
              " 'ds',\n",
              " 'tmob',\n",
              " 'autographed',\n",
              " 'intercepted',\n",
              " 'lectured',\n",
              " 'reprints',\n",
              " 'comicon',\n",
              " 'attendees',\n",
              " 'blackhawk',\n",
              " 'insisted',\n",
              " 'jumped',\n",
              " 'apologized',\n",
              " 'wishing',\n",
              " 'seller',\n",
              " 'abomination',\n",
              " 'crib',\n",
              " 'seriousness',\n",
              " 'reclaim',\n",
              " 'sidenotes',\n",
              " 'archenemy',\n",
              " 'simultaneous',\n",
              " 'sheet',\n",
              " 'ely',\n",
              " 'leaping',\n",
              " 'brick',\n",
              " 'blasting',\n",
              " 'pistol',\n",
              " 'duster',\n",
              " 'postscript',\n",
              " 'accompanied',\n",
              " '1975',\n",
              " 'smack']"
            ]
          },
          "metadata": {
            "tags": []
          },
          "execution_count": 101
        }
      ]
    },
    {
      "cell_type": "markdown",
      "metadata": {
        "id": "-UqSO08XPdXj",
        "colab_type": "text"
      },
      "source": [
        "## Naive Bayes"
      ]
    },
    {
      "cell_type": "markdown",
      "metadata": {
        "id": "2HwVqXTJPdXj",
        "colab_type": "text"
      },
      "source": [
        "We define the **log-count ratio** $r$ for each word $f$:\n",
        "\n",
        "$r = \\log \\frac{\\text{ratio of feature $f$ in positive documents}}{\\text{ratio of feature $f$ in negative documents}}$\n",
        "\n",
        "where ratio of feature $f$ in positive documents is the number of times a positive document has a feature divided by the number of positive documents."
      ]
    },
    {
      "cell_type": "code",
      "metadata": {
        "id": "CuK2mb09PdXj",
        "colab_type": "code",
        "colab": {
          "base_uri": "https://localhost:8080/",
          "height": 35
        },
        "outputId": "0d69ea02-8632-4858-89a8-183a6345693e"
      },
      "source": [
        "movie_reviews.y.classes"
      ],
      "execution_count": 102,
      "outputs": [
        {
          "output_type": "execute_result",
          "data": {
            "text/plain": [
              "['negative', 'positive']"
            ]
          },
          "metadata": {
            "tags": []
          },
          "execution_count": 102
        }
      ]
    },
    {
      "cell_type": "code",
      "metadata": {
        "id": "tY_TfyifPdXm",
        "colab_type": "code",
        "colab": {}
      },
      "source": [
        "x = trn_term_doc\n",
        "y = movie_reviews.train.y\n",
        "val_y = movie_reviews.valid.y"
      ],
      "execution_count": 0,
      "outputs": []
    },
    {
      "cell_type": "code",
      "metadata": {
        "id": "OFAR1q6_PdXo",
        "colab_type": "code",
        "colab": {}
      },
      "source": [
        "positive = y.c2i['positive']\n",
        "negative = y.c2i['negative']"
      ],
      "execution_count": 0,
      "outputs": []
    },
    {
      "cell_type": "code",
      "metadata": {
        "id": "wURKFO6hPdXo",
        "colab_type": "code",
        "colab": {
          "base_uri": "https://localhost:8080/",
          "height": 35
        },
        "outputId": "e8ad98cb-8d5b-4a84-9de2-f14525313a97"
      },
      "source": [
        "len(p1), len(p0)"
      ],
      "execution_count": 105,
      "outputs": [
        {
          "output_type": "execute_result",
          "data": {
            "text/plain": [
              "(6008, 6008)"
            ]
          },
          "metadata": {
            "tags": []
          },
          "execution_count": 105
        }
      ]
    },
    {
      "cell_type": "code",
      "metadata": {
        "id": "iBG5z_cRPdXv",
        "colab_type": "code",
        "colab": {
          "base_uri": "https://localhost:8080/",
          "height": 35
        },
        "outputId": "1e5394a6-d64b-495f-ead8-7461c7950691"
      },
      "source": [
        "np.squeeze(np.asarray(x[y.items==negative].sum(0)))"
      ],
      "execution_count": 110,
      "outputs": [
        {
          "output_type": "execute_result",
          "data": {
            "text/plain": [
              "array([7154,    0,  417,    0, ...,    0,    3,    3,    3], dtype=int64)"
            ]
          },
          "metadata": {
            "tags": []
          },
          "execution_count": 110
        }
      ]
    },
    {
      "cell_type": "code",
      "metadata": {
        "id": "O9pW96n8PdXw",
        "colab_type": "code",
        "colab": {
          "base_uri": "https://localhost:8080/",
          "height": 35
        },
        "outputId": "13b9c50c-ce9b-41a3-a123-ec21f56301bb"
      },
      "source": [
        "np.asarray(x[y.items==positive].sum(0))"
      ],
      "execution_count": 111,
      "outputs": [
        {
          "output_type": "execute_result",
          "data": {
            "text/plain": [
              "array([[6471,    0,  383,    0, ...,    3,    0,    0,    0]], dtype=int64)"
            ]
          },
          "metadata": {
            "tags": []
          },
          "execution_count": 111
        }
      ]
    },
    {
      "cell_type": "code",
      "metadata": {
        "id": "8BnK_DFYPdXz",
        "colab_type": "code",
        "colab": {
          "base_uri": "https://localhost:8080/",
          "height": 35
        },
        "outputId": "04554f1c-569c-463f-f60a-2bf414479992"
      },
      "source": [
        "np.squeeze(np.asarray(x[y.items==positive].sum(0)))"
      ],
      "execution_count": 112,
      "outputs": [
        {
          "output_type": "execute_result",
          "data": {
            "text/plain": [
              "array([6471,    0,  383,    0, ...,    3,    0,    0,    0], dtype=int64)"
            ]
          },
          "metadata": {
            "tags": []
          },
          "execution_count": 112
        }
      ]
    },
    {
      "cell_type": "markdown",
      "metadata": {
        "id": "NzvUWJbDPdX0",
        "colab_type": "text"
      },
      "source": [
        "For each word in our vocabulary, we are summing up how many positive reviews it is in, and how many negative reviews."
      ]
    },
    {
      "cell_type": "code",
      "metadata": {
        "id": "MozW5wbrPdX0",
        "colab_type": "code",
        "colab": {}
      },
      "source": [
        "p1 = np.squeeze(np.asarray(x[y.items==positive].sum(0)))\n",
        "p0 = np.squeeze(np.asarray(x[y.items==negative].sum(0)))"
      ],
      "execution_count": 0,
      "outputs": []
    },
    {
      "cell_type": "code",
      "metadata": {
        "id": "bJARk2qgPdX3",
        "colab_type": "code",
        "colab": {
          "base_uri": "https://localhost:8080/",
          "height": 35
        },
        "outputId": "105dd560-2200-44bc-8658-69632edc3054"
      },
      "source": [
        "p1[:10]"
      ],
      "execution_count": 113,
      "outputs": [
        {
          "output_type": "execute_result",
          "data": {
            "text/plain": [
              "array([ 6471,     0,   383,     0,     0, 10267,   674,    57,     0,  5260], dtype=int64)"
            ]
          },
          "metadata": {
            "tags": []
          },
          "execution_count": 113
        }
      ]
    },
    {
      "cell_type": "code",
      "metadata": {
        "id": "4FIaeiG6PdX4",
        "colab_type": "code",
        "colab": {}
      },
      "source": [
        "v = movie_reviews.vocab"
      ],
      "execution_count": 0,
      "outputs": []
    },
    {
      "cell_type": "code",
      "metadata": {
        "id": "lq2jDnR6PdXt",
        "colab_type": "code",
        "colab": {
          "base_uri": "https://localhost:8080/",
          "height": 35
        },
        "outputId": "fd5a85e0-8047-4247-dd4a-f400000f45ef"
      },
      "source": [
        "v.itos[0]"
      ],
      "execution_count": 109,
      "outputs": [
        {
          "output_type": "execute_result",
          "data": {
            "text/plain": [
              "'xxunk'"
            ]
          },
          "metadata": {
            "tags": []
          },
          "execution_count": 109
        }
      ]
    },
    {
      "cell_type": "markdown",
      "metadata": {
        "id": "EvsgaTQIPdX5",
        "colab_type": "text"
      },
      "source": [
        "### Using our ratios for even more data exploration"
      ]
    },
    {
      "cell_type": "markdown",
      "metadata": {
        "id": "ODJNlC-iPdX5",
        "colab_type": "text"
      },
      "source": [
        "We can use p0 and p1 to do some more data exploration!"
      ]
    },
    {
      "cell_type": "markdown",
      "metadata": {
        "id": "P5FEkBrePdX6",
        "colab_type": "text"
      },
      "source": [
        "**Exercise**: compare how often \"loved\" appears in positive reviews vs. negative reviews.  How about \"hate\"?"
      ]
    },
    {
      "cell_type": "markdown",
      "metadata": {
        "id": "8e2fq74PPdX6",
        "colab_type": "text"
      },
      "source": [
        "#### Answer:"
      ]
    },
    {
      "cell_type": "code",
      "metadata": {
        "id": "3e6jrp4JPdX9",
        "colab_type": "code",
        "colab": {}
      },
      "source": [
        "# Exercise: How often does the word \"loved\" appear in neg vs. pos reviews?\n"
      ],
      "execution_count": 0,
      "outputs": []
    },
    {
      "cell_type": "code",
      "metadata": {
        "id": "RhiAqaKePdX_",
        "colab_type": "code",
        "colab": {}
      },
      "source": [
        "# Exercise: How often does the word \"hated\" appear in neg vs. pos reviews?\n"
      ],
      "execution_count": 0,
      "outputs": []
    },
    {
      "cell_type": "markdown",
      "metadata": {
        "id": "jN_Jv8SEPdYA",
        "colab_type": "text"
      },
      "source": [
        "#### positive reviews with the word \"hated\""
      ]
    },
    {
      "cell_type": "markdown",
      "metadata": {
        "id": "IgiSjN-nPdYB",
        "colab_type": "text"
      },
      "source": [
        "I was curious to look at an example of a postive review with the word \"hated\" in it:"
      ]
    },
    {
      "cell_type": "code",
      "metadata": {
        "id": "gV4eGqkRPdYB",
        "colab_type": "code",
        "colab": {
          "base_uri": "https://localhost:8080/",
          "height": 35
        },
        "outputId": "cddeff26-ce31-406e-aade-abcf6d2ad63f"
      },
      "source": [
        "v.stoi['hated']"
      ],
      "execution_count": 114,
      "outputs": [
        {
          "output_type": "execute_result",
          "data": {
            "text/plain": [
              "1977"
            ]
          },
          "metadata": {
            "tags": []
          },
          "execution_count": 114
        }
      ]
    },
    {
      "cell_type": "code",
      "metadata": {
        "id": "qiCGCFY5PdYD",
        "colab_type": "code",
        "colab": {
          "base_uri": "https://localhost:8080/",
          "height": 35
        },
        "outputId": "4096d553-e0bb-4c8d-cb79-14099d453923"
      },
      "source": [
        "a = np.argwhere((x[:,1977] > 0))[:,0]; a"
      ],
      "execution_count": 115,
      "outputs": [
        {
          "output_type": "execute_result",
          "data": {
            "text/plain": [
              "array([ 15,  49, 304, 351, 393, 612, 695, 773], dtype=int32)"
            ]
          },
          "metadata": {
            "tags": []
          },
          "execution_count": 115
        }
      ]
    },
    {
      "cell_type": "code",
      "metadata": {
        "id": "weuZtXs3PdYF",
        "colab_type": "code",
        "colab": {
          "base_uri": "https://localhost:8080/",
          "height": 35
        },
        "outputId": "632d5084-40db-4acd-c179-6a0fd8e8df2a"
      },
      "source": [
        "b = np.argwhere(y.items==positive)[:,0]; b"
      ],
      "execution_count": 116,
      "outputs": [
        {
          "output_type": "execute_result",
          "data": {
            "text/plain": [
              "array([  1,   3,  10,  11, ..., 787, 789, 790, 797])"
            ]
          },
          "metadata": {
            "tags": []
          },
          "execution_count": 116
        }
      ]
    },
    {
      "cell_type": "code",
      "metadata": {
        "id": "mv5okXWrPdYH",
        "colab_type": "code",
        "colab": {
          "base_uri": "https://localhost:8080/",
          "height": 35
        },
        "outputId": "cb4e830a-c910-4731-cca2-11ea2827e06c"
      },
      "source": [
        "set(a).intersection(set(b))"
      ],
      "execution_count": 117,
      "outputs": [
        {
          "output_type": "execute_result",
          "data": {
            "text/plain": [
              "{393, 612, 695}"
            ]
          },
          "metadata": {
            "tags": []
          },
          "execution_count": 117
        }
      ]
    },
    {
      "cell_type": "code",
      "metadata": {
        "id": "0PWEg674PdYH",
        "colab_type": "code",
        "colab": {
          "base_uri": "https://localhost:8080/",
          "height": 55
        },
        "outputId": "d4e2534e-bf83-4cf6-90f7-e494ce66ce52"
      },
      "source": [
        "review = movie_reviews.train.x[695]\n",
        "review.text"
      ],
      "execution_count": 118,
      "outputs": [
        {
          "output_type": "execute_result",
          "data": {
            "text/plain": [
              "\"xxbos xxmaj xxunk , yeah this episode is extremely underrated . \\n \\n  xxmaj even though there is a xxup lot of bad writing and acting at parts . i think the good over wins the bad . \\n \\n  i love the xxunk parts and the big ' twist ' at the end . i absolutely love that scene when xxmaj michelle xxunk xxmaj tony . xxmaj it 's actually one of my favorite scenes of xxmaj season 1 . \\n \\n  xxmaj for some reason , people have always hated the xxmaj xxunk episodes , yet i have always liked them . xxmaj they 're not the best , in terms of writing . but the theme really does interest me , \\n \\n  i 'm gon na give it a xxup three star , but if the writing were a little more consistent i 'd give it xxup four .\""
            ]
          },
          "metadata": {
            "tags": []
          },
          "execution_count": 118
        }
      ]
    },
    {
      "cell_type": "markdown",
      "metadata": {
        "id": "56dXCq3GPdYJ",
        "colab_type": "text"
      },
      "source": [
        "#### negative reviews with the word \"loved\""
      ]
    },
    {
      "cell_type": "markdown",
      "metadata": {
        "id": "4iXpKhe9PdYK",
        "colab_type": "text"
      },
      "source": [
        "Now, let's look at an example of a negative review that contains the word \"loved\""
      ]
    },
    {
      "cell_type": "code",
      "metadata": {
        "id": "vfPoKG_2PdYK",
        "colab_type": "code",
        "colab": {
          "base_uri": "https://localhost:8080/",
          "height": 35
        },
        "outputId": "5a638110-335a-489f-8c0f-c24b22e949d9"
      },
      "source": [
        "v.stoi['loved']"
      ],
      "execution_count": 119,
      "outputs": [
        {
          "output_type": "execute_result",
          "data": {
            "text/plain": [
              "535"
            ]
          },
          "metadata": {
            "tags": []
          },
          "execution_count": 119
        }
      ]
    },
    {
      "cell_type": "code",
      "metadata": {
        "id": "aSg1O3eUPdYL",
        "colab_type": "code",
        "colab": {
          "base_uri": "https://localhost:8080/",
          "height": 53
        },
        "outputId": "ce8a4460-0632-4740-b458-17f3167fb63b"
      },
      "source": [
        "a = np.argwhere((x[:,534] > 0))[:,0]; a"
      ],
      "execution_count": 120,
      "outputs": [
        {
          "output_type": "execute_result",
          "data": {
            "text/plain": [
              "array([  0,  19,  24,  51,  61,  70,  81, 110, 123, 155, 175, 193, 221, 265, 274, 279, 284, 290, 295, 304, 360, 384,\n",
              "       421, 465, 516, 520, 548, 569, 588, 604, 620, 631, 661, 672, 679, 702, 709, 759, 764, 792], dtype=int32)"
            ]
          },
          "metadata": {
            "tags": []
          },
          "execution_count": 120
        }
      ]
    },
    {
      "cell_type": "code",
      "metadata": {
        "id": "B2I-ao7xPdYR",
        "colab_type": "code",
        "colab": {
          "base_uri": "https://localhost:8080/",
          "height": 35
        },
        "outputId": "2ecc30d9-a56d-46d5-cfa8-52ee1643e68b"
      },
      "source": [
        "b = np.argwhere(y.items==negative)[:,0]; b"
      ],
      "execution_count": 121,
      "outputs": [
        {
          "output_type": "execute_result",
          "data": {
            "text/plain": [
              "array([  0,   2,   4,   5, ..., 795, 796, 798, 799])"
            ]
          },
          "metadata": {
            "tags": []
          },
          "execution_count": 121
        }
      ]
    },
    {
      "cell_type": "code",
      "metadata": {
        "scrolled": true,
        "id": "gv5kzkNIPdYV",
        "colab_type": "code",
        "colab": {
          "base_uri": "https://localhost:8080/",
          "height": 499
        },
        "outputId": "9d7c2a70-4cf6-4e25-9a17-88ea7c0683b1"
      },
      "source": [
        "set(a).intersection(set(b))"
      ],
      "execution_count": 122,
      "outputs": [
        {
          "output_type": "execute_result",
          "data": {
            "text/plain": [
              "{0,\n",
              " 24,\n",
              " 51,\n",
              " 70,\n",
              " 81,\n",
              " 123,\n",
              " 155,\n",
              " 193,\n",
              " 221,\n",
              " 274,\n",
              " 279,\n",
              " 284,\n",
              " 290,\n",
              " 295,\n",
              " 304,\n",
              " 421,\n",
              " 516,\n",
              " 548,\n",
              " 604,\n",
              " 620,\n",
              " 631,\n",
              " 672,\n",
              " 679,\n",
              " 709,\n",
              " 759,\n",
              " 764,\n",
              " 792}"
            ]
          },
          "metadata": {
            "tags": []
          },
          "execution_count": 122
        }
      ]
    },
    {
      "cell_type": "code",
      "metadata": {
        "id": "H2KfcqEaPdYX",
        "colab_type": "code",
        "colab": {
          "base_uri": "https://localhost:8080/",
          "height": 55
        },
        "outputId": "2ddab430-adaa-4a89-cab9-271bf30257bc"
      },
      "source": [
        "review = movie_reviews.train.x[792]\n",
        "review.text"
      ],
      "execution_count": 123,
      "outputs": [
        {
          "output_type": "execute_result",
          "data": {
            "text/plain": [
              "'xxbos xxmaj this is not really a zombie film , if we \\'re xxunk zombies as the dead walking around . xxmaj here the protagonist , xxmaj xxunk xxmaj louque ( played by an xxunk young xxmaj dean xxmaj xxunk ) , xxunk control of a method to create zombies , though in fact , his \\' method \\' is to mentally project his thoughts and control other living people \\'s minds turning them into xxunk slaves . xxmaj this is an interesting concept for a movie , and was done much more effectively by xxmaj xxunk xxmaj lang in his series of \\' xxmaj dr. xxmaj mabuse \\' films , including \\' xxmaj dr. xxmaj mabuse the xxmaj xxunk \\' ( xxunk ) and \\' xxmaj the xxmaj testament of xxmaj dr. xxmaj mabuse \\' ( 1933 ) . xxmaj here it is unfortunately xxunk to his quest to regain the love of his former fiancée , xxmaj claire xxmaj duvall ( played by the xxmaj anne xxmaj xxunk look alike with a bad xxunk , xxmaj dorothy xxmaj stone ) which is really the major theme . \\n \\n  xxmaj the movie has an intriguing beginning , as xxmaj louque is sent on a military xxunk expedition to xxmaj xxunk to end the cult of zombies that came from there . xxmaj at some type of compound ( where we get great 30s sets and clothes ) he xxunk his xxunk to xxmaj claire , and then barely five minutes later , she gives him back his ring xxunk her love for his pal , xxmaj xxunk xxmaj greyson ( xxmaj robert xxmaj xxunk ) . xxmaj it \\'s unintentionally funny the way they talk to each other without making eye contact . xxmaj this would have been a great movie for \\' xxmaj mystery xxmaj science xxmaj theater xxunk \\' , if they had n\\'t already xxunk it . \\n \\n  xxmaj it \\'s never shown how xxmaj louque actually learns the \\' xxunk \\' secret , but he then uses it to kill his enemies , create a giant army of xxunk carrying soldiers and body guards . xxmaj we wo n\\'t see such sheer force of will until xxmaj john xxmaj xxunk in \\' xxmaj the xxmaj brain xxmaj from xxmaj planet xxmaj xxunk \\' ( xxunk ) . \\n \\n  xxmaj finally xxmaj claire xxunk to marry him if he will let xxmaj greyson live and return to xxmaj america . xxmaj louque agrees , but actually turns him into one of his xxunk slaves . xxmaj on their wedding night he realizes that xxmaj claire will only begin to love him if he gives up his \\' powers . \\' xxmaj to gain her love , he does so , causing the \\' revolt \\' of the title , in which all his slaves xxunk and attack his compound and kill him . xxmaj greyson xxunk xxmaj claire , and we seem to be at the end of a parable : \" xxmaj whom the xxunk would destroy , they first make mad . \" \\n \\n  xxmaj so really then , it \\'s not that bad of a film , despite the low imdb rating it currently has . xxmaj on repeated viewings ( ? ) one can see the xxunk in the well formed script ! xxmaj dean xxmaj xxunk had yet to develop into a good actor , and is almost unrecognizable in his xxunk -- is that really his own hair ? xxmaj we remember him more for his xxunk , old man roles in \\' xxmaj white xxmaj christmas \\' ( xxunk ) , \\' x xxmaj the xxmaj unknown \\' ( 1956 ) and \\' xxmaj king xxmaj xxunk \\' ( 1958 ) . xxmaj the story xxunk a lot of its basic themes from the xxmaj xxunk brothers better , earlier film \\' xxmaj white xxmaj zombie \\' ( xxunk ) in which xxunk xxmaj robert xxmaj xxunk ( as xxmaj charles xxmaj xxunk ) uses \\' xxunk \\' to win the love of xxmaj xxunk xxmaj xxunk ( as xxmaj xxunk xxmaj parker ) . \\n \\n  xxmaj if you want real zombie movies ( of which there are hundreds ! ) i \\'d start with \\' xxmaj white xxmaj zombie \\' ( xxunk ) , \\' xxmaj king of the xxmaj zombies \\' ( xxunk ) , \\' i xxmaj walked with a xxmaj zombie \\' ( xxunk ) , \\' xxmaj night of the xxmaj living xxmaj dead \\' ( xxunk ) , \\' xxmaj the xxmaj last xxmaj man on xxmaj earth \\' ( 1964 ) and its two xxunk . xxmaj in the modern era of classy films , there are \\' xxmaj horror xxmaj express \\' ( 1972 ) , \\' xxmaj the xxmaj xxunk and the xxmaj xxunk \\' ( xxunk ) , \\' 28 xxmaj days xxmaj later \\' ( 2002 ) and its sequel , as well as many , many , others too numerous to mention . \\n \\n  xxmaj this one is not really a zombie film . xxmaj judging this movie on its own terms , it \\'s more of a semi - xxmaj gothic romance . xxmaj as such it ranks a little below some of xxmaj universal \\'s bottom billed b horror movies of the late 30s and early xxunk . xxmaj so i \\'ll give it a 5 .'"
            ]
          },
          "metadata": {
            "tags": []
          },
          "execution_count": 123
        }
      ]
    },
    {
      "cell_type": "markdown",
      "metadata": {
        "id": "Z1FPnVvcPdYY",
        "colab_type": "text"
      },
      "source": [
        "## Applying Naive Bayes"
      ]
    },
    {
      "cell_type": "code",
      "metadata": {
        "id": "_Xa-EZZmPdYY",
        "colab_type": "code",
        "colab": {}
      },
      "source": [
        "p1 = np.squeeze(np.asarray(x[y.items==positive].sum(0)))\n",
        "p0 = np.squeeze(np.asarray(x[y.items==negative].sum(0)))"
      ],
      "execution_count": 0,
      "outputs": []
    },
    {
      "cell_type": "code",
      "metadata": {
        "id": "CknYHzxZPdYa",
        "colab_type": "code",
        "colab": {}
      },
      "source": [
        "pr1 = (p1+1) / ((y.items==positive).sum() + 1)\n",
        "pr0 = (p0+1) / ((y.items==negative).sum() + 1)"
      ],
      "execution_count": 0,
      "outputs": []
    },
    {
      "cell_type": "code",
      "metadata": {
        "id": "JvklOpzPPdYb",
        "colab_type": "code",
        "colab": {
          "base_uri": "https://localhost:8080/",
          "height": 35
        },
        "outputId": "5ee05c42-9fca-41fa-96bb-ee5139b9140a"
      },
      "source": [
        "r = np.log(pr1/pr0); r"
      ],
      "execution_count": 126,
      "outputs": [
        {
          "output_type": "execute_result",
          "data": {
            "text/plain": [
              "array([-0.015487,  0.084839,  0.      ,  0.084839, ...,  1.471133, -1.301455, -1.301455, -1.301455])"
            ]
          },
          "metadata": {
            "tags": []
          },
          "execution_count": 126
        }
      ]
    },
    {
      "cell_type": "markdown",
      "metadata": {
        "id": "bVK5SEqaPdYc",
        "colab_type": "text"
      },
      "source": [
        "### Vocab most likely associated with positive/negative reviews"
      ]
    },
    {
      "cell_type": "code",
      "metadata": {
        "id": "llKPZ__XPdYc",
        "colab_type": "code",
        "colab": {}
      },
      "source": [
        "biggest = np.argpartition(r, -10)[-10:]\n",
        "smallest = np.argpartition(r, 10)[:10]"
      ],
      "execution_count": 0,
      "outputs": []
    },
    {
      "cell_type": "markdown",
      "metadata": {
        "id": "BPuYnvZFPdYe",
        "colab_type": "text"
      },
      "source": [
        "Most positive words:"
      ]
    },
    {
      "cell_type": "code",
      "metadata": {
        "id": "e8qdYLXZPdYf",
        "colab_type": "code",
        "colab": {
          "base_uri": "https://localhost:8080/",
          "height": 196
        },
        "outputId": "e495e998-b7b3-43e6-b845-7b47550aaeab"
      },
      "source": [
        "[v.itos[k] for k in biggest]"
      ],
      "execution_count": 128,
      "outputs": [
        {
          "output_type": "execute_result",
          "data": {
            "text/plain": [
              "['sport',\n",
              " 'davies',\n",
              " 'gilliam',\n",
              " 'fanfan',\n",
              " 'biko',\n",
              " 'felix',\n",
              " 'noir',\n",
              " 'jabba',\n",
              " 'astaire',\n",
              " 'jimmy']"
            ]
          },
          "metadata": {
            "tags": []
          },
          "execution_count": 128
        }
      ]
    },
    {
      "cell_type": "code",
      "metadata": {
        "id": "H-JbWEITPdYg",
        "colab_type": "code",
        "colab": {
          "base_uri": "https://localhost:8080/",
          "height": 35
        },
        "outputId": "8f957839-b8eb-441e-cf24-28a2507ec779"
      },
      "source": [
        "np.argmax(trn_term_doc[:,v.stoi['biko']])"
      ],
      "execution_count": 129,
      "outputs": [
        {
          "output_type": "execute_result",
          "data": {
            "text/plain": [
              "515"
            ]
          },
          "metadata": {
            "tags": []
          },
          "execution_count": 129
        }
      ]
    },
    {
      "cell_type": "code",
      "metadata": {
        "id": "ZbnnmmUKPdYh",
        "colab_type": "code",
        "colab": {
          "base_uri": "https://localhost:8080/",
          "height": 305
        },
        "outputId": "faabecf3-a5ce-44b8-c395-c510139a6ac9"
      },
      "source": [
        "movie_reviews.train.x[515]"
      ],
      "execution_count": 130,
      "outputs": [
        {
          "output_type": "execute_result",
          "data": {
            "text/plain": [
              "Text xxbos \" xxmaj the xxmaj true xxmaj story xxmaj of xxmaj the xxmaj friendship xxmaj that xxmaj shook xxmaj south xxmaj africa xxmaj and xxmaj xxunk xxmaj the xxmaj world . \" \n",
              " \n",
              "  xxmaj richard xxmaj attenborough , who directed \" a xxmaj bridge xxmaj too xxmaj far \" and \" xxmaj gandhi \" , wanted to bring the story of xxmaj steve xxmaj biko to life , and the journey and trouble that xxunk xxmaj donald xxmaj woods went through in order to get his story told . xxmaj the films uses xxmaj wood 's two books for it 's information and basis - \" xxmaj biko \" and \" xxmaj asking for xxmaj trouble \" . \n",
              " \n",
              "  xxmaj the film takes place in the late 1970 's , in xxmaj south xxmaj africa . xxmaj south xxmaj africa is in the grip of the terrible apartheid , which keeps the blacks separated from the whites and xxunk the whites as the superior race . xxmaj the blacks are forced to live in xxunk on the xxunk of the cities and xxunk , and they come under frequent xxunk by the police and the army . xxmaj we are shown a dawn xxunk on a xxunk , as xxunk and armed police force their way through the camp beating and even killing the inhabitants . xxmaj then we are introduced to xxmaj donald xxmaj woods ( xxmaj kevin xxmaj kline ) , who is the editor of a popular newspaper . xxmaj after xxunk a negative story about black xxunk xxmaj steve xxmaj biko ( xxmaj denzel xxmaj washington ) , xxmaj woods goes to meet with him . xxmaj the two are xxunk of each other at first , but they soon become good friends and xxmaj biko shows the horrors of the apartheid system from a black persons point of view to xxmaj woods . xxmaj this xxunk xxmaj woods to speak out against what 's happening around him , and makes him desperate to bring xxmaj steve xxmaj biko 's story out of the xxunk of the white man 's xxmaj south xxmaj africa and to the world . xxmaj soon , xxmaj steve xxmaj biko is arrested and is killed in prison . xxmaj now xxmaj woods and his family are daring to escape from xxmaj south xxmaj africa to xxmaj england , where xxmaj woods can xxunk his book about xxmaj steve xxmaj biko and the apartheid . \n",
              " \n",
              "  xxmaj when i first heard of \" xxmaj cry xxmaj freedom \" , i was under the impression that it was a movie completely dedicated to the life of xxmaj steve xxmaj biko . i had never actually heard of xxmaj steve xxmaj biko before i seen this film , as the events in this film were really before my time . xxmaj but it 's more about the story of xxmaj donald xxmaj woods and his journey across the border into xxmaj xxunk as he tried to xxunk the xxmaj south xxmaj african xxunk . xxmaj woods was put on a five year type house xxunk after xxmaj steve xxmaj biko was killed . xxmaj so in order to xxunk his xxunk on xxmaj steve xxmaj biko , he had to escape . xxmaj because the xxunk would be considered xxunk in xxmaj south xxmaj africa and that could have resulted in xxmaj woods meeting a fate similar to that of xxmaj biko 's . xxmaj the real xxmaj donald xxmaj woods and his wife acted as xxunk to this film . \n",
              " \n",
              "  xxmaj denzel xxmaj washington is only in the film for the first hour , and i was disappointed with that as i was expecting to see him for the entire movie . xxmaj but he was amazing as xxmaj steve xxmaj biko , and captured his personality from what i 've read really well and his accent sounded perfect . xxmaj his performance earned him an xxmaj oscar nomination for xxmaj best xxmaj supporting xxmaj actor . xxmaj kevin xxmaj kline delivers a excellent and thought - xxunk performance as xxmaj donald xxmaj woods , and xxmaj penelope xxmaj xxunk is excellent as his wife xxmaj xxunk . \n",
              " \n",
              "  xxmaj filming took place in xxmaj xxunk , as needless to say problems xxunk when they tried to film it in xxmaj south xxmaj africa . xxmaj while in xxmaj south xxmaj africa , the xxmaj south xxmaj african xxunk followed the film crew everywhere , so they got the bad xxunk and they pulled out and went to xxunk xxmaj xxunk instead . xxmaj despite everything , and the fact that the apartheid did n't end ' xxunk seven years later , \" xxmaj cry xxmaj freedom \" was n't xxunk in xxmaj south xxmaj africa . xxmaj but xxunk showing the movie received bomb threats . \n",
              " \n",
              "  xxmaj richard xxmaj attenborough brings the horrors of the apartheid to the screen with extreme force and determination . xxmaj he does n't hold back at the end of the movie when showing what was supposed to be a xxunk xxunk by students in a xxunk , turns into a massacre when police open fire on them . xxmaj the film ends with the names of all the anti - apartheid xxunk who died in prison , and the explanations for their deaths . xxmaj many had \" xxmaj no xxmaj explanation \" . xxmaj quite a few were \" xxmaj xxunk \" , which is hard to believe , and many more either fell from the top of the xxunk or were \" xxmaj suicide from xxmaj hanging \" . xxmaj no one will ever know what really happened to them , but i think it 's fair to say that none of these men died at their own hands , but at the hands of others ; or to be more xxunk , at the hands of the police . \n",
              " \n",
              "  \" xxmaj cry xxmaj freedom \" is a must - see movie for it 's portrayal and story of xxmaj steve xxmaj biko . xxmaj it 's also a xxunk and xxunk portrayal of a beautiful land divided and in the xxunk grips of racial xxunk and violence ."
            ]
          },
          "metadata": {
            "tags": []
          },
          "execution_count": 130
        }
      ]
    },
    {
      "cell_type": "markdown",
      "metadata": {
        "id": "ZE311M87PdYj",
        "colab_type": "text"
      },
      "source": [
        "Most negative words:"
      ]
    },
    {
      "cell_type": "code",
      "metadata": {
        "scrolled": true,
        "id": "dthW8926PdYj",
        "colab_type": "code",
        "colab": {
          "base_uri": "https://localhost:8080/",
          "height": 196
        },
        "outputId": "558b2282-7106-4001-bda3-deca725b0413"
      },
      "source": [
        "[v.itos[k] for k in smallest]"
      ],
      "execution_count": 131,
      "outputs": [
        {
          "output_type": "execute_result",
          "data": {
            "text/plain": [
              "['worst',\n",
              " 'crap',\n",
              " 'crater',\n",
              " 'porn',\n",
              " 'disappointment',\n",
              " 'dog',\n",
              " 'vargas',\n",
              " 'naschy',\n",
              " 'fuqua',\n",
              " 'soderbergh']"
            ]
          },
          "metadata": {
            "tags": []
          },
          "execution_count": 131
        }
      ]
    },
    {
      "cell_type": "code",
      "metadata": {
        "id": "841yMUH7PdYk",
        "colab_type": "code",
        "colab": {
          "base_uri": "https://localhost:8080/",
          "height": 35
        },
        "outputId": "626a20cb-4557-4919-8447-1e51dcf5e8dd"
      },
      "source": [
        "np.argmax(trn_term_doc[:,v.stoi['soderbergh']])"
      ],
      "execution_count": 132,
      "outputs": [
        {
          "output_type": "execute_result",
          "data": {
            "text/plain": [
              "434"
            ]
          },
          "metadata": {
            "tags": []
          },
          "execution_count": 132
        }
      ]
    },
    {
      "cell_type": "code",
      "metadata": {
        "id": "UTFksCNNPdYk",
        "colab_type": "code",
        "colab": {
          "base_uri": "https://localhost:8080/",
          "height": 877
        },
        "outputId": "3c2d5bfe-6229-4f3d-f1d0-0a4032f799e9"
      },
      "source": [
        "movie_reviews.train.x[434]"
      ],
      "execution_count": 133,
      "outputs": [
        {
          "output_type": "execute_result",
          "data": {
            "text/plain": [
              "Text xxbos xxmaj now that xxmaj che(2008 ) has finished its relatively short xxmaj australian cinema run ( extremely limited xxunk screen in xxmaj xxunk , after xxunk ) , i can xxunk join both xxunk of \" xxmaj at xxmaj the xxmaj movies \" in taking xxmaj steven xxmaj soderbergh to task . \n",
              " \n",
              "  xxmaj it 's usually satisfying to watch a film director change his style / subject , but xxmaj soderbergh 's most recent stinker , xxmaj the xxmaj girlfriend xxmaj xxunk ) , was also missing a story , so narrative ( and editing ? ) seem to suddenly be xxmaj soderbergh 's main challenge . xxmaj strange , after xxunk years in the business . xxmaj he was probably never much good at narrative , just xxunk it well inside \" edgy \" projects . \n",
              " \n",
              "  xxmaj none of this excuses him this present , almost diabolical failure . xxmaj as xxmaj david xxmaj xxunk xxunk , \" two parts of xxmaj che do n't ( even ) make a whole \" . \n",
              " \n",
              "  xxmaj epic xxunk in name only , xxmaj che(2008 ) barely qualifies as a feature film ! xxmaj it certainly has no legs , xxunk as except for its xxunk ultimate resolution forced upon it by history , xxmaj soderbergh 's xxunk - long xxunk just goes nowhere . \n",
              " \n",
              "  xxmaj even xxmaj margaret xxmaj xxunk , the more xxunk of xxmaj australia 's xxmaj at xxmaj the xxmaj movies duo , noted about xxmaj soderbergh 's xxunk waste of ( xxup xxunk digital xxunk ) : \" you 're in the woods ... xxunk in the woods ... xxunk in the woods ... \" . i too am surprised xxmaj soderbergh did n't give us another xxunk of xxup that somewhere between his xxunk two xxmaj parts , because he still left out massive xxunk of xxmaj che 's \" xxunk \" life ! \n",
              " \n",
              "  xxmaj for a xxunk of an important but infamous historical figure , xxmaj soderbergh xxunk xxunk , if not deliberately insults , his audiences by \n",
              " \n",
              "  1 . never providing most of xxmaj che 's story ; \n",
              " \n",
              "  2 . xxunk xxunk film xxunk with mere xxunk xxunk ; \n",
              " \n",
              "  3 . xxunk both true xxunk and a narrative of events ; \n",
              " \n",
              "  4 . barely developing an idea , or a character ; \n",
              " \n",
              "  5 . remaining xxunk episodic ; \n",
              " \n",
              "  6 . xxunk proper context for scenes --- whatever we do get is xxunk in xxunk xxunk ; \n",
              " \n",
              "  7 . xxunk xxunk all audiences ( even xxmaj spanish - xxunk will be confused by the xxunk xxunk in xxmaj english ) ; and \n",
              " \n",
              "  8 . xxunk xxunk his main subject into one dimension . xxmaj why , at xxup this late stage ? xxmaj the t - shirt franchise has been a success ! \n",
              " \n",
              "  xxmaj our sense of xxunk is surely due to xxmaj peter xxmaj xxunk and xxmaj benjamin xxunk xxmaj xxunk xxunk their screenplay solely on xxmaj xxunk 's memoirs . xxmaj so , like a poor student who has read only xxup one of his xxunk xxunk for his xxunk , xxmaj soderbergh 's product is xxunk limited in perspective . \n",
              " \n",
              "  xxmaj the audience is held captive within the same xxunk knowledge , scenery and circumstances of the \" revolutionaries \" , but that does n't xxunk our sympathy . xxmaj instead , it xxunk on us that \" xxmaj ah , xxmaj soderbergh 's trying to xxunk his audiences the same as the xxmaj latino peasants were at the time \" . xxmaj but these are the xxup same illiterate xxmaj latino peasants who xxunk out the good doctor to his enemies . xxmaj why does xxmaj soderbergh feel the need to xxunk us with them , and keep us equally mentally captive ? xxmaj such audience xxunk must have a purpose . \n",
              " \n",
              "  xxmaj part2 is more xxunk than xxmaj part1 , but it 's literally mind - numbing with its repetitive bush - bashing , misery of xxunk , and lack of variety or character xxunk . deltoro 's xxmaj che has no opportunity to grow as a person while he struggles to xxunk his own ill - xxunk troops . xxmaj the only xxunk is the humour as xxmaj che deals with his sometimes deeply ignorant \" revolutionaries \" , some of whom xxunk lack self - control around local peasants or food . xxmaj we certainly get no insight into what caused the conditions , nor any xxunk xxunk of their xxunk xxunk , such as it was . \n",
              " \n",
              "  xxmaj part2 's xxunk xxunk remains xxunk episodic : again , nothing is telegraphed or xxunk . xxmaj thus even the scenes with xxmaj xxunk xxmaj xxunk ( xxmaj xxunk xxmaj xxunk ) are unexpected and disconcerting . xxmaj any xxunk events are portrayed xxunk and xxmaj latino - xxunk , with xxmaj part1 's interviews xxunk by time - xxunk xxunk between the corrupt xxmaj xxunk president ( xxmaj xxunk de xxmaj xxunk ) and xxup us xxmaj government xxunk promising xxup cia xxunk ( ! ) . \n",
              " \n",
              "  xxmaj the rest of xxmaj part2 's \" woods \" and day - for - night blue xxunk just xxunk the audience until they 're xxunk the xxunk . \n",
              " \n",
              "  xxmaj perhaps deltoro felt too xxunk the frustration of many non - xxmaj american xxmaj latinos about never getting a truthful , xxunk history of xxmaj che 's xxunk within their own countries . xxmaj when foreign xxunk still wo n't deliver a free press to their people -- for whatever reason -- then one can see how a popular xxmaj american indie producer might set out to xxunk the not - so - well - read ( \" i may not be able to read or write , but i 'm xxup not xxunk . xxmaj the xxmaj inspector xxmaj xxunk ) ) out to their own local xxunk . xxmaj the film 's obvious xxunk and gross over - xxunk hint very strongly that it 's aiming only at the xxunk of the less - informed xxup who xxup still xxup speak xxup little xxmaj english . xxmaj if they did , they 'd have read xxunk on the subject already , and xxunk the relevant social issues amongst themselves -- learning the lessons of history as they should . \n",
              " \n",
              "  xxmaj such insights are precisely what societies still need -- and not just the remaining illiterate xxmaj latinos of xxmaj central and xxmaj south xxmaj america -- yet it 's what xxmaj che(2008 ) xxunk fails to deliver . xxmaj soderbergh xxunk his lead because he 's weak on narrative . i am xxunk why xxmaj xxunk deltoro deliberately chose xxmaj soderbergh for this project if he knew this . xxmaj it 's been xxunk , xxunk about xxmaj xxunk was xxunk wanted : it 's what i went to see this film for , but the director xxunk robs us of that . \n",
              " \n",
              "  xxmaj david xxmaj xxunk , writing in xxmaj the xxmaj australian ( xxunk ) observed that while xxmaj part1 was \" uneven \" , xxmaj part2 actually \" goes rapidly downhill \" from there , \" xxunk xxmaj che 's final xxunk in xxmaj xxunk in xxunk detail \" , which \" ... feels almost unbearably slow and turgid \" . \n",
              " \n",
              "  xxmaj che : xxmaj the xxmaj xxunk aka xxmaj part2 is certainly no xxunk for xxmaj xxunk , painting it a picture of misery and xxunk . xxmaj the entire second half is only xxunk by the aforementioned humour , and the dramatic -- yet tragic -- capture and execution of the film 's subject . \n",
              " \n",
              "  xxmaj the rest of this xxunk cinema xxunk is just confusing , irritating misery -- xxunk , for a xxmaj soderbergh film , to be avoided at all costs . xxmaj it is bound to break the hearts of all who know even just a xxunk about the xxunk / 10 )"
            ]
          },
          "metadata": {
            "tags": []
          },
          "execution_count": 133
        }
      ]
    },
    {
      "cell_type": "code",
      "metadata": {
        "id": "OHWfQNDtPdYn",
        "colab_type": "code",
        "colab": {
          "base_uri": "https://localhost:8080/",
          "height": 53
        },
        "outputId": "168955fa-25b1-41c2-8d4b-6fff73c90fbe"
      },
      "source": [
        "trn_term_doc[:,v.stoi['soderbergh']]"
      ],
      "execution_count": 134,
      "outputs": [
        {
          "output_type": "execute_result",
          "data": {
            "text/plain": [
              "<800x1 sparse matrix of type '<class 'numpy.int64'>'\n",
              "\twith 1 stored elements in Compressed Sparse Row format>"
            ]
          },
          "metadata": {
            "tags": []
          },
          "execution_count": 134
        }
      ]
    },
    {
      "cell_type": "code",
      "metadata": {
        "scrolled": true,
        "id": "kHP0glcoPdYn",
        "colab_type": "code",
        "colab": {
          "base_uri": "https://localhost:8080/",
          "height": 196
        },
        "outputId": "3a715d07-6290-4c3b-e3bf-14d8c24eeeb7"
      },
      "source": [
        "[v.itos[k] for k in smallest]"
      ],
      "execution_count": 135,
      "outputs": [
        {
          "output_type": "execute_result",
          "data": {
            "text/plain": [
              "['worst',\n",
              " 'crap',\n",
              " 'crater',\n",
              " 'porn',\n",
              " 'disappointment',\n",
              " 'dog',\n",
              " 'vargas',\n",
              " 'naschy',\n",
              " 'fuqua',\n",
              " 'soderbergh']"
            ]
          },
          "metadata": {
            "tags": []
          },
          "execution_count": 135
        }
      ]
    },
    {
      "cell_type": "markdown",
      "metadata": {
        "id": "mJ-a92S9PdYo",
        "colab_type": "text"
      },
      "source": [
        "### Continuing with Naive Bayes"
      ]
    },
    {
      "cell_type": "code",
      "metadata": {
        "id": "SWqB4wanPdYq",
        "colab_type": "code",
        "colab": {
          "base_uri": "https://localhost:8080/",
          "height": 35
        },
        "outputId": "b59346e5-f6e5-49b3-9517-d28965b42dd8"
      },
      "source": [
        "(y.items==positive).mean(), (y.items==negative).mean()"
      ],
      "execution_count": 136,
      "outputs": [
        {
          "output_type": "execute_result",
          "data": {
            "text/plain": [
              "(0.47875, 0.52125)"
            ]
          },
          "metadata": {
            "tags": []
          },
          "execution_count": 136
        }
      ]
    },
    {
      "cell_type": "code",
      "metadata": {
        "id": "tX8CQPOGPdYq",
        "colab_type": "code",
        "colab": {}
      },
      "source": [
        "b = np.log((y.items==positive).mean() / (y.items==negative).mean())"
      ],
      "execution_count": 0,
      "outputs": []
    },
    {
      "cell_type": "code",
      "metadata": {
        "id": "xhV7h8qiPdYr",
        "colab_type": "code",
        "colab": {}
      },
      "source": [
        "preds = (val_term_doc @ r + b) > 0"
      ],
      "execution_count": 0,
      "outputs": []
    },
    {
      "cell_type": "code",
      "metadata": {
        "id": "Cst7ZuJ6PdYt",
        "colab_type": "code",
        "colab": {
          "base_uri": "https://localhost:8080/",
          "height": 35
        },
        "outputId": "2fe7319d-c488-4549-b7fc-55ce9272d269"
      },
      "source": [
        "(preds == val_y.items).mean()"
      ],
      "execution_count": 139,
      "outputs": [
        {
          "output_type": "execute_result",
          "data": {
            "text/plain": [
              "0.645"
            ]
          },
          "metadata": {
            "tags": []
          },
          "execution_count": 139
        }
      ]
    },
    {
      "cell_type": "markdown",
      "metadata": {
        "id": "HsHXqguzPdYu",
        "colab_type": "text"
      },
      "source": [
        "## Switching to full data set"
      ]
    },
    {
      "cell_type": "markdown",
      "metadata": {
        "id": "1LZZQOHfPdYu",
        "colab_type": "text"
      },
      "source": [
        "Now that we have our approach working on a smaller sample of the data, we can try using it on the full dataset."
      ]
    },
    {
      "cell_type": "markdown",
      "metadata": {
        "id": "dDwqDu2KPdYv",
        "colab_type": "text"
      },
      "source": [
        "### Download data and process"
      ]
    },
    {
      "cell_type": "code",
      "metadata": {
        "id": "i4GHDXYsPdYv",
        "colab_type": "code",
        "colab": {
          "base_uri": "https://localhost:8080/",
          "height": 142
        },
        "outputId": "bfa627de-99b8-4729-cecb-cce0ccb72a01"
      },
      "source": [
        "path = untar_data(URLs.IMDB)\n",
        "path.ls()"
      ],
      "execution_count": 140,
      "outputs": [
        {
          "output_type": "execute_result",
          "data": {
            "text/plain": [
              "[PosixPath('/root/.fastai/data/imdb/imdb.vocab'),\n",
              " PosixPath('/root/.fastai/data/imdb/unsup'),\n",
              " PosixPath('/root/.fastai/data/imdb/train'),\n",
              " PosixPath('/root/.fastai/data/imdb/test'),\n",
              " PosixPath('/root/.fastai/data/imdb/README'),\n",
              " PosixPath('/root/.fastai/data/imdb/tmp_lm'),\n",
              " PosixPath('/root/.fastai/data/imdb/tmp_clas')]"
            ]
          },
          "metadata": {
            "tags": []
          },
          "execution_count": 140
        }
      ]
    },
    {
      "cell_type": "code",
      "metadata": {
        "id": "vmrx6vl2PdYx",
        "colab_type": "code",
        "colab": {
          "base_uri": "https://localhost:8080/",
          "height": 88
        },
        "outputId": "76b23855-d570-4e22-b728-1a68ea80743e"
      },
      "source": [
        "(path/'train').ls()"
      ],
      "execution_count": 141,
      "outputs": [
        {
          "output_type": "execute_result",
          "data": {
            "text/plain": [
              "[PosixPath('/root/.fastai/data/imdb/train/unsupBow.feat'),\n",
              " PosixPath('/root/.fastai/data/imdb/train/pos'),\n",
              " PosixPath('/root/.fastai/data/imdb/train/labeledBow.feat'),\n",
              " PosixPath('/root/.fastai/data/imdb/train/neg')]"
            ]
          },
          "metadata": {
            "tags": []
          },
          "execution_count": 141
        }
      ]
    },
    {
      "cell_type": "code",
      "metadata": {
        "id": "BrqS-CK3PdYy",
        "colab_type": "code",
        "colab": {}
      },
      "source": [
        "reviews_full = (TextList.from_folder(path)\n",
        "             #grab all the text files in path\n",
        "             .split_by_folder(valid='test')\n",
        "             #split by train and valid folder (that only keeps 'train' and 'test' so no need to filter)\n",
        "             .label_from_folder(classes=['neg', 'pos']))\n",
        "             #label them all with their folders"
      ],
      "execution_count": 0,
      "outputs": []
    },
    {
      "cell_type": "code",
      "metadata": {
        "id": "Io-pSJGDPdYy",
        "colab_type": "code",
        "colab": {
          "base_uri": "https://localhost:8080/",
          "height": 35
        },
        "outputId": "10cec762-85b9-4001-e70a-1a6fad5c855b"
      },
      "source": [
        "len(reviews_full.train), len(reviews_full.valid)"
      ],
      "execution_count": 143,
      "outputs": [
        {
          "output_type": "execute_result",
          "data": {
            "text/plain": [
              "(25000, 25000)"
            ]
          },
          "metadata": {
            "tags": []
          },
          "execution_count": 143
        }
      ]
    },
    {
      "cell_type": "markdown",
      "metadata": {
        "id": "yTUlCp_dPdY0",
        "colab_type": "text"
      },
      "source": [
        "We will store the vocab in a variable `v` since we will be using it frequently:"
      ]
    },
    {
      "cell_type": "code",
      "metadata": {
        "id": "62KrTSguPdY0",
        "colab_type": "code",
        "colab": {}
      },
      "source": [
        "v = reviews_full.vocab"
      ],
      "execution_count": 0,
      "outputs": []
    },
    {
      "cell_type": "code",
      "metadata": {
        "scrolled": true,
        "id": "th0kV-r_PdY2",
        "colab_type": "code",
        "colab": {
          "base_uri": "https://localhost:8080/",
          "height": 196
        },
        "outputId": "c633dbb5-be1a-470d-a68c-3c6a7687e9c7"
      },
      "source": [
        "v.itos[100:110]"
      ],
      "execution_count": 145,
      "outputs": [
        {
          "output_type": "execute_result",
          "data": {
            "text/plain": [
              "['bad',\n",
              " 'people',\n",
              " 'will',\n",
              " 'other',\n",
              " 'also',\n",
              " 'into',\n",
              " 'first',\n",
              " 'because',\n",
              " 'great',\n",
              " 'how']"
            ]
          },
          "metadata": {
            "tags": []
          },
          "execution_count": 145
        }
      ]
    },
    {
      "cell_type": "code",
      "metadata": {
        "id": "LWrCsLesPdY3",
        "colab_type": "code",
        "colab": {
          "base_uri": "https://localhost:8080/",
          "height": 53
        },
        "outputId": "638c4215-b4d5-4644-9b1e-b428f6c5de5f"
      },
      "source": [
        "%%time\n",
        "val_term_doc = get_term_doc_matrix(reviews_full.valid.x, len(reviews_full.vocab.itos))"
      ],
      "execution_count": 146,
      "outputs": [
        {
          "output_type": "stream",
          "text": [
            "CPU times: user 4.86 s, sys: 180 ms, total: 5.04 s\n",
            "Wall time: 4.85 s\n"
          ],
          "name": "stdout"
        }
      ]
    },
    {
      "cell_type": "code",
      "metadata": {
        "scrolled": true,
        "id": "Ak9Iwk6xPdY5",
        "colab_type": "code",
        "colab": {
          "base_uri": "https://localhost:8080/",
          "height": 53
        },
        "outputId": "842b27ad-4b5e-4328-cc56-0c1477c98cea"
      },
      "source": [
        "%%time\n",
        "trn_term_doc = get_term_doc_matrix(reviews_full.train.x, len(reviews_full.vocab.itos))"
      ],
      "execution_count": 147,
      "outputs": [
        {
          "output_type": "stream",
          "text": [
            "CPU times: user 5.27 s, sys: 262 ms, total: 5.53 s\n",
            "Wall time: 5.19 s\n"
          ],
          "name": "stdout"
        }
      ]
    },
    {
      "cell_type": "markdown",
      "metadata": {
        "id": "tps38zyDPdY6",
        "colab_type": "text"
      },
      "source": [
        "### Save data"
      ]
    },
    {
      "cell_type": "markdown",
      "metadata": {
        "id": "HqsjZ1TYPdY6",
        "colab_type": "text"
      },
      "source": [
        "That was slow.  Let's save our matrices for faster loading next time:"
      ]
    },
    {
      "cell_type": "code",
      "metadata": {
        "id": "UhKipym7PdY7",
        "colab_type": "code",
        "colab": {}
      },
      "source": [
        "scipy.sparse.save_npz(\"trn_term_doc.npz\", trn_term_doc)"
      ],
      "execution_count": 0,
      "outputs": []
    },
    {
      "cell_type": "code",
      "metadata": {
        "id": "5JPkaYcpPdY7",
        "colab_type": "code",
        "colab": {}
      },
      "source": [
        "scipy.sparse.save_npz(\"val_term_doc.npz\", val_term_doc)"
      ],
      "execution_count": 0,
      "outputs": []
    },
    {
      "cell_type": "markdown",
      "metadata": {
        "id": "yij9yAuoPdY9",
        "colab_type": "text"
      },
      "source": [
        "When storing data like this, always make sure it's included in your .gitignore file"
      ]
    },
    {
      "cell_type": "markdown",
      "metadata": {
        "id": "hs3Yq0mFPdY9",
        "colab_type": "text"
      },
      "source": [
        "In the future, we'll just be able to load our data:"
      ]
    },
    {
      "cell_type": "code",
      "metadata": {
        "id": "WoLZCeWMPdY-",
        "colab_type": "code",
        "colab": {}
      },
      "source": [
        "trn_term_doc = scipy.sparse.load_npz(\"trn_term_doc.npz\")\n",
        "val_term_doc = scipy.sparse.load_npz(\"val_term_doc.npz\")"
      ],
      "execution_count": 0,
      "outputs": []
    },
    {
      "cell_type": "markdown",
      "metadata": {
        "id": "ZmnUD08rPdY_",
        "colab_type": "text"
      },
      "source": [
        "### Naive Bayes on full dataset"
      ]
    },
    {
      "cell_type": "code",
      "metadata": {
        "id": "MunlK5kePdY_",
        "colab_type": "code",
        "colab": {}
      },
      "source": [
        "x=trn_term_doc\n",
        "y=reviews_full.train.y\n",
        "\n",
        "val_y = reviews_full.valid.y.items"
      ],
      "execution_count": 0,
      "outputs": []
    },
    {
      "cell_type": "code",
      "metadata": {
        "id": "zYIqh0SVPdZB",
        "colab_type": "code",
        "colab": {
          "base_uri": "https://localhost:8080/",
          "height": 53
        },
        "outputId": "cfe56dc9-651d-453c-9b47-86ca922c631c"
      },
      "source": [
        "x"
      ],
      "execution_count": 152,
      "outputs": [
        {
          "output_type": "execute_result",
          "data": {
            "text/plain": [
              "<25000x38456 sparse matrix of type '<class 'numpy.int64'>'\n",
              "\twith 3716265 stored elements in Compressed Sparse Row format>"
            ]
          },
          "metadata": {
            "tags": []
          },
          "execution_count": 152
        }
      ]
    },
    {
      "cell_type": "code",
      "metadata": {
        "id": "jzy7wuEXPdZC",
        "colab_type": "code",
        "colab": {}
      },
      "source": [
        "positive = y.c2i['pos']\n",
        "negative = y.c2i['neg']"
      ],
      "execution_count": 0,
      "outputs": []
    },
    {
      "cell_type": "code",
      "metadata": {
        "id": "PDkxT_6tPdZD",
        "colab_type": "code",
        "colab": {}
      },
      "source": [
        "p0 = np.squeeze(np.asarray(x[y.items==negative].sum(0)))\n",
        "p1 = np.squeeze(np.asarray(x[y.items==positive].sum(0)))"
      ],
      "execution_count": 0,
      "outputs": []
    },
    {
      "cell_type": "code",
      "metadata": {
        "id": "AAeyHZFXPdZE",
        "colab_type": "code",
        "colab": {
          "base_uri": "https://localhost:8080/",
          "height": 53
        },
        "outputId": "779b14e2-6c65-44c4-9025-86da995b1c8d"
      },
      "source": [
        "p1[:20]"
      ],
      "execution_count": 155,
      "outputs": [
        {
          "output_type": "execute_result",
          "data": {
            "text/plain": [
              "array([ 28450,      0,  12500,      0,      0, 342619,  20464,   1338,      7, 173122, 138000, 143763,  89570,  83404,\n",
              "        76828,  66715,  58510,  47896,  50177,  40451], dtype=int64)"
            ]
          },
          "metadata": {
            "tags": []
          },
          "execution_count": 155
        }
      ]
    },
    {
      "cell_type": "markdown",
      "metadata": {
        "id": "Szcj4ktjPdZF",
        "colab_type": "text"
      },
      "source": [
        "### Data exploration: negative to positive ratios"
      ]
    },
    {
      "cell_type": "markdown",
      "metadata": {
        "id": "s-htKLu_PdZG",
        "colab_type": "text"
      },
      "source": [
        "I was curious about the ratio of times a given word appears in negative reviews to times it occurs in positive reviews.  Bigger ratios (> 1) mean the word is indicative of a negative review, and smaller ratios (< 1) mean it is indicative of a positive review."
      ]
    },
    {
      "cell_type": "code",
      "metadata": {
        "id": "1ptNsH4KPdZG",
        "colab_type": "code",
        "colab": {}
      },
      "source": [
        "def neg_pos_given_word(word):\n",
        "    print(p0[v.stoi[word]]/p1[v.stoi[word]])"
      ],
      "execution_count": 0,
      "outputs": []
    },
    {
      "cell_type": "code",
      "metadata": {
        "id": "Z3l7Up3qPdZH",
        "colab_type": "code",
        "colab": {
          "base_uri": "https://localhost:8080/",
          "height": 35
        },
        "outputId": "31aa5b7e-72b9-4484-f49b-7ec5a4b982b5"
      },
      "source": [
        "neg_pos_given_word('hated')"
      ],
      "execution_count": 157,
      "outputs": [
        {
          "output_type": "stream",
          "text": [
            "2.051546391752577\n"
          ],
          "name": "stdout"
        }
      ]
    },
    {
      "cell_type": "code",
      "metadata": {
        "id": "WEKMZfVyPdZL",
        "colab_type": "code",
        "colab": {
          "base_uri": "https://localhost:8080/",
          "height": 35
        },
        "outputId": "cc8bcbc3-dc21-4926-9c12-7ef583c3bc1f"
      },
      "source": [
        "neg_pos_given_word('liked')"
      ],
      "execution_count": 158,
      "outputs": [
        {
          "output_type": "stream",
          "text": [
            "0.6424702058504875\n"
          ],
          "name": "stdout"
        }
      ]
    },
    {
      "cell_type": "code",
      "metadata": {
        "id": "9e03wupuPdZO",
        "colab_type": "code",
        "colab": {
          "base_uri": "https://localhost:8080/",
          "height": 35
        },
        "outputId": "7f86a16c-0779-4e84-f157-e9dd647b270c"
      },
      "source": [
        "neg_pos_given_word('loved')"
      ],
      "execution_count": 159,
      "outputs": [
        {
          "output_type": "stream",
          "text": [
            "0.3139963167587477\n"
          ],
          "name": "stdout"
        }
      ]
    },
    {
      "cell_type": "code",
      "metadata": {
        "id": "aGpr8HG_PdZP",
        "colab_type": "code",
        "colab": {
          "base_uri": "https://localhost:8080/",
          "height": 35
        },
        "outputId": "c61f819f-49c1-4f3e-f49c-42385a8bd9da"
      },
      "source": [
        "neg_pos_given_word('best')"
      ],
      "execution_count": 160,
      "outputs": [
        {
          "output_type": "stream",
          "text": [
            "0.48538961038961037\n"
          ],
          "name": "stdout"
        }
      ]
    },
    {
      "cell_type": "code",
      "metadata": {
        "id": "c66OgtypPdZQ",
        "colab_type": "code",
        "colab": {
          "base_uri": "https://localhost:8080/",
          "height": 35
        },
        "outputId": "b60419e2-b7a5-456e-8516-eb5630da0178"
      },
      "source": [
        "neg_pos_given_word('worst')"
      ],
      "execution_count": 161,
      "outputs": [
        {
          "output_type": "stream",
          "text": [
            "9.837301587301587\n"
          ],
          "name": "stdout"
        }
      ]
    },
    {
      "cell_type": "code",
      "metadata": {
        "id": "C4_xvHyBPdZR",
        "colab_type": "code",
        "colab": {}
      },
      "source": [
        "pr1 = (p1+1) / ((y.items==positive).sum() + 1)\n",
        "pr0 = (p0+1) / ((y.items==negative).sum() + 1)"
      ],
      "execution_count": 0,
      "outputs": []
    },
    {
      "cell_type": "code",
      "metadata": {
        "id": "9YVS4zodPdZR",
        "colab_type": "code",
        "colab": {}
      },
      "source": [
        "r = np.log(pr1/pr0)"
      ],
      "execution_count": 0,
      "outputs": []
    },
    {
      "cell_type": "code",
      "metadata": {
        "id": "c6y5QXQ_PdZT",
        "colab_type": "code",
        "colab": {
          "base_uri": "https://localhost:8080/",
          "height": 35
        },
        "outputId": "c6385cab-dae5-4fc4-8b47-44d19faf3c0a"
      },
      "source": [
        "r[v.stoi['hated']]"
      ],
      "execution_count": 164,
      "outputs": [
        {
          "output_type": "execute_result",
          "data": {
            "text/plain": [
              "-0.7133498878774648"
            ]
          },
          "metadata": {
            "tags": []
          },
          "execution_count": 164
        }
      ]
    },
    {
      "cell_type": "code",
      "metadata": {
        "id": "0lM1Wfa4PdZU",
        "colab_type": "code",
        "colab": {
          "base_uri": "https://localhost:8080/",
          "height": 35
        },
        "outputId": "583c9f60-8bd1-4d42-a081-e5a35dd700e1"
      },
      "source": [
        "r[v.stoi['loved']]"
      ],
      "execution_count": 165,
      "outputs": [
        {
          "output_type": "execute_result",
          "data": {
            "text/plain": [
              "1.1563661500586044"
            ]
          },
          "metadata": {
            "tags": []
          },
          "execution_count": 165
        }
      ]
    },
    {
      "cell_type": "code",
      "metadata": {
        "id": "2jl98L89PdZV",
        "colab_type": "code",
        "colab": {
          "base_uri": "https://localhost:8080/",
          "height": 35
        },
        "outputId": "d13a9a8e-b257-4853-d33e-3737d5a7730e"
      },
      "source": [
        "r[v.stoi['worst']]"
      ],
      "execution_count": 166,
      "outputs": [
        {
          "output_type": "execute_result",
          "data": {
            "text/plain": [
              "-2.2826243504315076"
            ]
          },
          "metadata": {
            "tags": []
          },
          "execution_count": 166
        }
      ]
    },
    {
      "cell_type": "code",
      "metadata": {
        "id": "ASFiPCKKPdZX",
        "colab_type": "code",
        "colab": {
          "base_uri": "https://localhost:8080/",
          "height": 35
        },
        "outputId": "07e63a9f-8e1b-4075-f858-1ac36aad067a"
      },
      "source": [
        "r[v.stoi['best']]"
      ],
      "execution_count": 167,
      "outputs": [
        {
          "output_type": "execute_result",
          "data": {
            "text/plain": [
              "0.7225576052173609"
            ]
          },
          "metadata": {
            "tags": []
          },
          "execution_count": 167
        }
      ]
    },
    {
      "cell_type": "markdown",
      "metadata": {
        "id": "U-ZhX_qDPdZY",
        "colab_type": "text"
      },
      "source": [
        "### Back to Naive Bayes"
      ]
    },
    {
      "cell_type": "code",
      "metadata": {
        "id": "vyfVyM1MPdZZ",
        "colab_type": "code",
        "colab": {}
      },
      "source": [
        "negative = y.c2i['neg']\n",
        "p0 = np.squeeze(np.asarray(x[y.items==negative].sum(0)))"
      ],
      "execution_count": 0,
      "outputs": []
    },
    {
      "cell_type": "markdown",
      "metadata": {
        "id": "xnahb3rvPdZa",
        "colab_type": "text"
      },
      "source": [
        "Since we have equal numbers of positive and negative reviews in this data set, b is 0."
      ]
    },
    {
      "cell_type": "code",
      "metadata": {
        "id": "2jy1a6q0PdZa",
        "colab_type": "code",
        "colab": {}
      },
      "source": [
        "pr1 = (p1+1) / ((y.items==positive).sum() + 1)\n",
        "pr0 = (p0+1) / ((y.items==negative).sum() + 1)"
      ],
      "execution_count": 0,
      "outputs": []
    },
    {
      "cell_type": "code",
      "metadata": {
        "id": "YRRFyessPdZm",
        "colab_type": "code",
        "colab": {
          "base_uri": "https://localhost:8080/",
          "height": 35
        },
        "outputId": "0408bd17-7dad-45fb-8b6b-039ceeac0915"
      },
      "source": [
        "b = np.log((y.items==positive).mean() / (y.items==negative).mean()); b"
      ],
      "execution_count": 170,
      "outputs": [
        {
          "output_type": "execute_result",
          "data": {
            "text/plain": [
              "0.0"
            ]
          },
          "metadata": {
            "tags": []
          },
          "execution_count": 170
        }
      ]
    },
    {
      "cell_type": "code",
      "metadata": {
        "id": "7vHmLqviPdZn",
        "colab_type": "code",
        "colab": {}
      },
      "source": [
        "preds = (val_term_doc @ r + b) > 0"
      ],
      "execution_count": 0,
      "outputs": []
    },
    {
      "cell_type": "markdown",
      "metadata": {
        "id": "WL8MquxLPdZn",
        "colab_type": "text"
      },
      "source": [
        "Our accuracy is 80% for the full data set:"
      ]
    },
    {
      "cell_type": "code",
      "metadata": {
        "id": "PJEt3NvfPdZn",
        "colab_type": "code",
        "colab": {
          "base_uri": "https://localhost:8080/",
          "height": 35
        },
        "outputId": "258e1063-1621-4b63-c05f-2ea25953533e"
      },
      "source": [
        "(preds == val_y).mean()"
      ],
      "execution_count": 172,
      "outputs": [
        {
          "output_type": "execute_result",
          "data": {
            "text/plain": [
              "0.8084"
            ]
          },
          "metadata": {
            "tags": []
          },
          "execution_count": 172
        }
      ]
    },
    {
      "cell_type": "markdown",
      "metadata": {
        "id": "ELJnSqyfPdZp",
        "colab_type": "text"
      },
      "source": [
        "### Binarized Naive Bayes"
      ]
    },
    {
      "cell_type": "markdown",
      "metadata": {
        "id": "Mvjc17wgPdZp",
        "colab_type": "text"
      },
      "source": [
        "Maybe it only matters whether a word is in the review or not (not the frequency of the word):"
      ]
    },
    {
      "cell_type": "code",
      "metadata": {
        "id": "2qhyBsyRPdZp",
        "colab_type": "code",
        "colab": {}
      },
      "source": [
        "x=trn_term_doc.sign()\n",
        "y=reviews_full.train.y"
      ],
      "execution_count": 0,
      "outputs": []
    },
    {
      "cell_type": "code",
      "metadata": {
        "id": "9sv_K1L3PdZr",
        "colab_type": "code",
        "colab": {
          "base_uri": "https://localhost:8080/",
          "height": 178
        },
        "outputId": "f627c9e0-ef0d-41fd-e47c-f68fe95a8129"
      },
      "source": [
        "x.todense()[:10,:10]"
      ],
      "execution_count": 174,
      "outputs": [
        {
          "output_type": "execute_result",
          "data": {
            "text/plain": [
              "matrix([[0, 0, 1, 0, ..., 1, 0, 0, 1],\n",
              "        [0, 0, 1, 0, ..., 0, 0, 0, 1],\n",
              "        [1, 0, 1, 0, ..., 0, 0, 0, 1],\n",
              "        [1, 0, 1, 0, ..., 1, 0, 0, 1],\n",
              "        ...,\n",
              "        [0, 0, 1, 0, ..., 0, 0, 0, 1],\n",
              "        [0, 0, 1, 0, ..., 0, 0, 0, 1],\n",
              "        [1, 0, 1, 0, ..., 1, 0, 0, 1],\n",
              "        [1, 0, 1, 0, ..., 1, 0, 0, 1]])"
            ]
          },
          "metadata": {
            "tags": []
          },
          "execution_count": 174
        }
      ]
    },
    {
      "cell_type": "code",
      "metadata": {
        "id": "_BCBI4QAPdZs",
        "colab_type": "code",
        "colab": {}
      },
      "source": [
        "negative = y.c2i['neg']\n",
        "positive = y.c2i['pos']"
      ],
      "execution_count": 0,
      "outputs": []
    },
    {
      "cell_type": "code",
      "metadata": {
        "id": "ynnOadboPdZt",
        "colab_type": "code",
        "colab": {}
      },
      "source": [
        "p1 = np.squeeze(np.asarray(x[y.items==positive].sum(0)))\n",
        "p0 = np.squeeze(np.asarray(x[y.items==negative].sum(0)))"
      ],
      "execution_count": 0,
      "outputs": []
    },
    {
      "cell_type": "code",
      "metadata": {
        "id": "j7mUU8owPdZu",
        "colab_type": "code",
        "colab": {}
      },
      "source": [
        "pr1 = (p1+1) / ((y.items==positive).sum() + 1)\n",
        "pr0 = (p0+1) / ((y.items==negative).sum() + 1)"
      ],
      "execution_count": 0,
      "outputs": []
    },
    {
      "cell_type": "code",
      "metadata": {
        "id": "sPUgS5nePdZw",
        "colab_type": "code",
        "colab": {}
      },
      "source": [
        "r = np.log(pr1/pr0)\n",
        "b = np.log((y.items==positive).mean() / (y.items==negative).mean())\n",
        "\n",
        "preds = (val_term_doc.sign() @ r + b) > 0"
      ],
      "execution_count": 0,
      "outputs": []
    },
    {
      "cell_type": "code",
      "metadata": {
        "id": "G-0GtMHaPdZx",
        "colab_type": "code",
        "colab": {
          "base_uri": "https://localhost:8080/",
          "height": 35
        },
        "outputId": "8583f1c9-246f-4e09-913e-8c671cc118d3"
      },
      "source": [
        "(preds==val_y).mean()"
      ],
      "execution_count": 179,
      "outputs": [
        {
          "output_type": "execute_result",
          "data": {
            "text/plain": [
              "0.82924"
            ]
          },
          "metadata": {
            "tags": []
          },
          "execution_count": 179
        }
      ]
    },
    {
      "cell_type": "markdown",
      "metadata": {
        "id": "Wty8PKyZPdZy",
        "colab_type": "text"
      },
      "source": [
        "## Logistic regression"
      ]
    },
    {
      "cell_type": "markdown",
      "metadata": {
        "id": "ATeIXb77PdZy",
        "colab_type": "text"
      },
      "source": [
        "Here is how we can fit logistic regression where the features are the unigrams."
      ]
    },
    {
      "cell_type": "code",
      "metadata": {
        "id": "62q7W-MkPdZy",
        "colab_type": "code",
        "colab": {}
      },
      "source": [
        "from sklearn.linear_model import LogisticRegression"
      ],
      "execution_count": 0,
      "outputs": []
    },
    {
      "cell_type": "code",
      "metadata": {
        "id": "3tSbJmPVPdZ1",
        "colab_type": "code",
        "colab": {
          "base_uri": "https://localhost:8080/",
          "height": 71
        },
        "outputId": "8310607a-bed8-4d8c-f908-1f5df89b6d92"
      },
      "source": [
        "m = LogisticRegression(C=0.1, dual=True)\n",
        "m.fit(x, y.items.astype(int))\n",
        "preds = m.predict(val_term_doc)\n",
        "(preds==val_y).mean()"
      ],
      "execution_count": 181,
      "outputs": [
        {
          "output_type": "stream",
          "text": [
            "/usr/local/lib/python3.6/dist-packages/sklearn/linear_model/logistic.py:432: FutureWarning: Default solver will be changed to 'lbfgs' in 0.22. Specify a solver to silence this warning.\n",
            "  FutureWarning)\n"
          ],
          "name": "stderr"
        },
        {
          "output_type": "execute_result",
          "data": {
            "text/plain": [
              "0.7704"
            ]
          },
          "metadata": {
            "tags": []
          },
          "execution_count": 181
        }
      ]
    },
    {
      "cell_type": "markdown",
      "metadata": {
        "id": "Ym7glJfLPdZ1",
        "colab_type": "text"
      },
      "source": [
        "And the binarized version:"
      ]
    },
    {
      "cell_type": "code",
      "metadata": {
        "id": "Xyyd1tO7PdZ2",
        "colab_type": "code",
        "colab": {
          "base_uri": "https://localhost:8080/",
          "height": 71
        },
        "outputId": "1aeb09dc-1623-45d6-9055-63323ae25cc3"
      },
      "source": [
        "m = LogisticRegression(C=0.1, dual=True)\n",
        "m.fit(trn_term_doc.sign(), y.items.astype(int))\n",
        "preds = m.predict(val_term_doc.sign())\n",
        "(preds==val_y).mean()"
      ],
      "execution_count": 182,
      "outputs": [
        {
          "output_type": "stream",
          "text": [
            "/usr/local/lib/python3.6/dist-packages/sklearn/linear_model/logistic.py:432: FutureWarning: Default solver will be changed to 'lbfgs' in 0.22. Specify a solver to silence this warning.\n",
            "  FutureWarning)\n"
          ],
          "name": "stderr"
        },
        {
          "output_type": "execute_result",
          "data": {
            "text/plain": [
              "0.88536"
            ]
          },
          "metadata": {
            "tags": []
          },
          "execution_count": 182
        }
      ]
    },
    {
      "cell_type": "markdown",
      "metadata": {
        "id": "1kkVTtl-PdZ3",
        "colab_type": "text"
      },
      "source": [
        "# Trigram with NB features"
      ]
    },
    {
      "cell_type": "markdown",
      "metadata": {
        "id": "Ez3ghvOOPdZ4",
        "colab_type": "text"
      },
      "source": [
        "Our next model is a version of logistic regression with Naive Bayes features described [here](https://www.aclweb.org/anthology/P12-2018). For every document we compute binarized features as described above, but this time we use bigrams and trigrams too. Each feature is a log-count ratio. A logistic regression model is then trained to predict sentiment."
      ]
    },
    {
      "cell_type": "markdown",
      "metadata": {
        "id": "V906-ANbPdZ4",
        "colab_type": "text"
      },
      "source": [
        "### ngrams"
      ]
    },
    {
      "cell_type": "markdown",
      "metadata": {
        "id": "efgKz5bmPdZ5",
        "colab_type": "text"
      },
      "source": [
        "An n-gram is a contiguous sequence of n items (where the items can be characters, syllables, or words).  A 1-gram is a unigram, a 2-gram is a bigram, and a 3-gram is a trigram.\n",
        "\n",
        "Here, we are referring to sequences of words. So examples of bigrams include \"the dog\", \"said that\", and \"can't you\"."
      ]
    },
    {
      "cell_type": "code",
      "metadata": {
        "id": "P7ukEh1gPdZ5",
        "colab_type": "code",
        "colab": {}
      },
      "source": [
        "path = untar_data(URLs.IMDB_SAMPLE)"
      ],
      "execution_count": 0,
      "outputs": []
    },
    {
      "cell_type": "code",
      "metadata": {
        "id": "UfcKN8d7PdZ5",
        "colab_type": "code",
        "colab": {}
      },
      "source": [
        "movie_reviews = (TextList.from_csv(path, 'texts.csv', cols='text')\n",
        "                .split_from_df(col=2)\n",
        "                .label_from_df(cols=0))"
      ],
      "execution_count": 0,
      "outputs": []
    },
    {
      "cell_type": "code",
      "metadata": {
        "id": "u6p0rbG9PdZ6",
        "colab_type": "code",
        "colab": {}
      },
      "source": [
        "v = movie_reviews.vocab.itos"
      ],
      "execution_count": 0,
      "outputs": []
    },
    {
      "cell_type": "code",
      "metadata": {
        "id": "p-Z_nQrCPdZ7",
        "colab_type": "code",
        "colab": {}
      },
      "source": [
        "vocab_len = len(v)"
      ],
      "execution_count": 0,
      "outputs": []
    },
    {
      "cell_type": "markdown",
      "metadata": {
        "id": "jxGGAJZ9PdZ8",
        "colab_type": "text"
      },
      "source": [
        "## Our data"
      ]
    },
    {
      "cell_type": "markdown",
      "metadata": {
        "id": "yRAsoNyDPdZ8",
        "colab_type": "text"
      },
      "source": [
        "### Create train matrix"
      ]
    },
    {
      "cell_type": "code",
      "metadata": {
        "id": "eaVAmKA9PdZ8",
        "colab_type": "code",
        "colab": {}
      },
      "source": [
        "min_n=1\n",
        "max_n=3\n",
        "\n",
        "j_indices = []\n",
        "indptr = []\n",
        "values = []\n",
        "indptr.append(0)\n",
        "num_tokens = vocab_len\n",
        "\n",
        "itongram = dict()\n",
        "ngramtoi = dict()"
      ],
      "execution_count": 0,
      "outputs": []
    },
    {
      "cell_type": "markdown",
      "metadata": {
        "id": "_CcvQyNlPdZ-",
        "colab_type": "text"
      },
      "source": [
        "We will iterate through the sequences of words to create our n-grams:"
      ]
    },
    {
      "cell_type": "code",
      "metadata": {
        "id": "bD62CvxLPdZ_",
        "colab_type": "code",
        "colab": {}
      },
      "source": [
        "for i, doc in enumerate(movie_reviews.train.x):\n",
        "    feature_counter = Counter(doc.data)\n",
        "    j_indices.extend(feature_counter.keys())\n",
        "    values.extend(feature_counter.values())\n",
        "    this_doc_ngrams = list()\n",
        "\n",
        "    m = 0\n",
        "    for n in range(min_n, max_n + 1):\n",
        "        for k in range(vocab_len - n + 1):\n",
        "            ngram = doc.data[k: k + n]\n",
        "            if str(ngram) not in ngramtoi:\n",
        "                if len(ngram)==1:\n",
        "                    num = ngram[0]\n",
        "                    ngramtoi[str(ngram)] = num\n",
        "                    itongram[num] = ngram\n",
        "                else:\n",
        "                    ngramtoi[str(ngram)] = num_tokens\n",
        "                    itongram[num_tokens] = ngram\n",
        "                    num_tokens += 1\n",
        "            this_doc_ngrams.append(ngramtoi[str(ngram)])\n",
        "            m += 1\n",
        "\n",
        "    ngram_counter = Counter(this_doc_ngrams)\n",
        "    j_indices.extend(ngram_counter.keys())\n",
        "    values.extend(ngram_counter.values())\n",
        "    indptr.append(len(j_indices))"
      ],
      "execution_count": 0,
      "outputs": []
    },
    {
      "cell_type": "markdown",
      "metadata": {
        "id": "qcyK6NM9PdaB",
        "colab_type": "text"
      },
      "source": [
        "Using dictionaries to convert between indices and strings (in this case, our n-grams) is a common & useful approach!  Here, we have `itongram` (index to n-gram) and `ngramtoi` (n-gram to index)."
      ]
    },
    {
      "cell_type": "code",
      "metadata": {
        "id": "n5XVRpc7PdaB",
        "colab_type": "code",
        "colab": {}
      },
      "source": [
        "train_ngram_doc_matrix = scipy.sparse.csr_matrix((values, j_indices, indptr),\n",
        "                                   shape=(len(indptr) - 1, len(ngramtoi)),\n",
        "                                   dtype=int)"
      ],
      "execution_count": 0,
      "outputs": []
    },
    {
      "cell_type": "code",
      "metadata": {
        "id": "J_PE7PbaPdaC",
        "colab_type": "code",
        "colab": {
          "base_uri": "https://localhost:8080/",
          "height": 53
        },
        "outputId": "a05e055a-08f0-47de-8634-318371255495"
      },
      "source": [
        "train_ngram_doc_matrix"
      ],
      "execution_count": 190,
      "outputs": [
        {
          "output_type": "execute_result",
          "data": {
            "text/plain": [
              "<800x260374 sparse matrix of type '<class 'numpy.int64'>'\n",
              "\twith 678885 stored elements in Compressed Sparse Row format>"
            ]
          },
          "metadata": {
            "tags": []
          },
          "execution_count": 190
        }
      ]
    },
    {
      "cell_type": "markdown",
      "metadata": {
        "id": "8es2mtlxPdaD",
        "colab_type": "text"
      },
      "source": [
        "### Looking at our data"
      ]
    },
    {
      "cell_type": "code",
      "metadata": {
        "id": "4EByYDcVPdaD",
        "colab_type": "code",
        "colab": {
          "base_uri": "https://localhost:8080/",
          "height": 35
        },
        "outputId": "a1edf9f1-3fe1-4373-ea41-f827da391553"
      },
      "source": [
        "len(ngramtoi), len(itongram)"
      ],
      "execution_count": 191,
      "outputs": [
        {
          "output_type": "execute_result",
          "data": {
            "text/plain": [
              "(260374, 260374)"
            ]
          },
          "metadata": {
            "tags": []
          },
          "execution_count": 191
        }
      ]
    },
    {
      "cell_type": "code",
      "metadata": {
        "id": "8XVidpM0PdaE",
        "colab_type": "code",
        "colab": {
          "base_uri": "https://localhost:8080/",
          "height": 35
        },
        "outputId": "7750648d-dfd2-4a73-989d-1160e1f63e2d"
      },
      "source": [
        "itongram[20005]"
      ],
      "execution_count": 192,
      "outputs": [
        {
          "output_type": "execute_result",
          "data": {
            "text/plain": [
              "array([ 15,   9, 710])"
            ]
          },
          "metadata": {
            "tags": []
          },
          "execution_count": 192
        }
      ]
    },
    {
      "cell_type": "code",
      "metadata": {
        "id": "vc_kfNVpPdaF",
        "colab_type": "code",
        "colab": {
          "base_uri": "https://localhost:8080/",
          "height": 35
        },
        "outputId": "1f8aac2a-87c7-44bd-911a-c7635bdb6ef4"
      },
      "source": [
        "ngramtoi[str(np.array([15,   9,  710]))]"
      ],
      "execution_count": 194,
      "outputs": [
        {
          "output_type": "execute_result",
          "data": {
            "text/plain": [
              "20005"
            ]
          },
          "metadata": {
            "tags": []
          },
          "execution_count": 194
        }
      ]
    },
    {
      "cell_type": "code",
      "metadata": {
        "id": "hZ073newPdaG",
        "colab_type": "code",
        "colab": {
          "base_uri": "https://localhost:8080/",
          "height": 35
        },
        "outputId": "ab3828e6-f41b-4e3f-f9d6-8d32ef570468"
      },
      "source": [
        "itongram[100000]"
      ],
      "execution_count": 195,
      "outputs": [
        {
          "output_type": "execute_result",
          "data": {
            "text/plain": [
              "array([1140,   33])"
            ]
          },
          "metadata": {
            "tags": []
          },
          "execution_count": 195
        }
      ]
    },
    {
      "cell_type": "code",
      "metadata": {
        "id": "SQSROzLQPdaH",
        "colab_type": "code",
        "colab": {
          "base_uri": "https://localhost:8080/",
          "height": 35
        },
        "outputId": "a4cac600-8404-4322-b91b-d049300e71fc"
      },
      "source": [
        "v[1140], v[33]"
      ],
      "execution_count": 196,
      "outputs": [
        {
          "output_type": "execute_result",
          "data": {
            "text/plain": [
              "('hate', 'you')"
            ]
          },
          "metadata": {
            "tags": []
          },
          "execution_count": 196
        }
      ]
    },
    {
      "cell_type": "code",
      "metadata": {
        "id": "RqwKH9OVPdaI",
        "colab_type": "code",
        "colab": {
          "base_uri": "https://localhost:8080/",
          "height": 35
        },
        "outputId": "054b574f-e3eb-434d-82bc-71b3cb473623"
      },
      "source": [
        "itongram[100010]"
      ],
      "execution_count": 197,
      "outputs": [
        {
          "output_type": "execute_result",
          "data": {
            "text/plain": [
              "array([5430,   10])"
            ]
          },
          "metadata": {
            "tags": []
          },
          "execution_count": 197
        }
      ]
    },
    {
      "cell_type": "code",
      "metadata": {
        "id": "GDlDxIxAPdaI",
        "colab_type": "code",
        "colab": {
          "base_uri": "https://localhost:8080/",
          "height": 35
        },
        "outputId": "6ef386b6-caa6-4de4-b36f-dcdc15e900fa"
      },
      "source": [
        "v[5430], v[10]"
      ],
      "execution_count": 198,
      "outputs": [
        {
          "output_type": "execute_result",
          "data": {
            "text/plain": [
              "('photographer', '.')"
            ]
          },
          "metadata": {
            "tags": []
          },
          "execution_count": 198
        }
      ]
    },
    {
      "cell_type": "code",
      "metadata": {
        "id": "IJl_DSBUPdaK",
        "colab_type": "code",
        "colab": {
          "base_uri": "https://localhost:8080/",
          "height": 35
        },
        "outputId": "a989da44-fb51-43e7-9703-6da6ca5206c5"
      },
      "source": [
        "itongram[6116]"
      ],
      "execution_count": 199,
      "outputs": [
        {
          "output_type": "execute_result",
          "data": {
            "text/plain": [
              "array([ 85, 191,  64])"
            ]
          },
          "metadata": {
            "tags": []
          },
          "execution_count": 199
        }
      ]
    },
    {
      "cell_type": "code",
      "metadata": {
        "id": "dfrvMLRaPdaL",
        "colab_type": "code",
        "colab": {
          "base_uri": "https://localhost:8080/",
          "height": 35
        },
        "outputId": "e620f3d4-e20f-4f58-bafc-3f19abef3124"
      },
      "source": [
        "v[94], v[36], v[84]"
      ],
      "execution_count": 200,
      "outputs": [
        {
          "output_type": "execute_result",
          "data": {
            "text/plain": [
              "('will', '(', 'which')"
            ]
          },
          "metadata": {
            "tags": []
          },
          "execution_count": 200
        }
      ]
    },
    {
      "cell_type": "code",
      "metadata": {
        "id": "YTOaDMiKPdaL",
        "colab_type": "code",
        "colab": {
          "base_uri": "https://localhost:8080/",
          "height": 35
        },
        "outputId": "3121c371-2a32-4297-f228-937e6ab99639"
      },
      "source": [
        "itongram[6119]"
      ],
      "execution_count": 201,
      "outputs": [
        {
          "output_type": "execute_result",
          "data": {
            "text/plain": [
              "array([ 935,    0, 2738])"
            ]
          },
          "metadata": {
            "tags": []
          },
          "execution_count": 201
        }
      ]
    },
    {
      "cell_type": "code",
      "metadata": {
        "id": "1xnTGAp8PdaN",
        "colab_type": "code",
        "colab": {
          "base_uri": "https://localhost:8080/",
          "height": 35
        },
        "outputId": "b7ef9bc1-ea17-45ee-9561-fff5574c796d"
      },
      "source": [
        "v[935], v[0], v[2738]"
      ],
      "execution_count": 202,
      "outputs": [
        {
          "output_type": "execute_result",
          "data": {
            "text/plain": [
              "('usual', 'xxunk', 'lovable')"
            ]
          },
          "metadata": {
            "tags": []
          },
          "execution_count": 202
        }
      ]
    },
    {
      "cell_type": "code",
      "metadata": {
        "id": "8MBRcIxdPdaO",
        "colab_type": "code",
        "colab": {
          "base_uri": "https://localhost:8080/",
          "height": 35
        },
        "outputId": "3176ed28-e4f0-4dee-fc73-622011ed7230"
      },
      "source": [
        "itongram[80000]"
      ],
      "execution_count": 203,
      "outputs": [
        {
          "output_type": "execute_result",
          "data": {
            "text/plain": [
              "array([2594,   14, 2618])"
            ]
          },
          "metadata": {
            "tags": []
          },
          "execution_count": 203
        }
      ]
    },
    {
      "cell_type": "code",
      "metadata": {
        "id": "3qTtnWcZPdaO",
        "colab_type": "code",
        "colab": {
          "base_uri": "https://localhost:8080/",
          "height": 35
        },
        "outputId": "6eab5fd6-e941-40bc-e83a-8c784058b2d7"
      },
      "source": [
        "v[805], v[11], v[1202]"
      ],
      "execution_count": 204,
      "outputs": [
        {
          "output_type": "execute_result",
          "data": {
            "text/plain": [
              "('dialog', ',', 'political')"
            ]
          },
          "metadata": {
            "tags": []
          },
          "execution_count": 204
        }
      ]
    },
    {
      "cell_type": "markdown",
      "metadata": {
        "id": "NMjzEBcJPdaP",
        "colab_type": "text"
      },
      "source": [
        "### Create valid matrix"
      ]
    },
    {
      "cell_type": "code",
      "metadata": {
        "id": "JJun23cxPdaQ",
        "colab_type": "code",
        "colab": {}
      },
      "source": [
        "j_indices = []\n",
        "indptr = []\n",
        "values = []\n",
        "indptr.append(0)\n",
        "\n",
        "for i, doc in enumerate(movie_reviews.valid.x):\n",
        "    feature_counter = Counter(doc.data)\n",
        "    j_indices.extend(feature_counter.keys())\n",
        "    values.extend(feature_counter.values())\n",
        "    this_doc_ngrams = list()\n",
        "\n",
        "    m = 0\n",
        "    for n in range(min_n, max_n + 1):\n",
        "        for k in range(vocab_len - n + 1):\n",
        "            ngram = doc.data[k: k + n]\n",
        "            if str(ngram) in ngramtoi:\n",
        "                this_doc_ngrams.append(ngramtoi[str(ngram)])\n",
        "            m += 1\n",
        "\n",
        "    ngram_counter = Counter(this_doc_ngrams)\n",
        "    j_indices.extend(ngram_counter.keys())\n",
        "    values.extend(ngram_counter.values())\n",
        "    indptr.append(len(j_indices))"
      ],
      "execution_count": 0,
      "outputs": []
    },
    {
      "cell_type": "code",
      "metadata": {
        "id": "Z2u7IxtWPdaR",
        "colab_type": "code",
        "colab": {}
      },
      "source": [
        "valid_ngram_doc_matrix = scipy.sparse.csr_matrix((values, j_indices, indptr),\n",
        "                                   shape=(len(indptr) - 1, len(ngramtoi)),\n",
        "                                   dtype=int)"
      ],
      "execution_count": 0,
      "outputs": []
    },
    {
      "cell_type": "code",
      "metadata": {
        "id": "Hh8gxmBCPdaS",
        "colab_type": "code",
        "colab": {
          "base_uri": "https://localhost:8080/",
          "height": 53
        },
        "outputId": "18a04f07-1b0a-4269-8e74-156bac718e15"
      },
      "source": [
        "valid_ngram_doc_matrix"
      ],
      "execution_count": 208,
      "outputs": [
        {
          "output_type": "execute_result",
          "data": {
            "text/plain": [
              "<200x260374 sparse matrix of type '<class 'numpy.int64'>'\n",
              "\twith 121600 stored elements in Compressed Sparse Row format>"
            ]
          },
          "metadata": {
            "tags": []
          },
          "execution_count": 208
        }
      ]
    },
    {
      "cell_type": "code",
      "metadata": {
        "id": "Xn3jnhvGPdaS",
        "colab_type": "code",
        "colab": {
          "base_uri": "https://localhost:8080/",
          "height": 53
        },
        "outputId": "90b6e396-1bc9-4a42-d1a9-de987cf52828"
      },
      "source": [
        "train_ngram_doc_matrix"
      ],
      "execution_count": 209,
      "outputs": [
        {
          "output_type": "execute_result",
          "data": {
            "text/plain": [
              "<800x260374 sparse matrix of type '<class 'numpy.int64'>'\n",
              "\twith 678885 stored elements in Compressed Sparse Row format>"
            ]
          },
          "metadata": {
            "tags": []
          },
          "execution_count": 209
        }
      ]
    },
    {
      "cell_type": "markdown",
      "metadata": {
        "id": "_vl2rh1cPdaU",
        "colab_type": "text"
      },
      "source": [
        "### Save data"
      ]
    },
    {
      "cell_type": "code",
      "metadata": {
        "id": "nJ9QwQ_JPdaU",
        "colab_type": "code",
        "colab": {}
      },
      "source": [
        "scipy.sparse.save_npz(\"train_ngram_matrix.npz\", train_ngram_doc_matrix)"
      ],
      "execution_count": 0,
      "outputs": []
    },
    {
      "cell_type": "code",
      "metadata": {
        "id": "qYNGR4b7PdaV",
        "colab_type": "code",
        "colab": {}
      },
      "source": [
        "scipy.sparse.save_npz(\"valid_ngram_matrix.npz\", valid_ngram_doc_matrix)"
      ],
      "execution_count": 0,
      "outputs": []
    },
    {
      "cell_type": "code",
      "metadata": {
        "id": "yIZHjurlPdaW",
        "colab_type": "code",
        "colab": {}
      },
      "source": [
        "with open('itongram.pickle', 'wb') as handle:\n",
        "    pickle.dump(itongram, handle, protocol=pickle.HIGHEST_PROTOCOL)\n",
        "    \n",
        "with open('ngramtoi.pickle', 'wb') as handle:\n",
        "    pickle.dump(itongram, handle, protocol=pickle.HIGHEST_PROTOCOL)"
      ],
      "execution_count": 0,
      "outputs": []
    },
    {
      "cell_type": "markdown",
      "metadata": {
        "heading_collapsed": true,
        "id": "j3Slx602PdaW",
        "colab_type": "text"
      },
      "source": [
        "### Load data"
      ]
    },
    {
      "cell_type": "code",
      "metadata": {
        "hidden": true,
        "id": "dZRLgGBLPdaX",
        "colab_type": "code",
        "colab": {}
      },
      "source": [
        "train_ngram_doc_matrix = scipy.sparse.load_npz(\"train_ngram_matrix.npz\")\n",
        "valid_ngram_doc_matrix = scipy.sparse.load_npz(\"valid_ngram_matrix.npz\")"
      ],
      "execution_count": 0,
      "outputs": []
    },
    {
      "cell_type": "code",
      "metadata": {
        "hidden": true,
        "id": "IS3MSxyQPdaY",
        "colab_type": "code",
        "colab": {}
      },
      "source": [
        "with open('itongram.pickle', 'rb') as handle:\n",
        "    b = pickle.load(handle)\n",
        "    \n",
        "with open('ngramtoi.pickle', 'rb') as handle:\n",
        "    b = pickle.load(handle)"
      ],
      "execution_count": 0,
      "outputs": []
    },
    {
      "cell_type": "markdown",
      "metadata": {
        "id": "2bRIR344PdaY",
        "colab_type": "text"
      },
      "source": [
        "## Naive Bayes"
      ]
    },
    {
      "cell_type": "code",
      "metadata": {
        "id": "jfH6iz4LPdaZ",
        "colab_type": "code",
        "colab": {}
      },
      "source": [
        "x=train_ngram_doc_matrix\n",
        "y=movie_reviews.train.y"
      ],
      "execution_count": 0,
      "outputs": []
    },
    {
      "cell_type": "code",
      "metadata": {
        "id": "AZU6EvepPdaa",
        "colab_type": "code",
        "colab": {}
      },
      "source": [
        "positive = y.c2i['positive']\n",
        "negative = y.c2i['negative']"
      ],
      "execution_count": 0,
      "outputs": []
    },
    {
      "cell_type": "code",
      "metadata": {
        "id": "T_x2gyWfPdab",
        "colab_type": "code",
        "colab": {
          "base_uri": "https://localhost:8080/",
          "height": 53
        },
        "outputId": "23f7f36e-efd1-4e1a-c27f-7a465e91b657"
      },
      "source": [
        "x"
      ],
      "execution_count": 217,
      "outputs": [
        {
          "output_type": "execute_result",
          "data": {
            "text/plain": [
              "<800x260374 sparse matrix of type '<class 'numpy.int64'>'\n",
              "\twith 678885 stored elements in Compressed Sparse Row format>"
            ]
          },
          "metadata": {
            "tags": []
          },
          "execution_count": 217
        }
      ]
    },
    {
      "cell_type": "code",
      "metadata": {
        "id": "Z1A4LF-2Pdac",
        "colab_type": "code",
        "colab": {}
      },
      "source": [
        "k=260428"
      ],
      "execution_count": 0,
      "outputs": []
    },
    {
      "cell_type": "code",
      "metadata": {
        "id": "UZ-bMlH8Pdac",
        "colab_type": "code",
        "colab": {}
      },
      "source": [
        "pos = (y.items == positive)[:k]\n",
        "neg = (y.items == negative)[:k]"
      ],
      "execution_count": 0,
      "outputs": []
    },
    {
      "cell_type": "code",
      "metadata": {
        "id": "PByvZzCUPdae",
        "colab_type": "code",
        "colab": {}
      },
      "source": [
        "xx = x[:k]"
      ],
      "execution_count": 0,
      "outputs": []
    },
    {
      "cell_type": "code",
      "metadata": {
        "id": "rd3NZ-e8Pdae",
        "colab_type": "code",
        "colab": {}
      },
      "source": [
        "valid_labels = [o == positive for o in movie_reviews.valid.y.items]"
      ],
      "execution_count": 0,
      "outputs": []
    },
    {
      "cell_type": "code",
      "metadata": {
        "id": "6fl1wgusPdaf",
        "colab_type": "code",
        "colab": {}
      },
      "source": [
        "p0 = np.squeeze(np.array(xx[neg].sum(0)))\n",
        "p1 = np.squeeze(np.array(xx[pos].sum(0)))"
      ],
      "execution_count": 0,
      "outputs": []
    },
    {
      "cell_type": "code",
      "metadata": {
        "id": "eGyCtkRZPdah",
        "colab_type": "code",
        "colab": {}
      },
      "source": [
        "pr1 = (p1+1) / ((y.items==positive).sum() + 1)\n",
        "pr0 = (p0+1) / ((y.items==negative).sum() + 1)"
      ],
      "execution_count": 0,
      "outputs": []
    },
    {
      "cell_type": "code",
      "metadata": {
        "id": "VUC7P8xaPdah",
        "colab_type": "code",
        "colab": {}
      },
      "source": [
        "r = np.log(pr1/pr0)"
      ],
      "execution_count": 0,
      "outputs": []
    },
    {
      "cell_type": "code",
      "metadata": {
        "id": "B2RL-2ZhPdai",
        "colab_type": "code",
        "colab": {}
      },
      "source": [
        "b = np.log((y.items==positive).mean() / (y.items==negative).mean())"
      ],
      "execution_count": 0,
      "outputs": []
    },
    {
      "cell_type": "code",
      "metadata": {
        "id": "dcJ4VhqXPdak",
        "colab_type": "code",
        "colab": {
          "base_uri": "https://localhost:8080/",
          "height": 35
        },
        "outputId": "513d19dc-1904-4ac5-960e-b60ef4967da8"
      },
      "source": [
        "b"
      ],
      "execution_count": 226,
      "outputs": [
        {
          "output_type": "execute_result",
          "data": {
            "text/plain": [
              "-0.08505123261815539"
            ]
          },
          "metadata": {
            "tags": []
          },
          "execution_count": 226
        }
      ]
    },
    {
      "cell_type": "code",
      "metadata": {
        "id": "e6TqfkoQPdal",
        "colab_type": "code",
        "colab": {
          "base_uri": "https://localhost:8080/",
          "height": 35
        },
        "outputId": "4790cf5c-1bf6-48ac-f5fd-e97da18b1865"
      },
      "source": [
        "(y.items==positive).mean(), (y.items==negative).mean()"
      ],
      "execution_count": 227,
      "outputs": [
        {
          "output_type": "execute_result",
          "data": {
            "text/plain": [
              "(0.47875, 0.52125)"
            ]
          },
          "metadata": {
            "tags": []
          },
          "execution_count": 227
        }
      ]
    },
    {
      "cell_type": "code",
      "metadata": {
        "id": "WIJvBL8PPdam",
        "colab_type": "code",
        "colab": {}
      },
      "source": [
        "pre_preds = valid_ngram_doc_matrix @ r.T + b"
      ],
      "execution_count": 0,
      "outputs": []
    },
    {
      "cell_type": "code",
      "metadata": {
        "id": "HFZzvqVdPdan",
        "colab_type": "code",
        "colab": {
          "base_uri": "https://localhost:8080/",
          "height": 35
        },
        "outputId": "47e19d31-2c0e-4fdb-81ff-9a310d31b287"
      },
      "source": [
        "pre_preds"
      ],
      "execution_count": 229,
      "outputs": [
        {
          "output_type": "execute_result",
          "data": {
            "text/plain": [
              "array([ 111.020137,   39.70486 ,    1.3799  ,   14.603319, ...,   81.603164,   -5.777097, -152.193113,  120.194783])"
            ]
          },
          "metadata": {
            "tags": []
          },
          "execution_count": 229
        }
      ]
    },
    {
      "cell_type": "code",
      "metadata": {
        "id": "7craIN9lPdan",
        "colab_type": "code",
        "colab": {}
      },
      "source": [
        "preds = pre_preds.T>0"
      ],
      "execution_count": 0,
      "outputs": []
    },
    {
      "cell_type": "code",
      "metadata": {
        "id": "62f7c-XdPdap",
        "colab_type": "code",
        "colab": {
          "base_uri": "https://localhost:8080/",
          "height": 35
        },
        "outputId": "f83a0f01-82f3-48ca-9252-fb15ab6ed2d2"
      },
      "source": [
        "preds[:10]"
      ],
      "execution_count": 231,
      "outputs": [
        {
          "output_type": "execute_result",
          "data": {
            "text/plain": [
              "array([ True,  True,  True,  True, False,  True,  True, False,  True, False])"
            ]
          },
          "metadata": {
            "tags": []
          },
          "execution_count": 231
        }
      ]
    },
    {
      "cell_type": "code",
      "metadata": {
        "id": "ST21UscAPdap",
        "colab_type": "code",
        "colab": {}
      },
      "source": [
        "valid_labels = [o == positive for o in movie_reviews.valid.y.items]"
      ],
      "execution_count": 0,
      "outputs": []
    },
    {
      "cell_type": "code",
      "metadata": {
        "id": "girSkoOiPdaq",
        "colab_type": "code",
        "colab": {
          "base_uri": "https://localhost:8080/",
          "height": 35
        },
        "outputId": "0d9ab1d0-f341-4a3b-a056-88bd4f40bd48"
      },
      "source": [
        "(preds == valid_labels).mean()"
      ],
      "execution_count": 233,
      "outputs": [
        {
          "output_type": "execute_result",
          "data": {
            "text/plain": [
              "0.76"
            ]
          },
          "metadata": {
            "tags": []
          },
          "execution_count": 233
        }
      ]
    },
    {
      "cell_type": "markdown",
      "metadata": {
        "id": "WvjyIpL7Pdar",
        "colab_type": "text"
      },
      "source": [
        "### Binarized Naive Bayes"
      ]
    },
    {
      "cell_type": "code",
      "metadata": {
        "id": "DQ5f9AHzPdas",
        "colab_type": "code",
        "colab": {}
      },
      "source": [
        "trn_x_ngram_sgn = train_ngram_doc_matrix.sign()\n",
        "val_x_ngram_sgn = valid_ngram_doc_matrix.sign()"
      ],
      "execution_count": 0,
      "outputs": []
    },
    {
      "cell_type": "code",
      "metadata": {
        "id": "Gbdz3fXWPdau",
        "colab_type": "code",
        "colab": {}
      },
      "source": [
        "xx = trn_x_ngram_sgn[:k]"
      ],
      "execution_count": 0,
      "outputs": []
    },
    {
      "cell_type": "code",
      "metadata": {
        "id": "alBTdKC6Pdau",
        "colab_type": "code",
        "colab": {}
      },
      "source": [
        "p0 = np.squeeze(np.array(xx[neg].sum(0)))\n",
        "p1 = np.squeeze(np.array(xx[pos].sum(0)))"
      ],
      "execution_count": 0,
      "outputs": []
    },
    {
      "cell_type": "code",
      "metadata": {
        "id": "uOM3vNwmPdav",
        "colab_type": "code",
        "colab": {}
      },
      "source": [
        "pr1 = (p1+1) / ((y.items==positive).sum() + 1)\n",
        "pr0 = (p0+1) / ((y.items==negative).sum() + 1)"
      ],
      "execution_count": 0,
      "outputs": []
    },
    {
      "cell_type": "code",
      "metadata": {
        "id": "3IQAjs7KPdaw",
        "colab_type": "code",
        "colab": {}
      },
      "source": [
        "r = np.log(pr1/pr0)\n",
        "b = np.log((y.items==positive).mean() / (y.items==negative).mean())\n",
        "\n",
        "pre_preds = val_x_ngram_sgn @ r.T + b\n",
        "preds = pre_preds.T>0"
      ],
      "execution_count": 0,
      "outputs": []
    },
    {
      "cell_type": "code",
      "metadata": {
        "id": "p6UdkU_bPdax",
        "colab_type": "code",
        "colab": {
          "base_uri": "https://localhost:8080/",
          "height": 35
        },
        "outputId": "91c5a3c9-7ef3-46c8-a44c-c326ea8818c0"
      },
      "source": [
        "(preds==valid_labels).mean()"
      ],
      "execution_count": 239,
      "outputs": [
        {
          "output_type": "execute_result",
          "data": {
            "text/plain": [
              "0.735"
            ]
          },
          "metadata": {
            "tags": []
          },
          "execution_count": 239
        }
      ]
    },
    {
      "cell_type": "markdown",
      "metadata": {
        "id": "O0lpRVljPday",
        "colab_type": "text"
      },
      "source": [
        "## Logistic Regression"
      ]
    },
    {
      "cell_type": "markdown",
      "metadata": {
        "id": "Qf-TWDloPdaz",
        "colab_type": "text"
      },
      "source": [
        "Here we fit regularized logistic regression where the features are the trigrams."
      ]
    },
    {
      "cell_type": "code",
      "metadata": {
        "id": "MJIWpTrMPdaz",
        "colab_type": "code",
        "colab": {}
      },
      "source": [
        "from sklearn.linear_model import LogisticRegression"
      ],
      "execution_count": 0,
      "outputs": []
    },
    {
      "cell_type": "markdown",
      "metadata": {
        "id": "Xqirv_AxPdaz",
        "colab_type": "text"
      },
      "source": [
        "### use CountVectorizer to compare"
      ]
    },
    {
      "cell_type": "code",
      "metadata": {
        "id": "vFcx37S8Pda0",
        "colab_type": "code",
        "colab": {}
      },
      "source": [
        "from sklearn.feature_extraction.text import CountVectorizer"
      ],
      "execution_count": 0,
      "outputs": []
    },
    {
      "cell_type": "code",
      "metadata": {
        "id": "MAZQxwoNPda0",
        "colab_type": "code",
        "colab": {}
      },
      "source": [
        "veczr = CountVectorizer(ngram_range=(1,3), preprocessor=noop, tokenizer=noop, max_features=800000)"
      ],
      "execution_count": 0,
      "outputs": []
    },
    {
      "cell_type": "code",
      "metadata": {
        "id": "p0m0rc_3Pda1",
        "colab_type": "code",
        "colab": {}
      },
      "source": [
        "docs = movie_reviews.train.x"
      ],
      "execution_count": 0,
      "outputs": []
    },
    {
      "cell_type": "code",
      "metadata": {
        "id": "G7xIRGkYPda2",
        "colab_type": "code",
        "colab": {}
      },
      "source": [
        "train_words = [[docs.vocab.itos[o] for o in doc.data] for doc in movie_reviews.train.x]"
      ],
      "execution_count": 0,
      "outputs": []
    },
    {
      "cell_type": "code",
      "metadata": {
        "id": "QcSWBK2tPda3",
        "colab_type": "code",
        "colab": {}
      },
      "source": [
        "valid_words = [[docs.vocab.itos[o] for o in doc.data] for doc in movie_reviews.valid.x]"
      ],
      "execution_count": 0,
      "outputs": []
    },
    {
      "cell_type": "code",
      "metadata": {
        "id": "6audznBjPda4",
        "colab_type": "code",
        "colab": {
          "base_uri": "https://localhost:8080/",
          "height": 0
        },
        "outputId": "b9e5402d-8fbc-4e4e-b12b-09a79154df54"
      },
      "source": [
        "%%time\n",
        "train_ngram_doc = veczr.fit_transform(train_words)"
      ],
      "execution_count": 246,
      "outputs": [
        {
          "output_type": "stream",
          "text": [
            "CPU times: user 1.72 s, sys: 11.7 ms, total: 1.73 s\n",
            "Wall time: 1.74 s\n"
          ],
          "name": "stdout"
        }
      ]
    },
    {
      "cell_type": "code",
      "metadata": {
        "scrolled": true,
        "id": "W2BLYtJ5Pda5",
        "colab_type": "code",
        "colab": {
          "base_uri": "https://localhost:8080/",
          "height": 0
        },
        "outputId": "05ecfb47-6699-44a5-ff38-dd405c3705da"
      },
      "source": [
        "train_ngram_doc"
      ],
      "execution_count": 247,
      "outputs": [
        {
          "output_type": "execute_result",
          "data": {
            "text/plain": [
              "<800x260373 sparse matrix of type '<class 'numpy.int64'>'\n",
              "\twith 565680 stored elements in Compressed Sparse Row format>"
            ]
          },
          "metadata": {
            "tags": []
          },
          "execution_count": 247
        }
      ]
    },
    {
      "cell_type": "code",
      "metadata": {
        "scrolled": true,
        "id": "cpOKcxoEPda5",
        "colab_type": "code",
        "colab": {
          "base_uri": "https://localhost:8080/",
          "height": 0
        },
        "outputId": "d536307d-eab5-4e42-8210-4eddada1a1cc"
      },
      "source": [
        "veczr.vocabulary_"
      ],
      "execution_count": 248,
      "outputs": [
        {
          "output_type": "execute_result",
          "data": {
            "text/plain": [
              "{'xxbos': 235215,\n",
              " 'xxmaj': 235589,\n",
              " 'un': 217511,\n",
              " '-': 14660,\n",
              " 'xxunk': 247952,\n",
              " 'believable': 50420,\n",
              " '!': 593,\n",
              " 'meg': 134438,\n",
              " 'ryan': 171955,\n",
              " 'does': 72621,\n",
              " \"n't\": 141191,\n",
              " 'even': 78281,\n",
              " 'look': 129009,\n",
              " 'her': 101674,\n",
              " 'usual': 219401,\n",
              " 'lovable': 129862,\n",
              " 'self': 175864,\n",
              " 'in': 110056,\n",
              " 'this': 206619,\n",
              " ',': 8800,\n",
              " 'which': 228198,\n",
              " 'normally': 145182,\n",
              " 'makes': 131546,\n",
              " 'me': 133646,\n",
              " 'forgive': 88662,\n",
              " 'shallow': 177158,\n",
              " 'acting': 27682,\n",
              " '.': 16836,\n",
              " 'hard': 97855,\n",
              " 'to': 210364,\n",
              " 'believe': 50457,\n",
              " 'she': 177306,\n",
              " 'was': 222309,\n",
              " 'the': 193798,\n",
              " 'producer': 164483,\n",
              " 'on': 152319,\n",
              " 'dog': 72926,\n",
              " 'plus': 162127,\n",
              " 'kevin': 122604,\n",
              " 'kline': 123461,\n",
              " ':': 20359,\n",
              " 'what': 226855,\n",
              " 'kind': 123231,\n",
              " 'of': 147512,\n",
              " 'suicide': 188353,\n",
              " 'trip': 215808,\n",
              " 'has': 98123,\n",
              " 'his': 103526,\n",
              " 'career': 58691,\n",
              " 'been': 49234,\n",
              " '?': 20987,\n",
              " '...': 18342,\n",
              " 'finally': 85368,\n",
              " 'directed': 71212,\n",
              " 'by': 56556,\n",
              " 'guy': 96410,\n",
              " 'who': 229023,\n",
              " 'did': 70468,\n",
              " 'big': 51595,\n",
              " 'must': 140407,\n",
              " 'be': 47412,\n",
              " 'a': 21275,\n",
              " 'replay': 169611,\n",
              " 'jonestown': 121174,\n",
              " 'hollywood': 105183,\n",
              " 'style': 187604,\n",
              " 'xxbos xxmaj': 235357,\n",
              " 'xxmaj un': 246383,\n",
              " 'un -': 217512,\n",
              " '- xxunk': 16422,\n",
              " 'xxunk -': 248697,\n",
              " '- believable': 14848,\n",
              " 'believable !': 50421,\n",
              " '! xxmaj': 756,\n",
              " 'xxmaj meg': 242183,\n",
              " 'meg xxmaj': 134443,\n",
              " 'xxmaj ryan': 244138,\n",
              " 'ryan does': 171964,\n",
              " \"does n't\": 72753,\n",
              " \"n't even\": 141520,\n",
              " 'even look': 78521,\n",
              " 'look her': 129094,\n",
              " 'her usual': 102320,\n",
              " 'usual xxunk': 219433,\n",
              " 'xxunk lovable': 252438,\n",
              " 'lovable self': 129871,\n",
              " 'self in': 175889,\n",
              " 'in this': 111780,\n",
              " 'this ,': 206638,\n",
              " ', which': 13810,\n",
              " 'which normally': 228470,\n",
              " 'normally makes': 145185,\n",
              " 'makes me': 131625,\n",
              " 'me forgive': 133781,\n",
              " 'forgive her': 88663,\n",
              " 'her shallow': 102226,\n",
              " 'shallow xxunk': 177173,\n",
              " 'xxunk acting': 249119,\n",
              " 'acting xxunk': 27924,\n",
              " 'xxunk .': 248797,\n",
              " '. xxmaj': 17369,\n",
              " 'xxmaj hard': 239904,\n",
              " 'hard to': 97911,\n",
              " 'to believe': 210897,\n",
              " 'believe she': 50526,\n",
              " 'she was': 177750,\n",
              " 'was the': 223683,\n",
              " 'the producer': 199538,\n",
              " 'producer on': 164495,\n",
              " 'on this': 153091,\n",
              " 'this dog': 206958,\n",
              " 'dog .': 72927,\n",
              " 'xxmaj plus': 243513,\n",
              " 'plus xxmaj': 162147,\n",
              " 'xxmaj kevin': 241336,\n",
              " 'kevin xxmaj': 122609,\n",
              " 'xxmaj kline': 241432,\n",
              " 'kline :': 123467,\n",
              " ': what': 20589,\n",
              " 'what kind': 227108,\n",
              " 'kind of': 123254,\n",
              " 'of suicide': 149874,\n",
              " 'suicide trip': 188375,\n",
              " 'trip has': 215819,\n",
              " 'has his': 98393,\n",
              " 'his career': 103704,\n",
              " 'career been': 58707,\n",
              " 'been on': 49445,\n",
              " 'on ?': 152368,\n",
              " '? xxmaj': 21111,\n",
              " 'xxmaj xxunk': 247309,\n",
              " 'xxunk ...': 248843,\n",
              " '... xxmaj': 18626,\n",
              " 'xxunk !': 247957,\n",
              " '! !': 608,\n",
              " 'xxmaj finally': 239054,\n",
              " 'finally this': 85430,\n",
              " 'this was': 208162,\n",
              " 'was directed': 222764,\n",
              " 'directed by': 71225,\n",
              " 'by the': 56975,\n",
              " 'the guy': 197076,\n",
              " 'guy who': 96501,\n",
              " 'who did': 229220,\n",
              " 'did xxmaj': 70743,\n",
              " 'xxmaj big': 236722,\n",
              " 'big xxmaj': 51745,\n",
              " 'xxunk ?': 248967,\n",
              " 'xxmaj must': 242513,\n",
              " 'must be': 140420,\n",
              " 'be a': 47457,\n",
              " 'a replay': 24646,\n",
              " 'replay of': 169614,\n",
              " 'of xxmaj': 150909,\n",
              " 'xxmaj jonestown': 241138,\n",
              " 'jonestown -': 121175,\n",
              " '- hollywood': 15339,\n",
              " 'hollywood style': 105256,\n",
              " 'style .': 187615,\n",
              " 'xxbos xxmaj un': 235543,\n",
              " 'xxmaj un -': 246384,\n",
              " 'un - xxunk': 217515,\n",
              " '- xxunk -': 16428,\n",
              " 'xxunk - believable': 248707,\n",
              " '- believable !': 14849,\n",
              " 'believable ! xxmaj': 50422,\n",
              " '! xxmaj meg': 813,\n",
              " 'xxmaj meg xxmaj': 242186,\n",
              " 'meg xxmaj ryan': 134445,\n",
              " 'xxmaj ryan does': 244143,\n",
              " \"ryan does n't\": 171965,\n",
              " \"does n't even\": 72768,\n",
              " \"n't even look\": 141536,\n",
              " 'even look her': 78523,\n",
              " 'look her usual': 129095,\n",
              " 'her usual xxunk': 102322,\n",
              " 'usual xxunk lovable': 219436,\n",
              " 'xxunk lovable self': 252439,\n",
              " 'lovable self in': 129872,\n",
              " 'self in this': 175890,\n",
              " 'in this ,': 111782,\n",
              " 'this , which': 206664,\n",
              " ', which normally': 13842,\n",
              " 'which normally makes': 228471,\n",
              " 'normally makes me': 145186,\n",
              " 'makes me forgive': 131629,\n",
              " 'me forgive her': 133782,\n",
              " 'forgive her shallow': 88664,\n",
              " 'her shallow xxunk': 102227,\n",
              " 'shallow xxunk acting': 177174,\n",
              " 'xxunk acting xxunk': 249121,\n",
              " 'acting xxunk .': 27925,\n",
              " 'xxunk . xxmaj': 248831,\n",
              " '. xxmaj hard': 17667,\n",
              " 'xxmaj hard to': 239905,\n",
              " 'hard to believe': 97918,\n",
              " 'to believe she': 210904,\n",
              " 'believe she was': 50527,\n",
              " 'she was the': 177783,\n",
              " 'was the producer': 223725,\n",
              " 'the producer on': 199540,\n",
              " 'producer on this': 164496,\n",
              " 'on this dog': 153096,\n",
              " 'this dog .': 206959,\n",
              " 'dog . xxmaj': 72929,\n",
              " '. xxmaj plus': 17911,\n",
              " 'xxmaj plus xxmaj': 243517,\n",
              " 'plus xxmaj kevin': 162150,\n",
              " 'xxmaj kevin xxmaj': 241339,\n",
              " 'kevin xxmaj kline': 122611,\n",
              " 'xxmaj kline :': 241435,\n",
              " 'kline : what': 123468,\n",
              " ': what kind': 20590,\n",
              " 'what kind of': 227109,\n",
              " 'kind of suicide': 123303,\n",
              " 'of suicide trip': 149876,\n",
              " 'suicide trip has': 188376,\n",
              " 'trip has his': 215820,\n",
              " 'has his career': 98395,\n",
              " 'his career been': 103708,\n",
              " 'career been on': 58708,\n",
              " 'been on ?': 49446,\n",
              " 'on ? xxmaj': 152369,\n",
              " '? xxmaj xxunk': 21210,\n",
              " 'xxmaj xxunk ...': 247323,\n",
              " 'xxunk ... xxmaj': 248862,\n",
              " '... xxmaj xxunk': 18661,\n",
              " 'xxmaj xxunk !': 247310,\n",
              " 'xxunk ! !': 247959,\n",
              " '! ! !': 610,\n",
              " '! ! xxmaj': 615,\n",
              " '! xxmaj finally': 793,\n",
              " 'xxmaj finally this': 239059,\n",
              " 'finally this was': 85431,\n",
              " 'this was directed': 208170,\n",
              " 'was directed by': 222765,\n",
              " 'directed by the': 71226,\n",
              " 'by the guy': 57017,\n",
              " 'the guy who': 197081,\n",
              " 'guy who did': 96505,\n",
              " 'who did xxmaj': 229223,\n",
              " 'did xxmaj big': 70745,\n",
              " 'xxmaj big xxmaj': 236727,\n",
              " 'big xxmaj xxunk': 51752,\n",
              " 'xxmaj xxunk ?': 247337,\n",
              " 'xxunk ? xxmaj': 248978,\n",
              " '? xxmaj must': 21162,\n",
              " 'xxmaj must be': 242514,\n",
              " 'must be a': 140422,\n",
              " 'be a replay': 47502,\n",
              " 'a replay of': 24647,\n",
              " 'replay of xxmaj': 169616,\n",
              " 'of xxmaj jonestown': 151052,\n",
              " 'xxmaj jonestown -': 241139,\n",
              " 'jonestown - hollywood': 121176,\n",
              " '- hollywood style': 15340,\n",
              " 'hollywood style .': 105257,\n",
              " 'style . xxmaj': 187616,\n",
              " '. xxmaj xxunk': 18188,\n",
              " 'is': 114366,\n",
              " 'extremely': 80761,\n",
              " 'well': 225716,\n",
              " 'made': 130644,\n",
              " 'film': 83820,\n",
              " 'script': 174274,\n",
              " 'and': 33946,\n",
              " 'camera': 57721,\n",
              " 'work': 233483,\n",
              " 'are': 41012,\n",
              " 'all': 30461,\n",
              " 'first': 85890,\n",
              " 'rate': 166609,\n",
              " 'music': 140241,\n",
              " 'good': 94145,\n",
              " 'too': 214407,\n",
              " 'though': 208610,\n",
              " 'it': 117551,\n",
              " 'mostly': 137844,\n",
              " 'early': 74979,\n",
              " 'when': 227457,\n",
              " 'things': 206075,\n",
              " 'still': 185848,\n",
              " 'relatively': 168961,\n",
              " 'there': 204250,\n",
              " 'no': 144363,\n",
              " 'really': 167508,\n",
              " 'cast': 59075,\n",
              " 'several': 176859,\n",
              " 'faces': 81047,\n",
              " 'will': 230377,\n",
              " 'familiar': 81626,\n",
              " 'entire': 77477,\n",
              " 'an': 33087,\n",
              " 'excellent': 79796,\n",
              " 'job': 120747,\n",
              " 'with': 231170,\n",
              " '\\n \\n ': 0,\n",
              " 'but': 55216,\n",
              " 'watch': 224112,\n",
              " 'because': 48810,\n",
              " 'end': 76332,\n",
              " 'situation': 180238,\n",
              " 'like': 126902,\n",
              " 'one': 153397,\n",
              " 'presented': 163551,\n",
              " 'now': 146734,\n",
              " 'blame': 52345,\n",
              " 'british': 54342,\n",
              " 'for': 87090,\n",
              " 'setting': 176784,\n",
              " 'hindus': 103470,\n",
              " 'muslims': 140396,\n",
              " 'against': 29861,\n",
              " 'each': 74783,\n",
              " 'other': 156101,\n",
              " 'then': 203872,\n",
              " 'them': 203443,\n",
              " 'into': 113684,\n",
              " 'two': 216847,\n",
              " 'countries': 66006,\n",
              " 'some': 182067,\n",
              " 'merit': 134926,\n",
              " 'view': 220873,\n",
              " \"'s\": 4211,\n",
              " 'also': 31789,\n",
              " 'true': 215922,\n",
              " 'that': 191516,\n",
              " 'forced': 88464,\n",
              " 'region': 168789,\n",
              " 'as': 42798,\n",
              " 'they': 204938,\n",
              " 'around': 42440,\n",
              " 'time': 209681,\n",
              " 'partition': 158797,\n",
              " 'seems': 175459,\n",
              " 'more': 136835,\n",
              " 'likely': 127636,\n",
              " 'simply': 179651,\n",
              " 'saw': 172784,\n",
              " 'between': 51328,\n",
              " 'were': 226122,\n",
              " 'clever': 62384,\n",
              " 'enough': 77130,\n",
              " 'exploit': 80552,\n",
              " 'their': 202830,\n",
              " 'own': 157760,\n",
              " 'ends': 76690,\n",
              " 'result': 169915,\n",
              " 'much': 139717,\n",
              " 'cruelty': 67238,\n",
              " 'inhumanity': 112819,\n",
              " 'very': 219998,\n",
              " 'unpleasant': 218249,\n",
              " 'remember': 169283,\n",
              " 'see': 174814,\n",
              " 'screen': 174075,\n",
              " 'never': 143353,\n",
              " 'painted': 158224,\n",
              " 'black': 52194,\n",
              " 'white': 228937,\n",
              " 'case': 58970,\n",
              " 'both': 53375,\n",
              " 'sides': 179375,\n",
              " 'hope': 105512,\n",
              " 'change': 59918,\n",
              " 'younger': 259666,\n",
              " 'generation': 91755,\n",
              " 'redemption': 168583,\n",
              " 'sort': 183596,\n",
              " 'make': 131230,\n",
              " 'choice': 61337,\n",
              " 'man': 131946,\n",
              " 'ruined': 171644,\n",
              " 'life': 126517,\n",
              " 'truly': 216065,\n",
              " 'loved': 130082,\n",
              " 'family': 81657,\n",
              " 'later': 124768,\n",
              " 'come': 63097,\n",
              " 'looking': 129227,\n",
              " 'point': 162183,\n",
              " 'without': 232553,\n",
              " 'great': 95354,\n",
              " 'pain': 158128,\n",
              " 'carries': 58854,\n",
              " 'message': 134989,\n",
              " 'have': 98825,\n",
              " 'grave': 95320,\n",
              " 'can': 57887,\n",
              " 'caring': 58767,\n",
              " 'people': 159376,\n",
              " 'reality': 167409,\n",
              " 'wrenching': 234800,\n",
              " 'since': 179821,\n",
              " 'real': 167120,\n",
              " 'across': 27566,\n",
              " 'india': 112483,\n",
              " '/': 18685,\n",
              " 'pakistan': 158273,\n",
              " 'border': 53135,\n",
              " 'sense': 175979,\n",
              " 'similar': 179525,\n",
              " '\"': 885,\n",
              " 'mr': 139630,\n",
              " '&': 2764,\n",
              " 'we': 225002,\n",
              " 'glad': 93381,\n",
              " 'seen': 175586,\n",
              " 'resolution': 169763,\n",
              " 'if': 109091,\n",
              " 'xxup': 256420,\n",
              " 'uk': 217428,\n",
              " 'us': 218989,\n",
              " 'could': 65629,\n",
              " 'deal': 68601,\n",
              " 'racism': 166226,\n",
              " 'would': 234302,\n",
              " 'certainly': 59722,\n",
              " 'better': 51084,\n",
              " 'off': 151359,\n",
              " 'xxmaj this': 245963,\n",
              " 'this is': 207315,\n",
              " 'is a': 114454,\n",
              " 'a extremely': 22460,\n",
              " 'extremely well': 80814,\n",
              " 'well -': 225761,\n",
              " '- made': 15548,\n",
              " 'made film': 130753,\n",
              " 'film .': 83976,\n",
              " 'xxmaj the': 245396,\n",
              " 'the acting': 194047,\n",
              " 'acting ,': 27699,\n",
              " ', script': 12374,\n",
              " 'script and': 174304,\n",
              " 'and camera': 34620,\n",
              " 'camera -': 57732,\n",
              " '- work': 16324,\n",
              " 'work are': 233518,\n",
              " 'are all': 41095,\n",
              " 'all first': 30706,\n",
              " 'first -': 85912,\n",
              " '- rate': 15849,\n",
              " 'rate .': 166614,\n",
              " 'the music': 198546,\n",
              " 'music is': 140305,\n",
              " 'is good': 115451,\n",
              " 'good ,': 94164,\n",
              " ', too': 13451,\n",
              " 'too ,': 214410,\n",
              " ', though': 13364,\n",
              " 'though it': 208705,\n",
              " 'it is': 118571,\n",
              " 'is mostly': 115889,\n",
              " 'mostly early': 137871,\n",
              " 'early in': 75023,\n",
              " 'in the': 111407,\n",
              " 'the film': 196370,\n",
              " 'film ,': 83895,\n",
              " ', when': 13757,\n",
              " 'when things': 227777,\n",
              " 'things are': 206105,\n",
              " 'are still': 41990,\n",
              " 'still relatively': 186037,\n",
              " 'relatively xxunk': 168972,\n",
              " 'xxmaj there': 245855,\n",
              " 'there are': 204333,\n",
              " 'are no': 41690,\n",
              " 'no really': 144751,\n",
              " 'really xxunk': 168047,\n",
              " 'xxunk in': 251851,\n",
              " 'the cast': 194866,\n",
              " 'cast ,': 59084,\n",
              " 'though several': 208725,\n",
              " 'several faces': 176868,\n",
              " 'faces will': 81063,\n",
              " 'will be': 230412,\n",
              " 'be familiar': 47777,\n",
              " 'familiar .': 81630,\n",
              " 'the entire': 196050,\n",
              " 'entire cast': 77482,\n",
              " 'cast does': 59134,\n",
              " 'does an': 72651,\n",
              " 'an excellent': 33466,\n",
              " 'excellent job': 79841,\n",
              " 'job with': 120821,\n",
              " 'with the': 232077,\n",
              " 'the script': 200171,\n",
              " 'script .': 174296,\n",
              " '. \\n \\n ': 16837,\n",
              " '\\n \\n  xxmaj': 201,\n",
              " 'xxmaj but': 237126,\n",
              " 'but it': 55695,\n",
              " 'is hard': 115484,\n",
              " 'to watch': 213667,\n",
              " 'watch ,': 224118,\n",
              " ', because': 9675,\n",
              " 'because there': 48980,\n",
              " 'there is': 204441,\n",
              " 'is no': 116005,\n",
              " 'no good': 144551,\n",
              " 'good end': 94326,\n",
              " 'end to': 76473,\n",
              " 'to a': 210430,\n",
              " 'a situation': 24996,\n",
              " 'situation like': 180259,\n",
              " 'like the': 127322,\n",
              " 'the one': 198830,\n",
              " 'one presented': 153897,\n",
              " 'presented .': 163554,\n",
              " 'xxmaj it': 240727,\n",
              " 'is now': 116121,\n",
              " 'now xxunk': 146917,\n",
              " 'xxunk to': 254850,\n",
              " 'to blame': 210923,\n",
              " 'blame the': 52354,\n",
              " 'the xxmaj': 201947,\n",
              " 'xxmaj british': 236999,\n",
              " 'british for': 54363,\n",
              " 'for setting': 87889,\n",
              " 'setting xxmaj': 176810,\n",
              " 'xxmaj hindus': 240185,\n",
              " 'hindus and': 103471,\n",
              " 'and xxmaj': 38613,\n",
              " 'xxmaj muslims': 242508,\n",
              " 'muslims against': 140400,\n",
              " 'against each': 29874,\n",
              " 'each other': 74849,\n",
              " 'other ,': 156112,\n",
              " ', and': 9210,\n",
              " 'and then': 37926,\n",
              " 'then xxunk': 204208,\n",
              " 'xxunk xxunk': 256113,\n",
              " 'xxunk them': 254689,\n",
              " 'them into': 203601,\n",
              " 'into two': 114005,\n",
              " 'two countries': 216919,\n",
              " 'countries .': 66007,\n",
              " 'is some': 116649,\n",
              " 'some merit': 182377,\n",
              " 'merit in': 134929,\n",
              " 'this view': 208150,\n",
              " 'view ,': 220878,\n",
              " ', but': 9816,\n",
              " \"it 's\": 117588,\n",
              " \"'s also\": 4421,\n",
              " 'also true': 32183,\n",
              " 'true that': 216022,\n",
              " 'that no': 192771,\n",
              " 'no one': 144674,\n",
              " 'one forced': 153656,\n",
              " 'forced xxmaj': 88496,\n",
              " 'muslims in': 140404,\n",
              " 'the region': 199760,\n",
              " 'region to': 168794,\n",
              " 'to xxunk': 213906,\n",
              " 'xxunk each': 250833,\n",
              " 'other as': 156152,\n",
              " 'as they': 43777,\n",
              " 'they did': 205222,\n",
              " 'did around': 70505,\n",
              " 'around the': 42544,\n",
              " 'the time': 201139,\n",
              " 'time of': 209909,\n",
              " 'of partition': 149424,\n",
              " 'partition .': 158798,\n",
              " 'it seems': 119090,\n",
              " 'seems more': 175506,\n",
              " 'more likely': 137145,\n",
              " 'likely that': 127641,\n",
              " 'that the': 193156,\n",
              " 'british simply': 54371,\n",
              " 'simply saw': 179762,\n",
              " 'saw the': 172841,\n",
              " 'the xxunk': 202328,\n",
              " 'xxunk between': 250006,\n",
              " 'between the': 51405,\n",
              " 'xxunk and': 249286,\n",
              " 'and were': 38443,\n",
              " 'were clever': 226238,\n",
              " 'clever enough': 62404,\n",
              " 'enough to': 77231,\n",
              " 'to exploit': 211447,\n",
              " 'exploit them': 80555,\n",
              " 'them to': 203679,\n",
              " 'to their': 213475,\n",
              " 'their own': 203196,\n",
              " 'own ends': 157823,\n",
              " 'ends .': 76695,\n",
              " 'the result': 199836,\n",
              " 'result is': 169924,\n",
              " 'is that': 116796,\n",
              " 'that there': 193275,\n",
              " 'is much': 115900,\n",
              " 'much cruelty': 139809,\n",
              " 'cruelty and': 67241,\n",
              " 'and inhumanity': 35995,\n",
              " 'inhumanity in': 112822,\n",
              " 'the situation': 200461,\n",
              " 'situation and': 180247,\n",
              " 'and this': 38036,\n",
              " 'is very': 117137,\n",
              " 'very unpleasant': 220509,\n",
              " 'unpleasant to': 218256,\n",
              " 'to remember': 212696,\n",
              " 'remember and': 169296,\n",
              " 'and to': 38111,\n",
              " 'to see': 212854,\n",
              " 'see on': 175040,\n",
              " 'on the': 152902,\n",
              " 'the screen': 200136,\n",
              " 'screen .': 174091,\n",
              " 'is never': 115991,\n",
              " 'never painted': 143568,\n",
              " 'painted as': 158229,\n",
              " 'as a': 42823,\n",
              " 'a black': 21626,\n",
              " 'black -': 52203,\n",
              " '- and': 14760,\n",
              " 'and -': 33996,\n",
              " '- white': 16291,\n",
              " 'white case': 228952,\n",
              " 'case .': 58987,\n",
              " 'is xxunk': 117365,\n",
              " 'and xxunk': 38888,\n",
              " 'xxunk on': 253072,\n",
              " 'on both': 152517,\n",
              " 'both sides': 53502,\n",
              " 'sides ,': 179376,\n",
              " 'and also': 34248,\n",
              " 'also the': 32154,\n",
              " 'the hope': 197241,\n",
              " 'hope for': 105530,\n",
              " 'for change': 87359,\n",
              " 'change in': 59935,\n",
              " 'the younger': 202749,\n",
              " 'younger generation': 259673,\n",
              " 'generation .': 91761,\n",
              " 'is redemption': 116416,\n",
              " 'redemption of': 168590,\n",
              " 'of a': 147610,\n",
              " 'a sort': 25099,\n",
              " 'sort ,': 183597,\n",
              " ', in': 11120,\n",
              " 'the end': 195972,\n",
              " 'end ,': 76339,\n",
              " 'when xxmaj': 227801,\n",
              " 'xxunk has': 251511,\n",
              " 'has to': 98634,\n",
              " 'to make': 212189,\n",
              " 'make a': 131241,\n",
              " 'a hard': 23137,\n",
              " 'hard choice': 97881,\n",
              " 'choice between': 61345,\n",
              " 'between a': 51341,\n",
              " 'a man': 23685,\n",
              " 'man who': 132150,\n",
              " 'who has': 229325,\n",
              " 'has ruined': 98557,\n",
              " 'ruined her': 171652,\n",
              " 'her life': 102060,\n",
              " 'life ,': 126534,\n",
              " 'but also': 55298,\n",
              " 'also truly': 32185,\n",
              " 'truly loved': 216110,\n",
              " 'loved her': 130091,\n",
              " 'her ,': 101692,\n",
              " 'and her': 35712,\n",
              " 'her family': 101932,\n",
              " 'family which': 81804,\n",
              " 'which has': 228319,\n",
              " 'has xxunk': 98680,\n",
              " 'xxunk her': 251582,\n",
              " ', then': 13173,\n",
              " 'then later': 204072,\n",
              " 'later come': 124810,\n",
              " 'come looking': 63158,\n",
              " 'looking for': 129260,\n",
              " 'for her': 87496,\n",
              " 'her .': 101710,\n",
              " 'but by': 55370,\n",
              " 'by that': 56972,\n",
              " 'that point': 192893,\n",
              " 'point ,': 162186,\n",
              " ', she': 12445,\n",
              " 'she has': 177504,\n",
              " 'has no': 98482,\n",
              " 'no xxunk': 144880,\n",
              " 'xxunk that': 254369,\n",
              " 'that is': 192435,\n",
              " 'is without': 117270,\n",
              " 'without great': 232630,\n",
              " 'great pain': 95591,\n",
              " 'pain for': 158144,\n",
              " 'this film': 207025,\n",
              " 'film carries': 84143,\n",
              " 'carries the': 58858,\n",
              " 'the message': 198158,\n",
              " 'message that': 135026,\n",
              " 'that both': 191862,\n",
              " 'both xxmaj': 53538,\n",
              " 'muslims and': 140402,\n",
              " 'hindus have': 103473,\n",
              " 'have their': 99557,\n",
              " 'their grave': 203063,\n",
              " 'grave xxunk': 95335,\n",
              " 'xxunk ,': 248396,\n",
              " 'also that': 32151,\n",
              " 'both can': 53406,\n",
              " 'can be': 57938,\n",
              " 'be xxunk': 48415,\n",
              " 'and caring': 34640,\n",
              " 'caring people': 58777,\n",
              " 'people .': 159412,\n",
              " 'the reality': 199706,\n",
              " 'reality of': 167436,\n",
              " 'partition makes': 158802,\n",
              " 'makes that': 131661,\n",
              " 'that xxunk': 193698,\n",
              " 'xxunk all': 249208,\n",
              " 'all the': 30990,\n",
              " 'the more': 198263,\n",
              " 'more wrenching': 137388,\n",
              " 'wrenching ,': 234801,\n",
              " ', since': 12528,\n",
              " 'since there': 179899,\n",
              " 'there can': 204406,\n",
              " 'can never': 58108,\n",
              " 'never be': 143375,\n",
              " 'be real': 48100,\n",
              " 'real xxunk': 167321,\n",
              " 'xxunk across': 249113,\n",
              " 'across the': 27586,\n",
              " 'xxmaj india': 240590,\n",
              " 'india /': 112490,\n",
              " '/ xxmaj': 18907,\n",
              " 'xxmaj pakistan': 243182,\n",
              " 'pakistan border': 158276,\n",
              " 'border .': 53138,\n",
              " 'xxmaj in': 240533,\n",
              " 'in that': 111376,\n",
              " 'that sense': 193016,\n",
              " 'sense ,': 175985,\n",
              " ', it': 11287,\n",
              " 'is similar': 116578,\n",
              " 'similar to': 179557,\n",
              " 'to \"': 210368,\n",
              " '\" xxmaj': 2328,\n",
              " 'xxmaj mr': 242460,\n",
              " 'mr &': 139631,\n",
              " '& xxmaj': 2903,\n",
              " 'xxunk xxmaj': 255664,\n",
              " 'xxunk \"': 247972,\n",
              " '\" .': 1004,\n",
              " ', we': 13678,\n",
              " 'we were': 225329,\n",
              " 'were glad': 226337,\n",
              " 'glad to': 93394,\n",
              " 'to have': 211733,\n",
              " 'have seen': 99432,\n",
              " 'seen the': 175774,\n",
              " ', even': 10426,\n",
              " 'even though': 78667,\n",
              " 'though the': 208736,\n",
              " 'the resolution': 199820,\n",
              " 'resolution was': 169779,\n",
              " 'was xxunk': 223942,\n",
              " 'xxmaj if': 240474,\n",
              " 'if the': 109289,\n",
              " 'the xxup': 202653,\n",
              " 'xxup uk': 257596,\n",
              " 'uk and': 217435,\n",
              " 'and xxup': 39047,\n",
              " 'xxup us': 257609,\n",
              " 'us could': 219041,\n",
              " 'could deal': 65715,\n",
              " 'deal with': 68620,\n",
              " 'with their': 232212,\n",
              " 'own xxunk': 157951,\n",
              " 'xxunk of': 252885,\n",
              " 'of racism': 149553,\n",
              " 'racism with': 166246,\n",
              " 'with this': 232244,\n",
              " 'this kind': 207417,\n",
              " 'of xxunk': 151175,\n",
              " ', they': 13232,\n",
              " 'they would': 205812,\n",
              " 'would certainly': 234409,\n",
              " 'certainly be': 59727,\n",
              " 'be better': 47628,\n",
              " 'better off': 51219,\n",
              " 'off .': 151379,\n",
              " 'xxbos xxmaj this': 235538,\n",
              " 'xxmaj this is': 246003,\n",
              " 'this is a': 207319,\n",
              " 'is a extremely': 114503,\n",
              " 'a extremely well': 22461,\n",
              " 'extremely well -': 80815,\n",
              " 'well - made': 225771,\n",
              " '- made film': 15550,\n",
              " 'made film .': 130755,\n",
              " 'film . xxmaj': 83983,\n",
              " '. xxmaj the': 18069,\n",
              " 'xxmaj the acting': 245406,\n",
              " 'the acting ,': 194049,\n",
              " 'acting , script': 27720,\n",
              " ', script and': 12375,\n",
              " 'script and camera': 174306,\n",
              " 'and camera -': 34621,\n",
              " 'camera - work': 57733,\n",
              " '- work are': 16326,\n",
              " 'work are all': 233519,\n",
              " 'are all first': 41101,\n",
              " 'all first -': 30707,\n",
              " 'first - rate': 85915,\n",
              " '- rate .': 15850,\n",
              " 'rate . xxmaj': 166615,\n",
              " 'xxmaj the music': 245635,\n",
              " 'the music is': 198555,\n",
              " 'music is good': 140308,\n",
              " 'is good ,': 115454,\n",
              " 'good , too': 94181,\n",
              " ', too ,': 13453,\n",
              " 'too , though': 214421,\n",
              " ', though it': 13378,\n",
              " 'though it is': 208709,\n",
              " 'it is mostly': 118641,\n",
              " 'is mostly early': 115894,\n",
              " 'mostly early in': 137872,\n",
              " 'early in the': 75024,\n",
              " 'in the film': 111525,\n",
              " 'the film ,': 196376,\n",
              " 'film , when': 83948,\n",
              " ', when things': 13778,\n",
              " 'when things are': 227778,\n",
              " 'things are still': 206109,\n",
              " 'are still relatively': 41993,\n",
              " 'still relatively xxunk': 186038,\n",
              " 'relatively xxunk .': 168973,\n",
              " '. xxmaj there': 18072,\n",
              " 'xxmaj there are': 245860,\n",
              " 'there are no': 204367,\n",
              " 'are no really': 41701,\n",
              " 'no really xxunk': 144752,\n",
              " 'really xxunk in': 168053,\n",
              " 'xxunk in the': 251923,\n",
              " 'in the cast': 111464,\n",
              " 'the cast ,': 194867,\n",
              " 'cast , though': 59096,\n",
              " ', though several': 13383,\n",
              " 'though several faces': 208726,\n",
              " 'several faces will': 176869,\n",
              " 'faces will be': 81064,\n",
              " 'will be familiar': 230428,\n",
              " 'be familiar .': 47778,\n",
              " 'familiar . xxmaj': 81631,\n",
              " 'xxmaj the entire': 245509,\n",
              " 'the entire cast': 196053,\n",
              " 'entire cast does': 77484,\n",
              " 'cast does an': 59135,\n",
              " 'does an excellent': 72652,\n",
              " 'an excellent job': 33471,\n",
              " 'excellent job with': 79844,\n",
              " 'job with the': 120822,\n",
              " 'with the script': 232189,\n",
              " 'the script .': 200175,\n",
              " 'script . \\n \\n ': 174297,\n",
              " '. \\n \\n  xxmaj': 16871,\n",
              " '\\n \\n  xxmaj but': 256,\n",
              " 'xxmaj but it': 237158,\n",
              " 'but it is': 55712,\n",
              " 'it is hard': 118625,\n",
              " 'is hard to': 115486,\n",
              " 'hard to watch': 97936,\n",
              " 'to watch ,': 213670,\n",
              " 'watch , because': 224119,\n",
              " ', because there': 9688,\n",
              " 'because there is': 48983,\n",
              " 'there is no': 204467,\n",
              " 'is no good': 116014,\n",
              " 'no good end': 144554,\n",
              " 'good end to': 94328,\n",
              " 'end to a': 76474,\n",
              " 'to a situation': 210484,\n",
              " 'a situation like': 24998,\n",
              " 'situation like the': 180260,\n",
              " 'like the one': 127348,\n",
              " 'the one presented': 198845,\n",
              " 'one presented .': 153898,\n",
              " 'presented . xxmaj': 163555,\n",
              " '. xxmaj it': 17714,\n",
              " 'xxmaj it is': 240769,\n",
              " 'it is now': 118650,\n",
              " 'is now xxunk': 116127,\n",
              " 'now xxunk to': 146921,\n",
              " 'xxunk to blame': 254877,\n",
              " 'to blame the': 210925,\n",
              " 'blame the xxmaj': 52357,\n",
              " 'the xxmaj british': 201983,\n",
              " 'xxmaj british for': 237009,\n",
              " 'british for setting': 54364,\n",
              " 'for setting xxmaj': 87890,\n",
              " 'setting xxmaj hindus': 176811,\n",
              " 'xxmaj hindus and': 240186,\n",
              " 'hindus and xxmaj': 103472,\n",
              " 'and xxmaj muslims': 38796,\n",
              " 'xxmaj muslims against': 242510,\n",
              " 'muslims against each': 140401,\n",
              " 'against each other': 29875,\n",
              " 'each other ,': 74851,\n",
              " 'other , and': 156113,\n",
              " ', and then': 9441,\n",
              " 'and then xxunk': 37967,\n",
              " 'then xxunk xxunk': 204219,\n",
              " 'xxunk xxunk them': 256260,\n",
              " 'xxunk them into': 254695,\n",
              " 'them into two': 203604,\n",
              " 'into two countries': 114006,\n",
              " 'two countries .': 216920,\n",
              " 'countries . xxmaj': 66008,\n",
              " 'xxmaj there is': 245863,\n",
              " 'there is some': 204478,\n",
              " 'is some merit': 116653,\n",
              " 'some merit in': 182378,\n",
              " 'merit in this': 134930,\n",
              " 'in this view': 111835,\n",
              " 'this view ,': 208151,\n",
              " 'view , but': 220880,\n",
              " ', but it': 9890,\n",
              " \"but it 's\": 55696,\n",
              " \"it 's also\": 117600,\n",
              " \"'s also true\": 4429,\n",
              " 'also true that': 32184,\n",
              " 'true that no': 216023,\n",
              " 'that no one': 192776,\n",
              " 'no one forced': 144682,\n",
              " 'one forced xxmaj': 153657,\n",
              " 'forced xxmaj hindus': 88497,\n",
              " 'xxmaj muslims in': 242512,\n",
              " 'muslims in the': 140405,\n",
              " 'in the region': 111634,\n",
              " 'the region to': 199761,\n",
              " 'region to xxunk': 168795,\n",
              " 'to xxunk each': 213937,\n",
              " 'xxunk each other': 250837,\n",
              " 'each other as': 74858,\n",
              " 'other as they': 156153,\n",
              " 'as they did': 43783,\n",
              " 'they did around': 205225,\n",
              " 'did around the': 70506,\n",
              " 'around the time': 42555,\n",
              " 'the time of': 201151,\n",
              " 'time of partition': 209911,\n",
              " 'of partition .': 149425,\n",
              " 'partition . xxmaj': 158799,\n",
              " 'xxmaj it seems': 240801,\n",
              " 'it seems more': 119098,\n",
              " 'seems more likely': 175507,\n",
              " 'more likely that': 137147,\n",
              " 'likely that the': 127642,\n",
              " 'that the xxmaj': 193265,\n",
              " 'xxmaj british simply': 237013,\n",
              " 'british simply saw': 54372,\n",
              " 'simply saw the': 179763,\n",
              " 'saw the xxunk': 172850,\n",
              " 'the xxunk between': 202374,\n",
              " 'xxunk between the': 250017,\n",
              " 'between the xxunk': 51431,\n",
              " 'the xxunk and': 202358,\n",
              " 'xxunk and were': 249580,\n",
              " 'and were clever': 38444,\n",
              " 'were clever enough': 226239,\n",
              " 'clever enough to': 62405,\n",
              " 'enough to exploit': 77237,\n",
              " 'to exploit them': 211449,\n",
              " 'exploit them to': 80556,\n",
              " 'them to their': 203691,\n",
              " 'to their own': 213485,\n",
              " 'their own ends': 203203,\n",
              " 'own ends .': 157824,\n",
              " 'ends . \\n \\n ': 76696,\n",
              " '\\n \\n  xxmaj the': 500,\n",
              " 'xxmaj the result': 245703,\n",
              " 'the result is': 199837,\n",
              " 'result is that': 169928,\n",
              " 'is that there': 116827,\n",
              " 'that there is': 193278,\n",
              " 'there is much': 204463,\n",
              " 'is much cruelty': 115902,\n",
              " 'much cruelty and': 139810,\n",
              " 'cruelty and inhumanity': 67242,\n",
              " 'and inhumanity in': 35997,\n",
              " 'inhumanity in the': 112823,\n",
              " 'in the situation': 111667,\n",
              " 'the situation and': 200465,\n",
              " 'situation and this': 180248,\n",
              " 'and this is': 38045,\n",
              " 'this is very': 207390,\n",
              " 'is very unpleasant': 117172,\n",
              " 'very unpleasant to': 220510,\n",
              " 'unpleasant to remember': 218257,\n",
              " ...}"
            ]
          },
          "metadata": {
            "tags": []
          },
          "execution_count": 248
        }
      ]
    },
    {
      "cell_type": "code",
      "metadata": {
        "id": "YBOfzzQ4Pda7",
        "colab_type": "code",
        "colab": {}
      },
      "source": [
        "val_ngram_doc = veczr.transform(valid_words)"
      ],
      "execution_count": 0,
      "outputs": []
    },
    {
      "cell_type": "code",
      "metadata": {
        "id": "N9nVpUMiPda8",
        "colab_type": "code",
        "colab": {
          "base_uri": "https://localhost:8080/",
          "height": 0
        },
        "outputId": "6212779b-2eb3-4cc4-e3f9-0ef58c5173f1"
      },
      "source": [
        "val_ngram_doc"
      ],
      "execution_count": 250,
      "outputs": [
        {
          "output_type": "execute_result",
          "data": {
            "text/plain": [
              "<200x260373 sparse matrix of type '<class 'numpy.int64'>'\n",
              "\twith 93552 stored elements in Compressed Sparse Row format>"
            ]
          },
          "metadata": {
            "tags": []
          },
          "execution_count": 250
        }
      ]
    },
    {
      "cell_type": "code",
      "metadata": {
        "id": "uqvAkjUNPdbG",
        "colab_type": "code",
        "colab": {}
      },
      "source": [
        "vocab = veczr.get_feature_names()"
      ],
      "execution_count": 0,
      "outputs": []
    },
    {
      "cell_type": "code",
      "metadata": {
        "id": "sbE4HwTQPdbI",
        "colab_type": "code",
        "colab": {
          "base_uri": "https://localhost:8080/",
          "height": 0
        },
        "outputId": "429a1526-50fc-4a77-cfa3-9038a26c8ba2"
      },
      "source": [
        "vocab[200000:200005]"
      ],
      "execution_count": 252,
      "outputs": [
        {
          "output_type": "execute_result",
          "data": {
            "text/plain": [
              "['the same cult',\n",
              " 'the same dance',\n",
              " 'the same date',\n",
              " 'the same day',\n",
              " 'the same diner']"
            ]
          },
          "metadata": {
            "tags": []
          },
          "execution_count": 252
        }
      ]
    },
    {
      "cell_type": "markdown",
      "metadata": {
        "id": "p1nOv7bgPdbI",
        "colab_type": "text"
      },
      "source": [
        "#### Binarized Naive Bayes, using ngrams from CountVectorizer"
      ]
    },
    {
      "cell_type": "code",
      "metadata": {
        "id": "NMbXKSuJPdbJ",
        "colab_type": "code",
        "colab": {}
      },
      "source": [
        "y=movie_reviews.train.y"
      ],
      "execution_count": 0,
      "outputs": []
    },
    {
      "cell_type": "markdown",
      "metadata": {
        "id": "mP0m8RhOPdbK",
        "colab_type": "text"
      },
      "source": [
        "C is the inverse of regularization strength; smaller values specify stronger regularization.  Regularized:"
      ]
    },
    {
      "cell_type": "code",
      "metadata": {
        "id": "TkKdUGp4PdbK",
        "colab_type": "code",
        "colab": {
          "base_uri": "https://localhost:8080/",
          "height": 0
        },
        "outputId": "ef236513-12f8-4455-cfe5-7461999b52d5"
      },
      "source": [
        "m = LogisticRegression(C=0.1, dual=True)\n",
        "m.fit(train_ngram_doc.sign(), y.items);\n",
        "\n",
        "preds = m.predict(val_ngram_doc.sign())\n",
        "(preds.T==valid_labels).mean()"
      ],
      "execution_count": 254,
      "outputs": [
        {
          "output_type": "stream",
          "text": [
            "/usr/local/lib/python3.6/dist-packages/sklearn/linear_model/logistic.py:432: FutureWarning: Default solver will be changed to 'lbfgs' in 0.22. Specify a solver to silence this warning.\n",
            "  FutureWarning)\n"
          ],
          "name": "stderr"
        },
        {
          "output_type": "execute_result",
          "data": {
            "text/plain": [
              "0.83"
            ]
          },
          "metadata": {
            "tags": []
          },
          "execution_count": 254
        }
      ]
    },
    {
      "cell_type": "markdown",
      "metadata": {
        "id": "PAo7mbJkPdbM",
        "colab_type": "text"
      },
      "source": [
        "Not binarized"
      ]
    },
    {
      "cell_type": "code",
      "metadata": {
        "id": "TAA2fzTHPdbM",
        "colab_type": "code",
        "colab": {
          "base_uri": "https://localhost:8080/",
          "height": 0
        },
        "outputId": "b2cedcb0-7c99-4272-fbb5-2d442acfb57e"
      },
      "source": [
        "m = LogisticRegression(C=0.1, dual=True)\n",
        "m.fit(train_ngram_doc, y.items);\n",
        "\n",
        "preds = m.predict(val_ngram_doc)\n",
        "(preds.T==valid_labels).mean()"
      ],
      "execution_count": 255,
      "outputs": [
        {
          "output_type": "stream",
          "text": [
            "/usr/local/lib/python3.6/dist-packages/sklearn/linear_model/logistic.py:432: FutureWarning: Default solver will be changed to 'lbfgs' in 0.22. Specify a solver to silence this warning.\n",
            "  FutureWarning)\n",
            "/usr/local/lib/python3.6/dist-packages/sklearn/svm/base.py:929: ConvergenceWarning: Liblinear failed to converge, increase the number of iterations.\n",
            "  \"the number of iterations.\", ConvergenceWarning)\n"
          ],
          "name": "stderr"
        },
        {
          "output_type": "execute_result",
          "data": {
            "text/plain": [
              "0.78"
            ]
          },
          "metadata": {
            "tags": []
          },
          "execution_count": 255
        }
      ]
    },
    {
      "cell_type": "markdown",
      "metadata": {
        "id": "yMWWkN0jPdbN",
        "colab_type": "text"
      },
      "source": [
        "### Using my ngrams, binarized:"
      ]
    },
    {
      "cell_type": "code",
      "metadata": {
        "scrolled": false,
        "id": "7Z7Ub0H6PdbN",
        "colab_type": "code",
        "colab": {
          "base_uri": "https://localhost:8080/",
          "height": 142
        },
        "outputId": "fc7533cd-4200-4a44-d230-1b35dfccd4a0"
      },
      "source": [
        "m2 = LogisticRegression(C=0.1, dual=True)\n",
        "m2.fit(trn_x_ngram_sgn, y.items)"
      ],
      "execution_count": 256,
      "outputs": [
        {
          "output_type": "stream",
          "text": [
            "/usr/local/lib/python3.6/dist-packages/sklearn/linear_model/logistic.py:432: FutureWarning: Default solver will be changed to 'lbfgs' in 0.22. Specify a solver to silence this warning.\n",
            "  FutureWarning)\n"
          ],
          "name": "stderr"
        },
        {
          "output_type": "execute_result",
          "data": {
            "text/plain": [
              "LogisticRegression(C=0.1, class_weight=None, dual=True, fit_intercept=True,\n",
              "                   intercept_scaling=1, l1_ratio=None, max_iter=100,\n",
              "                   multi_class='warn', n_jobs=None, penalty='l2',\n",
              "                   random_state=None, solver='warn', tol=0.0001, verbose=0,\n",
              "                   warm_start=False)"
            ]
          },
          "metadata": {
            "tags": []
          },
          "execution_count": 256
        }
      ]
    },
    {
      "cell_type": "code",
      "metadata": {
        "id": "oXrKbLglPdbO",
        "colab_type": "code",
        "colab": {
          "base_uri": "https://localhost:8080/",
          "height": 35
        },
        "outputId": "b42a1d3c-1473-4376-8a1f-aeb313c7642f"
      },
      "source": [
        "preds = m2.predict(val_x_ngram_sgn)\n",
        "(preds.T==valid_labels).mean()"
      ],
      "execution_count": 257,
      "outputs": [
        {
          "output_type": "execute_result",
          "data": {
            "text/plain": [
              "0.83"
            ]
          },
          "metadata": {
            "tags": []
          },
          "execution_count": 257
        }
      ]
    },
    {
      "cell_type": "markdown",
      "metadata": {
        "id": "HM5NjuZuPdbP",
        "colab_type": "text"
      },
      "source": [
        "Worse performance when not binarized.  I manually tried several different C values, and this was the best I found:"
      ]
    },
    {
      "cell_type": "code",
      "metadata": {
        "scrolled": false,
        "id": "ujStjKzPPdbP",
        "colab_type": "code",
        "colab": {
          "base_uri": "https://localhost:8080/",
          "height": 178
        },
        "outputId": "ba1c8f6b-d151-4cd1-b4b3-02e05097efff"
      },
      "source": [
        "m2 = LogisticRegression(C=0.0001, dual=True, max_iter=50000)\n",
        "m2.fit(train_ngram_doc_matrix, y.items)"
      ],
      "execution_count": 258,
      "outputs": [
        {
          "output_type": "stream",
          "text": [
            "/usr/local/lib/python3.6/dist-packages/sklearn/linear_model/logistic.py:432: FutureWarning: Default solver will be changed to 'lbfgs' in 0.22. Specify a solver to silence this warning.\n",
            "  FutureWarning)\n",
            "/usr/local/lib/python3.6/dist-packages/sklearn/svm/base.py:929: ConvergenceWarning: Liblinear failed to converge, increase the number of iterations.\n",
            "  \"the number of iterations.\", ConvergenceWarning)\n"
          ],
          "name": "stderr"
        },
        {
          "output_type": "execute_result",
          "data": {
            "text/plain": [
              "LogisticRegression(C=0.0001, class_weight=None, dual=True, fit_intercept=True,\n",
              "                   intercept_scaling=1, l1_ratio=None, max_iter=50000,\n",
              "                   multi_class='warn', n_jobs=None, penalty='l2',\n",
              "                   random_state=None, solver='warn', tol=0.0001, verbose=0,\n",
              "                   warm_start=False)"
            ]
          },
          "metadata": {
            "tags": []
          },
          "execution_count": 258
        }
      ]
    },
    {
      "cell_type": "code",
      "metadata": {
        "id": "5EkzqWStPdbQ",
        "colab_type": "code",
        "colab": {
          "base_uri": "https://localhost:8080/",
          "height": 35
        },
        "outputId": "263f496e-d9fc-4ce2-8c93-ce1a56bdb161"
      },
      "source": [
        "preds = m2.predict(valid_ngram_doc_matrix)\n",
        "(preds.T==valid_labels).mean()"
      ],
      "execution_count": 259,
      "outputs": [
        {
          "output_type": "execute_result",
          "data": {
            "text/plain": [
              "0.675"
            ]
          },
          "metadata": {
            "tags": []
          },
          "execution_count": 259
        }
      ]
    },
    {
      "cell_type": "markdown",
      "metadata": {
        "id": "DqqEB5LBPdbR",
        "colab_type": "text"
      },
      "source": [
        "### Log-count ratio"
      ]
    },
    {
      "cell_type": "markdown",
      "metadata": {
        "id": "KH7UagInPdbR",
        "colab_type": "text"
      },
      "source": [
        "Here is the $\\text{log-count ratio}$ `r`.  "
      ]
    },
    {
      "cell_type": "code",
      "metadata": {
        "id": "4VNWF5nSPdbS",
        "colab_type": "code",
        "colab": {}
      },
      "source": [
        "x=train_ngram_doc_matrix.sign()\n",
        "val_x=valid_ngram_doc_matrix.sign()\n",
        "y=movie_reviews.train.y"
      ],
      "execution_count": 0,
      "outputs": []
    },
    {
      "cell_type": "code",
      "metadata": {
        "id": "lGL--q8fPdbT",
        "colab_type": "code",
        "colab": {}
      },
      "source": [
        "positive = y.c2i['positive']\n",
        "negative = y.c2i['negative']"
      ],
      "execution_count": 0,
      "outputs": []
    },
    {
      "cell_type": "code",
      "metadata": {
        "id": "JP5KNMxuPdbT",
        "colab_type": "code",
        "colab": {}
      },
      "source": [
        "k=260428"
      ],
      "execution_count": 0,
      "outputs": []
    },
    {
      "cell_type": "code",
      "metadata": {
        "id": "KwknIZEMPdbU",
        "colab_type": "code",
        "colab": {}
      },
      "source": [
        "pos = (y.items == positive)[:k]\n",
        "neg = (y.items == negative)[:k]"
      ],
      "execution_count": 0,
      "outputs": []
    },
    {
      "cell_type": "code",
      "metadata": {
        "id": "DdbpqHJTPdbV",
        "colab_type": "code",
        "colab": {}
      },
      "source": [
        "xx = x[:k]"
      ],
      "execution_count": 0,
      "outputs": []
    },
    {
      "cell_type": "code",
      "metadata": {
        "id": "LcAyoEF9PdbV",
        "colab_type": "code",
        "colab": {}
      },
      "source": [
        "valid_labels = [o == positive for o in movie_reviews.valid.y.items]"
      ],
      "execution_count": 0,
      "outputs": []
    },
    {
      "cell_type": "code",
      "metadata": {
        "id": "P2OM7Z3APdbW",
        "colab_type": "code",
        "colab": {}
      },
      "source": [
        "p0 = np.squeeze(np.array(xx[neg].sum(0)))\n",
        "p1 = np.squeeze(np.array(xx[pos].sum(0)))"
      ],
      "execution_count": 0,
      "outputs": []
    },
    {
      "cell_type": "code",
      "metadata": {
        "id": "oaUmBwFiPdbY",
        "colab_type": "code",
        "colab": {}
      },
      "source": [
        "pr1 = (p1+1) / ((y.items==positive).sum() + 1)\n",
        "pr0 = (p0+1) / ((y.items==negative).sum() + 1)"
      ],
      "execution_count": 0,
      "outputs": []
    },
    {
      "cell_type": "code",
      "metadata": {
        "id": "ucW7KGzjPdbY",
        "colab_type": "code",
        "colab": {}
      },
      "source": [
        "r = np.log(pr1/pr0)"
      ],
      "execution_count": 0,
      "outputs": []
    },
    {
      "cell_type": "code",
      "metadata": {
        "id": "jgmMWhpwPdbZ",
        "colab_type": "code",
        "colab": {}
      },
      "source": [
        "b = np.log((y.items==positive).mean() / (y.items==negative).mean())"
      ],
      "execution_count": 0,
      "outputs": []
    },
    {
      "cell_type": "code",
      "metadata": {
        "id": "y6c_eH4GPdba",
        "colab_type": "code",
        "colab": {
          "base_uri": "https://localhost:8080/",
          "height": 35
        },
        "outputId": "0daa8836-7ae3-4a4f-c4b4-6a07fa9822bd"
      },
      "source": [
        "np.exp(r)"
      ],
      "execution_count": 270,
      "outputs": [
        {
          "output_type": "execute_result",
          "data": {
            "text/plain": [
              "array([0.994341, 1.088542, 1.      , 1.088542, ..., 0.544271, 0.544271, 0.544271, 0.544271])"
            ]
          },
          "metadata": {
            "tags": []
          },
          "execution_count": 270
        }
      ]
    },
    {
      "cell_type": "markdown",
      "metadata": {
        "id": "Yejvxg-nPdbb",
        "colab_type": "text"
      },
      "source": [
        "Here we fit regularized logistic regression where the features are the trigrams' log-count ratios."
      ]
    },
    {
      "cell_type": "code",
      "metadata": {
        "id": "R25vv86qPdbb",
        "colab_type": "code",
        "colab": {
          "base_uri": "https://localhost:8080/",
          "height": 390
        },
        "outputId": "d43c3285-2813-484a-fdc3-d0912c840d99"
      },
      "source": [
        "x_nb = xx.multiply(r)\n",
        "m = LogisticRegression(dual=True, C=0.1)\n",
        "m.fit(x_nb, y.items);\n",
        "\n",
        "val_x_nb = val_x.multiply(r)\n",
        "preds = m.predict(val_x_nb)\n",
        "(preds.T==valid_labels).mean()"
      ],
      "execution_count": 271,
      "outputs": [
        {
          "output_type": "error",
          "ename": "ValueError",
          "evalue": "ignored",
          "traceback": [
            "\u001b[0;31m---------------------------------------------------------------------------\u001b[0m",
            "\u001b[0;31mValueError\u001b[0m                                Traceback (most recent call last)",
            "\u001b[0;32m<ipython-input-271-3b6c2c50ab42>\u001b[0m in \u001b[0;36m<module>\u001b[0;34m()\u001b[0m\n\u001b[0;32m----> 1\u001b[0;31m \u001b[0mx_nb\u001b[0m \u001b[0;34m=\u001b[0m \u001b[0mxx\u001b[0m\u001b[0;34m.\u001b[0m\u001b[0mmultiply\u001b[0m\u001b[0;34m(\u001b[0m\u001b[0mr\u001b[0m\u001b[0;34m)\u001b[0m\u001b[0;34m\u001b[0m\u001b[0;34m\u001b[0m\u001b[0m\n\u001b[0m\u001b[1;32m      2\u001b[0m \u001b[0mm\u001b[0m \u001b[0;34m=\u001b[0m \u001b[0mLogisticRegression\u001b[0m\u001b[0;34m(\u001b[0m\u001b[0mdual\u001b[0m\u001b[0;34m=\u001b[0m\u001b[0;32mTrue\u001b[0m\u001b[0;34m,\u001b[0m \u001b[0mC\u001b[0m\u001b[0;34m=\u001b[0m\u001b[0;36m0.1\u001b[0m\u001b[0;34m)\u001b[0m\u001b[0;34m\u001b[0m\u001b[0;34m\u001b[0m\u001b[0m\n\u001b[1;32m      3\u001b[0m \u001b[0mm\u001b[0m\u001b[0;34m.\u001b[0m\u001b[0mfit\u001b[0m\u001b[0;34m(\u001b[0m\u001b[0mx_nb\u001b[0m\u001b[0;34m,\u001b[0m \u001b[0my\u001b[0m\u001b[0;34m.\u001b[0m\u001b[0mitems\u001b[0m\u001b[0;34m)\u001b[0m\u001b[0;34m;\u001b[0m\u001b[0;34m\u001b[0m\u001b[0;34m\u001b[0m\u001b[0m\n\u001b[1;32m      4\u001b[0m \u001b[0;34m\u001b[0m\u001b[0m\n\u001b[1;32m      5\u001b[0m \u001b[0mval_x_nb\u001b[0m \u001b[0;34m=\u001b[0m \u001b[0mval_x\u001b[0m\u001b[0;34m.\u001b[0m\u001b[0mmultiply\u001b[0m\u001b[0;34m(\u001b[0m\u001b[0mr\u001b[0m\u001b[0;34m)\u001b[0m\u001b[0;34m\u001b[0m\u001b[0;34m\u001b[0m\u001b[0m\n",
            "\u001b[0;32m/usr/local/lib/python3.6/dist-packages/scipy/sparse/compressed.py\u001b[0m in \u001b[0;36mmultiply\u001b[0;34m(self, other)\u001b[0m\n\u001b[1;32m    417\u001b[0m \u001b[0;34m\u001b[0m\u001b[0m\n\u001b[1;32m    418\u001b[0m         \u001b[0;32mfrom\u001b[0m \u001b[0;34m.\u001b[0m\u001b[0mcoo\u001b[0m \u001b[0;32mimport\u001b[0m \u001b[0mcoo_matrix\u001b[0m\u001b[0;34m\u001b[0m\u001b[0;34m\u001b[0m\u001b[0m\n\u001b[0;32m--> 419\u001b[0;31m         \u001b[0mret\u001b[0m \u001b[0;34m=\u001b[0m \u001b[0mself\u001b[0m\u001b[0;34m.\u001b[0m\u001b[0mtocoo\u001b[0m\u001b[0;34m(\u001b[0m\u001b[0;34m)\u001b[0m\u001b[0;34m\u001b[0m\u001b[0;34m\u001b[0m\u001b[0m\n\u001b[0m\u001b[1;32m    420\u001b[0m         \u001b[0;31m# Matching shapes.\u001b[0m\u001b[0;34m\u001b[0m\u001b[0;34m\u001b[0m\u001b[0;34m\u001b[0m\u001b[0m\n\u001b[1;32m    421\u001b[0m         \u001b[0;32mif\u001b[0m \u001b[0mself\u001b[0m\u001b[0;34m.\u001b[0m\u001b[0mshape\u001b[0m \u001b[0;34m==\u001b[0m \u001b[0mother\u001b[0m\u001b[0;34m.\u001b[0m\u001b[0mshape\u001b[0m\u001b[0;34m:\u001b[0m\u001b[0;34m\u001b[0m\u001b[0;34m\u001b[0m\u001b[0m\n",
            "\u001b[0;32m/usr/local/lib/python3.6/dist-packages/scipy/sparse/compressed.py\u001b[0m in \u001b[0;36mtocoo\u001b[0;34m(self, copy)\u001b[0m\n\u001b[1;32m   1015\u001b[0m         \u001b[0;32mfrom\u001b[0m \u001b[0;34m.\u001b[0m\u001b[0mcoo\u001b[0m \u001b[0;32mimport\u001b[0m \u001b[0mcoo_matrix\u001b[0m\u001b[0;34m\u001b[0m\u001b[0;34m\u001b[0m\u001b[0m\n\u001b[1;32m   1016\u001b[0m         return coo_matrix((self.data, (row, col)), self.shape, copy=copy,\n\u001b[0;32m-> 1017\u001b[0;31m                           dtype=self.dtype)\n\u001b[0m\u001b[1;32m   1018\u001b[0m \u001b[0;34m\u001b[0m\u001b[0m\n\u001b[1;32m   1019\u001b[0m     \u001b[0mtocoo\u001b[0m\u001b[0;34m.\u001b[0m\u001b[0m__doc__\u001b[0m \u001b[0;34m=\u001b[0m \u001b[0mspmatrix\u001b[0m\u001b[0;34m.\u001b[0m\u001b[0mtocoo\u001b[0m\u001b[0;34m.\u001b[0m\u001b[0m__doc__\u001b[0m\u001b[0;34m\u001b[0m\u001b[0;34m\u001b[0m\u001b[0m\n",
            "\u001b[0;32m/usr/local/lib/python3.6/dist-packages/scipy/sparse/coo.py\u001b[0m in \u001b[0;36m__init__\u001b[0;34m(self, arg1, shape, dtype, copy)\u001b[0m\n\u001b[1;32m    196\u001b[0m             \u001b[0mself\u001b[0m\u001b[0;34m.\u001b[0m\u001b[0mdata\u001b[0m \u001b[0;34m=\u001b[0m \u001b[0mself\u001b[0m\u001b[0;34m.\u001b[0m\u001b[0mdata\u001b[0m\u001b[0;34m.\u001b[0m\u001b[0mastype\u001b[0m\u001b[0;34m(\u001b[0m\u001b[0mdtype\u001b[0m\u001b[0;34m,\u001b[0m \u001b[0mcopy\u001b[0m\u001b[0;34m=\u001b[0m\u001b[0;32mFalse\u001b[0m\u001b[0;34m)\u001b[0m\u001b[0;34m\u001b[0m\u001b[0;34m\u001b[0m\u001b[0m\n\u001b[1;32m    197\u001b[0m \u001b[0;34m\u001b[0m\u001b[0m\n\u001b[0;32m--> 198\u001b[0;31m         \u001b[0mself\u001b[0m\u001b[0;34m.\u001b[0m\u001b[0m_check\u001b[0m\u001b[0;34m(\u001b[0m\u001b[0;34m)\u001b[0m\u001b[0;34m\u001b[0m\u001b[0;34m\u001b[0m\u001b[0m\n\u001b[0m\u001b[1;32m    199\u001b[0m \u001b[0;34m\u001b[0m\u001b[0m\n\u001b[1;32m    200\u001b[0m     \u001b[0;32mdef\u001b[0m \u001b[0mreshape\u001b[0m\u001b[0;34m(\u001b[0m\u001b[0mself\u001b[0m\u001b[0;34m,\u001b[0m \u001b[0;34m*\u001b[0m\u001b[0margs\u001b[0m\u001b[0;34m,\u001b[0m \u001b[0;34m**\u001b[0m\u001b[0mkwargs\u001b[0m\u001b[0;34m)\u001b[0m\u001b[0;34m:\u001b[0m\u001b[0;34m\u001b[0m\u001b[0;34m\u001b[0m\u001b[0m\n",
            "\u001b[0;32m/usr/local/lib/python3.6/dist-packages/scipy/sparse/coo.py\u001b[0m in \u001b[0;36m_check\u001b[0;34m(self)\u001b[0m\n\u001b[1;32m    285\u001b[0m                 \u001b[0;32mraise\u001b[0m \u001b[0mValueError\u001b[0m\u001b[0;34m(\u001b[0m\u001b[0;34m'row index exceeds matrix dimensions'\u001b[0m\u001b[0;34m)\u001b[0m\u001b[0;34m\u001b[0m\u001b[0;34m\u001b[0m\u001b[0m\n\u001b[1;32m    286\u001b[0m             \u001b[0;32mif\u001b[0m \u001b[0mself\u001b[0m\u001b[0;34m.\u001b[0m\u001b[0mcol\u001b[0m\u001b[0;34m.\u001b[0m\u001b[0mmax\u001b[0m\u001b[0;34m(\u001b[0m\u001b[0;34m)\u001b[0m \u001b[0;34m>=\u001b[0m \u001b[0mself\u001b[0m\u001b[0;34m.\u001b[0m\u001b[0mshape\u001b[0m\u001b[0;34m[\u001b[0m\u001b[0;36m1\u001b[0m\u001b[0;34m]\u001b[0m\u001b[0;34m:\u001b[0m\u001b[0;34m\u001b[0m\u001b[0;34m\u001b[0m\u001b[0m\n\u001b[0;32m--> 287\u001b[0;31m                 \u001b[0;32mraise\u001b[0m \u001b[0mValueError\u001b[0m\u001b[0;34m(\u001b[0m\u001b[0;34m'column index exceeds matrix dimensions'\u001b[0m\u001b[0;34m)\u001b[0m\u001b[0;34m\u001b[0m\u001b[0;34m\u001b[0m\u001b[0m\n\u001b[0m\u001b[1;32m    288\u001b[0m             \u001b[0;32mif\u001b[0m \u001b[0mself\u001b[0m\u001b[0;34m.\u001b[0m\u001b[0mrow\u001b[0m\u001b[0;34m.\u001b[0m\u001b[0mmin\u001b[0m\u001b[0;34m(\u001b[0m\u001b[0;34m)\u001b[0m \u001b[0;34m<\u001b[0m \u001b[0;36m0\u001b[0m\u001b[0;34m:\u001b[0m\u001b[0;34m\u001b[0m\u001b[0;34m\u001b[0m\u001b[0m\n\u001b[1;32m    289\u001b[0m                 \u001b[0;32mraise\u001b[0m \u001b[0mValueError\u001b[0m\u001b[0;34m(\u001b[0m\u001b[0;34m'negative row index found'\u001b[0m\u001b[0;34m)\u001b[0m\u001b[0;34m\u001b[0m\u001b[0;34m\u001b[0m\u001b[0m\n",
            "\u001b[0;31mValueError\u001b[0m: column index exceeds matrix dimensions"
          ]
        }
      ]
    },
    {
      "cell_type": "markdown",
      "metadata": {
        "id": "DMnX4o8dPdbc",
        "colab_type": "text"
      },
      "source": [
        "## References"
      ]
    },
    {
      "cell_type": "markdown",
      "metadata": {
        "id": "l4hfGlH_Pdbc",
        "colab_type": "text"
      },
      "source": [
        "* Baselines and Bigrams: Simple, Good Sentiment and Topic Classification. Sida Wang and Christopher D. Manning [pdf](https://www.aclweb.org/anthology/P12-2018)"
      ]
    }
  ]
}