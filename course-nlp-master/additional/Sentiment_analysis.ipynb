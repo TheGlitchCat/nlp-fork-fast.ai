{
 "cells": [
  {
   "cell_type": "markdown",
   "metadata": {
    "colab_type": "text",
    "id": "b-9IZO7qoTat"
   },
   "source": [
    "**Imports**\n"
   ]
  },
  {
   "cell_type": "code",
   "execution_count": 132,
   "metadata": {
    "colab": {},
    "colab_type": "code",
    "id": "mX_ymVJJnJae"
   },
   "outputs": [],
   "source": [
    "%reload_ext autoreload\n",
    "%autoreload 2\n",
    "%matplotlib inline\n"
   ]
  },
  {
   "cell_type": "code",
   "execution_count": 133,
   "metadata": {
    "colab": {},
    "colab_type": "code",
    "id": "FD4Jfw67nMss"
   },
   "outputs": [],
   "source": [
    "from fastai import *\n",
    "from fastai.text import *"
   ]
  },
  {
   "cell_type": "code",
   "execution_count": 134,
   "metadata": {
    "colab": {},
    "colab_type": "code",
    "id": "2FWsQYtFnO_F"
   },
   "outputs": [],
   "source": [
    "import sklearn.feature_extraction.text as sklearn_text"
   ]
  },
  {
   "cell_type": "markdown",
   "metadata": {
    "colab_type": "text",
    "id": "zm4wuyFmocKM"
   },
   "source": [
    "For help it is possible to use ??\n"
   ]
  },
  {
   "cell_type": "code",
   "execution_count": 135,
   "metadata": {
    "colab": {},
    "colab_type": "code",
    "id": "I7eE5nbsoZrO"
   },
   "outputs": [],
   "source": [
    "?? URLs"
   ]
  },
  {
   "cell_type": "code",
   "execution_count": 136,
   "metadata": {
    "colab": {
     "base_uri": "https://localhost:8080/",
     "height": 35
    },
    "colab_type": "code",
    "id": "xclHud0nnQ10",
    "outputId": "e7a9adf1-0cea-4875-9777-4a3d22d43049"
   },
   "outputs": [
    {
     "data": {
      "text/plain": [
       "WindowsPath('C:/Users/Arles/.fastai/data/imdb_sample')"
      ]
     },
     "execution_count": 136,
     "metadata": {},
     "output_type": "execute_result"
    }
   ],
   "source": [
    "\n",
    "path = untar_data(URLs.IMDB_SAMPLE)\n",
    "path"
   ]
  },
  {
   "cell_type": "markdown",
   "metadata": {
    "colab_type": "text",
    "id": "CGk_wASPosd4"
   },
   "source": [
    "Load to ger a sense of how the data looks like:"
   ]
  },
  {
   "cell_type": "code",
   "execution_count": 137,
   "metadata": {
    "colab": {
     "base_uri": "https://localhost:8080/",
     "height": 206
    },
    "colab_type": "code",
    "id": "l_lbU2jinXwP",
    "outputId": "520c5e2c-3b36-41d1-f4e9-4ad5417e6050"
   },
   "outputs": [
    {
     "data": {
      "text/html": [
       "<div>\n",
       "<style scoped>\n",
       "    .dataframe tbody tr th:only-of-type {\n",
       "        vertical-align: middle;\n",
       "    }\n",
       "\n",
       "    .dataframe tbody tr th {\n",
       "        vertical-align: top;\n",
       "    }\n",
       "\n",
       "    .dataframe thead th {\n",
       "        text-align: right;\n",
       "    }\n",
       "</style>\n",
       "<table border=\"1\" class=\"dataframe\">\n",
       "  <thead>\n",
       "    <tr style=\"text-align: right;\">\n",
       "      <th></th>\n",
       "      <th>label</th>\n",
       "      <th>text</th>\n",
       "      <th>is_valid</th>\n",
       "    </tr>\n",
       "  </thead>\n",
       "  <tbody>\n",
       "    <tr>\n",
       "      <td>0</td>\n",
       "      <td>negative</td>\n",
       "      <td>Un-bleeping-believable! Meg Ryan doesn't even ...</td>\n",
       "      <td>False</td>\n",
       "    </tr>\n",
       "    <tr>\n",
       "      <td>1</td>\n",
       "      <td>positive</td>\n",
       "      <td>This is a extremely well-made film. The acting...</td>\n",
       "      <td>False</td>\n",
       "    </tr>\n",
       "    <tr>\n",
       "      <td>2</td>\n",
       "      <td>negative</td>\n",
       "      <td>Every once in a long while a movie will come a...</td>\n",
       "      <td>False</td>\n",
       "    </tr>\n",
       "    <tr>\n",
       "      <td>3</td>\n",
       "      <td>positive</td>\n",
       "      <td>Name just says it all. I watched this movie wi...</td>\n",
       "      <td>False</td>\n",
       "    </tr>\n",
       "    <tr>\n",
       "      <td>4</td>\n",
       "      <td>negative</td>\n",
       "      <td>This movie succeeds at being one of the most u...</td>\n",
       "      <td>False</td>\n",
       "    </tr>\n",
       "  </tbody>\n",
       "</table>\n",
       "</div>"
      ],
      "text/plain": [
       "      label                                               text  is_valid\n",
       "0  negative  Un-bleeping-believable! Meg Ryan doesn't even ...     False\n",
       "1  positive  This is a extremely well-made film. The acting...     False\n",
       "2  negative  Every once in a long while a movie will come a...     False\n",
       "3  positive  Name just says it all. I watched this movie wi...     False\n",
       "4  negative  This movie succeeds at being one of the most u...     False"
      ]
     },
     "execution_count": 137,
     "metadata": {},
     "output_type": "execute_result"
    }
   ],
   "source": [
    "df = pd.read_csv(path/'texts.csv')\n",
    "df.head()"
   ]
  },
  {
   "cell_type": "markdown",
   "metadata": {
    "colab_type": "text",
    "id": "VJ7ruGAro6kd"
   },
   "source": [
    "TextList of fast.ai"
   ]
  },
  {
   "cell_type": "code",
   "execution_count": 138,
   "metadata": {
    "colab": {},
    "colab_type": "code",
    "id": "9qvPebPHpPrt"
   },
   "outputs": [],
   "source": [
    "movie_reviews = (TextList.from_csv(path, 'texts.csv', cols = 'text').split_from_df(col=2).label_from_df(cols=0))"
   ]
  },
  {
   "cell_type": "markdown",
   "metadata": {
    "colab_type": "text",
    "id": "tccAgU8npxcQ"
   },
   "source": [
    "**Exploring what our data looks like**"
   ]
  },
  {
   "cell_type": "markdown",
   "metadata": {
    "colab_type": "text",
    "id": "d66FVmQit-Tl"
   },
   "source": [
    "Tokenization and numericalization\n"
   ]
  },
  {
   "cell_type": "markdown",
   "metadata": {
    "colab_type": "text",
    "id": "xkkep3zWqY7v"
   },
   "source": [
    "\n",
    "    UNK (xxunk) is for an unknown word (one that isn't present in the current vocabulary)\n",
    "    PAD (xxpad) is the token used for padding, if we need to regroup several texts of different lengths in a batch\n",
    "    BOS (xxbos) represents the beginning of a text in your dataset\n",
    "    FLD (xxfld) is used if you set mark_fields=True in your TokenizeProcessor to separate the different fields of texts (if your texts are loaded from several columns in a dataframe)\n",
    "    TK_MAJ (xxmaj) is used to indicate the next word begins with a capital in the original text\n",
    "    TK_UP (xxup) is used to indicate the next word is written in all caps in the original text\n",
    "    TK_REP (xxrep) is used to indicate the next character is repeated n times in the original text (usage xxrep n {char})\n",
    "    TK_WREP(xxwrep) is used to indicate the next word is repeated n times in the original text (usage xxwrep n {word})\n"
   ]
  },
  {
   "cell_type": "code",
   "execution_count": 139,
   "metadata": {
    "colab": {
     "base_uri": "https://localhost:8080/",
     "height": 162
    },
    "colab_type": "code",
    "id": "K5a9dgDUp4PW",
    "outputId": "a4222eea-23e6-4872-f688-2214601d0ce7"
   },
   "outputs": [
    {
     "data": {
      "text/plain": [
       "(Text xxbos xxmaj this very funny xxmaj british comedy shows what might happen if a section of xxmaj london , in this case xxmaj xxunk , were to xxunk itself independent from the rest of the xxup uk and its laws , xxunk & post - war xxunk . xxmaj merry xxunk is what would happen . \n",
       "  \n",
       "   xxmaj the explosion of a wartime bomb leads to the xxunk of ancient xxunk which show that xxmaj xxunk was xxunk to the xxmaj xxunk of xxmaj xxunk xxunk ago , a small historical xxunk long since forgotten . xxmaj to the new xxmaj xxunk , however , this is an unexpected opportunity to live as they please , free from any xxunk from xxmaj xxunk . \n",
       "  \n",
       "   xxmaj stanley xxmaj xxunk is excellent as the minor city xxunk who suddenly finds himself leading one of the world 's xxunk xxunk . xxmaj xxunk xxmaj margaret xxmaj xxunk is a delight as the history professor who sides with xxmaj xxunk . xxmaj others in the stand - out cast include xxmaj xxunk xxmaj xxunk , xxmaj paul xxmaj xxunk , xxmaj xxunk xxmaj xxunk , xxmaj xxunk xxmaj xxunk & xxmaj sir xxmaj michael xxmaj xxunk . \n",
       "  \n",
       "   xxmaj welcome to xxmaj xxunk !, Category positive)"
      ]
     },
     "execution_count": 139,
     "metadata": {},
     "output_type": "execute_result"
    }
   ],
   "source": [
    "movie_reviews.valid.x[0], movie_reviews.valid.y[0]"
   ]
  },
  {
   "cell_type": "code",
   "execution_count": 140,
   "metadata": {
    "colab": {
     "base_uri": "https://localhost:8080/",
     "height": 35
    },
    "colab_type": "code",
    "id": "1rzb0zS6rro1",
    "outputId": "707d4fd1-4cc4-4588-ceaa-a0b235951435"
   },
   "outputs": [
    {
     "data": {
      "text/plain": [
       "(800, 200)"
      ]
     },
     "execution_count": 140,
     "metadata": {},
     "output_type": "execute_result"
    }
   ],
   "source": [
    "len(movie_reviews.train.x), len(movie_reviews.valid.x)"
   ]
  },
  {
   "cell_type": "code",
   "execution_count": 141,
   "metadata": {
    "colab": {
     "base_uri": "https://localhost:8080/",
     "height": 35
    },
    "colab_type": "code",
    "id": "ZT4TKsTrr9sH",
    "outputId": "fd940b19-1531-4d66-9cfc-b19783af5cc0"
   },
   "outputs": [
    {
     "data": {
      "text/plain": [
       "(6008, 19161)"
      ]
     },
     "execution_count": 141,
     "metadata": {},
     "output_type": "execute_result"
    }
   ],
   "source": [
    "len(movie_reviews.vocab.itos), len(movie_reviews.vocab.stoi)"
   ]
  },
  {
   "cell_type": "code",
   "execution_count": 142,
   "metadata": {
    "colab": {
     "base_uri": "https://localhost:8080/",
     "height": 196
    },
    "colab_type": "code",
    "id": "ncEYrHTQslSM",
    "outputId": "cac668de-8c30-4525-89e1-429e5649702f"
   },
   "outputs": [
    {
     "data": {
      "text/plain": [
       "['bit',\n",
       " 'might',\n",
       " 'things',\n",
       " 'horror',\n",
       " 'us',\n",
       " 'almost',\n",
       " 'may',\n",
       " 'right',\n",
       " 'must',\n",
       " 'away']"
      ]
     },
     "execution_count": 142,
     "metadata": {},
     "output_type": "execute_result"
    }
   ],
   "source": [
    "movie_reviews.vocab.itos[220:230]"
   ]
  },
  {
   "cell_type": "code",
   "execution_count": 143,
   "metadata": {
    "colab": {
     "base_uri": "https://localhost:8080/",
     "height": 35
    },
    "colab_type": "code",
    "id": "dz7lurvCst9M",
    "outputId": "79e69e84-d2df-44de-bc16-bc6093b209f8"
   },
   "outputs": [
    {
     "data": {
      "text/plain": [
       "225"
      ]
     },
     "execution_count": 143,
     "metadata": {},
     "output_type": "execute_result"
    }
   ],
   "source": [
    "movie_reviews.vocab.stoi['almost']"
   ]
  },
  {
   "cell_type": "code",
   "execution_count": 144,
   "metadata": {
    "colab": {
     "base_uri": "https://localhost:8080/",
     "height": 35
    },
    "colab_type": "code",
    "id": "n_SKLmPUtV4X",
    "outputId": "dc197ad6-91f9-4f88-c869-a43056158870"
   },
   "outputs": [
    {
     "data": {
      "text/plain": [
       "'almost'"
      ]
     },
     "execution_count": 144,
     "metadata": {},
     "output_type": "execute_result"
    }
   ],
   "source": [
    "movie_reviews.vocab.itos[225]"
   ]
  },
  {
   "cell_type": "code",
   "execution_count": 145,
   "metadata": {
    "colab": {
     "base_uri": "https://localhost:8080/",
     "height": 1000
    },
    "colab_type": "code",
    "id": "hj7GH1XkuNdB",
    "outputId": "3af7cf19-37a8-4baf-ee19-1a3522f521b6"
   },
   "outputs": [
    {
     "data": {
      "text/plain": [
       "defaultdict(int,\n",
       "            {'xxunk': 0,\n",
       "             'xxpad': 1,\n",
       "             'xxbos': 2,\n",
       "             'xxeos': 3,\n",
       "             'xxfld': 4,\n",
       "             'xxmaj': 5,\n",
       "             'xxup': 6,\n",
       "             'xxrep': 7,\n",
       "             'xxwrep': 8,\n",
       "             'the': 9,\n",
       "             '.': 10,\n",
       "             ',': 11,\n",
       "             'and': 12,\n",
       "             'a': 13,\n",
       "             'of': 14,\n",
       "             'to': 15,\n",
       "             'is': 16,\n",
       "             'it': 17,\n",
       "             'in': 18,\n",
       "             'i': 19,\n",
       "             'that': 20,\n",
       "             'this': 21,\n",
       "             '\"': 22,\n",
       "             \"'s\": 23,\n",
       "             '\\n \\n ': 24,\n",
       "             '-': 25,\n",
       "             'was': 26,\n",
       "             'as': 27,\n",
       "             'for': 28,\n",
       "             'movie': 29,\n",
       "             'with': 30,\n",
       "             'but': 31,\n",
       "             'film': 32,\n",
       "             'you': 33,\n",
       "             ')': 34,\n",
       "             'on': 35,\n",
       "             '(': 36,\n",
       "             \"n't\": 37,\n",
       "             'are': 38,\n",
       "             'he': 39,\n",
       "             'his': 40,\n",
       "             'not': 41,\n",
       "             'have': 42,\n",
       "             'be': 43,\n",
       "             'one': 44,\n",
       "             'they': 45,\n",
       "             'all': 46,\n",
       "             'at': 47,\n",
       "             'by': 48,\n",
       "             'an': 49,\n",
       "             'from': 50,\n",
       "             'like': 51,\n",
       "             '!': 52,\n",
       "             'so': 53,\n",
       "             'who': 54,\n",
       "             'there': 55,\n",
       "             'about': 56,\n",
       "             'just': 57,\n",
       "             'out': 58,\n",
       "             'if': 59,\n",
       "             'or': 60,\n",
       "             'do': 61,\n",
       "             \"'\": 62,\n",
       "             'what': 63,\n",
       "             'her': 64,\n",
       "             'has': 65,\n",
       "             'some': 66,\n",
       "             'more': 67,\n",
       "             'good': 68,\n",
       "             'when': 69,\n",
       "             'up': 70,\n",
       "             'very': 71,\n",
       "             '?': 72,\n",
       "             'she': 73,\n",
       "             'would': 74,\n",
       "             'no': 75,\n",
       "             'really': 76,\n",
       "             'were': 77,\n",
       "             'their': 78,\n",
       "             'my': 79,\n",
       "             'had': 80,\n",
       "             'time': 81,\n",
       "             'can': 82,\n",
       "             'only': 83,\n",
       "             'which': 84,\n",
       "             'even': 85,\n",
       "             'see': 86,\n",
       "             'story': 87,\n",
       "             'me': 88,\n",
       "             'into': 89,\n",
       "             'did': 90,\n",
       "             ':': 91,\n",
       "             'well': 92,\n",
       "             'we': 93,\n",
       "             'will': 94,\n",
       "             'does': 95,\n",
       "             'than': 96,\n",
       "             'also': 97,\n",
       "             'get': 98,\n",
       "             '...': 99,\n",
       "             'people': 100,\n",
       "             'other': 101,\n",
       "             'bad': 102,\n",
       "             'been': 103,\n",
       "             'could': 104,\n",
       "             'first': 105,\n",
       "             'much': 106,\n",
       "             'how': 107,\n",
       "             'most': 108,\n",
       "             'any': 109,\n",
       "             'because': 110,\n",
       "             'two': 111,\n",
       "             'then': 112,\n",
       "             'great': 113,\n",
       "             'him': 114,\n",
       "             'its': 115,\n",
       "             'too': 116,\n",
       "             'made': 117,\n",
       "             'them': 118,\n",
       "             'after': 119,\n",
       "             'movies': 120,\n",
       "             'make': 121,\n",
       "             '/': 122,\n",
       "             'way': 123,\n",
       "             'think': 124,\n",
       "             'never': 125,\n",
       "             'watch': 126,\n",
       "             'acting': 127,\n",
       "             'seen': 128,\n",
       "             ';': 129,\n",
       "             'films': 130,\n",
       "             'plot': 131,\n",
       "             'being': 132,\n",
       "             'many': 133,\n",
       "             'over': 134,\n",
       "             'where': 135,\n",
       "             'character': 136,\n",
       "             'man': 137,\n",
       "             'little': 138,\n",
       "             'better': 139,\n",
       "             'life': 140,\n",
       "             'characters': 141,\n",
       "             'love': 142,\n",
       "             'your': 143,\n",
       "             'here': 144,\n",
       "             'know': 145,\n",
       "             'scenes': 146,\n",
       "             'best': 147,\n",
       "             'end': 148,\n",
       "             'show': 149,\n",
       "             'while': 150,\n",
       "             'through': 151,\n",
       "             'should': 152,\n",
       "             'off': 153,\n",
       "             'ever': 154,\n",
       "             'these': 155,\n",
       "             'go': 156,\n",
       "             'such': 157,\n",
       "             'say': 158,\n",
       "             '--': 159,\n",
       "             'something': 160,\n",
       "             'scene': 161,\n",
       "             'still': 162,\n",
       "             'before': 163,\n",
       "             'though': 164,\n",
       "             'watching': 165,\n",
       "             'between': 166,\n",
       "             'actually': 167,\n",
       "             'old': 168,\n",
       "             '10': 169,\n",
       "             'find': 170,\n",
       "             'back': 171,\n",
       "             'now': 172,\n",
       "             'why': 173,\n",
       "             'years': 174,\n",
       "             \"'ve\": 175,\n",
       "             'actors': 176,\n",
       "             'fact': 177,\n",
       "             'those': 178,\n",
       "             \"'m\": 179,\n",
       "             'thing': 180,\n",
       "             'pretty': 181,\n",
       "             'quite': 182,\n",
       "             'part': 183,\n",
       "             'going': 184,\n",
       "             'same': 185,\n",
       "             'real': 186,\n",
       "             'another': 187,\n",
       "             'down': 188,\n",
       "             'funny': 189,\n",
       "             'nothing': 190,\n",
       "             'look': 191,\n",
       "             'makes': 192,\n",
       "             '*': 193,\n",
       "             'new': 194,\n",
       "             'want': 195,\n",
       "             'action': 196,\n",
       "             '&': 197,\n",
       "             'director': 198,\n",
       "             'work': 199,\n",
       "             'few': 200,\n",
       "             \"'re\": 201,\n",
       "             'seems': 202,\n",
       "             'around': 203,\n",
       "             'world': 204,\n",
       "             'point': 205,\n",
       "             'without': 206,\n",
       "             'cast': 207,\n",
       "             'again': 208,\n",
       "             'own': 209,\n",
       "             'both': 210,\n",
       "             'lot': 211,\n",
       "             'enough': 212,\n",
       "             'every': 213,\n",
       "             'family': 214,\n",
       "             'got': 215,\n",
       "             'ca': 216,\n",
       "             \"'ll\": 217,\n",
       "             'probably': 218,\n",
       "             'big': 219,\n",
       "             'bit': 220,\n",
       "             'might': 221,\n",
       "             'things': 222,\n",
       "             'horror': 223,\n",
       "             'us': 224,\n",
       "             'almost': 225,\n",
       "             'may': 226,\n",
       "             'right': 227,\n",
       "             'must': 228,\n",
       "             'away': 229,\n",
       "             'thought': 230,\n",
       "             'interesting': 231,\n",
       "             'least': 232,\n",
       "             'whole': 233,\n",
       "             'series': 234,\n",
       "             'gets': 235,\n",
       "             'each': 236,\n",
       "             'give': 237,\n",
       "             'young': 238,\n",
       "             'however': 239,\n",
       "             'making': 240,\n",
       "             'day': 241,\n",
       "             'fun': 242,\n",
       "             'anything': 243,\n",
       "             'minutes': 244,\n",
       "             'kind': 245,\n",
       "             'come': 246,\n",
       "             'girl': 247,\n",
       "             'saw': 248,\n",
       "             'script': 249,\n",
       "             'take': 250,\n",
       "             'long': 251,\n",
       "             'times': 252,\n",
       "             'someone': 253,\n",
       "             'found': 254,\n",
       "             'done': 255,\n",
       "             'feel': 256,\n",
       "             'far': 257,\n",
       "             'since': 258,\n",
       "             'role': 259,\n",
       "             'original': 260,\n",
       "             'course': 261,\n",
       "             'goes': 262,\n",
       "             'last': 263,\n",
       "             'true': 264,\n",
       "             'simply': 265,\n",
       "             'always': 266,\n",
       "             \"'d\": 267,\n",
       "             'tv': 268,\n",
       "             'hard': 269,\n",
       "             'place': 270,\n",
       "             'set': 271,\n",
       "             'trying': 272,\n",
       "             'believe': 273,\n",
       "             'shot': 274,\n",
       "             'comes': 275,\n",
       "             'actor': 276,\n",
       "             'yet': 277,\n",
       "             '4': 278,\n",
       "             'having': 279,\n",
       "             'book': 280,\n",
       "             'looks': 281,\n",
       "             'guy': 282,\n",
       "             'screen': 283,\n",
       "             'later': 284,\n",
       "             'shows': 285,\n",
       "             'performance': 286,\n",
       "             'worth': 287,\n",
       "             'comedy': 288,\n",
       "             'sure': 289,\n",
       "             'looking': 290,\n",
       "             'sense': 291,\n",
       "             'star': 292,\n",
       "             'effects': 293,\n",
       "             'read': 294,\n",
       "             'takes': 295,\n",
       "             'although': 296,\n",
       "             'audience': 297,\n",
       "             'ending': 298,\n",
       "             'john': 299,\n",
       "             'anyone': 300,\n",
       "             'worst': 301,\n",
       "             'american': 302,\n",
       "             'year': 303,\n",
       "             'especially': 304,\n",
       "             'women': 305,\n",
       "             'together': 306,\n",
       "             'dvd': 307,\n",
       "             'instead': 308,\n",
       "             'different': 309,\n",
       "             'am': 310,\n",
       "             'woman': 311,\n",
       "             'men': 312,\n",
       "             '2': 313,\n",
       "             'our': 314,\n",
       "             'played': 315,\n",
       "             'music': 316,\n",
       "             'special': 317,\n",
       "             'three': 318,\n",
       "             'rest': 319,\n",
       "             'put': 320,\n",
       "             'maybe': 321,\n",
       "             'wife': 322,\n",
       "             'kids': 323,\n",
       "             'war': 324,\n",
       "             'left': 325,\n",
       "             'black': 326,\n",
       "             'once': 327,\n",
       "             'second': 328,\n",
       "             'watched': 329,\n",
       "             'next': 330,\n",
       "             'friends': 331,\n",
       "             'rather': 332,\n",
       "             'let': 333,\n",
       "             '\\x96': 334,\n",
       "             'job': 335,\n",
       "             'start': 336,\n",
       "             'others': 337,\n",
       "             'budget': 338,\n",
       "             'need': 339,\n",
       "             'mind': 340,\n",
       "             'said': 341,\n",
       "             'main': 342,\n",
       "             'else': 343,\n",
       "             'wrong': 344,\n",
       "             'beautiful': 345,\n",
       "             'half': 346,\n",
       "             'high': 347,\n",
       "             'idea': 348,\n",
       "             'death': 349,\n",
       "             'tell': 350,\n",
       "             'help': 351,\n",
       "             'nice': 352,\n",
       "             'seem': 353,\n",
       "             'perhaps': 354,\n",
       "             'hollywood': 355,\n",
       "             'everyone': 356,\n",
       "             'play': 357,\n",
       "             'case': 358,\n",
       "             'production': 359,\n",
       "             'piece': 360,\n",
       "             'episode': 361,\n",
       "             'camera': 362,\n",
       "             'low': 363,\n",
       "             'already': 364,\n",
       "             'top': 365,\n",
       "             'poor': 366,\n",
       "             'during': 367,\n",
       "             '3': 368,\n",
       "             'stars': 369,\n",
       "             'house': 370,\n",
       "             '..': 371,\n",
       "             'couple': 372,\n",
       "             'boring': 373,\n",
       "             'reason': 374,\n",
       "             'try': 375,\n",
       "             'along': 376,\n",
       "             'name': 377,\n",
       "             'small': 378,\n",
       "             'plays': 379,\n",
       "             'father': 380,\n",
       "             'everything': 381,\n",
       "             'used': 382,\n",
       "             'video': 383,\n",
       "             'getting': 384,\n",
       "             'money': 385,\n",
       "             'full': 386,\n",
       "             'less': 387,\n",
       "             'performances': 388,\n",
       "             'often': 389,\n",
       "             'liked': 390,\n",
       "             'came': 391,\n",
       "             '1': 392,\n",
       "             'robert': 393,\n",
       "             'either': 394,\n",
       "             'fan': 395,\n",
       "             'given': 396,\n",
       "             'hand': 397,\n",
       "             'kill': 398,\n",
       "             'felt': 399,\n",
       "             'yes': 400,\n",
       "             'completely': 401,\n",
       "             'night': 402,\n",
       "             'children': 403,\n",
       "             'himself': 404,\n",
       "             'girls': 405,\n",
       "             'early': 406,\n",
       "             'awful': 407,\n",
       "             'oh': 408,\n",
       "             'live': 409,\n",
       "             'picture': 410,\n",
       "             'parts': 411,\n",
       "             'throughout': 412,\n",
       "             'until': 413,\n",
       "             'become': 414,\n",
       "             'town': 415,\n",
       "             'written': 416,\n",
       "             'terrible': 417,\n",
       "             'turn': 418,\n",
       "             'child': 419,\n",
       "             'despite': 420,\n",
       "             'moments': 421,\n",
       "             'boy': 422,\n",
       "             'problem': 423,\n",
       "             'head': 424,\n",
       "             'stupid': 425,\n",
       "             'beginning': 426,\n",
       "             'home': 427,\n",
       "             'version': 428,\n",
       "             'able': 429,\n",
       "             'excellent': 430,\n",
       "             'sometimes': 431,\n",
       "             'overall': 432,\n",
       "             'recommend': 433,\n",
       "             'sex': 434,\n",
       "             'keep': 435,\n",
       "             'human': 436,\n",
       "             'drama': 437,\n",
       "             'hero': 438,\n",
       "             'supposed': 439,\n",
       "             'seemed': 440,\n",
       "             'use': 441,\n",
       "             'writing': 442,\n",
       "             'wo': 443,\n",
       "             'remember': 444,\n",
       "             'went': 445,\n",
       "             'enjoy': 446,\n",
       "             'classic': 447,\n",
       "             'person': 448,\n",
       "             'killer': 449,\n",
       "             'lost': 450,\n",
       "             'late': 451,\n",
       "             '5': 452,\n",
       "             'title': 453,\n",
       "             'king': 454,\n",
       "             'entire': 455,\n",
       "             'history': 456,\n",
       "             'son': 457,\n",
       "             'school': 458,\n",
       "             'lead': 459,\n",
       "             'english': 460,\n",
       "             'sound': 461,\n",
       "             'cinema': 462,\n",
       "             'seeing': 463,\n",
       "             'unfortunately': 464,\n",
       "             'genre': 465,\n",
       "             'sort': 466,\n",
       "             'mean': 467,\n",
       "             'friend': 468,\n",
       "             'fans': 469,\n",
       "             'close': 470,\n",
       "             'quality': 471,\n",
       "             'definitely': 472,\n",
       "             'james': 473,\n",
       "             'worse': 474,\n",
       "             'says': 475,\n",
       "             'except': 476,\n",
       "             'doing': 477,\n",
       "             'itself': 478,\n",
       "             'past': 479,\n",
       "             'certainly': 480,\n",
       "             'days': 481,\n",
       "             'five': 482,\n",
       "             'dialogue': 483,\n",
       "             'line': 484,\n",
       "             'anyway': 485,\n",
       "             'under': 486,\n",
       "             'tries': 487,\n",
       "             'called': 488,\n",
       "             'fine': 489,\n",
       "             'guys': 490,\n",
       "             'care': 491,\n",
       "             'style': 492,\n",
       "             'hope': 493,\n",
       "             'short': 494,\n",
       "             'lines': 495,\n",
       "             'told': 496,\n",
       "             'car': 497,\n",
       "             'decent': 498,\n",
       "             'brother': 499,\n",
       "             'killed': 500,\n",
       "             'wanted': 501,\n",
       "             'entertaining': 502,\n",
       "             'based': 503,\n",
       "             'absolutely': 504,\n",
       "             'feeling': 505,\n",
       "             'truly': 506,\n",
       "             'etc': 507,\n",
       "             'heard': 508,\n",
       "             'serious': 509,\n",
       "             'run': 510,\n",
       "             'wonderful': 511,\n",
       "             'lives': 512,\n",
       "             'gives': 513,\n",
       "             'moment': 514,\n",
       "             'game': 515,\n",
       "             'documentary': 516,\n",
       "             'self': 517,\n",
       "             'several': 518,\n",
       "             'waste': 519,\n",
       "             'dead': 520,\n",
       "             'blood': 521,\n",
       "             'matter': 522,\n",
       "             'wonder': 523,\n",
       "             'humor': 524,\n",
       "             'thinking': 525,\n",
       "             'against': 526,\n",
       "             'white': 527,\n",
       "             'side': 528,\n",
       "             'works': 529,\n",
       "             'mother': 530,\n",
       "             'flick': 531,\n",
       "             'stuff': 532,\n",
       "             'turns': 533,\n",
       "             'finally': 534,\n",
       "             'loved': 535,\n",
       "             'group': 536,\n",
       "             'wants': 537,\n",
       "             'face': 538,\n",
       "             'guess': 539,\n",
       "             'dark': 540,\n",
       "             'city': 541,\n",
       "             'events': 542,\n",
       "             'starts': 543,\n",
       "             'hour': 544,\n",
       "             'took': 545,\n",
       "             'george': 546,\n",
       "             'themselves': 547,\n",
       "             'red': 548,\n",
       "             'behind': 549,\n",
       "             'talking': 550,\n",
       "             'hit': 551,\n",
       "             'eyes': 552,\n",
       "             'attempt': 553,\n",
       "             'direction': 554,\n",
       "             'novel': 555,\n",
       "             'saying': 556,\n",
       "             'word': 557,\n",
       "             'dull': 558,\n",
       "             'light': 559,\n",
       "             'view': 560,\n",
       "             'playing': 561,\n",
       "             'opinion': 562,\n",
       "             'expect': 563,\n",
       "             'evil': 564,\n",
       "             'ten': 565,\n",
       "             'violence': 566,\n",
       "             'local': 567,\n",
       "             'final': 568,\n",
       "             'gave': 569,\n",
       "             'leave': 570,\n",
       "             'paul': 571,\n",
       "             'crap': 572,\n",
       "             'happens': 573,\n",
       "             'knows': 574,\n",
       "             'problems': 575,\n",
       "             'example': 576,\n",
       "             'relationship': 577,\n",
       "             'non': 578,\n",
       "             'michael': 579,\n",
       "             'victor': 580,\n",
       "             'ridiculous': 581,\n",
       "             'god': 582,\n",
       "             'similar': 583,\n",
       "             'general': 584,\n",
       "             'major': 585,\n",
       "             'bunch': 586,\n",
       "             'sister': 587,\n",
       "             'oscar': 588,\n",
       "             'turned': 589,\n",
       "             'brilliant': 590,\n",
       "             'highly': 591,\n",
       "             'nearly': 592,\n",
       "             'de': 593,\n",
       "             'please': 594,\n",
       "             'romance': 595,\n",
       "             'body': 596,\n",
       "             'extremely': 597,\n",
       "             'mr.': 598,\n",
       "             'soon': 599,\n",
       "             'yourself': 600,\n",
       "             'known': 601,\n",
       "             'lack': 602,\n",
       "             'age': 603,\n",
       "             'interest': 604,\n",
       "             'ago': 605,\n",
       "             'stories': 606,\n",
       "             'exactly': 607,\n",
       "             'finds': 608,\n",
       "             'modern': 609,\n",
       "             'voice': 610,\n",
       "             'perfect': 611,\n",
       "             'heart': 612,\n",
       "             'alone': 613,\n",
       "             'tells': 614,\n",
       "             'daughter': 615,\n",
       "             'directed': 616,\n",
       "             'needs': 617,\n",
       "             'kid': 618,\n",
       "             'lady': 619,\n",
       "             'sad': 620,\n",
       "             'fight': 621,\n",
       "             'happened': 622,\n",
       "             'eye': 623,\n",
       "             'favorite': 624,\n",
       "             'using': 625,\n",
       "             'upon': 626,\n",
       "             'ben': 627,\n",
       "             'none': 628,\n",
       "             'beyond': 629,\n",
       "             'nature': 630,\n",
       "             'change': 631,\n",
       "             'save': 632,\n",
       "             'shots': 633,\n",
       "             'country': 634,\n",
       "             'number': 635,\n",
       "             'shown': 636,\n",
       "             'surprised': 637,\n",
       "             'romantic': 638,\n",
       "             'huge': 639,\n",
       "             'murder': 640,\n",
       "             'steve': 641,\n",
       "             'slow': 642,\n",
       "             'myself': 643,\n",
       "             'woods': 644,\n",
       "             'apparently': 645,\n",
       "             'lake': 646,\n",
       "             'cheap': 647,\n",
       "             'involved': 648,\n",
       "             'roles': 649,\n",
       "             '6': 650,\n",
       "             'gore': 651,\n",
       "             'obviously': 652,\n",
       "             'knew': 653,\n",
       "             'level': 654,\n",
       "             '8': 655,\n",
       "             'experience': 656,\n",
       "             'became': 657,\n",
       "             'gone': 658,\n",
       "             'cover': 659,\n",
       "             'amazing': 660,\n",
       "             'create': 661,\n",
       "             'living': 662,\n",
       "             'usually': 663,\n",
       "             'order': 664,\n",
       "             'monster': 665,\n",
       "             'happen': 666,\n",
       "             'list': 667,\n",
       "             'clearly': 668,\n",
       "             'power': 669,\n",
       "             'features': 670,\n",
       "             're': 671,\n",
       "             'subject': 672,\n",
       "             'across': 673,\n",
       "             'parents': 674,\n",
       "             'seriously': 675,\n",
       "             'ways': 676,\n",
       "             'room': 677,\n",
       "             'filmed': 678,\n",
       "             'cheesy': 679,\n",
       "             'disappointed': 680,\n",
       "             'important': 681,\n",
       "             'plenty': 682,\n",
       "             '7': 683,\n",
       "             'particular': 684,\n",
       "             'started': 685,\n",
       "             'today': 686,\n",
       "             'enjoyed': 687,\n",
       "             'cinematography': 688,\n",
       "             'annoying': 689,\n",
       "             'looked': 690,\n",
       "             'supporting': 691,\n",
       "             'mostly': 692,\n",
       "             'message': 693,\n",
       "             'somewhat': 694,\n",
       "             'viewer': 695,\n",
       "             'type': 696,\n",
       "             'certain': 697,\n",
       "             'release': 698,\n",
       "             'effort': 699,\n",
       "             'possible': 700,\n",
       "             'add': 701,\n",
       "             'figure': 702,\n",
       "             'named': 703,\n",
       "             'wish': 704,\n",
       "             'difficult': 705,\n",
       "             'falls': 706,\n",
       "             'four': 707,\n",
       "             'husband': 708,\n",
       "             'score': 709,\n",
       "             'leads': 710,\n",
       "             'form': 711,\n",
       "             'working': 712,\n",
       "             'writer': 713,\n",
       "             'sets': 714,\n",
       "             'including': 715,\n",
       "             'enjoyable': 716,\n",
       "             'ok': 717,\n",
       "             'note': 718,\n",
       "             'spent': 719,\n",
       "             'review': 720,\n",
       "             'art': 721,\n",
       "             'police': 722,\n",
       "             'sit': 723,\n",
       "             'horrible': 724,\n",
       "             'actress': 725,\n",
       "             'ones': 726,\n",
       "             'bring': 727,\n",
       "             'greatest': 728,\n",
       "             'dance': 729,\n",
       "             'earth': 730,\n",
       "             'becomes': 731,\n",
       "             'happy': 732,\n",
       "             'cut': 733,\n",
       "             'straight': 734,\n",
       "             'soundtrack': 735,\n",
       "             'leading': 736,\n",
       "             'laugh': 737,\n",
       "             'strange': 738,\n",
       "             'space': 739,\n",
       "             'b': 740,\n",
       "             'tale': 741,\n",
       "             'comic': 742,\n",
       "             'near': 743,\n",
       "             'due': 744,\n",
       "             'weak': 745,\n",
       "             'earlier': 746,\n",
       "             'follow': 747,\n",
       "             'british': 748,\n",
       "             'ends': 749,\n",
       "             'typical': 750,\n",
       "             'attention': 751,\n",
       "             'points': 752,\n",
       "             'talent': 753,\n",
       "             'tom': 754,\n",
       "             'female': 755,\n",
       "             'future': 756,\n",
       "             'fall': 757,\n",
       "             'laughs': 758,\n",
       "             'stop': 759,\n",
       "             'easy': 760,\n",
       "             'moving': 761,\n",
       "             'apart': 762,\n",
       "             'chance': 763,\n",
       "             'running': 764,\n",
       "             'york': 765,\n",
       "             'particularly': 766,\n",
       "             'luke': 767,\n",
       "             'bill': 768,\n",
       "             'forced': 769,\n",
       "             'theme': 770,\n",
       "             'rating': 771,\n",
       "             'coming': 772,\n",
       "             'davis': 773,\n",
       "             'totally': 774,\n",
       "             'realistic': 775,\n",
       "             'simple': 776,\n",
       "             'hours': 777,\n",
       "             'taken': 778,\n",
       "             'indeed': 779,\n",
       "             'released': 780,\n",
       "             'sexual': 781,\n",
       "             'feels': 782,\n",
       "             'french': 783,\n",
       "             'screenplay': 784,\n",
       "             'la': 785,\n",
       "             'jokes': 786,\n",
       "             'sequences': 787,\n",
       "             'chase': 788,\n",
       "             'portrayed': 789,\n",
       "             'dramatic': 790,\n",
       "             'mention': 791,\n",
       "             'talk': 792,\n",
       "             'gun': 793,\n",
       "             'thriller': 794,\n",
       "             'jimmy': 795,\n",
       "             'career': 796,\n",
       "             'reality': 797,\n",
       "             'incredibly': 798,\n",
       "             'whether': 799,\n",
       "             'towards': 800,\n",
       "             'easily': 801,\n",
       "             'entertainment': 802,\n",
       "             'feature': 803,\n",
       "             'western': 804,\n",
       "             'dialog': 805,\n",
       "             'business': 806,\n",
       "             'suspense': 807,\n",
       "             'focus': 808,\n",
       "             'doubt': 809,\n",
       "             'possibly': 810,\n",
       "             'water': 811,\n",
       "             'gay': 812,\n",
       "             'blob': 813,\n",
       "             'comments': 814,\n",
       "             'brothers': 815,\n",
       "             'clear': 816,\n",
       "             'agree': 817,\n",
       "             'allen': 818,\n",
       "             'door': 819,\n",
       "             'editing': 820,\n",
       "             'third': 821,\n",
       "             'deserves': 822,\n",
       "             'silly': 823,\n",
       "             'fantastic': 824,\n",
       "             'convincing': 825,\n",
       "             'hardly': 826,\n",
       "             'lame': 827,\n",
       "             'act': 828,\n",
       "             'former': 829,\n",
       "             'material': 830,\n",
       "             'appears': 831,\n",
       "             'understand': 832,\n",
       "             'twist': 833,\n",
       "             'episodes': 834,\n",
       "             'buy': 835,\n",
       "             'secret': 836,\n",
       "             'richard': 837,\n",
       "             'south': 838,\n",
       "             'bourne': 839,\n",
       "             'deal': 840,\n",
       "             'musical': 841,\n",
       "             'words': 842,\n",
       "             'unique': 843,\n",
       "             'mess': 844,\n",
       "             'opening': 845,\n",
       "             'society': 846,\n",
       "             'avoid': 847,\n",
       "             'footage': 848,\n",
       "             'joe': 849,\n",
       "             'free': 850,\n",
       "             'forget': 851,\n",
       "             'herself': 852,\n",
       "             'appear': 853,\n",
       "             'obvious': 854,\n",
       "             'box': 855,\n",
       "             'single': 856,\n",
       "             'average': 857,\n",
       "             'indian': 858,\n",
       "             'rent': 859,\n",
       "             'okay': 860,\n",
       "             'scary': 861,\n",
       "             'within': 862,\n",
       "             'office': 863,\n",
       "             'crime': 864,\n",
       "             'science': 865,\n",
       "             '80': 866,\n",
       "             'believable': 867,\n",
       "             'period': 868,\n",
       "             'showing': 869,\n",
       "             'call': 870,\n",
       "             'return': 871,\n",
       "             'keeps': 872,\n",
       "             'lee': 873,\n",
       "             'expected': 874,\n",
       "             'stay': 875,\n",
       "             'middle': 876,\n",
       "             'jack': 877,\n",
       "             'hands': 878,\n",
       "             'david': 879,\n",
       "             'attempts': 880,\n",
       "             'strong': 881,\n",
       "             'tension': 882,\n",
       "             'crew': 883,\n",
       "             'hilarious': 884,\n",
       "             'grade': 885,\n",
       "             'outside': 886,\n",
       "             'means': 887,\n",
       "             'viewing': 888,\n",
       "             'sadly': 889,\n",
       "             'hell': 890,\n",
       "             'whatever': 891,\n",
       "             'sorry': 892,\n",
       "             'recently': 893,\n",
       "             'stage': 894,\n",
       "             'decides': 895,\n",
       "             'hear': 896,\n",
       "             'team': 897,\n",
       "             'learn': 898,\n",
       "             'nor': 899,\n",
       "             'open': 900,\n",
       "             'break': 901,\n",
       "             'question': 902,\n",
       "             'remake': 903,\n",
       "             'porn': 904,\n",
       "             'pain': 905,\n",
       "             'imagine': 906,\n",
       "             'deep': 907,\n",
       "             'zombie': 908,\n",
       "             'basically': 909,\n",
       "             'killing': 910,\n",
       "             'company': 911,\n",
       "             'poorly': 912,\n",
       "             'dr.': 913,\n",
       "             'predictable': 914,\n",
       "             'taking': 915,\n",
       "             'large': 916,\n",
       "             'language': 917,\n",
       "             'giving': 918,\n",
       "             'public': 919,\n",
       "             'audiences': 920,\n",
       "             'ask': 921,\n",
       "             'cool': 922,\n",
       "             'america': 923,\n",
       "             'slasher': 924,\n",
       "             'west': 925,\n",
       "             'mentioned': 926,\n",
       "             'die': 927,\n",
       "             'christmas': 928,\n",
       "             'complete': 929,\n",
       "             'needed': 930,\n",
       "             'martin': 931,\n",
       "             'cgi': 932,\n",
       "             'boys': 933,\n",
       "             'vargas': 934,\n",
       "             'usual': 935,\n",
       "             'begin': 936,\n",
       "             'dad': 937,\n",
       "             'total': 938,\n",
       "             'somehow': 939,\n",
       "             'stick': 940,\n",
       "             'shame': 941,\n",
       "             'successful': 942,\n",
       "             'sitting': 943,\n",
       "             'fred': 944,\n",
       "             'meets': 945,\n",
       "             'unless': 946,\n",
       "             'dancing': 947,\n",
       "             'sounds': 948,\n",
       "             'above': 949,\n",
       "             'elements': 950,\n",
       "             'whose': 951,\n",
       "             'german': 952,\n",
       "             'considering': 953,\n",
       "             'caught': 954,\n",
       "             'credit': 955,\n",
       "             'interested': 956,\n",
       "             'move': 957,\n",
       "             'filming': 958,\n",
       "             'truth': 959,\n",
       "             'eventually': 960,\n",
       "             'share': 961,\n",
       "             'ability': 962,\n",
       "             'meaning': 963,\n",
       "             'agent': 964,\n",
       "             'fast': 965,\n",
       "             'stand': 966,\n",
       "             'onto': 967,\n",
       "             'plain': 968,\n",
       "             'comment': 969,\n",
       "             'kept': 970,\n",
       "             'situation': 971,\n",
       "             'setting': 972,\n",
       "             'value': 973,\n",
       "             'willing': 974,\n",
       "             'realize': 975,\n",
       "             'acted': 976,\n",
       "             'weird': 977,\n",
       "             'alive': 978,\n",
       "             'fairly': 979,\n",
       "             'dream': 980,\n",
       "             'building': 981,\n",
       "             'hair': 982,\n",
       "             'bored': 983,\n",
       "             'minute': 984,\n",
       "             'emotional': 985,\n",
       "             'directing': 986,\n",
       "             'theatrical': 987,\n",
       "             'famous': 988,\n",
       "             'begins': 989,\n",
       "             'front': 990,\n",
       "             'catch': 991,\n",
       "             'sequence': 992,\n",
       "             'runs': 993,\n",
       "             'follows': 994,\n",
       "             'song': 995,\n",
       "             'government': 996,\n",
       "             'miss': 997,\n",
       "             'actual': 998,\n",
       "             'makers': 999,\n",
       "             ...})"
      ]
     },
     "execution_count": 145,
     "metadata": {},
     "output_type": "execute_result"
    }
   ],
   "source": [
    "movie_reviews.vocab.stoi"
   ]
  },
  {
   "cell_type": "code",
   "execution_count": 146,
   "metadata": {
    "colab": {
     "base_uri": "https://localhost:8080/",
     "height": 35
    },
    "colab_type": "code",
    "id": "DppoDceNuab0",
    "outputId": "07eb2df7-a693-480e-a039-74dffee9c086"
   },
   "outputs": [
    {
     "data": {
      "text/plain": [
       "'xxunk'"
      ]
     },
     "execution_count": 146,
     "metadata": {},
     "output_type": "execute_result"
    }
   ],
   "source": [
    "movie_reviews.vocab.itos[movie_reviews.vocab.stoi['arles']]"
   ]
  },
  {
   "cell_type": "code",
   "execution_count": 147,
   "metadata": {
    "colab": {
     "base_uri": "https://localhost:8080/",
     "height": 35
    },
    "colab_type": "code",
    "id": "QSAEJpmAxWYW",
    "outputId": "6f304b1d-98d9-4b4e-8e51-976c6cef2fe6"
   },
   "outputs": [
    {
     "data": {
      "text/plain": [
       "0"
      ]
     },
     "execution_count": 147,
     "metadata": {},
     "output_type": "execute_result"
    }
   ],
   "source": [
    "movie_reviews.vocab.stoi['arles']\n"
   ]
  },
  {
   "cell_type": "markdown",
   "metadata": {
    "colab_type": "text",
    "id": "VqjV0JhSyJNE"
   },
   "source": [
    "**Create our term-documment matrix**"
   ]
  },
  {
   "cell_type": "markdown",
   "metadata": {
    "colab_type": "text",
    "id": "asBCNCnSxULT"
   },
   "source": [
    "\n",
    "Counter: data structure is a dictionary of frequencies\n"
   ]
  },
  {
   "cell_type": "code",
   "execution_count": 148,
   "metadata": {
    "colab": {},
    "colab_type": "code",
    "id": "DocFpTi5ybyv"
   },
   "outputs": [],
   "source": [
    "c = Counter([4,2,8,8,4,8])"
   ]
  },
  {
   "cell_type": "code",
   "execution_count": 149,
   "metadata": {
    "colab": {
     "base_uri": "https://localhost:8080/",
     "height": 35
    },
    "colab_type": "code",
    "id": "yLJvfYHfyP0E",
    "outputId": "79f770fa-827a-4ecb-c2e3-5a5e95b0c231"
   },
   "outputs": [
    {
     "data": {
      "text/plain": [
       "Counter({4: 2, 2: 1, 8: 3})"
      ]
     },
     "execution_count": 149,
     "metadata": {},
     "output_type": "execute_result"
    }
   ],
   "source": [
    "c"
   ]
  },
  {
   "cell_type": "code",
   "execution_count": 150,
   "metadata": {
    "colab": {
     "base_uri": "https://localhost:8080/",
     "height": 35
    },
    "colab_type": "code",
    "id": "q5dxsmshyp1W",
    "outputId": "fcb9aab6-cdc6-48dd-a91e-900607a97e29"
   },
   "outputs": [
    {
     "data": {
      "text/plain": [
       "dict_keys([4, 2, 8])"
      ]
     },
     "execution_count": 150,
     "metadata": {},
     "output_type": "execute_result"
    }
   ],
   "source": [
    "c.keys()"
   ]
  },
  {
   "cell_type": "code",
   "execution_count": 151,
   "metadata": {
    "colab": {
     "base_uri": "https://localhost:8080/",
     "height": 35
    },
    "colab_type": "code",
    "id": "affP5vmHyr0f",
    "outputId": "50f0c666-81f7-45c7-9731-b5e85bb06ce6"
   },
   "outputs": [
    {
     "data": {
      "text/plain": [
       "dict_values([2, 1, 3])"
      ]
     },
     "execution_count": 151,
     "metadata": {},
     "output_type": "execute_result"
    }
   ],
   "source": [
    "c.values()"
   ]
  },
  {
   "cell_type": "markdown",
   "metadata": {
    "colab_type": "text",
    "id": "x53Jdr9Qy0Av"
   },
   "source": [
    "Counters are from collections module"
   ]
  },
  {
   "cell_type": "markdown",
   "metadata": {
    "colab_type": "text",
    "id": "Ex4T5ZL_y204"
   },
   "source": [
    "**Sparse Matrices**"
   ]
  },
  {
   "cell_type": "markdown",
   "metadata": {
    "colab_type": "text",
    "id": "D-vm4_k8zZnm"
   },
   "source": [
    "-> coordinate-wise storage"
   ]
  },
  {
   "cell_type": "code",
   "execution_count": 152,
   "metadata": {
    "colab": {
     "base_uri": "https://localhost:8080/",
     "height": 35
    },
    "colab_type": "code",
    "id": "kn5Z5wpb99mU",
    "outputId": "9a2292f7-411b-4ab6-d067-86ccd8d27f14"
   },
   "outputs": [
    {
     "data": {
      "text/plain": [
       "array([ 2,  5, 21, 71, ..., 15,  5,  0, 52], dtype=int64)"
      ]
     },
     "execution_count": 152,
     "metadata": {},
     "output_type": "execute_result"
    }
   ],
   "source": [
    "(movie_reviews.valid.x)[0].data"
   ]
  },
  {
   "cell_type": "code",
   "execution_count": 153,
   "metadata": {
    "colab": {
     "base_uri": "https://localhost:8080/",
     "height": 162
    },
    "colab_type": "code",
    "id": "nErmErcr-Hl1",
    "outputId": "7a3a64b5-4054-446e-c925-a416b5d77905"
   },
   "outputs": [
    {
     "data": {
      "text/plain": [
       "Text xxbos xxmaj this very funny xxmaj british comedy shows what might happen if a section of xxmaj london , in this case xxmaj xxunk , were to xxunk itself independent from the rest of the xxup uk and its laws , xxunk & post - war xxunk . xxmaj merry xxunk is what would happen . \n",
       " \n",
       "  xxmaj the explosion of a wartime bomb leads to the xxunk of ancient xxunk which show that xxmaj xxunk was xxunk to the xxmaj xxunk of xxmaj xxunk xxunk ago , a small historical xxunk long since forgotten . xxmaj to the new xxmaj xxunk , however , this is an unexpected opportunity to live as they please , free from any xxunk from xxmaj xxunk . \n",
       " \n",
       "  xxmaj stanley xxmaj xxunk is excellent as the minor city xxunk who suddenly finds himself leading one of the world 's xxunk xxunk . xxmaj xxunk xxmaj margaret xxmaj xxunk is a delight as the history professor who sides with xxmaj xxunk . xxmaj others in the stand - out cast include xxmaj xxunk xxmaj xxunk , xxmaj paul xxmaj xxunk , xxmaj xxunk xxmaj xxunk , xxmaj xxunk xxmaj xxunk & xxmaj sir xxmaj michael xxmaj xxunk . \n",
       " \n",
       "  xxmaj welcome to xxmaj xxunk !"
      ]
     },
     "execution_count": 153,
     "metadata": {},
     "output_type": "execute_result"
    }
   ],
   "source": [
    "(movie_reviews.valid.x)[0]"
   ]
  },
  {
   "cell_type": "code",
   "execution_count": 154,
   "metadata": {
    "colab": {
     "base_uri": "https://localhost:8080/",
     "height": 35
    },
    "colab_type": "code",
    "id": "Yj21X-k9_qEi",
    "outputId": "890b60fd-2bd8-4c28-cf9e-2c3d9bcac40c"
   },
   "outputs": [
    {
     "data": {
      "text/plain": [
       "'funny'"
      ]
     },
     "execution_count": 154,
     "metadata": {},
     "output_type": "execute_result"
    }
   ],
   "source": [
    "movie_reviews.vocab.itos[189]"
   ]
  },
  {
   "cell_type": "code",
   "execution_count": 155,
   "metadata": {
    "colab": {
     "base_uri": "https://localhost:8080/",
     "height": 1000
    },
    "colab_type": "code",
    "id": "a6vYtbQkAL1M",
    "outputId": "25e0d14e-2491-4837-c36b-58e181f64e93"
   },
   "outputs": [
    {
     "data": {
      "text/plain": [
       "Counter({2: 1,\n",
       "         5: 32,\n",
       "         21: 3,\n",
       "         71: 1,\n",
       "         189: 1,\n",
       "         748: 1,\n",
       "         288: 1,\n",
       "         285: 1,\n",
       "         63: 2,\n",
       "         221: 1,\n",
       "         666: 2,\n",
       "         59: 1,\n",
       "         13: 4,\n",
       "         2705: 1,\n",
       "         14: 6,\n",
       "         2875: 1,\n",
       "         11: 10,\n",
       "         18: 2,\n",
       "         358: 1,\n",
       "         0: 32,\n",
       "         77: 1,\n",
       "         15: 6,\n",
       "         478: 1,\n",
       "         1833: 1,\n",
       "         50: 3,\n",
       "         9: 10,\n",
       "         319: 1,\n",
       "         6: 1,\n",
       "         2743: 1,\n",
       "         12: 1,\n",
       "         115: 1,\n",
       "         4126: 1,\n",
       "         197: 2,\n",
       "         1331: 1,\n",
       "         25: 2,\n",
       "         324: 1,\n",
       "         10: 7,\n",
       "         3963: 1,\n",
       "         16: 4,\n",
       "         74: 1,\n",
       "         24: 3,\n",
       "         2817: 1,\n",
       "         5821: 1,\n",
       "         2595: 1,\n",
       "         710: 1,\n",
       "         3429: 1,\n",
       "         84: 1,\n",
       "         149: 1,\n",
       "         20: 1,\n",
       "         26: 1,\n",
       "         605: 1,\n",
       "         378: 1,\n",
       "         1057: 1,\n",
       "         251: 1,\n",
       "         258: 1,\n",
       "         1346: 1,\n",
       "         194: 1,\n",
       "         239: 1,\n",
       "         49: 1,\n",
       "         2764: 1,\n",
       "         1335: 1,\n",
       "         409: 1,\n",
       "         27: 3,\n",
       "         45: 1,\n",
       "         594: 1,\n",
       "         850: 1,\n",
       "         109: 1,\n",
       "         2601: 1,\n",
       "         430: 1,\n",
       "         1902: 1,\n",
       "         541: 1,\n",
       "         54: 2,\n",
       "         1107: 1,\n",
       "         608: 1,\n",
       "         404: 1,\n",
       "         736: 1,\n",
       "         44: 1,\n",
       "         204: 1,\n",
       "         23: 1,\n",
       "         3480: 1,\n",
       "         4736: 1,\n",
       "         456: 1,\n",
       "         4051: 1,\n",
       "         2420: 1,\n",
       "         30: 1,\n",
       "         337: 1,\n",
       "         966: 1,\n",
       "         58: 1,\n",
       "         207: 1,\n",
       "         2110: 1,\n",
       "         571: 1,\n",
       "         5035: 1,\n",
       "         579: 1,\n",
       "         1843: 1,\n",
       "         52: 1})"
      ]
     },
     "execution_count": 155,
     "metadata": {},
     "output_type": "execute_result"
    }
   ],
   "source": [
    "feature_counter = Counter((movie_reviews.valid.x)[0].data)\n",
    "feature_counter"
   ]
  },
  {
   "cell_type": "code",
   "execution_count": 156,
   "metadata": {
    "colab": {},
    "colab_type": "code",
    "id": "ZBFKUXqFy6NF"
   },
   "outputs": [],
   "source": [
    "\n",
    "def get_term_doc_matrix(label_list, vocab_len):\n",
    "    j_indices = []\n",
    "    indptr = []\n",
    "    values = []\n",
    "    indptr.append(0)\n",
    "\n",
    "    for i, doc in enumerate(label_list):\n",
    "        feature_counter = Counter(doc.data)\n",
    "        j_indices.extend(feature_counter.keys())\n",
    "        values.extend(feature_counter.values())\n",
    "        indptr.append(len(j_indices))\n",
    "        \n",
    "#     return (values, j_indices, indptr)\n",
    "\n",
    "    return scipy.sparse.csr_matrix((values, j_indices, indptr),\n",
    "                                   shape=(len(indptr) - 1, vocab_len),\n",
    "                                   dtype=int)\n",
    "\n"
   ]
  },
  {
   "cell_type": "code",
   "execution_count": 157,
   "metadata": {
    "colab": {
     "base_uri": "https://localhost:8080/",
     "height": 53
    },
    "colab_type": "code",
    "id": "PYiXzJdB8oom",
    "outputId": "e3861a41-ff4b-4ba5-cd19-d0df05bbe13d"
   },
   "outputs": [
    {
     "name": "stdout",
     "output_type": "stream",
     "text": [
      "Wall time: 34.9 ms\n"
     ]
    }
   ],
   "source": [
    "%%time\n",
    "val_term_doc = get_term_doc_matrix(movie_reviews.valid.x, len(movie_reviews.vocab.itos))"
   ]
  },
  {
   "cell_type": "code",
   "execution_count": 158,
   "metadata": {
    "colab": {
     "base_uri": "https://localhost:8080/",
     "height": 53
    },
    "colab_type": "code",
    "id": "SBkPlbes8myT",
    "outputId": "8cd6401e-b6e7-44d9-ac4f-dbd9367ce01f"
   },
   "outputs": [
    {
     "name": "stdout",
     "output_type": "stream",
     "text": [
      "Wall time: 126 ms\n"
     ]
    }
   ],
   "source": [
    "%%time\n",
    "trn_term_doc = get_term_doc_matrix(movie_reviews.train.x, len(movie_reviews.vocab.itos))"
   ]
  },
  {
   "cell_type": "code",
   "execution_count": 159,
   "metadata": {
    "colab": {
     "base_uri": "https://localhost:8080/",
     "height": 35
    },
    "colab_type": "code",
    "id": "TKer18YDBaX7",
    "outputId": "8e9e4f62-925a-483d-de94-10334af4b500"
   },
   "outputs": [
    {
     "data": {
      "text/plain": [
       "(800, 6008)"
      ]
     },
     "execution_count": 159,
     "metadata": {},
     "output_type": "execute_result"
    }
   ],
   "source": [
    "trn_term_doc.shape"
   ]
  },
  {
   "cell_type": "code",
   "execution_count": 160,
   "metadata": {
    "colab": {
     "base_uri": "https://localhost:8080/",
     "height": 35
    },
    "colab_type": "code",
    "id": "31a-ChLrBlhE",
    "outputId": "208d3b8b-49b6-449d-d845-4151fbac043c"
   },
   "outputs": [
    {
     "data": {
      "text/plain": [
       "(200, 6008)"
      ]
     },
     "execution_count": 160,
     "metadata": {},
     "output_type": "execute_result"
    }
   ],
   "source": [
    "val_term_doc.shape"
   ]
  },
  {
   "cell_type": "code",
   "execution_count": 161,
   "metadata": {
    "colab": {
     "base_uri": "https://localhost:8080/",
     "height": 53
    },
    "colab_type": "code",
    "id": "1ZyXHzLSCqDL",
    "outputId": "7715f1df-5216-4c44-dd7b-9ca6acddbe37"
   },
   "outputs": [
    {
     "data": {
      "text/plain": [
       "<10x10 sparse matrix of type '<class 'numpy.int32'>'\n",
       "\twith 45 stored elements in Compressed Sparse Row format>"
      ]
     },
     "execution_count": 161,
     "metadata": {},
     "output_type": "execute_result"
    }
   ],
   "source": [
    "trn_term_doc[:10, :10]"
   ]
  },
  {
   "cell_type": "markdown",
   "metadata": {
    "colab_type": "text",
    "id": "axRNVK-0C-Y1"
   },
   "source": [
    "**More data exploration**\n",
    "\n"
   ]
  },
  {
   "cell_type": "markdown",
   "metadata": {
    "colab_type": "text",
    "id": "5lL_Hax0DoZH"
   },
   "source": [
    "Obtain a dense version of sparse matrix."
   ]
  },
  {
   "cell_type": "code",
   "execution_count": 162,
   "metadata": {
    "colab": {
     "base_uri": "https://localhost:8080/",
     "height": 178
    },
    "colab_type": "code",
    "id": "TFGADk75DmtA",
    "outputId": "e8f4befb-46c3-4005-fd12-7a2639c0d837"
   },
   "outputs": [
    {
     "data": {
      "text/plain": [
       "matrix([[32,  0,  1,  0, ...,  1,  0,  0, 10],\n",
       "        [ 9,  0,  1,  0, ...,  1,  0,  0,  7],\n",
       "        [ 6,  0,  1,  0, ...,  0,  0,  0, 12],\n",
       "        [78,  0,  1,  0, ...,  0,  0,  0, 44],\n",
       "        ...,\n",
       "        [ 8,  0,  1,  0, ...,  0,  0,  0,  8],\n",
       "        [43,  0,  1,  0, ...,  8,  1,  0, 25],\n",
       "        [ 7,  0,  1,  0, ...,  1,  0,  0,  9],\n",
       "        [19,  0,  1,  0, ...,  2,  0,  0,  5]])"
      ]
     },
     "execution_count": 162,
     "metadata": {},
     "output_type": "execute_result"
    }
   ],
   "source": [
    "val_term_doc.todense()[:10, :10]"
   ]
  },
  {
   "cell_type": "code",
   "execution_count": 163,
   "metadata": {
    "colab": {
     "base_uri": "https://localhost:8080/",
     "height": 35
    },
    "colab_type": "code",
    "id": "DvsuFPp6E9XY",
    "outputId": "23e7fb3c-b634-4100-b580-fcafdbcc0d16"
   },
   "outputs": [
    {
     "data": {
      "text/plain": [
       "['sollett']"
      ]
     },
     "execution_count": 163,
     "metadata": {},
     "output_type": "execute_result"
    }
   ],
   "source": [
    "movie_reviews.vocab.itos[-1:]"
   ]
  },
  {
   "cell_type": "code",
   "execution_count": 164,
   "metadata": {
    "colab": {
     "base_uri": "https://localhost:8080/",
     "height": 35
    },
    "colab_type": "code",
    "id": "5jLcXulKFX93",
    "outputId": "00735811-eaf0-471e-abc2-c475474fd038"
   },
   "outputs": [
    {
     "data": {
      "text/plain": [
       "'xxunk'"
      ]
     },
     "execution_count": 164,
     "metadata": {},
     "output_type": "execute_result"
    }
   ],
   "source": [
    "movie_reviews.vocab.itos[0]"
   ]
  },
  {
   "cell_type": "code",
   "execution_count": 165,
   "metadata": {
    "colab": {
     "base_uri": "https://localhost:8080/",
     "height": 35
    },
    "colab_type": "code",
    "id": "0GjZODy_FJ8o",
    "outputId": "88fdffbd-edff-4ab7-e367-cafa1cc8e861"
   },
   "outputs": [
    {
     "data": {
      "text/plain": [
       "6007"
      ]
     },
     "execution_count": 165,
     "metadata": {},
     "output_type": "execute_result"
    }
   ],
   "source": [
    "movie_reviews.vocab.stoi['sollett']"
   ]
  },
  {
   "cell_type": "code",
   "execution_count": 166,
   "metadata": {
    "colab": {
     "base_uri": "https://localhost:8080/",
     "height": 126
    },
    "colab_type": "code",
    "id": "aapw5sKIFi89",
    "outputId": "75d3580d-47f6-403f-98fa-2d1a2cb85a1b"
   },
   "outputs": [
    {
     "data": {
      "text/plain": [
       "Text xxbos i saw this movie once as a kid on the late - late show and fell in love with it . \n",
       " \n",
       "  xxmaj it took 30 + years , but i recently did find it on xxup dvd - it was n't cheap , either - in a xxunk that xxunk in war movies . xxmaj we watched it last night for the first time . xxmaj the audio was good , however it was grainy and had the trailers between xxunk . xxmaj even so , it was better than i remembered it . i was also impressed at how true it was to the play . \n",
       " \n",
       "  xxmaj the xxunk is around here xxunk . xxmaj if you 're xxunk in finding it , fire me a xxunk and i 'll see if i can get you the xxunk . xxunk"
      ]
     },
     "execution_count": 166,
     "metadata": {},
     "output_type": "execute_result"
    }
   ],
   "source": [
    "review = movie_reviews.valid.x[1]\n",
    "review"
   ]
  },
  {
   "cell_type": "markdown",
   "metadata": {
    "colab_type": "text",
    "id": "F1AQ0-9SFu7x"
   },
   "source": [
    "*Exercise:* confirm a value of 2 is stored in term document matrix for the row corresponding to this review and the column corresponding to the word late.\n"
   ]
  },
  {
   "cell_type": "code",
   "execution_count": 167,
   "metadata": {
    "colab": {
     "base_uri": "https://localhost:8080/",
     "height": 35
    },
    "colab_type": "code",
    "id": "AmukAOu9F8YY",
    "outputId": "5c3ed5e6-e77c-4f3b-e417-705dc6e183b1"
   },
   "outputs": [
    {
     "data": {
      "text/plain": [
       "451"
      ]
     },
     "execution_count": 167,
     "metadata": {},
     "output_type": "execute_result"
    }
   ],
   "source": [
    "movie_reviews.vocab.stoi['late']"
   ]
  },
  {
   "cell_type": "code",
   "execution_count": 168,
   "metadata": {},
   "outputs": [
    {
     "data": {
      "text/plain": [
       "2"
      ]
     },
     "execution_count": 168,
     "metadata": {},
     "output_type": "execute_result"
    }
   ],
   "source": [
    "val_term_doc[1, 451]"
   ]
  },
  {
   "cell_type": "markdown",
   "metadata": {
    "colab_type": "text",
    "id": "mWTcCKgbKZxO"
   },
   "source": [
    "*Excercise:* How could you convert review data back to text without using review.text"
   ]
  },
  {
   "cell_type": "code",
   "execution_count": 259,
   "metadata": {
    "colab": {
     "base_uri": "https://localhost:8080/",
     "height": 1000
    },
    "colab_type": "code",
    "id": "-NiuLjdQKkF8",
    "outputId": "b349ff51-9d84-4735-cc12-66add5fcee3a"
   },
   "outputs": [
    {
     "data": {
      "text/plain": [
       "['xxbos',\n",
       " 'xxunk',\n",
       " 'is',\n",
       " 'normally',\n",
       " 'xxunk',\n",
       " ',',\n",
       " 'and',\n",
       " 'it',\n",
       " \"'s\",\n",
       " 'never',\n",
       " 'really',\n",
       " 'bothered',\n",
       " 'me',\n",
       " 'before',\n",
       " '--',\n",
       " 'i',\n",
       " 'loved',\n",
       " '\"',\n",
       " 'xxunk',\n",
       " '2',\n",
       " '\"',\n",
       " ',',\n",
       " 'but',\n",
       " 'i',\n",
       " 'really',\n",
       " 'do',\n",
       " \"n't\",\n",
       " 'like',\n",
       " 'pseudo',\n",
       " 'xxunk',\n",
       " 'or',\n",
       " 'playing',\n",
       " 'on',\n",
       " 'xxunk',\n",
       " '.',\n",
       " 'the',\n",
       " 'whole',\n",
       " 'movie',\n",
       " 'is',\n",
       " 'based',\n",
       " 'on',\n",
       " 'a',\n",
       " 'man',\n",
       " 'with',\n",
       " 'esp',\n",
       " 'caused',\n",
       " 'by',\n",
       " 'an',\n",
       " 'xxunk',\n",
       " 'accident',\n",
       " 'and',\n",
       " 'a',\n",
       " 'witch',\n",
       " '.',\n",
       " 'i',\n",
       " \"'m\",\n",
       " 'not',\n",
       " 'opposed',\n",
       " 'to',\n",
       " 'xxunk',\n",
       " ',',\n",
       " 'and',\n",
       " 'i',\n",
       " 'liked',\n",
       " '\"',\n",
       " 'carrie',\n",
       " '\"',\n",
       " '(',\n",
       " 'the',\n",
       " 'novel',\n",
       " 'and',\n",
       " 'the',\n",
       " 'movie',\n",
       " ')',\n",
       " 'but',\n",
       " 'this',\n",
       " 'one',\n",
       " 'bothered',\n",
       " 'me',\n",
       " '.',\n",
       " 'i',\n",
       " 'think',\n",
       " 'it',\n",
       " \"'s\",\n",
       " 'because',\n",
       " 'of',\n",
       " 'the',\n",
       " 'main',\n",
       " 'character',\n",
       " 'developing',\n",
       " 'esp',\n",
       " 'from',\n",
       " 'an',\n",
       " 'electric',\n",
       " 'line',\n",
       " '.',\n",
       " 'also',\n",
       " 'the',\n",
       " 'university',\n",
       " 'professor',\n",
       " 'wasting',\n",
       " 'his',\n",
       " 'time',\n",
       " 'studying',\n",
       " 'esp',\n",
       " 'cases',\n",
       " '.',\n",
       " 'i',\n",
       " 'was',\n",
       " \"n't\",\n",
       " 'alive',\n",
       " 'in',\n",
       " 'the',\n",
       " '60s',\n",
       " 'to',\n",
       " 'know',\n",
       " 'first',\n",
       " 'hand',\n",
       " 'whether',\n",
       " 'or',\n",
       " 'not',\n",
       " 'esp',\n",
       " 'was',\n",
       " 'a',\n",
       " 'common',\n",
       " 'xxunk',\n",
       " 'then',\n",
       " ',',\n",
       " 'but',\n",
       " 'i',\n",
       " 'assume',\n",
       " 'that',\n",
       " 'any',\n",
       " 'theory',\n",
       " 'of',\n",
       " 'such',\n",
       " 'nature',\n",
       " 'would',\n",
       " 'simply',\n",
       " 'be',\n",
       " 'xxunk',\n",
       " '.',\n",
       " 'what',\n",
       " 'really',\n",
       " 'bothered',\n",
       " 'me',\n",
       " 'was',\n",
       " 'the',\n",
       " 'way',\n",
       " 'the',\n",
       " 'police',\n",
       " 'were',\n",
       " 'xxunk',\n",
       " 'xxunk',\n",
       " 'as',\n",
       " 'xxunk',\n",
       " ',',\n",
       " 'xxunk',\n",
       " 'villains',\n",
       " 'who',\n",
       " 'can',\n",
       " 'seem',\n",
       " 'like',\n",
       " 'normal',\n",
       " 'people',\n",
       " '99',\n",
       " '%',\n",
       " 'of',\n",
       " 'the',\n",
       " 'time',\n",
       " 'and',\n",
       " 'then',\n",
       " 'just',\n",
       " 'snap',\n",
       " '.',\n",
       " 'nothing',\n",
       " 'could',\n",
       " 'be',\n",
       " 'further',\n",
       " 'from',\n",
       " 'the',\n",
       " 'truth',\n",
       " '.',\n",
       " 'i',\n",
       " 'xxunk',\n",
       " 'such',\n",
       " 'xxunk',\n",
       " 'because',\n",
       " 'they',\n",
       " 'add',\n",
       " 'to',\n",
       " 'public',\n",
       " 'xxunk',\n",
       " '.',\n",
       " 'many',\n",
       " 'people',\n",
       " 'still',\n",
       " 'think',\n",
       " 'that',\n",
       " 'xxunk',\n",
       " 'is',\n",
       " 'xxunk',\n",
       " 'identity',\n",
       " 'xxunk',\n",
       " '.',\n",
       " 'whoever',\n",
       " 'wrote',\n",
       " 'this',\n",
       " 'script',\n",
       " 'did',\n",
       " \"n't\",\n",
       " 'know',\n",
       " 'much',\n",
       " 'about',\n",
       " 'xxunk',\n",
       " '.',\n",
       " '\\n \\n ',\n",
       " 'there',\n",
       " 'were',\n",
       " 'some',\n",
       " 'decent',\n",
       " 'xxunk',\n",
       " 'to',\n",
       " 'the',\n",
       " 'movie',\n",
       " '.',\n",
       " 'i',\n",
       " 'liked',\n",
       " 'the',\n",
       " 'way',\n",
       " 'the',\n",
       " 'witch',\n",
       " 'used',\n",
       " 'men',\n",
       " ';',\n",
       " 'it',\n",
       " 'was',\n",
       " 'a',\n",
       " 'nice',\n",
       " 'change',\n",
       " '.',\n",
       " 'i',\n",
       " 'liked',\n",
       " 'how',\n",
       " 'she',\n",
       " 'could',\n",
       " 'make',\n",
       " 'herself',\n",
       " 'attractive',\n",
       " ',',\n",
       " 'but',\n",
       " 'did',\n",
       " \"n't\",\n",
       " 'when',\n",
       " 'she',\n",
       " 'was',\n",
       " 'around',\n",
       " 'her',\n",
       " 'forced',\n",
       " 'lovers',\n",
       " '.',\n",
       " 'i',\n",
       " 'found',\n",
       " 'it',\n",
       " 'interesting',\n",
       " 'how',\n",
       " 'her',\n",
       " 'second',\n",
       " 'lover',\n",
       " 'also',\n",
       " 'burned',\n",
       " 'his',\n",
       " 'face',\n",
       " '.',\n",
       " 'had',\n",
       " 'the',\n",
       " 'script',\n",
       " 'been',\n",
       " 'touched',\n",
       " 'up',\n",
       " 'for',\n",
       " 'a',\n",
       " 'few',\n",
       " 'weeks',\n",
       " 'before',\n",
       " 'production',\n",
       " 'and',\n",
       " 'not',\n",
       " 'focused',\n",
       " 'solely',\n",
       " 'on',\n",
       " 'making',\n",
       " 'its',\n",
       " 'audience',\n",
       " 'dumber',\n",
       " ',',\n",
       " 'this',\n",
       " 'may',\n",
       " 'have',\n",
       " 'been',\n",
       " 'a',\n",
       " 'decent',\n",
       " 'movie',\n",
       " '.']"
      ]
     },
     "execution_count": 259,
     "metadata": {},
     "output_type": "execute_result"
    }
   ],
   "source": [
    "[movie_reviews.vocab.itos[a] for a in review.data]"
   ]
  },
  {
   "cell_type": "markdown",
   "metadata": {
    "colab_type": "text",
    "id": "dKA1TCmvKzSf"
   },
   "source": [
    "\n",
    "\n",
    "Exercise: Confirm that review has 81 distinct tokens\n"
   ]
  },
  {
   "cell_type": "code",
   "execution_count": 174,
   "metadata": {
    "colab": {
     "base_uri": "https://localhost:8080/",
     "height": 35
    },
    "colab_type": "code",
    "id": "0BA-MMS4KyXU",
    "outputId": "5efc4db2-5e3a-4a4a-a2c2-32999dd75424"
   },
   "outputs": [
    {
     "data": {
      "text/plain": [
       "81"
      ]
     },
     "execution_count": 174,
     "metadata": {},
     "output_type": "execute_result"
    }
   ],
   "source": [
    "len(set(review.data))\n"
   ]
  },
  {
   "cell_type": "markdown",
   "metadata": {
    "colab_type": "text",
    "id": "bEJURCG9I9Uj"
   },
   "source": []
  },
  {
   "cell_type": "code",
   "execution_count": 169,
   "metadata": {
    "colab": {
     "base_uri": "https://localhost:8080/",
     "height": 73
    },
    "colab_type": "code",
    "id": "eYfAniJ7G64H",
    "outputId": "72c8b4c5-dd15-4edd-a652-7710f42110f1"
   },
   "outputs": [
    {
     "data": {
      "text/plain": [
       "array([   2,   19,  248,   21,   29,  327,   27,   13,  618,   35,    9,  451,   25,  451,  149,   12, 1065,   18,\n",
       "        142,   30], dtype=int64)"
      ]
     },
     "execution_count": 169,
     "metadata": {},
     "output_type": "execute_result"
    }
   ],
   "source": [
    "review.data[:20]"
   ]
  },
  {
   "cell_type": "code",
   "execution_count": 170,
   "metadata": {
    "colab": {
     "base_uri": "https://localhost:8080/",
     "height": 35
    },
    "colab_type": "code",
    "id": "BMGWsO7cHNH_",
    "outputId": "6636982a-fb65-4b82-d681-556d884067f7"
   },
   "outputs": [
    {
     "data": {
      "text/plain": [
       "2"
      ]
     },
     "execution_count": 170,
     "metadata": {},
     "output_type": "execute_result"
    }
   ],
   "source": [
    "val_term_doc[1,451]\n"
   ]
  },
  {
   "cell_type": "code",
   "execution_count": 171,
   "metadata": {
    "colab": {
     "base_uri": "https://localhost:8080/",
     "height": 35
    },
    "colab_type": "code",
    "id": "1ZgUKtXlImjm",
    "outputId": "1339ad2d-14ee-4eff-c0b7-4deffaccacc2"
   },
   "outputs": [
    {
     "data": {
      "text/plain": [
       "144"
      ]
     },
     "execution_count": 171,
     "metadata": {},
     "output_type": "execute_result"
    }
   ],
   "source": [
    "val_term_doc[1].sum()"
   ]
  },
  {
   "cell_type": "code",
   "execution_count": 172,
   "metadata": {
    "colab": {
     "base_uri": "https://localhost:8080/",
     "height": 35
    },
    "colab_type": "code",
    "id": "IywsSmKKJAIH",
    "outputId": "88e481a3-1910-4052-c91d-b09a3e6f541a"
   },
   "outputs": [
    {
     "data": {
      "text/plain": [
       "2"
      ]
     },
     "execution_count": 172,
     "metadata": {},
     "output_type": "execute_result"
    }
   ],
   "source": [
    "val_term_doc.todense()[1,451]"
   ]
  },
  {
   "cell_type": "code",
   "execution_count": null,
   "metadata": {
    "colab": {},
    "colab_type": "code",
    "id": "o6tOt_-6KXpg"
   },
   "outputs": [],
   "source": []
  },
  {
   "cell_type": "markdown",
   "metadata": {
    "colab_type": "text",
    "id": "FXXEcvuoN6AH"
   },
   "source": []
  },
  {
   "cell_type": "markdown",
   "metadata": {
    "colab_type": "text",
    "id": "PsLTsR1J38Nm"
   },
   "source": [
    "***Naive Bayes***\n"
   ]
  },
  {
   "cell_type": "markdown",
   "metadata": {
    "colab_type": "text",
    "id": "1sq0v1D34MBd"
   },
   "source": [
    "We define the logcount ratio r of each word f"
   ]
  },
  {
   "cell_type": "code",
   "execution_count": 260,
   "metadata": {
    "colab": {
     "base_uri": "https://localhost:8080/",
     "height": 35
    },
    "colab_type": "code",
    "id": "xWr-sMCw4dzW",
    "outputId": "861b57cf-8d1a-4f11-e6e7-5b7932db003a"
   },
   "outputs": [
    {
     "data": {
      "text/plain": [
       "['negative', 'positive']"
      ]
     },
     "execution_count": 260,
     "metadata": {},
     "output_type": "execute_result"
    }
   ],
   "source": [
    "movie_reviews.y.classes"
   ]
  },
  {
   "cell_type": "code",
   "execution_count": 261,
   "metadata": {
    "colab": {},
    "colab_type": "code",
    "id": "y6WPfEO85A4f"
   },
   "outputs": [],
   "source": [
    "x = trn_term_doc\n",
    "y = movie_reviews.train.y\n",
    "val_y = movie_reviews.valid.y"
   ]
  },
  {
   "cell_type": "code",
   "execution_count": 262,
   "metadata": {
    "colab": {},
    "colab_type": "code",
    "id": "yorWa56g5XJ7"
   },
   "outputs": [],
   "source": [
    "positive = y.c2i['positive']\n",
    "negative = y.c2i['negative']"
   ]
  },
  {
   "cell_type": "code",
   "execution_count": 263,
   "metadata": {
    "colab": {},
    "colab_type": "code",
    "id": "hXL59vIF4FI6"
   },
   "outputs": [],
   "source": [
    "p1 = np.squeeze(np.asarray(x[y.items==positive].sum(0))) # \n",
    "p0 = np.squeeze(np.asarray(x[y.items==negative].sum(0)))"
   ]
  },
  {
   "cell_type": "code",
   "execution_count": 264,
   "metadata": {
    "colab": {
     "base_uri": "https://localhost:8080/",
     "height": 35
    },
    "colab_type": "code",
    "id": "VPRmJBiw69Xq",
    "outputId": "9950202c-246e-47be-a453-28042efe326b"
   },
   "outputs": [
    {
     "data": {
      "text/plain": [
       "38456"
      ]
     },
     "execution_count": 264,
     "metadata": {},
     "output_type": "execute_result"
    }
   ],
   "source": [
    "len(p0)"
   ]
  },
  {
   "cell_type": "code",
   "execution_count": 265,
   "metadata": {
    "colab": {
     "base_uri": "https://localhost:8080/",
     "height": 35
    },
    "colab_type": "code",
    "id": "U82DFURo66ai",
    "outputId": "20aeca3e-309d-4bbd-88e0-1187ab7b9e58"
   },
   "outputs": [
    {
     "data": {
      "text/plain": [
       "38456"
      ]
     },
     "execution_count": 265,
     "metadata": {},
     "output_type": "execute_result"
    }
   ],
   "source": [
    "len(p1)"
   ]
  },
  {
   "cell_type": "code",
   "execution_count": 266,
   "metadata": {
    "colab": {
     "base_uri": "https://localhost:8080/",
     "height": 35
    },
    "colab_type": "code",
    "id": "bgHA0LS27sBv",
    "outputId": "a577d930-b072-4a81-b866-3e8e3a3819e7"
   },
   "outputs": [
    {
     "data": {
      "text/plain": [
       "array([882,   0, 417,   0, ...,   0,   0,   0,   0], dtype=int32)"
      ]
     },
     "execution_count": 266,
     "metadata": {},
     "output_type": "execute_result"
    }
   ],
   "source": [
    "np.squeeze(np.asarray(x[y.items==negative].sum(0)))"
   ]
  },
  {
   "cell_type": "code",
   "execution_count": 269,
   "metadata": {},
   "outputs": [
    {
     "data": {
      "text/plain": [
       "scipy.sparse.csr.csr_matrix"
      ]
     },
     "execution_count": 269,
     "metadata": {},
     "output_type": "execute_result"
    }
   ],
   "source": [
    "type(x[y.items==negative])"
   ]
  },
  {
   "cell_type": "code",
   "execution_count": 268,
   "metadata": {},
   "outputs": [
    {
     "data": {
      "text/plain": [
       "array([[882,   0, 417,   0, ...,   0,   0,   0,   0]], dtype=int32)"
      ]
     },
     "execution_count": 268,
     "metadata": {},
     "output_type": "execute_result"
    }
   ],
   "source": [
    "np.asarray(x[y.items==negative].sum(0))"
   ]
  },
  {
   "cell_type": "code",
   "execution_count": 267,
   "metadata": {
    "colab": {
     "base_uri": "https://localhost:8080/",
     "height": 35
    },
    "colab_type": "code",
    "id": "33-t2S237zAv",
    "outputId": "b751b170-6165-421b-cc80-9514f7d30a19"
   },
   "outputs": [
    {
     "data": {
      "text/plain": [
       "array([843,   0, 383,   0, ...,   0,   0,   0,   0], dtype=int32)"
      ]
     },
     "execution_count": 267,
     "metadata": {},
     "output_type": "execute_result"
    }
   ],
   "source": [
    "np.squeeze(np.asarray(x[y.items==positive].sum(0)))"
   ]
  },
  {
   "cell_type": "code",
   "execution_count": 183,
   "metadata": {
    "colab": {},
    "colab_type": "code",
    "id": "asPqp0Yb9FFV"
   },
   "outputs": [],
   "source": [
    "v = movie_reviews.vocab"
   ]
  },
  {
   "cell_type": "code",
   "execution_count": 184,
   "metadata": {
    "colab": {
     "base_uri": "https://localhost:8080/",
     "height": 35
    },
    "colab_type": "code",
    "id": "URyCQX_S72y-",
    "outputId": "b30560e2-667e-417c-e2e9-f23b78cbcbc4"
   },
   "outputs": [
    {
     "data": {
      "text/plain": [
       "'xxunk'"
      ]
     },
     "execution_count": 184,
     "metadata": {},
     "output_type": "execute_result"
    }
   ],
   "source": [
    "v.itos[0]"
   ]
  },
  {
   "cell_type": "markdown",
   "metadata": {
    "colab_type": "text",
    "id": "W16cpTD0pdpV"
   },
   "source": [
    "Word loved in positive reviews"
   ]
  },
  {
   "cell_type": "code",
   "execution_count": 271,
   "metadata": {
    "colab": {
     "base_uri": "https://localhost:8080/",
     "height": 35
    },
    "colab_type": "code",
    "id": "CVfseeXB9Q9t",
    "outputId": "3342d4e2-4082-413e-d8b5-ef71b7396f0e"
   },
   "outputs": [
    {
     "data": {
      "text/plain": [
       "(8, 16)"
      ]
     },
     "execution_count": 271,
     "metadata": {},
     "output_type": "execute_result"
    }
   ],
   "source": [
    "p0[v.stoi['loved']], p1[v.stoi['loved']]"
   ]
  },
  {
   "cell_type": "markdown",
   "metadata": {
    "colab_type": "text",
    "id": "w6DskLDZ9go4"
   },
   "source": [
    "word hated in reviews"
   ]
  },
  {
   "cell_type": "code",
   "execution_count": 272,
   "metadata": {
    "colab": {
     "base_uri": "https://localhost:8080/",
     "height": 35
    },
    "colab_type": "code",
    "id": "1M-zmrhm9e1z",
    "outputId": "ea43cc6c-b6ce-4524-9d9d-3f76f41e2c61"
   },
   "outputs": [
    {
     "data": {
      "text/plain": [
       "(2, 7)"
      ]
     },
     "execution_count": 272,
     "metadata": {},
     "output_type": "execute_result"
    }
   ],
   "source": [
    "p0[v.stoi['hated']], p1[v.stoi['hated']]"
   ]
  },
  {
   "cell_type": "markdown",
   "metadata": {
    "colab_type": "text",
    "id": "S72fZ8RMpb2F"
   },
   "source": []
  },
  {
   "cell_type": "code",
   "execution_count": 188,
   "metadata": {
    "colab": {
     "base_uri": "https://localhost:8080/",
     "height": 35
    },
    "colab_type": "code",
    "id": "3q6HR9sI98b_",
    "outputId": "25c1973b-b95c-45a1-9aec-e65f141a830a"
   },
   "outputs": [
    {
     "data": {
      "text/plain": [
       "1977"
      ]
     },
     "execution_count": 188,
     "metadata": {},
     "output_type": "execute_result"
    }
   ],
   "source": [
    "v.stoi['hated']"
   ]
  },
  {
   "cell_type": "code",
   "execution_count": 189,
   "metadata": {
    "colab": {
     "base_uri": "https://localhost:8080/",
     "height": 35
    },
    "colab_type": "code",
    "id": "LhM5aglV9_p4",
    "outputId": "c13df222-8e34-4aa1-dc24-53db400372e4"
   },
   "outputs": [
    {
     "data": {
      "text/plain": [
       "array([ 15,  49, 304, 351, 393, 612, 695, 773])"
      ]
     },
     "execution_count": 189,
     "metadata": {},
     "output_type": "execute_result"
    }
   ],
   "source": [
    "a = np.argwhere((x[:,1977]) > 0)[:,0]; a"
   ]
  },
  {
   "cell_type": "code",
   "execution_count": 190,
   "metadata": {
    "colab": {
     "base_uri": "https://localhost:8080/",
     "height": 35
    },
    "colab_type": "code",
    "id": "uGdX9WSY-85q",
    "outputId": "e5a6c986-3489-436c-eaac-557fb6dce670"
   },
   "outputs": [
    {
     "data": {
      "text/plain": [
       "array([  1,   3,  10,  11, ..., 787, 789, 790, 797], dtype=int64)"
      ]
     },
     "execution_count": 190,
     "metadata": {},
     "output_type": "execute_result"
    }
   ],
   "source": [
    "b = np.argwhere(y.items==positive)[:,0]; b"
   ]
  },
  {
   "cell_type": "code",
   "execution_count": 191,
   "metadata": {
    "colab": {
     "base_uri": "https://localhost:8080/",
     "height": 35
    },
    "colab_type": "code",
    "id": "zyXp18BD_ALO",
    "outputId": "afa64ec3-5426-407f-af59-982769554bd0"
   },
   "outputs": [
    {
     "data": {
      "text/plain": [
       "{393, 612, 695}"
      ]
     },
     "execution_count": 191,
     "metadata": {},
     "output_type": "execute_result"
    }
   ],
   "source": [
    "set(a).intersection(set(b))"
   ]
  },
  {
   "cell_type": "code",
   "execution_count": 192,
   "metadata": {
    "colab": {
     "base_uri": "https://localhost:8080/",
     "height": 55
    },
    "colab_type": "code",
    "id": "J0pPUwUY_FKI",
    "outputId": "dd9c91e9-276d-4b8c-e7b3-a575302909ba"
   },
   "outputs": [
    {
     "data": {
      "text/plain": [
       "\"xxbos xxmaj xxunk , yeah this episode is extremely underrated . \\n \\n  xxmaj even though there is a xxup lot of bad writing and acting at parts . i think the good over wins the bad . \\n \\n  i love the xxunk parts and the big ' twist ' at the end . i absolutely love that scene when xxmaj michelle xxunk xxmaj tony . xxmaj it 's actually one of my favorite scenes of xxmaj season 1 . \\n \\n  xxmaj for some reason , people have always hated the xxmaj xxunk episodes , yet i have always liked them . xxmaj they 're not the best , in terms of writing . but the theme really does interest me , \\n \\n  i 'm gon na give it a xxup three star , but if the writing were a little more consistent i 'd give it xxup four .\""
      ]
     },
     "execution_count": 192,
     "metadata": {},
     "output_type": "execute_result"
    }
   ],
   "source": [
    "\n",
    "review = movie_reviews.train.x[695]\n",
    "review.text"
   ]
  },
  {
   "cell_type": "code",
   "execution_count": null,
   "metadata": {
    "colab": {},
    "colab_type": "code",
    "id": "q_-31RLV_hSw"
   },
   "outputs": [],
   "source": []
  },
  {
   "cell_type": "markdown",
   "metadata": {
    "colab_type": "text",
    "id": "nO4g9bQy_ioP"
   },
   "source": []
  },
  {
   "cell_type": "markdown",
   "metadata": {
    "colab_type": "text",
    "id": "qbz61oVK_iwZ"
   },
   "source": [
    "Negative reviews of the word loved"
   ]
  },
  {
   "cell_type": "code",
   "execution_count": 193,
   "metadata": {
    "colab": {
     "base_uri": "https://localhost:8080/",
     "height": 35
    },
    "colab_type": "code",
    "id": "q7FjbvEE_nl4",
    "outputId": "30f087cd-ebd7-46db-90ab-4749f03b5ce5"
   },
   "outputs": [
    {
     "data": {
      "text/plain": [
       "535"
      ]
     },
     "execution_count": 193,
     "metadata": {},
     "output_type": "execute_result"
    }
   ],
   "source": [
    "v.stoi['loved']"
   ]
  },
  {
   "cell_type": "code",
   "execution_count": 194,
   "metadata": {
    "colab": {
     "base_uri": "https://localhost:8080/",
     "height": 73
    },
    "colab_type": "code",
    "id": "Z1iIxh-M_tpc",
    "outputId": "8c41d22d-fe7d-41ef-fa5a-1dd54a3c1d7c"
   },
   "outputs": [
    {
     "data": {
      "text/plain": [
       "array([  1,  15,  29,  69,  75,  79, 174, 185, 200, 205, 262, 296, 303, 333, 350, 351, 398, 407, 440, 489, 496, 528,\n",
       "       538, 600, 602, 605, 627, 642, 657, 660, 700, 712, 729, 735, 755, 767, 785])"
      ]
     },
     "execution_count": 194,
     "metadata": {},
     "output_type": "execute_result"
    }
   ],
   "source": [
    "a = np.argwhere((x[:,535]) > 0)[:,0]; a"
   ]
  },
  {
   "cell_type": "code",
   "execution_count": 195,
   "metadata": {
    "colab": {
     "base_uri": "https://localhost:8080/",
     "height": 35
    },
    "colab_type": "code",
    "id": "XoMuE_ei_0EW",
    "outputId": "4105e570-d101-4f16-bbf7-9c307ab928c5"
   },
   "outputs": [
    {
     "data": {
      "text/plain": [
       "array([  0,   2,   4,   5, ..., 795, 796, 798, 799], dtype=int64)"
      ]
     },
     "execution_count": 195,
     "metadata": {},
     "output_type": "execute_result"
    }
   ],
   "source": [
    "b = np.argwhere(y.items==negative)[:,0]; b"
   ]
  },
  {
   "cell_type": "code",
   "execution_count": 196,
   "metadata": {
    "colab": {
     "base_uri": "https://localhost:8080/",
     "height": 35
    },
    "colab_type": "code",
    "id": "wF8SIE8u_2YX",
    "outputId": "ac4a1b94-2524-4f46-e573-3ab494bc35cf"
   },
   "outputs": [
    {
     "data": {
      "text/plain": [
       "{15, 200, 205, 303, 351, 398, 600, 605, 642, 700, 729, 767}"
      ]
     },
     "execution_count": 196,
     "metadata": {},
     "output_type": "execute_result"
    }
   ],
   "source": [
    "set(a).intersection(set(b))"
   ]
  },
  {
   "cell_type": "code",
   "execution_count": 197,
   "metadata": {
    "colab": {
     "base_uri": "https://localhost:8080/",
     "height": 55
    },
    "colab_type": "code",
    "id": "l3cf60FJ_9Zd",
    "outputId": "6a713029-f04a-4c69-f3ed-6feee0049d8e"
   },
   "outputs": [
    {
     "data": {
      "text/plain": [
       "'xxbos xxunk is normally xxunk , and it \\'s never really bothered me before -- i loved \" xxunk 2 \" , but i really do n\\'t like pseudo xxunk or playing on xxunk . the whole movie is based on a man with esp caused by an xxunk accident and a witch . i \\'m not opposed to xxunk , and i liked \" carrie \" ( the novel and the movie ) but this one bothered me . i think it \\'s because of the main character developing esp from an electric line . also the university professor wasting his time studying esp cases . i was n\\'t alive in the 60s to know first hand whether or not esp was a common xxunk then , but i assume that any theory of such nature would simply be xxunk . what really bothered me was the way the police were xxunk xxunk as xxunk , xxunk villains who can seem like normal people 99 % of the time and then just snap . nothing could be further from the truth . i xxunk such xxunk because they add to public xxunk . many people still think that xxunk is xxunk identity xxunk . whoever wrote this script did n\\'t know much about xxunk . \\n \\n  there were some decent xxunk to the movie . i liked the way the witch used men ; it was a nice change . i liked how she could make herself attractive , but did n\\'t when she was around her forced lovers . i found it interesting how her second lover also burned his face . had the script been touched up for a few weeks before production and not focused solely on making its audience dumber , this may have been a decent movie .'"
      ]
     },
     "execution_count": 197,
     "metadata": {},
     "output_type": "execute_result"
    }
   ],
   "source": [
    "review = movie_reviews.train.x[205]\n",
    "review.text"
   ]
  },
  {
   "cell_type": "code",
   "execution_count": null,
   "metadata": {
    "colab": {},
    "colab_type": "code",
    "id": "mN_uB1PbAlsO"
   },
   "outputs": [],
   "source": []
  },
  {
   "cell_type": "markdown",
   "metadata": {
    "colab_type": "text",
    "id": "AP6wux_JAmFa"
   },
   "source": [
    "*Applying Naive Bayes*"
   ]
  },
  {
   "cell_type": "code",
   "execution_count": 198,
   "metadata": {
    "colab": {},
    "colab_type": "code",
    "id": "egtk9EfwA881"
   },
   "outputs": [],
   "source": [
    "pr1 = (p1+1) / ((y.items == positive).sum() +1)"
   ]
  },
  {
   "cell_type": "code",
   "execution_count": 199,
   "metadata": {
    "colab": {},
    "colab_type": "code",
    "id": "SldAwf_lpkfe"
   },
   "outputs": [],
   "source": [
    "pr0 = (p0+1) / ((y.items == negative).sum() +1)\n"
   ]
  },
  {
   "cell_type": "code",
   "execution_count": 200,
   "metadata": {
    "colab": {
     "base_uri": "https://localhost:8080/",
     "height": 55
    },
    "colab_type": "code",
    "id": "_AjqIaIYpvJ_",
    "outputId": "bc6372d4-0a55-48a6-8509-df07a726cbeb"
   },
   "outputs": [
    {
     "data": {
      "text/plain": [
       "array([-0.015487,  0.084839,  0.      ,  0.084839, ...,  1.471133, -1.301455, -1.301455, -1.301455])"
      ]
     },
     "execution_count": 200,
     "metadata": {},
     "output_type": "execute_result"
    }
   ],
   "source": [
    "r = np.log(pr1/pr0); r"
   ]
  },
  {
   "cell_type": "markdown",
   "metadata": {
    "colab_type": "text",
    "id": "eTGHzYtEqMc_"
   },
   "source": [
    "**Vocabulary most likely associated with positive or negative reviews**"
   ]
  },
  {
   "cell_type": "code",
   "execution_count": 201,
   "metadata": {
    "colab": {},
    "colab_type": "code",
    "id": "2wwoXqwlqTwQ"
   },
   "outputs": [],
   "source": [
    "biggest = np.argpartition(r, -10)[-10:]"
   ]
  },
  {
   "cell_type": "code",
   "execution_count": 202,
   "metadata": {
    "colab": {},
    "colab_type": "code",
    "id": "N2-5wEa6qbJh"
   },
   "outputs": [],
   "source": [
    "smallest = np.argpartition(r, 10)[:10]"
   ]
  },
  {
   "cell_type": "markdown",
   "metadata": {
    "colab_type": "text",
    "id": "bTHIP5B4qqCD"
   },
   "source": [
    "most positive words:"
   ]
  },
  {
   "cell_type": "code",
   "execution_count": 203,
   "metadata": {
    "colab": {
     "base_uri": "https://localhost:8080/",
     "height": 196
    },
    "colab_type": "code",
    "id": "Gp5nvfLCqgjf",
    "outputId": "4fa178dc-f6c3-46d0-a2ea-e281aed0dd49"
   },
   "outputs": [
    {
     "data": {
      "text/plain": [
       "['sport',\n",
       " 'davies',\n",
       " 'gilliam',\n",
       " 'fanfan',\n",
       " 'biko',\n",
       " 'felix',\n",
       " 'noir',\n",
       " 'jabba',\n",
       " 'astaire',\n",
       " 'jimmy']"
      ]
     },
     "execution_count": 203,
     "metadata": {},
     "output_type": "execute_result"
    }
   ],
   "source": [
    "[v.itos[k] for k in biggest]"
   ]
  },
  {
   "cell_type": "code",
   "execution_count": null,
   "metadata": {
    "colab": {},
    "colab_type": "code",
    "id": "3FZChiG5rPa6"
   },
   "outputs": [],
   "source": []
  },
  {
   "cell_type": "code",
   "execution_count": 204,
   "metadata": {
    "colab": {
     "base_uri": "https://localhost:8080/",
     "height": 35
    },
    "colab_type": "code",
    "id": "KqFWK92NqubZ",
    "outputId": "ba66c55b-0848-4b24-8acc-d5b5a15477e8"
   },
   "outputs": [
    {
     "data": {
      "text/plain": [
       "515"
      ]
     },
     "execution_count": 204,
     "metadata": {},
     "output_type": "execute_result"
    }
   ],
   "source": [
    "np.argmax(trn_term_doc[:,v.stoi['biko']])"
   ]
  },
  {
   "cell_type": "code",
   "execution_count": 205,
   "metadata": {
    "colab": {
     "base_uri": "https://localhost:8080/",
     "height": 305
    },
    "colab_type": "code",
    "id": "i4vWMYU0q6bz",
    "outputId": "5d837c15-5fd5-4805-d6f6-e9d28908b4a4"
   },
   "outputs": [
    {
     "data": {
      "text/plain": [
       "Text xxbos \" xxmaj the xxmaj true xxmaj story xxmaj of xxmaj the xxmaj friendship xxmaj that xxmaj shook xxmaj south xxmaj africa xxmaj and xxmaj xxunk xxmaj the xxmaj world . \" \n",
       " \n",
       "  xxmaj richard xxmaj attenborough , who directed \" a xxmaj bridge xxmaj too xxmaj far \" and \" xxmaj gandhi \" , wanted to bring the story of xxmaj steve xxmaj biko to life , and the journey and trouble that xxunk xxmaj donald xxmaj woods went through in order to get his story told . xxmaj the films uses xxmaj wood 's two books for it 's information and basis - \" xxmaj biko \" and \" xxmaj asking for xxmaj trouble \" . \n",
       " \n",
       "  xxmaj the film takes place in the late 1970 's , in xxmaj south xxmaj africa . xxmaj south xxmaj africa is in the grip of the terrible apartheid , which keeps the blacks separated from the whites and xxunk the whites as the superior race . xxmaj the blacks are forced to live in xxunk on the xxunk of the cities and xxunk , and they come under frequent xxunk by the police and the army . xxmaj we are shown a dawn xxunk on a xxunk , as xxunk and armed police force their way through the camp beating and even killing the inhabitants . xxmaj then we are introduced to xxmaj donald xxmaj woods ( xxmaj kevin xxmaj kline ) , who is the editor of a popular newspaper . xxmaj after xxunk a negative story about black xxunk xxmaj steve xxmaj biko ( xxmaj denzel xxmaj washington ) , xxmaj woods goes to meet with him . xxmaj the two are xxunk of each other at first , but they soon become good friends and xxmaj biko shows the horrors of the apartheid system from a black persons point of view to xxmaj woods . xxmaj this xxunk xxmaj woods to speak out against what 's happening around him , and makes him desperate to bring xxmaj steve xxmaj biko 's story out of the xxunk of the white man 's xxmaj south xxmaj africa and to the world . xxmaj soon , xxmaj steve xxmaj biko is arrested and is killed in prison . xxmaj now xxmaj woods and his family are daring to escape from xxmaj south xxmaj africa to xxmaj england , where xxmaj woods can xxunk his book about xxmaj steve xxmaj biko and the apartheid . \n",
       " \n",
       "  xxmaj when i first heard of \" xxmaj cry xxmaj freedom \" , i was under the impression that it was a movie completely dedicated to the life of xxmaj steve xxmaj biko . i had never actually heard of xxmaj steve xxmaj biko before i seen this film , as the events in this film were really before my time . xxmaj but it 's more about the story of xxmaj donald xxmaj woods and his journey across the border into xxmaj xxunk as he tried to xxunk the xxmaj south xxmaj african xxunk . xxmaj woods was put on a five year type house xxunk after xxmaj steve xxmaj biko was killed . xxmaj so in order to xxunk his xxunk on xxmaj steve xxmaj biko , he had to escape . xxmaj because the xxunk would be considered xxunk in xxmaj south xxmaj africa and that could have resulted in xxmaj woods meeting a fate similar to that of xxmaj biko 's . xxmaj the real xxmaj donald xxmaj woods and his wife acted as xxunk to this film . \n",
       " \n",
       "  xxmaj denzel xxmaj washington is only in the film for the first hour , and i was disappointed with that as i was expecting to see him for the entire movie . xxmaj but he was amazing as xxmaj steve xxmaj biko , and captured his personality from what i 've read really well and his accent sounded perfect . xxmaj his performance earned him an xxmaj oscar nomination for xxmaj best xxmaj supporting xxmaj actor . xxmaj kevin xxmaj kline delivers a excellent and thought - xxunk performance as xxmaj donald xxmaj woods , and xxmaj penelope xxmaj xxunk is excellent as his wife xxmaj xxunk . \n",
       " \n",
       "  xxmaj filming took place in xxmaj xxunk , as needless to say problems xxunk when they tried to film it in xxmaj south xxmaj africa . xxmaj while in xxmaj south xxmaj africa , the xxmaj south xxmaj african xxunk followed the film crew everywhere , so they got the bad xxunk and they pulled out and went to xxunk xxmaj xxunk instead . xxmaj despite everything , and the fact that the apartheid did n't end ' xxunk seven years later , \" xxmaj cry xxmaj freedom \" was n't xxunk in xxmaj south xxmaj africa . xxmaj but xxunk showing the movie received bomb threats . \n",
       " \n",
       "  xxmaj richard xxmaj attenborough brings the horrors of the apartheid to the screen with extreme force and determination . xxmaj he does n't hold back at the end of the movie when showing what was supposed to be a xxunk xxunk by students in a xxunk , turns into a massacre when police open fire on them . xxmaj the film ends with the names of all the anti - apartheid xxunk who died in prison , and the explanations for their deaths . xxmaj many had \" xxmaj no xxmaj explanation \" . xxmaj quite a few were \" xxmaj xxunk \" , which is hard to believe , and many more either fell from the top of the xxunk or were \" xxmaj suicide from xxmaj hanging \" . xxmaj no one will ever know what really happened to them , but i think it 's fair to say that none of these men died at their own hands , but at the hands of others ; or to be more xxunk , at the hands of the police . \n",
       " \n",
       "  \" xxmaj cry xxmaj freedom \" is a must - see movie for it 's portrayal and story of xxmaj steve xxmaj biko . xxmaj it 's also a xxunk and xxunk portrayal of a beautiful land divided and in the xxunk grips of racial xxunk and violence ."
      ]
     },
     "execution_count": 205,
     "metadata": {},
     "output_type": "execute_result"
    }
   ],
   "source": [
    "movie_reviews.train.x[515]"
   ]
  },
  {
   "cell_type": "code",
   "execution_count": 206,
   "metadata": {
    "colab": {
     "base_uri": "https://localhost:8080/",
     "height": 196
    },
    "colab_type": "code",
    "id": "TeBcHUPHrP0J",
    "outputId": "c4984689-7c0a-4e9f-8676-835be7f3d88f"
   },
   "outputs": [
    {
     "data": {
      "text/plain": [
       "['worst',\n",
       " 'crap',\n",
       " 'crater',\n",
       " 'porn',\n",
       " 'disappointment',\n",
       " 'dog',\n",
       " 'vargas',\n",
       " 'naschy',\n",
       " 'fuqua',\n",
       " 'soderbergh']"
      ]
     },
     "execution_count": 206,
     "metadata": {},
     "output_type": "execute_result"
    }
   ],
   "source": [
    "[v.itos[k] for k in smallest]"
   ]
  },
  {
   "cell_type": "code",
   "execution_count": 207,
   "metadata": {
    "colab": {
     "base_uri": "https://localhost:8080/",
     "height": 35
    },
    "colab_type": "code",
    "id": "obZ2g1F4rU2L",
    "outputId": "875c9e2e-f769-4c49-a721-54fae24009b6"
   },
   "outputs": [
    {
     "data": {
      "text/plain": [
       "434"
      ]
     },
     "execution_count": 207,
     "metadata": {},
     "output_type": "execute_result"
    }
   ],
   "source": [
    "np.argmax(trn_term_doc[:,v.stoi['soderbergh']])"
   ]
  },
  {
   "cell_type": "code",
   "execution_count": 208,
   "metadata": {
    "colab": {
     "base_uri": "https://localhost:8080/",
     "height": 877
    },
    "colab_type": "code",
    "id": "1KZu4wkzrXca",
    "outputId": "621d3b77-f692-4f1d-eef1-9c6433f4f66b"
   },
   "outputs": [
    {
     "data": {
      "text/plain": [
       "Text xxbos xxmaj now that xxmaj che(2008 ) has finished its relatively short xxmaj australian cinema run ( extremely limited xxunk screen in xxmaj xxunk , after xxunk ) , i can xxunk join both xxunk of \" xxmaj at xxmaj the xxmaj movies \" in taking xxmaj steven xxmaj soderbergh to task . \n",
       " \n",
       "  xxmaj it 's usually satisfying to watch a film director change his style / subject , but xxmaj soderbergh 's most recent stinker , xxmaj the xxmaj girlfriend xxmaj xxunk ) , was also missing a story , so narrative ( and editing ? ) seem to suddenly be xxmaj soderbergh 's main challenge . xxmaj strange , after xxunk years in the business . xxmaj he was probably never much good at narrative , just xxunk it well inside \" edgy \" projects . \n",
       " \n",
       "  xxmaj none of this excuses him this present , almost diabolical failure . xxmaj as xxmaj david xxmaj xxunk xxunk , \" two parts of xxmaj che do n't ( even ) make a whole \" . \n",
       " \n",
       "  xxmaj epic xxunk in name only , xxmaj che(2008 ) barely qualifies as a feature film ! xxmaj it certainly has no legs , xxunk as except for its xxunk ultimate resolution forced upon it by history , xxmaj soderbergh 's xxunk - long xxunk just goes nowhere . \n",
       " \n",
       "  xxmaj even xxmaj margaret xxmaj xxunk , the more xxunk of xxmaj australia 's xxmaj at xxmaj the xxmaj movies duo , noted about xxmaj soderbergh 's xxunk waste of ( xxup xxunk digital xxunk ) : \" you 're in the woods ... xxunk in the woods ... xxunk in the woods ... \" . i too am surprised xxmaj soderbergh did n't give us another xxunk of xxup that somewhere between his xxunk two xxmaj parts , because he still left out massive xxunk of xxmaj che 's \" xxunk \" life ! \n",
       " \n",
       "  xxmaj for a xxunk of an important but infamous historical figure , xxmaj soderbergh xxunk xxunk , if not deliberately insults , his audiences by \n",
       " \n",
       "  1 . never providing most of xxmaj che 's story ; \n",
       " \n",
       "  2 . xxunk xxunk film xxunk with mere xxunk xxunk ; \n",
       " \n",
       "  3 . xxunk both true xxunk and a narrative of events ; \n",
       " \n",
       "  4 . barely developing an idea , or a character ; \n",
       " \n",
       "  5 . remaining xxunk episodic ; \n",
       " \n",
       "  6 . xxunk proper context for scenes --- whatever we do get is xxunk in xxunk xxunk ; \n",
       " \n",
       "  7 . xxunk xxunk all audiences ( even xxmaj spanish - xxunk will be confused by the xxunk xxunk in xxmaj english ) ; and \n",
       " \n",
       "  8 . xxunk xxunk his main subject into one dimension . xxmaj why , at xxup this late stage ? xxmaj the t - shirt franchise has been a success ! \n",
       " \n",
       "  xxmaj our sense of xxunk is surely due to xxmaj peter xxmaj xxunk and xxmaj benjamin xxunk xxmaj xxunk xxunk their screenplay solely on xxmaj xxunk 's memoirs . xxmaj so , like a poor student who has read only xxup one of his xxunk xxunk for his xxunk , xxmaj soderbergh 's product is xxunk limited in perspective . \n",
       " \n",
       "  xxmaj the audience is held captive within the same xxunk knowledge , scenery and circumstances of the \" revolutionaries \" , but that does n't xxunk our sympathy . xxmaj instead , it xxunk on us that \" xxmaj ah , xxmaj soderbergh 's trying to xxunk his audiences the same as the xxmaj latino peasants were at the time \" . xxmaj but these are the xxup same illiterate xxmaj latino peasants who xxunk out the good doctor to his enemies . xxmaj why does xxmaj soderbergh feel the need to xxunk us with them , and keep us equally mentally captive ? xxmaj such audience xxunk must have a purpose . \n",
       " \n",
       "  xxmaj part2 is more xxunk than xxmaj part1 , but it 's literally mind - numbing with its repetitive bush - bashing , misery of xxunk , and lack of variety or character xxunk . deltoro 's xxmaj che has no opportunity to grow as a person while he struggles to xxunk his own ill - xxunk troops . xxmaj the only xxunk is the humour as xxmaj che deals with his sometimes deeply ignorant \" revolutionaries \" , some of whom xxunk lack self - control around local peasants or food . xxmaj we certainly get no insight into what caused the conditions , nor any xxunk xxunk of their xxunk xxunk , such as it was . \n",
       " \n",
       "  xxmaj part2 's xxunk xxunk remains xxunk episodic : again , nothing is telegraphed or xxunk . xxmaj thus even the scenes with xxmaj xxunk xxmaj xxunk ( xxmaj xxunk xxmaj xxunk ) are unexpected and disconcerting . xxmaj any xxunk events are portrayed xxunk and xxmaj latino - xxunk , with xxmaj part1 's interviews xxunk by time - xxunk xxunk between the corrupt xxmaj xxunk president ( xxmaj xxunk de xxmaj xxunk ) and xxup us xxmaj government xxunk promising xxup cia xxunk ( ! ) . \n",
       " \n",
       "  xxmaj the rest of xxmaj part2 's \" woods \" and day - for - night blue xxunk just xxunk the audience until they 're xxunk the xxunk . \n",
       " \n",
       "  xxmaj perhaps deltoro felt too xxunk the frustration of many non - xxmaj american xxmaj latinos about never getting a truthful , xxunk history of xxmaj che 's xxunk within their own countries . xxmaj when foreign xxunk still wo n't deliver a free press to their people -- for whatever reason -- then one can see how a popular xxmaj american indie producer might set out to xxunk the not - so - well - read ( \" i may not be able to read or write , but i 'm xxup not xxunk . xxmaj the xxmaj inspector xxmaj xxunk ) ) out to their own local xxunk . xxmaj the film 's obvious xxunk and gross over - xxunk hint very strongly that it 's aiming only at the xxunk of the less - informed xxup who xxup still xxup speak xxup little xxmaj english . xxmaj if they did , they 'd have read xxunk on the subject already , and xxunk the relevant social issues amongst themselves -- learning the lessons of history as they should . \n",
       " \n",
       "  xxmaj such insights are precisely what societies still need -- and not just the remaining illiterate xxmaj latinos of xxmaj central and xxmaj south xxmaj america -- yet it 's what xxmaj che(2008 ) xxunk fails to deliver . xxmaj soderbergh xxunk his lead because he 's weak on narrative . i am xxunk why xxmaj xxunk deltoro deliberately chose xxmaj soderbergh for this project if he knew this . xxmaj it 's been xxunk , xxunk about xxmaj xxunk was xxunk wanted : it 's what i went to see this film for , but the director xxunk robs us of that . \n",
       " \n",
       "  xxmaj david xxmaj xxunk , writing in xxmaj the xxmaj australian ( xxunk ) observed that while xxmaj part1 was \" uneven \" , xxmaj part2 actually \" goes rapidly downhill \" from there , \" xxunk xxmaj che 's final xxunk in xxmaj xxunk in xxunk detail \" , which \" ... feels almost unbearably slow and turgid \" . \n",
       " \n",
       "  xxmaj che : xxmaj the xxmaj xxunk aka xxmaj part2 is certainly no xxunk for xxmaj xxunk , painting it a picture of misery and xxunk . xxmaj the entire second half is only xxunk by the aforementioned humour , and the dramatic -- yet tragic -- capture and execution of the film 's subject . \n",
       " \n",
       "  xxmaj the rest of this xxunk cinema xxunk is just confusing , irritating misery -- xxunk , for a xxmaj soderbergh film , to be avoided at all costs . xxmaj it is bound to break the hearts of all who know even just a xxunk about the xxunk / 10 )"
      ]
     },
     "execution_count": 208,
     "metadata": {},
     "output_type": "execute_result"
    }
   ],
   "source": [
    "movie_reviews.train.x[434]"
   ]
  },
  {
   "cell_type": "code",
   "execution_count": null,
   "metadata": {
    "colab": {},
    "colab_type": "code",
    "id": "MnyJavfjrttE"
   },
   "outputs": [],
   "source": []
  },
  {
   "cell_type": "markdown",
   "metadata": {
    "colab_type": "text",
    "id": "9h-3Rep4r16-"
   },
   "source": [
    "Continuing to Naive Bayes"
   ]
  },
  {
   "cell_type": "code",
   "execution_count": 209,
   "metadata": {
    "colab": {
     "base_uri": "https://localhost:8080/",
     "height": 35
    },
    "colab_type": "code",
    "id": "OwfLs8YAr4Bj",
    "outputId": "950360f9-f097-42b0-a57f-c4105e54ad7e"
   },
   "outputs": [
    {
     "data": {
      "text/plain": [
       "(0.47875, 0.52125)"
      ]
     },
     "execution_count": 209,
     "metadata": {},
     "output_type": "execute_result"
    }
   ],
   "source": [
    "(y.items == positive).mean(), (y.items == negative).mean(), "
   ]
  },
  {
   "cell_type": "markdown",
   "metadata": {
    "colab_type": "text",
    "id": "1jwdkOtytkQV"
   },
   "source": [
    "- Greater than 0 positive\n",
    "- less than 0 negative\n"
   ]
  },
  {
   "cell_type": "code",
   "execution_count": 210,
   "metadata": {
    "colab": {
     "base_uri": "https://localhost:8080/",
     "height": 35
    },
    "colab_type": "code",
    "id": "6j_yFY9Ytpbm",
    "outputId": "aa1473eb-12c6-4b31-8b7e-19ee0177c6ca"
   },
   "outputs": [
    {
     "data": {
      "text/plain": [
       "-0.08505123261815539"
      ]
     },
     "execution_count": 210,
     "metadata": {},
     "output_type": "execute_result"
    }
   ],
   "source": [
    "b = np.log((y.items==positive).mean()/(y.items==negative).mean())\n",
    "b"
   ]
  },
  {
   "cell_type": "code",
   "execution_count": 211,
   "metadata": {
    "colab": {
     "base_uri": "https://localhost:8080/",
     "height": 35
    },
    "colab_type": "code",
    "id": "ysDnERHwt7Mv",
    "outputId": "fc46c2d5-1266-41ed-da3e-4cefbf4552af"
   },
   "outputs": [
    {
     "data": {
      "text/plain": [
       "array([ True, False, False, False, ...,  True, False, False,  True])"
      ]
     },
     "execution_count": 211,
     "metadata": {},
     "output_type": "execute_result"
    }
   ],
   "source": [
    "preds = (val_term_doc@r + b) > 0\n",
    "preds"
   ]
  },
  {
   "cell_type": "code",
   "execution_count": 212,
   "metadata": {
    "colab": {
     "base_uri": "https://localhost:8080/",
     "height": 35
    },
    "colab_type": "code",
    "id": "qQ87ngM2uOSB",
    "outputId": "02322b3d-4499-4f7f-856d-909c923879f7"
   },
   "outputs": [
    {
     "data": {
      "text/plain": [
       "0.645"
      ]
     },
     "execution_count": 212,
     "metadata": {},
     "output_type": "execute_result"
    }
   ],
   "source": [
    "(preds == val_y.items).mean()"
   ]
  },
  {
   "cell_type": "markdown",
   "metadata": {
    "colab_type": "text",
    "id": "y7cRttDwualz"
   },
   "source": [
    "**Processing Full Data Set**"
   ]
  },
  {
   "cell_type": "markdown",
   "metadata": {
    "colab_type": "text",
    "id": "nE696mNXufq6"
   },
   "source": [
    "Download:"
   ]
  },
  {
   "cell_type": "code",
   "execution_count": 213,
   "metadata": {
    "colab": {
     "base_uri": "https://localhost:8080/",
     "height": 142
    },
    "colab_type": "code",
    "id": "q4k-AuVque66",
    "outputId": "95ca8f05-6e0d-4fad-e848-6949f29c8a65"
   },
   "outputs": [
    {
     "data": {
      "text/plain": [
       "[WindowsPath('C:/Users/Arles/.fastai/data/imdb/imdb.vocab'),\n",
       " WindowsPath('C:/Users/Arles/.fastai/data/imdb/imdb_textlist_class'),\n",
       " WindowsPath('C:/Users/Arles/.fastai/data/imdb/lm_databunch'),\n",
       " WindowsPath('C:/Users/Arles/.fastai/data/imdb/models'),\n",
       " WindowsPath('C:/Users/Arles/.fastai/data/imdb/README'),\n",
       " WindowsPath('C:/Users/Arles/.fastai/data/imdb/test'),\n",
       " WindowsPath('C:/Users/Arles/.fastai/data/imdb/tmp_clas'),\n",
       " WindowsPath('C:/Users/Arles/.fastai/data/imdb/tmp_lm'),\n",
       " WindowsPath('C:/Users/Arles/.fastai/data/imdb/train'),\n",
       " WindowsPath('C:/Users/Arles/.fastai/data/imdb/unsup')]"
      ]
     },
     "execution_count": 213,
     "metadata": {},
     "output_type": "execute_result"
    }
   ],
   "source": [
    "path = untar_data(URLs.IMDB)\n",
    "path.ls()"
   ]
  },
  {
   "cell_type": "code",
   "execution_count": 214,
   "metadata": {
    "colab": {
     "base_uri": "https://localhost:8080/",
     "height": 88
    },
    "colab_type": "code",
    "id": "Sdws_8fAvIx-",
    "outputId": "b93971da-3f38-48fc-d213-4d7bef1b1537"
   },
   "outputs": [
    {
     "data": {
      "text/plain": [
       "[WindowsPath('C:/Users/Arles/.fastai/data/imdb/train/labeledBow.feat'),\n",
       " WindowsPath('C:/Users/Arles/.fastai/data/imdb/train/neg'),\n",
       " WindowsPath('C:/Users/Arles/.fastai/data/imdb/train/pos'),\n",
       " WindowsPath('C:/Users/Arles/.fastai/data/imdb/train/unsupBow.feat')]"
      ]
     },
     "execution_count": 214,
     "metadata": {},
     "output_type": "execute_result"
    }
   ],
   "source": [
    "(path/'train').ls()"
   ]
  },
  {
   "cell_type": "code",
   "execution_count": 215,
   "metadata": {
    "colab": {},
    "colab_type": "code",
    "id": "9R7ijxlRvj40"
   },
   "outputs": [],
   "source": [
    "reviews_full = (TextList.from_folder(path)\n",
    "             #grab all the text files in path\n",
    "             .split_by_folder(valid='test')\n",
    "             #split by train and valid folder (that only keeps 'train' and 'test' so no need to filter)\n",
    "             .label_from_folder(classes=['neg', 'pos']))\n",
    "             #label them all with their folders"
   ]
  },
  {
   "cell_type": "code",
   "execution_count": 216,
   "metadata": {
    "colab": {
     "base_uri": "https://localhost:8080/",
     "height": 35
    },
    "colab_type": "code",
    "id": "B_WX7puLvmRE",
    "outputId": "11bfcdb8-9138-4a33-f7d8-479ea668b260"
   },
   "outputs": [
    {
     "data": {
      "text/plain": [
       "(25000, 25000)"
      ]
     },
     "execution_count": 216,
     "metadata": {},
     "output_type": "execute_result"
    }
   ],
   "source": [
    "len(reviews_full.train), len(reviews_full.valid)"
   ]
  },
  {
   "cell_type": "code",
   "execution_count": 217,
   "metadata": {
    "colab": {},
    "colab_type": "code",
    "id": "TGW_KKjfwv1y"
   },
   "outputs": [],
   "source": [
    "v = reviews_full.vocab"
   ]
  },
  {
   "cell_type": "code",
   "execution_count": 218,
   "metadata": {
    "colab": {
     "base_uri": "https://localhost:8080/",
     "height": 196
    },
    "colab_type": "code",
    "id": "DUMM30Y5wyni",
    "outputId": "1aea3228-0253-45f6-e4bb-e864c66ace55"
   },
   "outputs": [
    {
     "data": {
      "text/plain": [
       "['bad',\n",
       " 'people',\n",
       " 'will',\n",
       " 'other',\n",
       " 'also',\n",
       " 'into',\n",
       " 'first',\n",
       " 'because',\n",
       " 'great',\n",
       " 'how']"
      ]
     },
     "execution_count": 218,
     "metadata": {},
     "output_type": "execute_result"
    }
   ],
   "source": [
    "v.itos[100:110]"
   ]
  },
  {
   "cell_type": "code",
   "execution_count": 219,
   "metadata": {
    "colab": {
     "base_uri": "https://localhost:8080/",
     "height": 53
    },
    "colab_type": "code",
    "id": "6Iu1_CLTw3Gr",
    "outputId": "0295a90c-fbe5-4911-cb84-90abbc014f06"
   },
   "outputs": [
    {
     "name": "stdout",
     "output_type": "stream",
     "text": [
      "Wall time: 4.18 s\n"
     ]
    }
   ],
   "source": [
    "%%time\n",
    "val_term_doc = get_term_doc_matrix(reviews_full.valid.x, len(reviews_full.vocab.itos))"
   ]
  },
  {
   "cell_type": "code",
   "execution_count": 220,
   "metadata": {
    "colab": {
     "base_uri": "https://localhost:8080/",
     "height": 53
    },
    "colab_type": "code",
    "id": "dY-h4ImGw7ma",
    "outputId": "875693c3-e27d-4a62-b73e-5e12fdbc8e37"
   },
   "outputs": [
    {
     "name": "stdout",
     "output_type": "stream",
     "text": [
      "Wall time: 4.82 s\n"
     ]
    }
   ],
   "source": [
    "%%time\n",
    "trn_term_doc = get_term_doc_matrix(reviews_full.train.x, len(reviews_full.vocab.itos))"
   ]
  },
  {
   "cell_type": "code",
   "execution_count": null,
   "metadata": {
    "colab": {},
    "colab_type": "code",
    "id": "Q1UDtioLw-Ik"
   },
   "outputs": [],
   "source": []
  },
  {
   "cell_type": "markdown",
   "metadata": {
    "colab_type": "text",
    "id": "iwz77PnTw_az"
   },
   "source": [
    "**Save data**"
   ]
  },
  {
   "cell_type": "markdown",
   "metadata": {
    "colab_type": "text",
    "id": "bZc8FlPNxD1k"
   },
   "source": [
    "Matrices can be saved"
   ]
  },
  {
   "cell_type": "code",
   "execution_count": 221,
   "metadata": {
    "colab": {},
    "colab_type": "code",
    "id": "aQ3L4tjixCPP"
   },
   "outputs": [],
   "source": [
    "scipy.sparse.save_npz(\"trn_term_doc.npz\", trn_term_doc)"
   ]
  },
  {
   "cell_type": "code",
   "execution_count": 222,
   "metadata": {
    "colab": {},
    "colab_type": "code",
    "id": "Ei237PWyxMx7"
   },
   "outputs": [],
   "source": [
    "scipy.sparse.save_npz(\"val_term_doc.npz\", val_term_doc)"
   ]
  },
  {
   "cell_type": "code",
   "execution_count": 223,
   "metadata": {
    "colab": {},
    "colab_type": "code",
    "id": "EMDF_oHKxQHd"
   },
   "outputs": [],
   "source": [
    "trn_term_doc = scipy.sparse.load_npz(\"trn_term_doc.npz\")\n",
    "val_term_doc = scipy.sparse.load_npz(\"val_term_doc.npz\")"
   ]
  },
  {
   "cell_type": "markdown",
   "metadata": {
    "colab_type": "text",
    "id": "xMZARvNtxWln"
   },
   "source": [
    "Naive Bayes on Full dataset"
   ]
  },
  {
   "cell_type": "code",
   "execution_count": 224,
   "metadata": {
    "colab": {},
    "colab_type": "code",
    "id": "8r4elsDoxZDd"
   },
   "outputs": [],
   "source": [
    "x=trn_term_doc\n",
    "y=reviews_full.train.y\n",
    "\n",
    "val_y = reviews_full.valid.y.items"
   ]
  },
  {
   "cell_type": "code",
   "execution_count": 225,
   "metadata": {
    "colab": {
     "base_uri": "https://localhost:8080/",
     "height": 53
    },
    "colab_type": "code",
    "id": "VM3ByRupxb3N",
    "outputId": "a399c6a5-ad9f-49e5-8cdf-e237a57d37f4"
   },
   "outputs": [
    {
     "data": {
      "text/plain": [
       "<25000x38456 sparse matrix of type '<class 'numpy.int32'>'\n",
       "\twith 3716265 stored elements in Compressed Sparse Row format>"
      ]
     },
     "execution_count": 225,
     "metadata": {},
     "output_type": "execute_result"
    }
   ],
   "source": [
    "x"
   ]
  },
  {
   "cell_type": "code",
   "execution_count": 226,
   "metadata": {
    "colab": {},
    "colab_type": "code",
    "id": "TQHcJZPwxeSW"
   },
   "outputs": [],
   "source": [
    "positive = y.c2i['pos']\n",
    "negative = y.c2i['neg']"
   ]
  },
  {
   "cell_type": "code",
   "execution_count": 227,
   "metadata": {
    "colab": {},
    "colab_type": "code",
    "id": "7JJemX7Cxf3d"
   },
   "outputs": [],
   "source": [
    "p0 = np.squeeze(np.asarray(x[y.items==negative].sum(0)))\n",
    "p1 = np.squeeze(np.asarray(x[y.items==positive].sum(0)))"
   ]
  },
  {
   "cell_type": "code",
   "execution_count": 228,
   "metadata": {
    "colab": {
     "base_uri": "https://localhost:8080/",
     "height": 73
    },
    "colab_type": "code",
    "id": "gxYlAiHNxhum",
    "outputId": "23f6ff54-0ccd-4766-873f-06d39bbcfed9"
   },
   "outputs": [
    {
     "data": {
      "text/plain": [
       "array([ 28450,      0,  12500,      0,      0, 342619,  20464,   1338,      7, 173122, 138000, 143763,  89570,  83404,\n",
       "        76828,  66715,  58510,  47896,  50177,  40451], dtype=int32)"
      ]
     },
     "execution_count": 228,
     "metadata": {},
     "output_type": "execute_result"
    }
   ],
   "source": [
    "p1[:20]"
   ]
  },
  {
   "cell_type": "markdown",
   "metadata": {
    "colab_type": "text",
    "id": "TA9fMNeoxmC9"
   },
   "source": [
    "**Data exploration**\n",
    "\n",
    "Bigger ratio mean the word is indicative of a negative review, smaller ratios (<1) mean a positive review."
   ]
  },
  {
   "cell_type": "code",
   "execution_count": 229,
   "metadata": {
    "colab": {},
    "colab_type": "code",
    "id": "jWi8_3NRx--m"
   },
   "outputs": [],
   "source": [
    "\n",
    "\n",
    "def neg_pos_given_word(word):\n",
    "    print(p0[v.stoi[word]]/p1[v.stoi[word]])\n",
    "\n"
   ]
  },
  {
   "cell_type": "code",
   "execution_count": 230,
   "metadata": {
    "colab": {
     "base_uri": "https://localhost:8080/",
     "height": 35
    },
    "colab_type": "code",
    "id": "vb-J0GLtyDgf",
    "outputId": "c18d821a-331c-4ec1-feb4-15944c2c58ea"
   },
   "outputs": [
    {
     "name": "stdout",
     "output_type": "stream",
     "text": [
      "2.051546391752577\n"
     ]
    }
   ],
   "source": [
    "neg_pos_given_word('hated')"
   ]
  },
  {
   "cell_type": "code",
   "execution_count": 231,
   "metadata": {
    "colab": {
     "base_uri": "https://localhost:8080/",
     "height": 35
    },
    "colab_type": "code",
    "id": "Epy05oHRyEXN",
    "outputId": "cd38f5ef-8c0f-4c60-d1a8-6a98ea7924a7"
   },
   "outputs": [
    {
     "name": "stdout",
     "output_type": "stream",
     "text": [
      "0.6424702058504875\n"
     ]
    }
   ],
   "source": [
    "neg_pos_given_word('liked')"
   ]
  },
  {
   "cell_type": "code",
   "execution_count": 232,
   "metadata": {
    "colab": {
     "base_uri": "https://localhost:8080/",
     "height": 35
    },
    "colab_type": "code",
    "id": "_PhUl74zyGpb",
    "outputId": "fd1afd6b-eeab-46dd-8934-26c48b8f2e98"
   },
   "outputs": [
    {
     "name": "stdout",
     "output_type": "stream",
     "text": [
      "0.3139963167587477\n"
     ]
    }
   ],
   "source": [
    "neg_pos_given_word('loved')"
   ]
  },
  {
   "cell_type": "code",
   "execution_count": 233,
   "metadata": {
    "colab": {
     "base_uri": "https://localhost:8080/",
     "height": 35
    },
    "colab_type": "code",
    "id": "xwGEt0leyIOI",
    "outputId": "b23d1fa9-2d19-4693-ce44-5b35d6289aeb"
   },
   "outputs": [
    {
     "name": "stdout",
     "output_type": "stream",
     "text": [
      "0.48538961038961037\n"
     ]
    }
   ],
   "source": [
    "neg_pos_given_word('best')"
   ]
  },
  {
   "cell_type": "code",
   "execution_count": 234,
   "metadata": {
    "colab": {
     "base_uri": "https://localhost:8080/",
     "height": 35
    },
    "colab_type": "code",
    "id": "z2VIGkMsyJqv",
    "outputId": "726d35a9-2c24-4827-888b-760b3d8ffaba"
   },
   "outputs": [
    {
     "name": "stdout",
     "output_type": "stream",
     "text": [
      "9.837301587301587\n"
     ]
    }
   ],
   "source": [
    "neg_pos_given_word('worst')"
   ]
  },
  {
   "cell_type": "code",
   "execution_count": 235,
   "metadata": {
    "colab": {},
    "colab_type": "code",
    "id": "yG5CsorhyLfF"
   },
   "outputs": [],
   "source": [
    "pr1 = (p1+1) / ((y.items==positive).sum() + 1)\n",
    "pr0 = (p0+1) / ((y.items==negative).sum() + 1)"
   ]
  },
  {
   "cell_type": "code",
   "execution_count": 236,
   "metadata": {
    "colab": {},
    "colab_type": "code",
    "id": "qpNRjgwVyNLw"
   },
   "outputs": [],
   "source": [
    "r = np.log(pr1/pr0)"
   ]
  },
  {
   "cell_type": "code",
   "execution_count": 237,
   "metadata": {
    "colab": {
     "base_uri": "https://localhost:8080/",
     "height": 35
    },
    "colab_type": "code",
    "id": "LkibEdXuyO15",
    "outputId": "ea4de114-4b7f-422d-ba26-544bdaa0670d"
   },
   "outputs": [
    {
     "data": {
      "text/plain": [
       "-0.7133498878774648"
      ]
     },
     "execution_count": 237,
     "metadata": {},
     "output_type": "execute_result"
    }
   ],
   "source": [
    "r[v.stoi['hated']]"
   ]
  },
  {
   "cell_type": "code",
   "execution_count": 238,
   "metadata": {
    "colab": {
     "base_uri": "https://localhost:8080/",
     "height": 35
    },
    "colab_type": "code",
    "id": "LLAXnSAWyS5p",
    "outputId": "6528ca00-3c0b-461c-af04-789ea39007e5"
   },
   "outputs": [
    {
     "data": {
      "text/plain": [
       "1.1563661500586044"
      ]
     },
     "execution_count": 238,
     "metadata": {},
     "output_type": "execute_result"
    }
   ],
   "source": [
    "r[v.stoi['loved']]"
   ]
  },
  {
   "cell_type": "code",
   "execution_count": 239,
   "metadata": {
    "colab": {
     "base_uri": "https://localhost:8080/",
     "height": 35
    },
    "colab_type": "code",
    "id": "DorPQMCUyQPn",
    "outputId": "cb0f306c-1ce4-41e1-98b2-5b90d09eb11b"
   },
   "outputs": [
    {
     "data": {
      "text/plain": [
       "-2.2826243504315076"
      ]
     },
     "execution_count": 239,
     "metadata": {},
     "output_type": "execute_result"
    }
   ],
   "source": [
    "r[v.stoi['worst']]"
   ]
  },
  {
   "cell_type": "code",
   "execution_count": 240,
   "metadata": {
    "colab": {
     "base_uri": "https://localhost:8080/",
     "height": 35
    },
    "colab_type": "code",
    "id": "ThpCTstSyZdP",
    "outputId": "37e4256a-b762-4a3e-b7a6-d2a8232470dc"
   },
   "outputs": [
    {
     "data": {
      "text/plain": [
       "0.7225576052173609"
      ]
     },
     "execution_count": 240,
     "metadata": {},
     "output_type": "execute_result"
    }
   ],
   "source": [
    "r[v.stoi['best']]"
   ]
  },
  {
   "cell_type": "markdown",
   "metadata": {
    "colab_type": "text",
    "id": "ECh4TMCDzW7K"
   },
   "source": [
    "Back to naive bayes"
   ]
  },
  {
   "cell_type": "markdown",
   "metadata": {
    "colab_type": "text",
    "id": "R36VCHMuzYw7"
   },
   "source": [
    "\n",
    "\n"
   ]
  },
  {
   "cell_type": "code",
   "execution_count": 241,
   "metadata": {
    "colab": {},
    "colab_type": "code",
    "id": "5q6-0fYUzgFT"
   },
   "outputs": [],
   "source": [
    "\n",
    "negative = y.c2i['neg']\n",
    "p0 = np.squeeze(np.asarray(x[y.items==negative].sum(0)))"
   ]
  },
  {
   "cell_type": "code",
   "execution_count": 242,
   "metadata": {
    "colab": {},
    "colab_type": "code",
    "id": "zyhFE4Dzzkc7"
   },
   "outputs": [],
   "source": [
    "pr1 = (p1+1) / ((y.items==positive).sum() + 1)\n",
    "pr0 = (p0+1) / ((y.items==negative).sum() + 1)"
   ]
  },
  {
   "cell_type": "code",
   "execution_count": 243,
   "metadata": {
    "colab": {
     "base_uri": "https://localhost:8080/",
     "height": 35
    },
    "colab_type": "code",
    "id": "asQSdBVcznhU",
    "outputId": "b4329ff6-2652-49b4-f563-94507a3f3f89"
   },
   "outputs": [
    {
     "data": {
      "text/plain": [
       "0.0"
      ]
     },
     "execution_count": 243,
     "metadata": {},
     "output_type": "execute_result"
    }
   ],
   "source": [
    "b = np.log((y.items==positive).mean() / (y.items==negative).mean()); b"
   ]
  },
  {
   "cell_type": "code",
   "execution_count": 244,
   "metadata": {
    "colab": {},
    "colab_type": "code",
    "id": "kTMfhGAtzpVk"
   },
   "outputs": [],
   "source": [
    "preds = (val_term_doc @ r + b) > 0"
   ]
  },
  {
   "cell_type": "code",
   "execution_count": 245,
   "metadata": {
    "colab": {
     "base_uri": "https://localhost:8080/",
     "height": 35
    },
    "colab_type": "code",
    "id": "f_FsxD9Mzrmr",
    "outputId": "72937aba-d880-4a7c-e905-11fac932e13d"
   },
   "outputs": [
    {
     "data": {
      "text/plain": [
       "0.8084"
      ]
     },
     "execution_count": 245,
     "metadata": {},
     "output_type": "execute_result"
    }
   ],
   "source": [
    "(preds == val_y).mean()"
   ]
  },
  {
   "cell_type": "code",
   "execution_count": null,
   "metadata": {
    "colab": {},
    "colab_type": "code",
    "id": "_OIaUGDg0BGu"
   },
   "outputs": [],
   "source": []
  },
  {
   "cell_type": "markdown",
   "metadata": {
    "colab_type": "text",
    "id": "EYyfvSjj0B9a"
   },
   "source": [
    "**Binarized naive bayes**\n",
    "\n",
    "Only matters whether a word is in the review or not (not the frequency of the word):"
   ]
  },
  {
   "cell_type": "code",
   "execution_count": 246,
   "metadata": {
    "colab": {},
    "colab_type": "code",
    "id": "7elToP9r0Qas"
   },
   "outputs": [],
   "source": [
    "x=trn_term_doc.sign()\n",
    "y=reviews_full.train.y"
   ]
  },
  {
   "cell_type": "code",
   "execution_count": 247,
   "metadata": {
    "colab": {
     "base_uri": "https://localhost:8080/",
     "height": 178
    },
    "colab_type": "code",
    "id": "8kpU-5Wv0Q9c",
    "outputId": "3a14b120-3c4f-4f14-ac2e-8e8a4ad60d1b"
   },
   "outputs": [
    {
     "data": {
      "text/plain": [
       "matrix([[1, 0, 1, 0, ..., 1, 0, 0, 1],\n",
       "        [1, 0, 1, 0, ..., 1, 0, 0, 1],\n",
       "        [1, 0, 1, 0, ..., 0, 0, 0, 1],\n",
       "        [0, 0, 1, 0, ..., 0, 1, 0, 1],\n",
       "        ...,\n",
       "        [1, 0, 1, 0, ..., 0, 0, 0, 1],\n",
       "        [0, 0, 1, 0, ..., 1, 0, 0, 1],\n",
       "        [0, 0, 1, 0, ..., 0, 0, 0, 1],\n",
       "        [0, 0, 1, 0, ..., 1, 0, 0, 1]])"
      ]
     },
     "execution_count": 247,
     "metadata": {},
     "output_type": "execute_result"
    }
   ],
   "source": [
    "x.todense()[:10,:10]"
   ]
  },
  {
   "cell_type": "code",
   "execution_count": 248,
   "metadata": {
    "colab": {},
    "colab_type": "code",
    "id": "eDc9yYCe0ZkJ"
   },
   "outputs": [],
   "source": [
    "negative = y.c2i['neg']\n",
    "positive = y.c2i['pos']"
   ]
  },
  {
   "cell_type": "code",
   "execution_count": 249,
   "metadata": {
    "colab": {},
    "colab_type": "code",
    "id": "GxcEhmnQ0bIH"
   },
   "outputs": [],
   "source": [
    "p1 = np.squeeze(np.asarray(x[y.items==positive].sum(0)))\n",
    "p0 = np.squeeze(np.asarray(x[y.items==negative].sum(0)))"
   ]
  },
  {
   "cell_type": "code",
   "execution_count": 250,
   "metadata": {
    "colab": {},
    "colab_type": "code",
    "id": "PUlR8l7Z0c1W"
   },
   "outputs": [],
   "source": [
    "pr1 = (p1+1) / ((y.items==positive).sum() + 1)\n",
    "pr0 = (p0+1) / ((y.items==negative).sum() + 1)"
   ]
  },
  {
   "cell_type": "code",
   "execution_count": 251,
   "metadata": {
    "colab": {},
    "colab_type": "code",
    "id": "wLp_pHNQ0fjU"
   },
   "outputs": [],
   "source": [
    "r = np.log(pr1/pr0)\n",
    "b = np.log((y.items==positive).mean() / (y.items==negative).mean())\n",
    "\n",
    "preds = (val_term_doc.sign() @ r + b) > 0"
   ]
  },
  {
   "cell_type": "code",
   "execution_count": 252,
   "metadata": {
    "colab": {
     "base_uri": "https://localhost:8080/",
     "height": 35
    },
    "colab_type": "code",
    "id": "Cqh_Q0k40g6e",
    "outputId": "e6b59fa9-1236-4327-fbbb-9c3a2e7c065d"
   },
   "outputs": [
    {
     "data": {
      "text/plain": [
       "0.82924"
      ]
     },
     "execution_count": 252,
     "metadata": {},
     "output_type": "execute_result"
    }
   ],
   "source": [
    "(preds==val_y).mean()"
   ]
  },
  {
   "cell_type": "markdown",
   "metadata": {
    "colab_type": "text",
    "id": "HoAmI-72xpGY"
   },
   "source": [
    "**Logistic Regression**\n",
    "\n",
    "unigrams (one word)"
   ]
  },
  {
   "cell_type": "code",
   "execution_count": 253,
   "metadata": {
    "colab": {},
    "colab_type": "code",
    "id": "w7nskZcV1dzw"
   },
   "outputs": [],
   "source": [
    "from sklearn.linear_model import LogisticRegression"
   ]
  },
  {
   "cell_type": "code",
   "execution_count": 254,
   "metadata": {
    "colab": {
     "base_uri": "https://localhost:8080/",
     "height": 91
    },
    "colab_type": "code",
    "id": "QycLC2921jP0",
    "outputId": "83b9ff28-8d18-409c-ce7e-5a9fafdd25bd"
   },
   "outputs": [
    {
     "name": "stderr",
     "output_type": "stream",
     "text": [
      "C:\\ProgramData\\Anaconda3\\lib\\site-packages\\sklearn\\linear_model\\logistic.py:432: FutureWarning: Default solver will be changed to 'lbfgs' in 0.22. Specify a solver to silence this warning.\n",
      "  FutureWarning)\n"
     ]
    },
    {
     "data": {
      "text/plain": [
       "0.7704"
      ]
     },
     "execution_count": 254,
     "metadata": {},
     "output_type": "execute_result"
    }
   ],
   "source": [
    "m = LogisticRegression(C=0.1, dual=True)\n",
    "m.fit(x, y.items.astype(int))\n",
    "preds = m.predict(val_term_doc)\n",
    "(preds == val_y).mean()"
   ]
  },
  {
   "cell_type": "code",
   "execution_count": 255,
   "metadata": {
    "colab": {
     "base_uri": "https://localhost:8080/",
     "height": 91
    },
    "colab_type": "code",
    "id": "YycMWDm72GqR",
    "outputId": "08d2cfc6-1f9d-45a1-f233-177b50dbc855"
   },
   "outputs": [
    {
     "data": {
      "text/plain": [
       "0.88536"
      ]
     },
     "execution_count": 255,
     "metadata": {},
     "output_type": "execute_result"
    }
   ],
   "source": [
    "m = LogisticRegression(C=0.1, dual=True)\n",
    "m.fit(x, y.items.astype(int))\n",
    "preds = m.predict(val_term_doc.sign())\n",
    "(preds == val_y).mean()"
   ]
  },
  {
   "cell_type": "code",
   "execution_count": null,
   "metadata": {
    "colab": {},
    "colab_type": "code",
    "id": "po3nsJh12Mh4"
   },
   "outputs": [],
   "source": []
  },
  {
   "cell_type": "markdown",
   "metadata": {
    "colab_type": "text",
    "id": "BJgyY4kE2M97"
   },
   "source": [
    "**Trigram with NB features**"
   ]
  },
  {
   "cell_type": "markdown",
   "metadata": {
    "colab_type": "text",
    "id": "GsuogPBB3qOv"
   },
   "source": [
    "\n",
    "\n",
    "Our next model is a version of logistic regression with Naive Bayes features described here. For every document we compute binarized features as described above, but this time we use bigrams and trigrams too. Each feature is a log-count ratio. A logistic regression model is then trained to predict sentiment.\n"
   ]
  },
  {
   "cell_type": "markdown",
   "metadata": {
    "colab_type": "text",
    "id": "Ijl9FgrA3tSN"
   },
   "source": [
    "**ngrams**\n",
    "\n",
    "An n-gram is a contiguous sequence of n items (where the items can be characters, syllables, or words). A 1-gram is a unigram, a 2-gram is a bigram, and a 3-gram is a trigram.\n",
    "\n",
    "Here, we are referring to sequences of words. So examples of bigrams include \"the dog\", \"said that\", and \"can't you\".\n"
   ]
  },
  {
   "cell_type": "code",
   "execution_count": 256,
   "metadata": {
    "colab": {},
    "colab_type": "code",
    "id": "n1ykPlBJ2YGn"
   },
   "outputs": [],
   "source": [
    "path = untar_data(URLs.IMDB_SAMPLE)"
   ]
  },
  {
   "cell_type": "code",
   "execution_count": 257,
   "metadata": {
    "colab": {},
    "colab_type": "code",
    "id": "tCwNhYTn2D-i"
   },
   "outputs": [],
   "source": [
    "movie_reviews = (TextList.from_csv(path, 'texts.csv', cols='text')\n",
    "                .split_from_df(col=2)\n",
    "                .label_from_df(cols=0))"
   ]
  },
  {
   "cell_type": "code",
   "execution_count": 258,
   "metadata": {
    "colab": {},
    "colab_type": "code",
    "id": "TqvHhp5uRxmF"
   },
   "outputs": [
    {
     "ename": "NameError",
     "evalue": "name 'train_ngram_doc_matrix' is not defined",
     "output_type": "error",
     "traceback": [
      "\u001b[1;31m---------------------------------------------------------------------------\u001b[0m",
      "\u001b[1;31mNameError\u001b[0m                                 Traceback (most recent call last)",
      "\u001b[1;32m<ipython-input-258-2c09ceb980e6>\u001b[0m in \u001b[0;36m<module>\u001b[1;34m\u001b[0m\n\u001b[1;32m----> 1\u001b[1;33m \u001b[0mx\u001b[0m\u001b[1;33m=\u001b[0m\u001b[0mtrain_ngram_doc_matrix\u001b[0m\u001b[1;33m.\u001b[0m\u001b[0msign\u001b[0m\u001b[1;33m(\u001b[0m\u001b[1;33m)\u001b[0m\u001b[1;33m\u001b[0m\u001b[1;33m\u001b[0m\u001b[0m\n\u001b[0m\u001b[0;32m      2\u001b[0m \u001b[0mval_x\u001b[0m\u001b[1;33m=\u001b[0m\u001b[0mvalid_ngram_doc_matrix\u001b[0m\u001b[1;33m.\u001b[0m\u001b[0msign\u001b[0m\u001b[1;33m(\u001b[0m\u001b[1;33m)\u001b[0m\u001b[1;33m\u001b[0m\u001b[1;33m\u001b[0m\u001b[0m\n\u001b[0;32m      3\u001b[0m \u001b[0my\u001b[0m\u001b[1;33m=\u001b[0m\u001b[0mmovie_reviews\u001b[0m\u001b[1;33m.\u001b[0m\u001b[0mtrain\u001b[0m\u001b[1;33m.\u001b[0m\u001b[0my\u001b[0m\u001b[1;33m\u001b[0m\u001b[1;33m\u001b[0m\u001b[0m\n",
      "\u001b[1;31mNameError\u001b[0m: name 'train_ngram_doc_matrix' is not defined"
     ]
    }
   ],
   "source": [
    "x=train_ngram_doc_matrix.sign()\n",
    "val_x=valid_ngram_doc_matrix.sign()\n",
    "y=movie_reviews.train.y"
   ]
  },
  {
   "cell_type": "code",
   "execution_count": null,
   "metadata": {
    "colab": {},
    "colab_type": "code",
    "id": "uUTdbry849hZ"
   },
   "outputs": [],
   "source": [
    "v = movie_reviews.vocab.itos"
   ]
  },
  {
   "cell_type": "code",
   "execution_count": null,
   "metadata": {
    "colab": {},
    "colab_type": "code",
    "id": "Wr_RiQHo5DdH"
   },
   "outputs": [],
   "source": [
    "vocab_len = len(v)"
   ]
  },
  {
   "cell_type": "markdown",
   "metadata": {
    "colab_type": "text",
    "id": "0nvcLqKR5GEy"
   },
   "source": [
    "**Our data**"
   ]
  },
  {
   "cell_type": "markdown",
   "metadata": {
    "colab_type": "text",
    "id": "8EtVisOx1WGv"
   },
   "source": [
    "*Create train matrix*"
   ]
  },
  {
   "cell_type": "code",
   "execution_count": null,
   "metadata": {
    "colab": {},
    "colab_type": "code",
    "id": "Db2edIIo5Ll3"
   },
   "outputs": [],
   "source": [
    "min_n=1\n",
    "max_n=3\n",
    "\n",
    "j_indices = []\n",
    "indptr = []\n",
    "values = []\n",
    "indptr.append(0)\n",
    "num_tokens = vocab_len\n",
    "\n",
    "itongram = dict()\n",
    "ngramtoi = dict()"
   ]
  },
  {
   "cell_type": "markdown",
   "metadata": {
    "colab_type": "text",
    "id": "rNrBly_z5krB"
   },
   "source": [
    "Following creates n-grams"
   ]
  },
  {
   "cell_type": "code",
   "execution_count": null,
   "metadata": {
    "colab": {},
    "colab_type": "code",
    "id": "1IR44Rw85QTA"
   },
   "outputs": [],
   "source": [
    "for i, doc in enumerate(movie_reviews.train.x):\n",
    "    feature_counter = Counter(doc.data)\n",
    "    j_indices.extend(feature_counter.keys())\n",
    "    values.extend(feature_counter.values())\n",
    "    this_doc_ngrams = list()\n",
    "\n",
    "    m = 0\n",
    "    for n in range(min_n, max_n + 1):\n",
    "        for k in range(vocab_len - n + 1):\n",
    "            ngram = doc.data[k: k + n]\n",
    "            if str(ngram) not in ngramtoi:\n",
    "                if len(ngram)==1:\n",
    "                    num = ngram[0]\n",
    "                    ngramtoi[str(ngram)] = num\n",
    "                    itongram[num] = ngram\n",
    "                else:\n",
    "                    ngramtoi[str(ngram)] = num_tokens\n",
    "                    itongram[num_tokens] = ngram\n",
    "                    num_tokens += 1\n",
    "            this_doc_ngrams.append(ngramtoi[str(ngram)])\n",
    "            m += 1\n",
    "\n",
    "    ngram_counter = Counter(this_doc_ngrams)\n",
    "    j_indices.extend(ngram_counter.keys())\n",
    "    values.extend(ngram_counter.values())\n",
    "    indptr.append(len(j_indices))"
   ]
  },
  {
   "cell_type": "code",
   "execution_count": null,
   "metadata": {
    "colab": {},
    "colab_type": "code",
    "id": "JQtz_bSD6oRG"
   },
   "outputs": [],
   "source": []
  },
  {
   "cell_type": "code",
   "execution_count": null,
   "metadata": {
    "colab": {},
    "colab_type": "code",
    "id": "eKjzRZfJ6suy"
   },
   "outputs": [],
   "source": [
    "train_ngram_doc_matrix = scipy.sparse.csr_matrix((values, j_indices, indptr),\n",
    "                                   shape=(len(indptr) - 1, len(ngramtoi)),\n",
    "                                   dtype=int)"
   ]
  },
  {
   "cell_type": "code",
   "execution_count": null,
   "metadata": {
    "colab": {
     "base_uri": "https://localhost:8080/",
     "height": 50
    },
    "colab_type": "code",
    "id": "WHX9kyDB6pM2",
    "outputId": "d8c06c4c-ab2d-48e2-e53e-2e78f1d878f9"
   },
   "outputs": [],
   "source": [
    "train_ngram_doc_matrix"
   ]
  },
  {
   "cell_type": "markdown",
   "metadata": {
    "colab_type": "text",
    "id": "aN1b66Mg61Th"
   },
   "source": [
    "**Looking at our data**\n",
    "\n"
   ]
  },
  {
   "cell_type": "code",
   "execution_count": null,
   "metadata": {
    "colab": {
     "base_uri": "https://localhost:8080/",
     "height": 34
    },
    "colab_type": "code",
    "id": "CEAES_qk64d8",
    "outputId": "5241e2d1-1323-44a8-9455-635fc8b51c16"
   },
   "outputs": [],
   "source": [
    "len(ngramtoi), len(itongram)"
   ]
  },
  {
   "cell_type": "code",
   "execution_count": null,
   "metadata": {
    "colab": {
     "base_uri": "https://localhost:8080/",
     "height": 34
    },
    "colab_type": "code",
    "id": "ljKaiWAl66UK",
    "outputId": "4b8e9472-95ad-4a5a-ac79-dd3abe40958a"
   },
   "outputs": [],
   "source": [
    "itongram[20005]"
   ]
  },
  {
   "cell_type": "code",
   "execution_count": null,
   "metadata": {
    "colab": {
     "base_uri": "https://localhost:8080/",
     "height": 34
    },
    "colab_type": "code",
    "id": "jcc81fvb681t",
    "outputId": "4e6fa672-60a3-40a0-ba0c-faf6b1a02477"
   },
   "outputs": [],
   "source": [
    "ngramtoi[str(np.array([15, 9, 710]))]"
   ]
  },
  {
   "cell_type": "code",
   "execution_count": null,
   "metadata": {
    "colab": {
     "base_uri": "https://localhost:8080/",
     "height": 34
    },
    "colab_type": "code",
    "id": "qot-33WV7IBV",
    "outputId": "d6383e0f-9207-47ad-dbd4-2e4be0d58ad8"
   },
   "outputs": [],
   "source": [
    "itongram[100000]"
   ]
  },
  {
   "cell_type": "code",
   "execution_count": null,
   "metadata": {
    "colab": {
     "base_uri": "https://localhost:8080/",
     "height": 34
    },
    "colab_type": "code",
    "id": "3HRKRWhC7LzC",
    "outputId": "d146a56f-d36c-44ae-b7c6-a9260000961b"
   },
   "outputs": [],
   "source": [
    "v[1140], v[33]"
   ]
  },
  {
   "cell_type": "code",
   "execution_count": null,
   "metadata": {
    "colab": {
     "base_uri": "https://localhost:8080/",
     "height": 34
    },
    "colab_type": "code",
    "id": "3crJo51t7n6a",
    "outputId": "41d48515-1ec7-4502-f33e-ceec20f6119f"
   },
   "outputs": [],
   "source": [
    "itongram[200000]\n"
   ]
  },
  {
   "cell_type": "code",
   "execution_count": null,
   "metadata": {
    "colab": {
     "base_uri": "https://localhost:8080/",
     "height": 34
    },
    "colab_type": "code",
    "id": "4rKgncdd8B1T",
    "outputId": "fbf61a4f-c57d-4dd5-e293-6a3dc44f79c4"
   },
   "outputs": [],
   "source": [
    "itongram[6116]"
   ]
  },
  {
   "cell_type": "code",
   "execution_count": null,
   "metadata": {
    "colab": {
     "base_uri": "https://localhost:8080/",
     "height": 34
    },
    "colab_type": "code",
    "id": "JVefR3LU7ul7",
    "outputId": "b8579695-73a2-48d2-f405-eb7df5987b04"
   },
   "outputs": [],
   "source": [
    "v[85], v[191], v[64]"
   ]
  },
  {
   "cell_type": "code",
   "execution_count": null,
   "metadata": {
    "colab": {},
    "colab_type": "code",
    "id": "XjPWUhsH8RYq"
   },
   "outputs": [],
   "source": []
  },
  {
   "cell_type": "code",
   "execution_count": null,
   "metadata": {
    "colab": {
     "base_uri": "https://localhost:8080/",
     "height": 34
    },
    "colab_type": "code",
    "id": "_U88xTLh8PR5",
    "outputId": "4cbe9031-807e-47f8-8a2d-b90963467cfa"
   },
   "outputs": [],
   "source": [
    "itongram[80000]"
   ]
  },
  {
   "cell_type": "code",
   "execution_count": null,
   "metadata": {
    "colab": {
     "base_uri": "https://localhost:8080/",
     "height": 34
    },
    "colab_type": "code",
    "id": "TdXyPjR-8Sfj",
    "outputId": "20d273c0-814d-447e-ad56-da5b82947138"
   },
   "outputs": [],
   "source": [
    "v[2594], v[14], v[2618]"
   ]
  },
  {
   "cell_type": "markdown",
   "metadata": {
    "colab_type": "text",
    "id": "PdWkdw8sKHaL"
   },
   "source": [
    "*Create valid matrix*"
   ]
  },
  {
   "cell_type": "code",
   "execution_count": null,
   "metadata": {
    "colab": {},
    "colab_type": "code",
    "id": "dV-oruTLJ_6s"
   },
   "outputs": [],
   "source": [
    "j_indices = []\n",
    "indptr = []\n",
    "values = []\n",
    "indptr.append(0)\n",
    "\n",
    "for i, doc in enumerate(movie_reviews.valid.x):\n",
    "    feature_counter = Counter(doc.data)\n",
    "    j_indices.extend(feature_counter.keys())\n",
    "    values.extend(feature_counter.values())\n",
    "    this_doc_ngrams = list()\n",
    "\n",
    "    m = 0\n",
    "    for n in range(min_n, max_n + 1):\n",
    "        for k in range(vocab_len - n + 1):\n",
    "            ngram = doc.data[k: k + n]\n",
    "            if str(ngram) in ngramtoi:\n",
    "                this_doc_ngrams.append(ngramtoi[str(ngram)])\n",
    "            m += 1\n",
    "\n",
    "    ngram_counter = Counter(this_doc_ngrams)\n",
    "    j_indices.extend(ngram_counter.keys())\n",
    "    values.extend(ngram_counter.values())\n",
    "    indptr.append(len(j_indices))"
   ]
  },
  {
   "cell_type": "code",
   "execution_count": null,
   "metadata": {
    "colab": {},
    "colab_type": "code",
    "id": "u2zuxxFVLvq3"
   },
   "outputs": [],
   "source": [
    "valid_ngram_doc_matrix = scipy.sparse.csr_matrix((values, j_indices, indptr),\n",
    "                                   shape=(len(indptr) - 1, len(ngramtoi)),\n",
    "                                   dtype=int)"
   ]
  },
  {
   "cell_type": "code",
   "execution_count": null,
   "metadata": {
    "colab": {
     "base_uri": "https://localhost:8080/",
     "height": 50
    },
    "colab_type": "code",
    "id": "-m52P01gL1LE",
    "outputId": "9529e39d-b82a-41c4-a171-5419b006b390"
   },
   "outputs": [],
   "source": [
    "valid_ngram_doc_matrix"
   ]
  },
  {
   "cell_type": "code",
   "execution_count": null,
   "metadata": {
    "colab": {
     "base_uri": "https://localhost:8080/",
     "height": 50
    },
    "colab_type": "code",
    "id": "n3uS9TmjL4D_",
    "outputId": "3d888dba-b022-431c-9593-38dec74e8ed6"
   },
   "outputs": [],
   "source": [
    "train_ngram_doc_matrix"
   ]
  },
  {
   "cell_type": "markdown",
   "metadata": {
    "colab_type": "text",
    "id": "z4ZuksGKL_dI"
   },
   "source": [
    "*Save data*"
   ]
  },
  {
   "cell_type": "code",
   "execution_count": null,
   "metadata": {
    "colab": {},
    "colab_type": "code",
    "id": "s60mAskqJ9RO"
   },
   "outputs": [],
   "source": [
    "scipy.sparse.save_npz(\"train_ngram_matrix.npz\", train_ngram_doc_matrix)"
   ]
  },
  {
   "cell_type": "code",
   "execution_count": null,
   "metadata": {
    "colab": {},
    "colab_type": "code",
    "id": "8YXEfxDCL7eE"
   },
   "outputs": [],
   "source": [
    "scipy.sparse.save_npz(\"valid_ngram_matrix.npz\", valid_ngram_doc_matrix)"
   ]
  },
  {
   "cell_type": "code",
   "execution_count": null,
   "metadata": {
    "colab": {},
    "colab_type": "code",
    "id": "YKP_THHmMHXn"
   },
   "outputs": [],
   "source": [
    "with open('itongram.pickle', 'wb') as handle:\n",
    "    pickle.dump(itongram, handle, protocol=pickle.HIGHEST_PROTOCOL)\n",
    "    \n",
    "with open('ngramtoi.pickle', 'wb') as handle:\n",
    "    pickle.dump(itongram, handle, protocol=pickle.HIGHEST_PROTOCOL)\n"
   ]
  },
  {
   "cell_type": "markdown",
   "metadata": {
    "colab_type": "text",
    "id": "A2GifiQdMOjD"
   },
   "source": [
    "Load Data"
   ]
  },
  {
   "cell_type": "code",
   "execution_count": null,
   "metadata": {
    "colab": {},
    "colab_type": "code",
    "id": "dGn7ardAMQbY"
   },
   "outputs": [],
   "source": [
    "train_ngram_doc_matrix = scipy.sparse.load_npz(\"train_ngram_matrix.npz\")\n",
    "valid_ngram_doc_matrix = scipy.sparse.load_npz(\"valid_ngram_matrix.npz\")"
   ]
  },
  {
   "cell_type": "code",
   "execution_count": null,
   "metadata": {
    "colab": {},
    "colab_type": "code",
    "id": "OsgJkypQMThi"
   },
   "outputs": [],
   "source": [
    "with open('itongram.pickle', 'rb') as handle:\n",
    "    b = pickle.load(handle)\n",
    "    \n",
    "with open('ngramtoi.pickle', 'rb') as handle:\n",
    "    b = pickle.load(handle)"
   ]
  },
  {
   "cell_type": "markdown",
   "metadata": {
    "colab_type": "text",
    "id": "kT56GlaiMX81"
   },
   "source": [
    "Naive Bayes"
   ]
  },
  {
   "cell_type": "code",
   "execution_count": null,
   "metadata": {
    "colab": {},
    "colab_type": "code",
    "id": "FX-CoELrMXoA"
   },
   "outputs": [],
   "source": [
    "x=train_ngram_doc_matrix\n",
    "y=movie_reviews.train.y"
   ]
  },
  {
   "cell_type": "code",
   "execution_count": null,
   "metadata": {
    "colab": {},
    "colab_type": "code",
    "id": "Km6qKt7hMdUC"
   },
   "outputs": [],
   "source": [
    "positive = y.c2i['positive']\n",
    "negative = y.c2i['negative']"
   ]
  },
  {
   "cell_type": "code",
   "execution_count": null,
   "metadata": {
    "colab": {
     "base_uri": "https://localhost:8080/",
     "height": 50
    },
    "colab_type": "code",
    "id": "KRhRybMvMfDO",
    "outputId": "d2466e29-53bd-4cb0-962f-e46fcbe757da"
   },
   "outputs": [],
   "source": [
    "x"
   ]
  },
  {
   "cell_type": "code",
   "execution_count": null,
   "metadata": {
    "colab": {},
    "colab_type": "code",
    "id": "RZdtduZ9MhKV"
   },
   "outputs": [],
   "source": [
    "k=260374"
   ]
  },
  {
   "cell_type": "code",
   "execution_count": null,
   "metadata": {
    "colab": {},
    "colab_type": "code",
    "id": "5tCMEIxcMm7o"
   },
   "outputs": [],
   "source": [
    "pos = (y.items == positive)[:k]\n",
    "neg = (y.items == negative)[:k]"
   ]
  },
  {
   "cell_type": "code",
   "execution_count": null,
   "metadata": {
    "colab": {},
    "colab_type": "code",
    "id": "gmpKoSnzMpkj"
   },
   "outputs": [],
   "source": [
    "xx = x[:k]"
   ]
  },
  {
   "cell_type": "code",
   "execution_count": null,
   "metadata": {
    "colab": {},
    "colab_type": "code",
    "id": "EPPPni5FMrVl"
   },
   "outputs": [],
   "source": [
    "valid_labels = [o == positive for o in movie_reviews.valid.y.items]"
   ]
  },
  {
   "cell_type": "code",
   "execution_count": null,
   "metadata": {
    "colab": {},
    "colab_type": "code",
    "id": "VyKKlHU3MtNi"
   },
   "outputs": [],
   "source": [
    "p0 = np.squeeze(np.array(xx[neg].sum(0)))\n",
    "p1 = np.squeeze(np.array(xx[pos].sum(0)))"
   ]
  },
  {
   "cell_type": "code",
   "execution_count": null,
   "metadata": {
    "colab": {},
    "colab_type": "code",
    "id": "QbAnrfL5MvEO"
   },
   "outputs": [],
   "source": [
    "pr1 = (p1+1) / ((y.items==positive).sum() + 1)\n",
    "pr0 = (p0+1) / ((y.items==negative).sum() + 1)"
   ]
  },
  {
   "cell_type": "code",
   "execution_count": null,
   "metadata": {
    "colab": {},
    "colab_type": "code",
    "id": "NzShgf1yMwjH"
   },
   "outputs": [],
   "source": [
    "r = np.log(pr1/pr0)\n"
   ]
  },
  {
   "cell_type": "code",
   "execution_count": null,
   "metadata": {
    "colab": {
     "base_uri": "https://localhost:8080/",
     "height": 34
    },
    "colab_type": "code",
    "id": "qOwXK2FhMzjh",
    "outputId": "01cb3440-bf8b-49fc-b64f-46f44baa001e"
   },
   "outputs": [],
   "source": [
    "b = np.log((y.items==positive).mean() / (y.items==negative).mean())\n",
    "b"
   ]
  },
  {
   "cell_type": "code",
   "execution_count": null,
   "metadata": {
    "colab": {
     "base_uri": "https://localhost:8080/",
     "height": 34
    },
    "colab_type": "code",
    "id": "t3Aa8HTXM5vu",
    "outputId": "41ca2567-5f34-4181-a5fa-9a98525c291d"
   },
   "outputs": [],
   "source": [
    "(y.items==positive).mean(), (y.items==negative).mean()"
   ]
  },
  {
   "cell_type": "code",
   "execution_count": null,
   "metadata": {
    "colab": {
     "base_uri": "https://localhost:8080/",
     "height": 34
    },
    "colab_type": "code",
    "id": "bpRCb0zOM7ft",
    "outputId": "2a47805d-bca8-48b8-9eca-3ce4a04a1b46"
   },
   "outputs": [],
   "source": [
    "pre_preds = valid_ngram_doc_matrix @ r.T + b\n",
    "\n",
    "pre_preds"
   ]
  },
  {
   "cell_type": "code",
   "execution_count": null,
   "metadata": {
    "colab": {},
    "colab_type": "code",
    "id": "X8jCa576NJGU"
   },
   "outputs": [],
   "source": [
    "preds = pre_preds.T>0"
   ]
  },
  {
   "cell_type": "code",
   "execution_count": null,
   "metadata": {
    "colab": {
     "base_uri": "https://localhost:8080/",
     "height": 34
    },
    "colab_type": "code",
    "id": "vGq1y8MaNLf_",
    "outputId": "f1cea257-8fd8-4b92-f62c-5dfa748670e3"
   },
   "outputs": [],
   "source": [
    "preds[:10]"
   ]
  },
  {
   "cell_type": "code",
   "execution_count": null,
   "metadata": {
    "colab": {},
    "colab_type": "code",
    "id": "TIvBHKHzNOBv"
   },
   "outputs": [],
   "source": [
    "valid_labels = [o == positive for o in movie_reviews.valid.y.items]"
   ]
  },
  {
   "cell_type": "code",
   "execution_count": null,
   "metadata": {
    "colab": {
     "base_uri": "https://localhost:8080/",
     "height": 34
    },
    "colab_type": "code",
    "id": "WktY_aTfNFpK",
    "outputId": "21436443-c163-47d1-8e5e-573ab0007374"
   },
   "outputs": [],
   "source": [
    "(preds == valid_labels).mean()"
   ]
  },
  {
   "cell_type": "code",
   "execution_count": null,
   "metadata": {
    "colab": {},
    "colab_type": "code",
    "id": "93T8z-DPNQ1g"
   },
   "outputs": [],
   "source": []
  },
  {
   "cell_type": "markdown",
   "metadata": {
    "colab_type": "text",
    "id": "2x1ii3YsNRHk"
   },
   "source": [
    "**Binarized Naive Bayes**"
   ]
  },
  {
   "cell_type": "code",
   "execution_count": null,
   "metadata": {
    "colab": {},
    "colab_type": "code",
    "id": "MOkZ8wMaNUW3"
   },
   "outputs": [],
   "source": [
    "trn_x_ngram_sgn = train_ngram_doc_matrix.sign()\n",
    "val_x_ngram_sgn = valid_ngram_doc_matrix.sign()"
   ]
  },
  {
   "cell_type": "code",
   "execution_count": null,
   "metadata": {
    "colab": {},
    "colab_type": "code",
    "id": "oHddP3nhNXFH"
   },
   "outputs": [],
   "source": [
    "xx = trn_x_ngram_sgn[:k]"
   ]
  },
  {
   "cell_type": "code",
   "execution_count": null,
   "metadata": {
    "colab": {},
    "colab_type": "code",
    "id": "p415X8E7Nbe7"
   },
   "outputs": [],
   "source": [
    "p0 = np.squeeze(np.array(xx[neg].sum(0)))\n",
    "p1 = np.squeeze(np.array(xx[pos].sum(0)))"
   ]
  },
  {
   "cell_type": "code",
   "execution_count": null,
   "metadata": {
    "colab": {},
    "colab_type": "code",
    "id": "eyk2GHC2NdM8"
   },
   "outputs": [],
   "source": [
    "pr1 = (p1+1) / ((y.items==positive).sum() + 1)\n",
    "pr0 = (p0+1) / ((y.items==negative).sum() + 1)"
   ]
  },
  {
   "cell_type": "code",
   "execution_count": null,
   "metadata": {
    "colab": {},
    "colab_type": "code",
    "id": "UvXwueqxNfDn"
   },
   "outputs": [],
   "source": [
    "r = np.log(pr1/pr0)\n",
    "b = np.log((y.items==positive).mean() / (y.items==negative).mean())\n",
    "\n",
    "pre_preds = val_x_ngram_sgn @ r.T + b\n",
    "preds = pre_preds.T>0"
   ]
  },
  {
   "cell_type": "code",
   "execution_count": null,
   "metadata": {
    "colab": {
     "base_uri": "https://localhost:8080/",
     "height": 34
    },
    "colab_type": "code",
    "id": "3YkMgIRRNh2w",
    "outputId": "d1e38fbd-2610-4795-acbc-5ea08f1ba5a8"
   },
   "outputs": [],
   "source": [
    "(preds==valid_labels).mean()"
   ]
  },
  {
   "cell_type": "markdown",
   "metadata": {
    "colab_type": "text",
    "id": "O01PvoSWOGYS"
   },
   "source": [
    "*Logistic Regresion*"
   ]
  },
  {
   "cell_type": "code",
   "execution_count": null,
   "metadata": {
    "colab": {},
    "colab_type": "code",
    "id": "o-ldsGWbOI33"
   },
   "outputs": [],
   "source": [
    "from sklearn.linear_model import LogisticRegression"
   ]
  },
  {
   "cell_type": "markdown",
   "metadata": {
    "colab_type": "text",
    "id": "BCcXfK79OMaZ"
   },
   "source": [
    "use CountVectorizer to compare"
   ]
  },
  {
   "cell_type": "code",
   "execution_count": null,
   "metadata": {
    "colab": {},
    "colab_type": "code",
    "id": "AxwbGDBIOMBu"
   },
   "outputs": [],
   "source": [
    "from sklearn.feature_extraction.text import CountVectorizer"
   ]
  },
  {
   "cell_type": "code",
   "execution_count": null,
   "metadata": {
    "colab": {},
    "colab_type": "code",
    "id": "ylwd34EqOUqC"
   },
   "outputs": [],
   "source": [
    "veczr = CountVectorizer(ngram_range=(1,3), preprocessor=noop, tokenizer=noop, max_features=800000)"
   ]
  },
  {
   "cell_type": "code",
   "execution_count": null,
   "metadata": {
    "colab": {},
    "colab_type": "code",
    "id": "UYm3Jc9XOW08"
   },
   "outputs": [],
   "source": [
    "docs = movie_reviews.train.x"
   ]
  },
  {
   "cell_type": "code",
   "execution_count": null,
   "metadata": {
    "colab": {},
    "colab_type": "code",
    "id": "hU7EfMxpOYYJ"
   },
   "outputs": [],
   "source": [
    "train_words = [[docs.vocab.itos[o] for o in doc.data] for doc in movie_reviews.train.x]"
   ]
  },
  {
   "cell_type": "code",
   "execution_count": null,
   "metadata": {
    "colab": {},
    "colab_type": "code",
    "id": "v-urD4LHOcAT"
   },
   "outputs": [],
   "source": [
    "valid_words = [[docs.vocab.itos[o] for o in doc.data] for doc in movie_reviews.valid.x]"
   ]
  },
  {
   "cell_type": "code",
   "execution_count": null,
   "metadata": {
    "colab": {
     "base_uri": "https://localhost:8080/",
     "height": 50
    },
    "colab_type": "code",
    "id": "tEpkpgayOdSe",
    "outputId": "742c2f24-def6-45e8-a2ec-d1f9c32b1a7c"
   },
   "outputs": [],
   "source": [
    "%%time\n",
    "train_ngram_doc = veczr.fit_transform(train_words)"
   ]
  },
  {
   "cell_type": "code",
   "execution_count": null,
   "metadata": {
    "colab": {
     "base_uri": "https://localhost:8080/",
     "height": 50
    },
    "colab_type": "code",
    "id": "oAmv1-BTOf_y",
    "outputId": "837df5c3-fe20-48ff-89d8-e24792b562c3"
   },
   "outputs": [],
   "source": [
    "train_ngram_doc"
   ]
  },
  {
   "cell_type": "code",
   "execution_count": null,
   "metadata": {
    "colab": {
     "base_uri": "https://localhost:8080/",
     "height": 1000
    },
    "colab_type": "code",
    "id": "itaY4XSfOjjx",
    "outputId": "37d1a42c-7057-4d92-e318-0e1b985191c9"
   },
   "outputs": [],
   "source": [
    "veczr.vocabulary_"
   ]
  },
  {
   "cell_type": "code",
   "execution_count": null,
   "metadata": {
    "colab": {},
    "colab_type": "code",
    "id": "yfN9twwoOoL6"
   },
   "outputs": [],
   "source": [
    "val_ngram_doc = veczr.transform(valid_words)"
   ]
  },
  {
   "cell_type": "code",
   "execution_count": null,
   "metadata": {
    "colab": {
     "base_uri": "https://localhost:8080/",
     "height": 50
    },
    "colab_type": "code",
    "id": "2Vpasi92OpZu",
    "outputId": "34784e57-f55d-481f-aa96-4d876f85474e"
   },
   "outputs": [],
   "source": [
    "val_ngram_doc"
   ]
  },
  {
   "cell_type": "code",
   "execution_count": null,
   "metadata": {
    "colab": {},
    "colab_type": "code",
    "id": "okzA8hBnOqMw"
   },
   "outputs": [],
   "source": [
    "vocab = veczr.get_feature_names()"
   ]
  },
  {
   "cell_type": "code",
   "execution_count": null,
   "metadata": {
    "colab": {
     "base_uri": "https://localhost:8080/",
     "height": 101
    },
    "colab_type": "code",
    "id": "uyJ8vaPbOtfg",
    "outputId": "6505efd5-11cb-4a93-97c6-cb83b2e3ca7e"
   },
   "outputs": [],
   "source": [
    "vocab[200000:200005]"
   ]
  },
  {
   "cell_type": "markdown",
   "metadata": {
    "colab_type": "text",
    "id": "Whva0UkbO0zo"
   },
   "source": [
    "Binarized Naive Bayes, using ngrams from CountVectorizer"
   ]
  },
  {
   "cell_type": "code",
   "execution_count": null,
   "metadata": {
    "colab": {},
    "colab_type": "code",
    "id": "TEv11IVKO20C"
   },
   "outputs": [],
   "source": [
    "y=movie_reviews.train.y"
   ]
  },
  {
   "cell_type": "markdown",
   "metadata": {
    "colab_type": "text",
    "id": "Odfkr2f5O6E1"
   },
   "source": [
    "C is the inverse of regularization strength; smaller values specify stronger regularization. Regularized:"
   ]
  },
  {
   "cell_type": "code",
   "execution_count": null,
   "metadata": {
    "colab": {
     "base_uri": "https://localhost:8080/",
     "height": 87
    },
    "colab_type": "code",
    "id": "7FaS_gX0O5th",
    "outputId": "47ccc07d-887a-4307-a0c9-7d25636205c3"
   },
   "outputs": [],
   "source": [
    "m = LogisticRegression(C=0.1, dual=True)\n",
    "m.fit(train_ngram_doc.sign(), y.items);\n",
    "\n",
    "preds = m.predict(val_ngram_doc.sign())\n",
    "(preds.T==valid_labels).mean()"
   ]
  },
  {
   "cell_type": "markdown",
   "metadata": {
    "colab_type": "text",
    "id": "VrHHOTBTPGXc"
   },
   "source": [
    "Not binarized"
   ]
  },
  {
   "cell_type": "code",
   "execution_count": null,
   "metadata": {
    "colab": {
     "base_uri": "https://localhost:8080/",
     "height": 121
    },
    "colab_type": "code",
    "id": "wG-qhzEtPAQU",
    "outputId": "300ec866-0acf-467b-8c82-e5beb0752fcb"
   },
   "outputs": [],
   "source": [
    "m = LogisticRegression(C=0.1, dual=True)\n",
    "m.fit(train_ngram_doc, y.items);\n",
    "\n",
    "preds = m.predict(val_ngram_doc)\n",
    "(preds.T==valid_labels).mean()"
   ]
  },
  {
   "cell_type": "code",
   "execution_count": null,
   "metadata": {
    "colab": {
     "base_uri": "https://localhost:8080/",
     "height": 34
    },
    "colab_type": "code",
    "id": "zRn16--KRoWQ",
    "outputId": "ba89dea1-03a4-4691-a0d3-7e17cb6f620f"
   },
   "outputs": [],
   "source": [
    "preds[:10]"
   ]
  },
  {
   "cell_type": "markdown",
   "metadata": {
    "colab_type": "text",
    "id": "Kt6hZWKRPRA-"
   },
   "source": [
    "With custom ngrams"
   ]
  },
  {
   "cell_type": "markdown",
   "metadata": {
    "colab_type": "text",
    "id": "HUO3Ftv7PT1w"
   },
   "source": []
  },
  {
   "cell_type": "code",
   "execution_count": null,
   "metadata": {
    "colab": {
     "base_uri": "https://localhost:8080/",
     "height": 154
    },
    "colab_type": "code",
    "id": "AIceHPqkPUJF",
    "outputId": "e89c2558-69a1-4acd-c60b-cc31744fa89b"
   },
   "outputs": [],
   "source": [
    "m2 = LogisticRegression(C=0.1, dual=True)\n",
    "m2.fit(trn_x_ngram_sgn, y.items)"
   ]
  },
  {
   "cell_type": "code",
   "execution_count": null,
   "metadata": {
    "colab": {
     "base_uri": "https://localhost:8080/",
     "height": 34
    },
    "colab_type": "code",
    "id": "NY-cftpJPWkF",
    "outputId": "287c4bf5-b51d-4f2b-a794-75b60a2d1fea"
   },
   "outputs": [],
   "source": [
    "preds = m2.predict(val_x_ngram_sgn)\n",
    "(preds.T==valid_labels).mean()"
   ]
  },
  {
   "cell_type": "code",
   "execution_count": null,
   "metadata": {
    "colab": {},
    "colab_type": "code",
    "id": "jcJu250vPYLs"
   },
   "outputs": [],
   "source": []
  },
  {
   "cell_type": "markdown",
   "metadata": {
    "colab_type": "text",
    "id": "X7O1_foNPYqQ"
   },
   "source": [
    "Worse performance when not binarized. I manually tried several different C values, and this was the best I found:"
   ]
  },
  {
   "cell_type": "markdown",
   "metadata": {
    "colab_type": "text",
    "id": "9P5xFAJsPybz"
   },
   "source": [
    "Following process takes time:"
   ]
  },
  {
   "cell_type": "code",
   "execution_count": null,
   "metadata": {
    "colab": {
     "base_uri": "https://localhost:8080/",
     "height": 188
    },
    "colab_type": "code",
    "id": "cwNNvo9PPaRp",
    "outputId": "5226df46-7070-4788-cbc1-74afa435eac2"
   },
   "outputs": [],
   "source": [
    "m2 = LogisticRegression(C=0.0001, dual=True, max_iter=50000)\n",
    "m2.fit(train_ngram_doc_matrix, y.items)"
   ]
  },
  {
   "cell_type": "code",
   "execution_count": null,
   "metadata": {
    "colab": {
     "base_uri": "https://localhost:8080/",
     "height": 101
    },
    "colab_type": "code",
    "id": "B27NBeJBPeZB",
    "outputId": "bcadbd89-1d2a-4479-eb8c-eca274b2ec78"
   },
   "outputs": [],
   "source": [
    "LogisticRegression(C=0.0001, class_weight=None, dual=True, fit_intercept=True,\n",
    "          intercept_scaling=1, max_iter=50000, multi_class='warn',\n",
    "          n_jobs=None, penalty='l2', random_state=None, solver='warn',\n",
    "          tol=0.0001, verbose=0, warm_start=False)"
   ]
  },
  {
   "cell_type": "code",
   "execution_count": null,
   "metadata": {
    "colab": {
     "base_uri": "https://localhost:8080/",
     "height": 34
    },
    "colab_type": "code",
    "id": "GYd1WlpmP8eZ",
    "outputId": "0ae39fb2-7897-4100-c259-ee34b88c9b51"
   },
   "outputs": [],
   "source": [
    "preds = m2.predict(valid_ngram_doc_matrix)\n",
    "(preds.T==valid_labels).mean()\n"
   ]
  },
  {
   "cell_type": "markdown",
   "metadata": {
    "colab_type": "text",
    "id": "e_qZaGT_Rt4m"
   },
   "source": [
    "**Log-count ratio** r"
   ]
  },
  {
   "cell_type": "code",
   "execution_count": null,
   "metadata": {
    "colab": {
     "base_uri": "https://localhost:8080/",
     "height": 50
    },
    "colab_type": "code",
    "id": "rR6oaTm_IlRx",
    "outputId": "75efca3e-9fe5-4706-e8d1-473a84ef93c8"
   },
   "outputs": [],
   "source": [
    "train_ngram_doc_matrix.sign()"
   ]
  },
  {
   "cell_type": "code",
   "execution_count": null,
   "metadata": {
    "colab": {
     "base_uri": "https://localhost:8080/",
     "height": 50
    },
    "colab_type": "code",
    "id": "R4n9Qzv2Isqq",
    "outputId": "165625c0-3a0a-499c-c498-05da919d352f"
   },
   "outputs": [],
   "source": [
    "valid_ngram_doc_matrix.sign()"
   ]
  },
  {
   "cell_type": "code",
   "execution_count": null,
   "metadata": {
    "colab": {
     "base_uri": "https://localhost:8080/",
     "height": 34
    },
    "colab_type": "code",
    "id": "i9ghd3YzR3lJ",
    "outputId": "fe8c61d2-d4ae-4a7f-fcb5-4af7d85e280e"
   },
   "outputs": [],
   "source": [
    "positive = y.c2i['positive']\n",
    "negative = y.c2i['negative']\n",
    "positive, negative"
   ]
  },
  {
   "cell_type": "code",
   "execution_count": null,
   "metadata": {
    "colab": {},
    "colab_type": "code",
    "id": "F03A6j9GSbAa"
   },
   "outputs": [],
   "source": [
    "k=260374"
   ]
  },
  {
   "cell_type": "code",
   "execution_count": null,
   "metadata": {
    "colab": {},
    "colab_type": "code",
    "id": "uuEqYX5mSdq6"
   },
   "outputs": [],
   "source": [
    "pos = (y.items == positive)[:k]\n",
    "neg = (y.items == negative)[:k]\n"
   ]
  },
  {
   "cell_type": "code",
   "execution_count": null,
   "metadata": {
    "colab": {},
    "colab_type": "code",
    "id": "Sw-n6WCoSgzq"
   },
   "outputs": [],
   "source": [
    "xx = x"
   ]
  },
  {
   "cell_type": "code",
   "execution_count": null,
   "metadata": {
    "colab": {},
    "colab_type": "code",
    "id": "L6pbfDQOSijy"
   },
   "outputs": [],
   "source": [
    "valid_labels = [o == positive for o in movie_reviews.valid.y.items]"
   ]
  },
  {
   "cell_type": "code",
   "execution_count": null,
   "metadata": {
    "colab": {},
    "colab_type": "code",
    "id": "O34-nMDDSlJU"
   },
   "outputs": [],
   "source": [
    "p0 = np.squeeze(np.array(xx[neg].sum(0)))\n",
    "p1 = np.squeeze(np.array(xx[pos].sum(0)))"
   ]
  },
  {
   "cell_type": "code",
   "execution_count": null,
   "metadata": {
    "colab": {},
    "colab_type": "code",
    "id": "Of_EIMHGSniF"
   },
   "outputs": [],
   "source": [
    "pr1 = (p1+1) / ((y.items==positive).sum() + 1)\n",
    "pr0 = (p0+1) / ((y.items==negative).sum() + 1)"
   ]
  },
  {
   "cell_type": "code",
   "execution_count": null,
   "metadata": {
    "colab": {
     "base_uri": "https://localhost:8080/",
     "height": 34
    },
    "colab_type": "code",
    "id": "4cJyaDkpSpe5",
    "outputId": "dbea6eb1-4dfc-4ee9-85df-18a361309986"
   },
   "outputs": [],
   "source": [
    "r = np.log(pr1/pr0)\n",
    "r"
   ]
  },
  {
   "cell_type": "code",
   "execution_count": null,
   "metadata": {
    "colab": {
     "base_uri": "https://localhost:8080/",
     "height": 34
    },
    "colab_type": "code",
    "id": "VOQQlgYSSrj2",
    "outputId": "1fdf9b44-6f34-4a90-cb91-9764fc025ab7"
   },
   "outputs": [],
   "source": [
    "b = np.log((y.items==positive).mean() / (y.items==negative).mean())\n",
    "b"
   ]
  },
  {
   "cell_type": "code",
   "execution_count": null,
   "metadata": {
    "colab": {
     "base_uri": "https://localhost:8080/",
     "height": 34
    },
    "colab_type": "code",
    "id": "AEFSWNY4StFr",
    "outputId": "8e46f44d-f611-4e98-92c7-2bae50611759"
   },
   "outputs": [],
   "source": [
    "np.exp(r)\n"
   ]
  },
  {
   "cell_type": "code",
   "execution_count": null,
   "metadata": {
    "colab": {},
    "colab_type": "code",
    "id": "QW543UimYbD2"
   },
   "outputs": [],
   "source": [
    "xx = x[:k]"
   ]
  },
  {
   "cell_type": "code",
   "execution_count": null,
   "metadata": {
    "colab": {
     "base_uri": "https://localhost:8080/",
     "height": 34
    },
    "colab_type": "code",
    "id": "_K7OmPveZPsf",
    "outputId": "1d4de186-724a-4be3-b985-4ddbdcfbc6d9"
   },
   "outputs": [],
   "source": [
    "len(r)"
   ]
  },
  {
   "cell_type": "code",
   "execution_count": null,
   "metadata": {
    "colab": {
     "base_uri": "https://localhost:8080/",
     "height": 34
    },
    "colab_type": "code",
    "id": "QW36cvJ0OaL7",
    "outputId": "5f52149d-2de7-4c14-c791-42b747ffbcca"
   },
   "outputs": [],
   "source": [
    "xx.shape"
   ]
  },
  {
   "cell_type": "code",
   "execution_count": 0,
   "metadata": {
    "colab": {
     "base_uri": "https://localhost:8080/",
     "height": 441
    },
    "colab_type": "code",
    "id": "hEHrWa7gTRuI",
    "outputId": "c769fbbb-f332-4ae2-9f4b-9ee759fa0fc7"
   },
   "outputs": [
    {
     "name": "stderr",
     "output_type": "stream",
     "text": [
      "/usr/local/lib/python3.6/dist-packages/sklearn/linear_model/logistic.py:432: FutureWarning: Default solver will be changed to 'lbfgs' in 0.22. Specify a solver to silence this warning.\n",
      "  FutureWarning)\n"
     ]
    },
    {
     "ename": "ValueError",
     "evalue": "ignored",
     "output_type": "error",
     "traceback": [
      "\u001b[0;31m---------------------------------------------------------------------------\u001b[0m",
      "\u001b[0;31mValueError\u001b[0m                                Traceback (most recent call last)",
      "\u001b[0;32m<ipython-input-193-73609b0dd4ed>\u001b[0m in \u001b[0;36m<module>\u001b[0;34m()\u001b[0m\n\u001b[1;32m      1\u001b[0m \u001b[0mx_nb\u001b[0m \u001b[0;34m=\u001b[0m \u001b[0mxx\u001b[0m \u001b[0;34m@\u001b[0m \u001b[0mr\u001b[0m \u001b[0;34m+\u001b[0m \u001b[0mb\u001b[0m\u001b[0;34m\u001b[0m\u001b[0;34m\u001b[0m\u001b[0m\n\u001b[1;32m      2\u001b[0m \u001b[0mm\u001b[0m \u001b[0;34m=\u001b[0m \u001b[0mLogisticRegression\u001b[0m\u001b[0;34m(\u001b[0m\u001b[0mdual\u001b[0m\u001b[0;34m=\u001b[0m\u001b[0;32mTrue\u001b[0m\u001b[0;34m,\u001b[0m \u001b[0mC\u001b[0m\u001b[0;34m=\u001b[0m\u001b[0;36m0.1\u001b[0m\u001b[0;34m)\u001b[0m\u001b[0;34m\u001b[0m\u001b[0;34m\u001b[0m\u001b[0m\n\u001b[0;32m----> 3\u001b[0;31m \u001b[0mm\u001b[0m\u001b[0;34m.\u001b[0m\u001b[0mfit\u001b[0m\u001b[0;34m(\u001b[0m\u001b[0mx_nb\u001b[0m\u001b[0;34m,\u001b[0m \u001b[0my\u001b[0m\u001b[0;34m.\u001b[0m\u001b[0mitems\u001b[0m\u001b[0;34m)\u001b[0m\u001b[0;34m;\u001b[0m\u001b[0;34m\u001b[0m\u001b[0;34m\u001b[0m\u001b[0m\n\u001b[0m\u001b[1;32m      4\u001b[0m \u001b[0;34m\u001b[0m\u001b[0m\n",
      "\u001b[0;32m/usr/local/lib/python3.6/dist-packages/sklearn/linear_model/logistic.py\u001b[0m in \u001b[0;36mfit\u001b[0;34m(self, X, y, sample_weight)\u001b[0m\n\u001b[1;32m   1530\u001b[0m \u001b[0;34m\u001b[0m\u001b[0m\n\u001b[1;32m   1531\u001b[0m         X, y = check_X_y(X, y, accept_sparse='csr', dtype=_dtype, order=\"C\",\n\u001b[0;32m-> 1532\u001b[0;31m                          accept_large_sparse=solver != 'liblinear')\n\u001b[0m\u001b[1;32m   1533\u001b[0m         \u001b[0mcheck_classification_targets\u001b[0m\u001b[0;34m(\u001b[0m\u001b[0my\u001b[0m\u001b[0;34m)\u001b[0m\u001b[0;34m\u001b[0m\u001b[0;34m\u001b[0m\u001b[0m\n\u001b[1;32m   1534\u001b[0m         \u001b[0mself\u001b[0m\u001b[0;34m.\u001b[0m\u001b[0mclasses_\u001b[0m \u001b[0;34m=\u001b[0m \u001b[0mnp\u001b[0m\u001b[0;34m.\u001b[0m\u001b[0munique\u001b[0m\u001b[0;34m(\u001b[0m\u001b[0my\u001b[0m\u001b[0;34m)\u001b[0m\u001b[0;34m\u001b[0m\u001b[0;34m\u001b[0m\u001b[0m\n",
      "\u001b[0;32m/usr/local/lib/python3.6/dist-packages/sklearn/utils/validation.py\u001b[0m in \u001b[0;36mcheck_X_y\u001b[0;34m(X, y, accept_sparse, accept_large_sparse, dtype, order, copy, force_all_finite, ensure_2d, allow_nd, multi_output, ensure_min_samples, ensure_min_features, y_numeric, warn_on_dtype, estimator)\u001b[0m\n\u001b[1;32m    717\u001b[0m                     \u001b[0mensure_min_features\u001b[0m\u001b[0;34m=\u001b[0m\u001b[0mensure_min_features\u001b[0m\u001b[0;34m,\u001b[0m\u001b[0;34m\u001b[0m\u001b[0;34m\u001b[0m\u001b[0m\n\u001b[1;32m    718\u001b[0m                     \u001b[0mwarn_on_dtype\u001b[0m\u001b[0;34m=\u001b[0m\u001b[0mwarn_on_dtype\u001b[0m\u001b[0;34m,\u001b[0m\u001b[0;34m\u001b[0m\u001b[0;34m\u001b[0m\u001b[0m\n\u001b[0;32m--> 719\u001b[0;31m                     estimator=estimator)\n\u001b[0m\u001b[1;32m    720\u001b[0m     \u001b[0;32mif\u001b[0m \u001b[0mmulti_output\u001b[0m\u001b[0;34m:\u001b[0m\u001b[0;34m\u001b[0m\u001b[0;34m\u001b[0m\u001b[0m\n\u001b[1;32m    721\u001b[0m         y = check_array(y, 'csr', force_all_finite=True, ensure_2d=False,\n",
      "\u001b[0;32m/usr/local/lib/python3.6/dist-packages/sklearn/utils/validation.py\u001b[0m in \u001b[0;36mcheck_array\u001b[0;34m(array, accept_sparse, accept_large_sparse, dtype, order, copy, force_all_finite, ensure_2d, allow_nd, ensure_min_samples, ensure_min_features, warn_on_dtype, estimator)\u001b[0m\n\u001b[1;32m    519\u001b[0m                     \u001b[0;34m\"Reshape your data either using array.reshape(-1, 1) if \"\u001b[0m\u001b[0;34m\u001b[0m\u001b[0;34m\u001b[0m\u001b[0m\n\u001b[1;32m    520\u001b[0m                     \u001b[0;34m\"your data has a single feature or array.reshape(1, -1) \"\u001b[0m\u001b[0;34m\u001b[0m\u001b[0;34m\u001b[0m\u001b[0m\n\u001b[0;32m--> 521\u001b[0;31m                     \"if it contains a single sample.\".format(array))\n\u001b[0m\u001b[1;32m    522\u001b[0m \u001b[0;34m\u001b[0m\u001b[0m\n\u001b[1;32m    523\u001b[0m         \u001b[0;31m# in the future np.flexible dtypes will be handled like object dtypes\u001b[0m\u001b[0;34m\u001b[0m\u001b[0;34m\u001b[0m\u001b[0;34m\u001b[0m\u001b[0m\n",
      "\u001b[0;31mValueError\u001b[0m: Expected 2D array, got 1D array instead:\narray=[ -91.291877  403.535029 -294.640696  165.176377 ... -222.97144   125.613253 -327.898783 -251.663935].\nReshape your data either using array.reshape(-1, 1) if your data has a single feature or array.reshape(1, -1) if it contains a single sample."
     ]
    }
   ],
   "source": [
    "x_nb = xx @ r + b\n",
    "#m = LogisticRegression(dual=True, C=0.1)\n",
    "#m.fit(x_nb, y.items);\n",
    "\n"
   ]
  },
  {
   "cell_type": "code",
   "execution_count": 0,
   "metadata": {
    "colab": {
     "base_uri": "https://localhost:8080/",
     "height": 337
    },
    "colab_type": "code",
    "id": "TNknJHn-ReGd",
    "outputId": "d4d09fb7-4059-4089-fd1c-ab76f0dd0feb"
   },
   "outputs": [
    {
     "ename": "NotFittedError",
     "evalue": "ignored",
     "output_type": "error",
     "traceback": [
      "\u001b[0;31m---------------------------------------------------------------------------\u001b[0m",
      "\u001b[0;31mNotFittedError\u001b[0m                            Traceback (most recent call last)",
      "\u001b[0;32m<ipython-input-195-5308cca5f304>\u001b[0m in \u001b[0;36m<module>\u001b[0;34m()\u001b[0m\n\u001b[1;32m      1\u001b[0m \u001b[0mval_x_nb\u001b[0m \u001b[0;34m=\u001b[0m \u001b[0mval_x\u001b[0m \u001b[0;34m@\u001b[0m \u001b[0mr\u001b[0m \u001b[0;34m+\u001b[0m \u001b[0mb\u001b[0m\u001b[0;34m\u001b[0m\u001b[0;34m\u001b[0m\u001b[0m\n\u001b[0;32m----> 2\u001b[0;31m \u001b[0mpreds\u001b[0m \u001b[0;34m=\u001b[0m \u001b[0mm\u001b[0m\u001b[0;34m.\u001b[0m\u001b[0mpredict\u001b[0m\u001b[0;34m(\u001b[0m\u001b[0mval_x_nb\u001b[0m\u001b[0;34m)\u001b[0m\u001b[0;34m\u001b[0m\u001b[0;34m\u001b[0m\u001b[0m\n\u001b[0m\u001b[1;32m      3\u001b[0m \u001b[0;34m(\u001b[0m\u001b[0mpreds\u001b[0m\u001b[0;34m.\u001b[0m\u001b[0mT\u001b[0m\u001b[0;34m==\u001b[0m\u001b[0mvalid_labels\u001b[0m\u001b[0;34m)\u001b[0m\u001b[0;34m.\u001b[0m\u001b[0mmean\u001b[0m\u001b[0;34m(\u001b[0m\u001b[0;34m)\u001b[0m\u001b[0;34m\u001b[0m\u001b[0;34m\u001b[0m\u001b[0m\n",
      "\u001b[0;32m/usr/local/lib/python3.6/dist-packages/sklearn/linear_model/base.py\u001b[0m in \u001b[0;36mpredict\u001b[0;34m(self, X)\u001b[0m\n\u001b[1;32m    287\u001b[0m             \u001b[0mPredicted\u001b[0m \u001b[0;32mclass\u001b[0m \u001b[0mlabel\u001b[0m \u001b[0mper\u001b[0m \u001b[0msample\u001b[0m\u001b[0;34m.\u001b[0m\u001b[0;34m\u001b[0m\u001b[0;34m\u001b[0m\u001b[0m\n\u001b[1;32m    288\u001b[0m         \"\"\"\n\u001b[0;32m--> 289\u001b[0;31m         \u001b[0mscores\u001b[0m \u001b[0;34m=\u001b[0m \u001b[0mself\u001b[0m\u001b[0;34m.\u001b[0m\u001b[0mdecision_function\u001b[0m\u001b[0;34m(\u001b[0m\u001b[0mX\u001b[0m\u001b[0;34m)\u001b[0m\u001b[0;34m\u001b[0m\u001b[0;34m\u001b[0m\u001b[0m\n\u001b[0m\u001b[1;32m    290\u001b[0m         \u001b[0;32mif\u001b[0m \u001b[0mlen\u001b[0m\u001b[0;34m(\u001b[0m\u001b[0mscores\u001b[0m\u001b[0;34m.\u001b[0m\u001b[0mshape\u001b[0m\u001b[0;34m)\u001b[0m \u001b[0;34m==\u001b[0m \u001b[0;36m1\u001b[0m\u001b[0;34m:\u001b[0m\u001b[0;34m\u001b[0m\u001b[0;34m\u001b[0m\u001b[0m\n\u001b[1;32m    291\u001b[0m             \u001b[0mindices\u001b[0m \u001b[0;34m=\u001b[0m \u001b[0;34m(\u001b[0m\u001b[0mscores\u001b[0m \u001b[0;34m>\u001b[0m \u001b[0;36m0\u001b[0m\u001b[0;34m)\u001b[0m\u001b[0;34m.\u001b[0m\u001b[0mastype\u001b[0m\u001b[0;34m(\u001b[0m\u001b[0mnp\u001b[0m\u001b[0;34m.\u001b[0m\u001b[0mint\u001b[0m\u001b[0;34m)\u001b[0m\u001b[0;34m\u001b[0m\u001b[0;34m\u001b[0m\u001b[0m\n",
      "\u001b[0;32m/usr/local/lib/python3.6/dist-packages/sklearn/linear_model/base.py\u001b[0m in \u001b[0;36mdecision_function\u001b[0;34m(self, X)\u001b[0m\n\u001b[1;32m    261\u001b[0m         \u001b[0;32mif\u001b[0m \u001b[0;32mnot\u001b[0m \u001b[0mhasattr\u001b[0m\u001b[0;34m(\u001b[0m\u001b[0mself\u001b[0m\u001b[0;34m,\u001b[0m \u001b[0;34m'coef_'\u001b[0m\u001b[0;34m)\u001b[0m \u001b[0;32mor\u001b[0m \u001b[0mself\u001b[0m\u001b[0;34m.\u001b[0m\u001b[0mcoef_\u001b[0m \u001b[0;32mis\u001b[0m \u001b[0;32mNone\u001b[0m\u001b[0;34m:\u001b[0m\u001b[0;34m\u001b[0m\u001b[0;34m\u001b[0m\u001b[0m\n\u001b[1;32m    262\u001b[0m             raise NotFittedError(\"This %(name)s instance is not fitted \"\n\u001b[0;32m--> 263\u001b[0;31m                                  \"yet\" % {'name': type(self).__name__})\n\u001b[0m\u001b[1;32m    264\u001b[0m \u001b[0;34m\u001b[0m\u001b[0m\n\u001b[1;32m    265\u001b[0m         \u001b[0mX\u001b[0m \u001b[0;34m=\u001b[0m \u001b[0mcheck_array\u001b[0m\u001b[0;34m(\u001b[0m\u001b[0mX\u001b[0m\u001b[0;34m,\u001b[0m \u001b[0maccept_sparse\u001b[0m\u001b[0;34m=\u001b[0m\u001b[0;34m'csr'\u001b[0m\u001b[0;34m)\u001b[0m\u001b[0;34m\u001b[0m\u001b[0;34m\u001b[0m\u001b[0m\n",
      "\u001b[0;31mNotFittedError\u001b[0m: This LogisticRegression instance is not fitted yet"
     ]
    }
   ],
   "source": [
    "val_x_nb = val_x @ r + b\n",
    "preds = m.predict(val_x_nb)\n",
    "(preds.T==valid_labels).mean()"
   ]
  },
  {
   "cell_type": "markdown",
   "metadata": {
    "colab_type": "text",
    "id": "9CoeMVg7UQhr"
   },
   "source": [
    "\n",
    "References\n",
    "\n",
    "    Baselines and Bigrams: Simple, Good Sentiment and Topic Classification. Sida Wang and Christopher D. Manning pdf\n",
    "\n"
   ]
  }
 ],
 "metadata": {
  "colab": {
   "collapsed_sections": [],
   "name": "Sentiment analysis",
   "provenance": []
  },
  "kernelspec": {
   "display_name": "Python 3",
   "language": "python",
   "name": "python3"
  },
  "language_info": {
   "codemirror_mode": {
    "name": "ipython",
    "version": 3
   },
   "file_extension": ".py",
   "mimetype": "text/x-python",
   "name": "python",
   "nbconvert_exporter": "python",
   "pygments_lexer": "ipython3",
   "version": "3.7.3"
  }
 },
 "nbformat": 4,
 "nbformat_minor": 1
}
