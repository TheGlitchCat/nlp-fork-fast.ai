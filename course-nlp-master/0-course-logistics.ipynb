{
 "cells": [
  {
   "cell_type": "markdown",
   "metadata": {},
   "source": [
    "# 0. Course Logistics"
   ]
  },
  {
   "cell_type": "markdown",
   "metadata": {},
   "source": [
    "## Ask Questions"
   ]
  },
  {
   "cell_type": "markdown",
   "metadata": {},
   "source": [
    "Let me know how things are going. I may not know everything you've seen/haven't seen."
   ]
  },
  {
   "cell_type": "markdown",
   "metadata": {},
   "source": [
    "## Basics"
   ]
  },
  {
   "cell_type": "markdown",
   "metadata": {},
   "source": [
    "My contact info: arles.rodriguez@konradlorenz.edu.co\n",
    "\n",
    "This course is a fork of the fast ai nlp course: https://github.com/fastai/course-nlp with some additional comments and tips I found useful when I studied it. We are covering even less topics than the original course (original course is 2 months length)-\n",
    "\n",
    "Code of the course with additional notes and comments is available at: https://github.com/arleserp/nlp-fork-fast.ai\n"
   ]
  },
  {
   "cell_type": "markdown",
   "metadata": {},
   "source": [
    "**On Laptops**\n",
    "\n",
    "I ask you to be respectful of me and your classmates and to refrain from surfing the web or using social media (facebook, twitter, etc) or messaging programs during class. "
   ]
  },
  {
   "cell_type": "markdown",
   "metadata": {},
   "source": [
    "## Syllabus"
   ]
  },
  {
   "cell_type": "markdown",
   "metadata": {},
   "source": [
    "Topics Covered:\n",
    "\n",
    "1\\. What is NLP?\n",
    "  - A changing field\n",
    "  - Resources\n",
    "  - Tools\n",
    "  - Python libraries\n",
    "  - Example applications\n",
    "  - Ethics issues\n",
    "\n",
    "2\\. Topic Modeling with NMF and SVD\n",
    "  - Stop words, stemming, & lemmatization\n",
    "  - Term-document matrix\n",
    "  - Topic Frequency-Inverse Document Frequency (TF-IDF)\n",
    "  - Singular Value Decomposition (SVD)\n",
    "  - Non-negative Matrix Factorization (NMF)\n",
    "  - Truncated SVD, Randomized SVD\n",
    "\n",
    "3\\. Sentiment classification with Naive Bayes, Logistic regression, and ngrams\n",
    "  - Sparse matrix storage\n",
    "  - Counters\n",
    "  - the fastai library\n",
    "  - Naive Bayes\n",
    "  - Logistic regression\n",
    "  - Ngrams\n",
    "  - Logistic regression with Naive Bayes features, with trigrams\n",
    "  \n",
    "4\\. Regex (and re-visiting tokenization)\n",
    "\n",
    "5\\. Language modeling & sentiment classification with deep learning\n",
    "  - Language model\n",
    "  - Transfer learning\n",
    "  - Sentiment classification\n",
    "\n",
    "Original course additional covers following topics:\n",
    "\n",
    "6\\. Translation with RNNs\n",
    "  - Review Embeddings\n",
    "  - Bleu metric\n",
    "  - Teacher Forcing\n",
    "  - Bidirectional\n",
    "  - Attention\n",
    "\n",
    "7\\. Translation with the Transformer architecture\n",
    "  - Transformer Model\n",
    "  - Multi-head attention\n",
    "  - Masking\n",
    "  - Label smoothing\n",
    "\n",
    "8\\. Bias & ethics in NLP\n",
    "  - bias in word embeddings\n",
    "  - types of bias\n",
    "  - attention economy\n",
    "  - drowning in fraudulent/fake info"
   ]
  },
  {
   "cell_type": "markdown",
   "metadata": {},
   "source": [
    "## Writing Assignment"
   ]
  },
  {
   "cell_type": "markdown",
   "metadata": {},
   "source": [
    "**Writing Assignment:**  Writing about technical concepts is a hugely valuable skill.  I want you to write a technical blog post related to numerical linear algebra.  [A blog is like a resume, only better](http://www.fast.ai/2017/04/06/alternatives/). Technical writing is also important in creating documentation, sharing your work with co-workers, applying to speak at conferences, and practicing for interviews. (You don't actually have to publish it, although I hope you do, and please send me the link if you do.)"
   ]
  },
  {
   "cell_type": "markdown",
   "metadata": {},
   "source": [
    "For topics, you can choose anything NLP-related (category of research, software library, algorithm, etc). \n",
    "\n",
    "Feel free to ask me if you are wondering if your topic idea is suitable!\n",
    "\n",
    "Please read the following where I put together some advice and common pitfalls to avoid:\n",
    "\n",
    "[Advice for Better Blog Posts](https://www.fast.ai/2019/05/13/blogging-advice/)"
   ]
  },
  {
   "cell_type": "markdown",
   "metadata": {},
   "source": [
    "### Technical Blogs\n",
    "\n",
    "Great NLP-related blogs:\n",
    "- [Sebastian Ruder](http://ruder.io/)\n",
    "- [Jay Alammar](https://jalammar.github.io/)\n",
    "- [Abigail See](http://www.abigailsee.com/)\n",
    "- [Joyce Xu](https://medium.com/@joycex99)\n",
    "- [Stephen Merity](https://smerity.com/articles/articles.html)\n",
    "- [Rachael Tatman](https://towardsdatascience.com/evaluating-text-output-in-nlp-bleu-at-your-own-risk-e8609665a213)\n",
    "\n",
    "Other great technical blog posts:\n",
    "- [Peter Norvig](http://nbviewer.jupyter.org/url/norvig.com/ipython/ProbabilityParadox.ipynb) (more [here](http://norvig.com/ipython/))\n",
    "- [Julia Evans](https://codewords.recurse.com/issues/five/why-do-neural-networks-think-a-panda-is-a-vulture) (more [here](https://jvns.ca/blog/2014/08/12/what-happens-if-you-write-a-tcp-stack-in-python/))\n",
    "- [Julia Ferraioli](http://blog.juliaferraioli.com/2016/02/exploring-world-using-vision-twilio.html)\n",
    "- [Slav Ivanov](https://blog.slavv.com/picking-an-optimizer-for-style-transfer-86e7b8cba84b)\n",
    "- find [more on twitter](https://twitter.com/math_rachel)"
   ]
  },
  {
   "cell_type": "markdown",
   "metadata": {},
   "source": [
    "## Teaching"
   ]
  },
  {
   "cell_type": "markdown",
   "metadata": {},
   "source": [
    "**Teaching Approach**\n",
    "\n",
    "I'll be using a *top-down* teaching method, which is different from how most math courses operate.  Typically, in a *bottom-up* approach, you first learn all the separate components you will be using, and then you gradually build them up into more complex structures.  The problems with this are that students often lose motivation, don't have a sense of the \"big picture\", and don't know what they'll need.\n",
    "\n",
    "If you took the fast.ai deep learning course, that is what we used.  You can hear more about my teaching philosophy [in this blog post](http://www.fast.ai/2016/10/08/teaching-philosophy/) or [in this talk](https://vimeo.com/214233053).\n",
    "\n",
    "Harvard Professor David Perkins has a book, [Making Learning Whole](https://www.amazon.com/Making-Learning-Whole-Principles-Transform/dp/0470633719) in which he uses baseball as an analogy.  We don't require kids to memorize all the rules of baseball and understand all the technical details before we let them play the game.  Rather, they start playing with a just general sense of it, and then gradually learn more rules/details as time goes on.\n",
    "\n",
    "All that to say, don't worry if you don't understand everything at first!  You're not supposed to.  We will start using some \"black boxes\" or matrix decompositions that haven't yet been explained, and then we'll dig into the lower level details later.\n",
    "\n",
    "To start, focus on what things DO, not what they ARE."
   ]
  },
  {
   "cell_type": "markdown",
   "metadata": {},
   "source": [
    "People learn by:\n",
    "1. **doing** (coding and building)\n",
    "2. **explaining** what they've learned (by writing or helping others)"
   ]
  }
 ],
 "metadata": {
  "kernelspec": {
   "display_name": "Python 3",
   "language": "python",
   "name": "python3"
  },
  "language_info": {
   "codemirror_mode": {
    "name": "ipython",
    "version": 3
   },
   "file_extension": ".py",
   "mimetype": "text/x-python",
   "name": "python",
   "nbconvert_exporter": "python",
   "pygments_lexer": "ipython3",
   "version": "3.7.3"
  }
 },
 "nbformat": 4,
 "nbformat_minor": 2
}
